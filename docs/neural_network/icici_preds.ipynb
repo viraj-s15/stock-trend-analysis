{
 "cells": [
  {
   "cell_type": "markdown",
   "metadata": {},
   "source": [
    "##  A neural Network replacing the simple xgboost regression algorithm"
   ]
  },
  {
   "cell_type": "markdown",
   "metadata": {},
   "source": [
    "#### Importing all libraries and setting the device to gpu"
   ]
  },
  {
   "cell_type": "code",
   "execution_count": 1,
   "metadata": {},
   "outputs": [],
   "source": [
    "\n",
    "import pandas as pd\n",
    "import numpy as np\n",
    "import matplotlib.pyplot as plt\n",
    "from tqdm import tqdm\n",
    "import torch\n",
    "import torch.nn as nn\n",
    "import torch.optim as optim\n",
    "from sklearn.preprocessing import MinMaxScaler    \n",
    "from sklearn.model_selection import train_test_split\n",
    "from sklearn.metrics import mean_squared_error, r2_score,mean_absolute_percentage_error\n",
    "from torch.utils.data import Dataset, DataLoader\n",
    "\n",
    "import seaborn as sns\n",
    "import random\n",
    "\n",
    "# torch.cuda.set_device(\"cuda:0\")\n",
    "# print(torch.cuda.get_device_name())"
   ]
  },
  {
   "cell_type": "code",
   "execution_count": 2,
   "metadata": {},
   "outputs": [],
   "source": [
    "import random\n",
    "def set_seeds(seed=1234):\n",
    "    \"\"\"Set seeds for reproducibility.\"\"\"\n",
    "    np.random.seed(seed)\n",
    "    random.seed(seed)\n",
    "    torch.manual_seed(seed)\n",
    "    torch.cuda.manual_seed(seed)\n",
    "    torch.cuda.manual_seed_all(seed) # multi-GPU\n",
    "    \n",
    "set_seeds()"
   ]
  },
  {
   "cell_type": "markdown",
   "metadata": {},
   "source": [
    "#### Pre processing the data and adding data indicators to the data"
   ]
  },
  {
   "cell_type": "code",
   "execution_count": 3,
   "metadata": {},
   "outputs": [
    {
     "data": {
      "text/html": [
       "<div>\n",
       "<style scoped>\n",
       "    .dataframe tbody tr th:only-of-type {\n",
       "        vertical-align: middle;\n",
       "    }\n",
       "\n",
       "    .dataframe tbody tr th {\n",
       "        vertical-align: top;\n",
       "    }\n",
       "\n",
       "    .dataframe thead th {\n",
       "        text-align: right;\n",
       "    }\n",
       "</style>\n",
       "<table border=\"1\" class=\"dataframe\">\n",
       "  <thead>\n",
       "    <tr style=\"text-align: right;\">\n",
       "      <th></th>\n",
       "      <th>Date</th>\n",
       "      <th>Open</th>\n",
       "      <th>High</th>\n",
       "      <th>Low</th>\n",
       "      <th>Close</th>\n",
       "      <th>Volume</th>\n",
       "    </tr>\n",
       "  </thead>\n",
       "  <tbody>\n",
       "    <tr>\n",
       "      <th>0</th>\n",
       "      <td>2021-02-09</td>\n",
       "      <td>631.349976</td>\n",
       "      <td>643.200012</td>\n",
       "      <td>628.599976</td>\n",
       "      <td>633.349976</td>\n",
       "      <td>27155615</td>\n",
       "    </tr>\n",
       "    <tr>\n",
       "      <th>1</th>\n",
       "      <td>2021-02-10</td>\n",
       "      <td>633.349976</td>\n",
       "      <td>638.200012</td>\n",
       "      <td>626.400024</td>\n",
       "      <td>632.150024</td>\n",
       "      <td>23967387</td>\n",
       "    </tr>\n",
       "    <tr>\n",
       "      <th>2</th>\n",
       "      <td>2021-02-11</td>\n",
       "      <td>626.750000</td>\n",
       "      <td>633.599976</td>\n",
       "      <td>624.099976</td>\n",
       "      <td>630.650024</td>\n",
       "      <td>16072702</td>\n",
       "    </tr>\n",
       "    <tr>\n",
       "      <th>3</th>\n",
       "      <td>2021-02-12</td>\n",
       "      <td>629.900024</td>\n",
       "      <td>649.900024</td>\n",
       "      <td>629.400024</td>\n",
       "      <td>647.599976</td>\n",
       "      <td>19049709</td>\n",
       "    </tr>\n",
       "    <tr>\n",
       "      <th>4</th>\n",
       "      <td>2021-02-15</td>\n",
       "      <td>655.000000</td>\n",
       "      <td>676.799988</td>\n",
       "      <td>652.000000</td>\n",
       "      <td>673.950012</td>\n",
       "      <td>27155194</td>\n",
       "    </tr>\n",
       "  </tbody>\n",
       "</table>\n",
       "</div>"
      ],
      "text/plain": [
       "        Date        Open        High         Low       Close    Volume\n",
       "0 2021-02-09  631.349976  643.200012  628.599976  633.349976  27155615\n",
       "1 2021-02-10  633.349976  638.200012  626.400024  632.150024  23967387\n",
       "2 2021-02-11  626.750000  633.599976  624.099976  630.650024  16072702\n",
       "3 2021-02-12  629.900024  649.900024  629.400024  647.599976  19049709\n",
       "4 2021-02-15  655.000000  676.799988  652.000000  673.950012  27155194"
      ]
     },
     "execution_count": 3,
     "metadata": {},
     "output_type": "execute_result"
    }
   ],
   "source": [
    "\n",
    "df = pd.read_csv(\"../../data/icici/icici.csv\")\n",
    "# Need to reverse the db\n",
    "# df = df.loc[::-1]\n",
    "df['Date'] = pd.to_datetime(df['Date'])\n",
    "df = df[(df['Date'].dt.year >= 2020)].copy()\n",
    "df.index = range(len(df))\n",
    "temp = df\n",
    "# df['Close'] = (df['High'] + df['Low'] )/ 2\n",
    "df.rename(columns={\"Open Price\":\"Open\",\"High Price\":\"High\",\"Low Price\":\"Low\",\"Close Price\":\"Close\",\"Total Traded Quantity\":\"Volume\",\"No.of Shares\":\"Volume\"},inplace=True)\n",
    "# cols = [\"Symbol\",\"Ser verbose=Falseies\",\"Prev Close\",\"Last Price\",\"Average Price\",\"Turnover\",\"No. of Trades\", \"Deliverable Qty\",'% Dly Qt to Traded Qty']\n",
    "# cols = [\"WAP\",\"No. of Trades\"\t,\"Total Turnover (Rs.)\"\t,\"Deliverable Quantity\"\t,\"% Deli. Qty to Traded Qty\"\t,\"Spread High-Low\"\t,\"Spread Close-Open\"]\n",
    "cols = \"Adj Close\"\n",
    "df.drop(columns=cols,inplace=True)   \n",
    "df.dropna(inplace=True)\n",
    "df.head()"
   ]
  },
  {
   "cell_type": "code",
   "execution_count": 4,
   "metadata": {},
   "outputs": [
    {
     "data": {
      "text/html": [
       "<div>\n",
       "<style scoped>\n",
       "    .dataframe tbody tr th:only-of-type {\n",
       "        vertical-align: middle;\n",
       "    }\n",
       "\n",
       "    .dataframe tbody tr th {\n",
       "        vertical-align: top;\n",
       "    }\n",
       "\n",
       "    .dataframe thead th {\n",
       "        text-align: right;\n",
       "    }\n",
       "</style>\n",
       "<table border=\"1\" class=\"dataframe\">\n",
       "  <thead>\n",
       "    <tr style=\"text-align: right;\">\n",
       "      <th></th>\n",
       "      <th>Date</th>\n",
       "      <th>Open</th>\n",
       "      <th>High</th>\n",
       "      <th>Low</th>\n",
       "      <th>Close</th>\n",
       "      <th>Volume</th>\n",
       "      <th>EMA_9</th>\n",
       "      <th>SMA_5</th>\n",
       "      <th>SMA_10</th>\n",
       "      <th>SMA_15</th>\n",
       "      <th>SMA_30</th>\n",
       "      <th>RSI</th>\n",
       "      <th>MACD</th>\n",
       "      <th>MACD_signal</th>\n",
       "    </tr>\n",
       "  </thead>\n",
       "  <tbody>\n",
       "    <tr>\n",
       "      <th>0</th>\n",
       "      <td>2021-03-30</td>\n",
       "      <td>582.000000</td>\n",
       "      <td>593.099976</td>\n",
       "      <td>582.000000</td>\n",
       "      <td>582.099976</td>\n",
       "      <td>28011943</td>\n",
       "      <td>594.149927</td>\n",
       "      <td>575.490002</td>\n",
       "      <td>583.065002</td>\n",
       "      <td>594.113330</td>\n",
       "      <td>612.744993</td>\n",
       "      <td>44.138431</td>\n",
       "      <td>-10.538718</td>\n",
       "      <td>-10.721896</td>\n",
       "    </tr>\n",
       "    <tr>\n",
       "      <th>1</th>\n",
       "      <td>2021-03-31</td>\n",
       "      <td>586.000000</td>\n",
       "      <td>589.650024</td>\n",
       "      <td>579.000000</td>\n",
       "      <td>594.400024</td>\n",
       "      <td>20119972</td>\n",
       "      <td>593.872211</td>\n",
       "      <td>579.090002</td>\n",
       "      <td>581.860004</td>\n",
       "      <td>592.913330</td>\n",
       "      <td>610.873328</td>\n",
       "      <td>33.943258</td>\n",
       "      <td>-10.115398</td>\n",
       "      <td>-10.586005</td>\n",
       "    </tr>\n",
       "    <tr>\n",
       "      <th>2</th>\n",
       "      <td>2021-04-01</td>\n",
       "      <td>587.549988</td>\n",
       "      <td>596.099976</td>\n",
       "      <td>580.200012</td>\n",
       "      <td>571.250000</td>\n",
       "      <td>15631940</td>\n",
       "      <td>592.664763</td>\n",
       "      <td>578.229993</td>\n",
       "      <td>580.575000</td>\n",
       "      <td>591.183329</td>\n",
       "      <td>607.811660</td>\n",
       "      <td>39.293099</td>\n",
       "      <td>-8.742832</td>\n",
       "      <td>-10.182729</td>\n",
       "    </tr>\n",
       "    <tr>\n",
       "      <th>3</th>\n",
       "      <td>2021-04-05</td>\n",
       "      <td>592.000000</td>\n",
       "      <td>592.000000</td>\n",
       "      <td>563.500000</td>\n",
       "      <td>565.900024</td>\n",
       "      <td>23260127</td>\n",
       "      <td>592.842289</td>\n",
       "      <td>583.609998</td>\n",
       "      <td>581.065002</td>\n",
       "      <td>589.136666</td>\n",
       "      <td>605.679995</td>\n",
       "      <td>36.675234</td>\n",
       "      <td>-9.316953</td>\n",
       "      <td>-9.996797</td>\n",
       "    </tr>\n",
       "    <tr>\n",
       "      <th>4</th>\n",
       "      <td>2021-04-06</td>\n",
       "      <td>574.700012</td>\n",
       "      <td>578.500000</td>\n",
       "      <td>564.400024</td>\n",
       "      <td>577.650024</td>\n",
       "      <td>23284697</td>\n",
       "      <td>590.638374</td>\n",
       "      <td>583.550000</td>\n",
       "      <td>580.330005</td>\n",
       "      <td>585.513334</td>\n",
       "      <td>602.809996</td>\n",
       "      <td>37.639736</td>\n",
       "      <td>-10.064845</td>\n",
       "      <td>-10.011198</td>\n",
       "    </tr>\n",
       "  </tbody>\n",
       "</table>\n",
       "</div>"
      ],
      "text/plain": [
       "        Date        Open        High         Low       Close    Volume  \\\n",
       "0 2021-03-30  582.000000  593.099976  582.000000  582.099976  28011943   \n",
       "1 2021-03-31  586.000000  589.650024  579.000000  594.400024  20119972   \n",
       "2 2021-04-01  587.549988  596.099976  580.200012  571.250000  15631940   \n",
       "3 2021-04-05  592.000000  592.000000  563.500000  565.900024  23260127   \n",
       "4 2021-04-06  574.700012  578.500000  564.400024  577.650024  23284697   \n",
       "\n",
       "        EMA_9       SMA_5      SMA_10      SMA_15      SMA_30        RSI  \\\n",
       "0  594.149927  575.490002  583.065002  594.113330  612.744993  44.138431   \n",
       "1  593.872211  579.090002  581.860004  592.913330  610.873328  33.943258   \n",
       "2  592.664763  578.229993  580.575000  591.183329  607.811660  39.293099   \n",
       "3  592.842289  583.609998  581.065002  589.136666  605.679995  36.675234   \n",
       "4  590.638374  583.550000  580.330005  585.513334  602.809996  37.639736   \n",
       "\n",
       "        MACD  MACD_signal  \n",
       "0 -10.538718   -10.721896  \n",
       "1 -10.115398   -10.586005  \n",
       "2  -8.742832   -10.182729  \n",
       "3  -9.316953    -9.996797  \n",
       "4 -10.064845   -10.011198  "
      ]
     },
     "execution_count": 4,
     "metadata": {},
     "output_type": "execute_result"
    }
   ],
   "source": [
    "df['EMA_9'] = df['Close'].ewm(9).mean().shift()\n",
    "df['SMA_5'] = df['Close'].rolling(5).mean().shift()\n",
    "df['SMA_10'] = df['Close'].rolling(10).mean().shift()\n",
    "df['SMA_15'] = df['Close'].rolling(15).mean().shift()\n",
    "df['SMA_30'] = df['Close'].rolling(30).mean().shift()\n",
    "\n",
    "def relative_strength_idx(df, n=14):\n",
    "    close = df['Close']\n",
    "    delta = close.diff()\n",
    "    delta = delta[1:]\n",
    "    pricesUp = delta.copy()\n",
    "    pricesDown = delta.copy()\n",
    "    pricesUp[pricesUp < 0] = 0\n",
    "    pricesDown[pricesDown > 0] = 0    \n",
    "    rollUp = pricesUp.rolling(n).mean()\n",
    "    rollDown = pricesDown.abs().rolling(n).mean()\n",
    "    rs = rollUp / rollDown\n",
    "    rsi = 100.0 - (100.0 / (1.0 + rs))\n",
    "    return rsi\n",
    "\n",
    "df['RSI'] = relative_strength_idx(df).fillna(0)\n",
    "\n",
    "EMA_12 = pd.Series(df['Close'].ewm(span=12, min_periods=12).mean())\n",
    "EMA_26 = pd.Series(df['Close'].ewm(span=26, min_periods=26).mean())\n",
    "df['MACD'] = pd.Series(EMA_12 - EMA_26)\n",
    "df['MACD_signal'] = pd.Series(df.MACD.ewm(span=9, min_periods=9).mean())\n",
    "\n",
    "df['Close'] = df['Close'].shift(-1)\n",
    "\n",
    "df = df.iloc[33:] # Because of moving average\n",
    "df = df[:-1]      # Because of shifting close price\n",
    "\n",
    "df.index = range(len(df))\n",
    "\n",
    "df.head()"
   ]
  },
  {
   "cell_type": "code",
   "execution_count": 5,
   "metadata": {},
   "outputs": [
    {
     "data": {
      "text/html": [
       "<div>\n",
       "<style scoped>\n",
       "    .dataframe tbody tr th:only-of-type {\n",
       "        vertical-align: middle;\n",
       "    }\n",
       "\n",
       "    .dataframe tbody tr th {\n",
       "        vertical-align: top;\n",
       "    }\n",
       "\n",
       "    .dataframe thead th {\n",
       "        text-align: right;\n",
       "    }\n",
       "</style>\n",
       "<table border=\"1\" class=\"dataframe\">\n",
       "  <thead>\n",
       "    <tr style=\"text-align: right;\">\n",
       "      <th></th>\n",
       "      <th>Close</th>\n",
       "      <th>EMA_9</th>\n",
       "      <th>SMA_5</th>\n",
       "      <th>SMA_10</th>\n",
       "      <th>SMA_15</th>\n",
       "      <th>SMA_30</th>\n",
       "      <th>RSI</th>\n",
       "      <th>MACD</th>\n",
       "      <th>MACD_signal</th>\n",
       "    </tr>\n",
       "  </thead>\n",
       "  <tbody>\n",
       "    <tr>\n",
       "      <th>0</th>\n",
       "      <td>582.099976</td>\n",
       "      <td>594.149927</td>\n",
       "      <td>575.490002</td>\n",
       "      <td>583.065002</td>\n",
       "      <td>594.113330</td>\n",
       "      <td>612.744993</td>\n",
       "      <td>44.138431</td>\n",
       "      <td>-10.538718</td>\n",
       "      <td>-10.721896</td>\n",
       "    </tr>\n",
       "    <tr>\n",
       "      <th>1</th>\n",
       "      <td>594.400024</td>\n",
       "      <td>593.872211</td>\n",
       "      <td>579.090002</td>\n",
       "      <td>581.860004</td>\n",
       "      <td>592.913330</td>\n",
       "      <td>610.873328</td>\n",
       "      <td>33.943258</td>\n",
       "      <td>-10.115398</td>\n",
       "      <td>-10.586005</td>\n",
       "    </tr>\n",
       "    <tr>\n",
       "      <th>2</th>\n",
       "      <td>571.250000</td>\n",
       "      <td>592.664763</td>\n",
       "      <td>578.229993</td>\n",
       "      <td>580.575000</td>\n",
       "      <td>591.183329</td>\n",
       "      <td>607.811660</td>\n",
       "      <td>39.293099</td>\n",
       "      <td>-8.742832</td>\n",
       "      <td>-10.182729</td>\n",
       "    </tr>\n",
       "    <tr>\n",
       "      <th>3</th>\n",
       "      <td>565.900024</td>\n",
       "      <td>592.842289</td>\n",
       "      <td>583.609998</td>\n",
       "      <td>581.065002</td>\n",
       "      <td>589.136666</td>\n",
       "      <td>605.679995</td>\n",
       "      <td>36.675234</td>\n",
       "      <td>-9.316953</td>\n",
       "      <td>-9.996797</td>\n",
       "    </tr>\n",
       "    <tr>\n",
       "      <th>4</th>\n",
       "      <td>577.650024</td>\n",
       "      <td>590.638374</td>\n",
       "      <td>583.550000</td>\n",
       "      <td>580.330005</td>\n",
       "      <td>585.513334</td>\n",
       "      <td>602.809996</td>\n",
       "      <td>37.639736</td>\n",
       "      <td>-10.064845</td>\n",
       "      <td>-10.011198</td>\n",
       "    </tr>\n",
       "  </tbody>\n",
       "</table>\n",
       "</div>"
      ],
      "text/plain": [
       "        Close       EMA_9       SMA_5      SMA_10      SMA_15      SMA_30  \\\n",
       "0  582.099976  594.149927  575.490002  583.065002  594.113330  612.744993   \n",
       "1  594.400024  593.872211  579.090002  581.860004  592.913330  610.873328   \n",
       "2  571.250000  592.664763  578.229993  580.575000  591.183329  607.811660   \n",
       "3  565.900024  592.842289  583.609998  581.065002  589.136666  605.679995   \n",
       "4  577.650024  590.638374  583.550000  580.330005  585.513334  602.809996   \n",
       "\n",
       "         RSI       MACD  MACD_signal  \n",
       "0  44.138431 -10.538718   -10.721896  \n",
       "1  33.943258 -10.115398   -10.586005  \n",
       "2  39.293099  -8.742832   -10.182729  \n",
       "3  36.675234  -9.316953    -9.996797  \n",
       "4  37.639736 -10.064845   -10.011198  "
      ]
     },
     "execution_count": 5,
     "metadata": {},
     "output_type": "execute_result"
    }
   ],
   "source": [
    "drop_cols = ['Date', 'Volume', 'Open', 'Low', 'High']\n",
    "df.drop(columns=drop_cols,inplace=True)\n",
    "df.head()"
   ]
  },
  {
   "cell_type": "markdown",
   "metadata": {},
   "source": [
    "#### Separating the data into train and test splits. Then splitting into validation split"
   ]
  },
  {
   "cell_type": "code",
   "execution_count": 6,
   "metadata": {},
   "outputs": [],
   "source": [
    "X = df.iloc[:, 1:]\n",
    "y = df.iloc[:, 1]\n",
    "\n",
    "x_len = int(0.8 * len(X))\n",
    "y_len = int(0.8 * len(y))\n",
    "X_trainval = X[:x_len]\n",
    "X_test = X[x_len:]\n",
    "y_trainval = y[:y_len]\n",
    "y_test = y[y_len:]\n",
    "\n",
    "X_train, X_val, y_train, y_val = train_test_split(\n",
    "    X_trainval, y_trainval, test_size=0.2\n",
    ")"
   ]
  },
  {
   "cell_type": "markdown",
   "metadata": {},
   "source": [
    "#### Normalising the data"
   ]
  },
  {
   "cell_type": "code",
   "execution_count": 7,
   "metadata": {},
   "outputs": [],
   "source": [
    "scaler = MinMaxScaler()\n",
    "X_train = scaler.fit_transform(X_train)\n",
    "X_val = scaler.transform(X_val)\n",
    "X_test = scaler.transform(X_test)\n",
    "X_train, y_train = np.array(X_train), np.array(y_train)\n",
    "X_val, y_val = np.array(X_val), np.array(y_val)\n",
    "X_test, y_test = np.array(X_test), np.array(y_test)"
   ]
  },
  {
   "cell_type": "markdown",
   "metadata": {},
   "source": [
    "#### Initialising the dataset"
   ]
  },
  {
   "cell_type": "code",
   "execution_count": 8,
   "metadata": {},
   "outputs": [],
   "source": [
    "class RegressionDataset(Dataset):\n",
    "    def __init__(self, X_data, y_data):\n",
    "        self.X_data = X_data\n",
    "        self.y_data = y_data\n",
    "\n",
    "    def __getitem__(self, index):\n",
    "        return self.X_data[index], self.y_data[index]\n",
    "\n",
    "    def __len__(self):\n",
    "        return len(self.X_data)   "
   ]
  },
  {
   "cell_type": "code",
   "execution_count": 9,
   "metadata": {},
   "outputs": [],
   "source": [
    "train_dataset = RegressionDataset(\n",
    "    torch.from_numpy(X_train).float(), torch.from_numpy(y_train).float()\n",
    ")\n",
    "val_dataset = RegressionDataset(\n",
    "    torch.from_numpy(X_val).float(), torch.from_numpy(y_val).float()\n",
    ")\n",
    "test_dataset = RegressionDataset(\n",
    "    torch.from_numpy(X_test).float(), torch.from_numpy(y_test).float()\n",
    ")"
   ]
  },
  {
   "cell_type": "markdown",
   "metadata": {},
   "source": [
    "#### Setting hyper parameters"
   ]
  },
  {
   "cell_type": "code",
   "execution_count": 10,
   "metadata": {},
   "outputs": [],
   "source": [
    "EPOCHS = 1200\n",
    "BATCH_SIZE = 64\n",
    "LEARNING_RATE = 0.001\n",
    "NUM_FEATURES = len(X.columns)"
   ]
  },
  {
   "cell_type": "code",
   "execution_count": 11,
   "metadata": {},
   "outputs": [],
   "source": [
    "train_loader = DataLoader(dataset=train_dataset, batch_size=BATCH_SIZE,shuffle=True)\n",
    "val_loader = DataLoader(dataset=val_dataset, batch_size=BATCH_SIZE,)\n",
    "test_loader = DataLoader(dataset=test_dataset, batch_size=BATCH_SIZE)"
   ]
  },
  {
   "cell_type": "code",
   "execution_count": 12,
   "metadata": {},
   "outputs": [],
   "source": [
    "class MultipleRegression(nn.Module):\n",
    "    def __init__(self, num_features):\n",
    "        super(MultipleRegression, self).__init__()\n",
    "\n",
    "        self.layer_1 = nn.Linear(num_features, 16)\n",
    "        self.layer_2 = nn.Linear(16, 32)\n",
    "        self.layer_3 = nn.Linear(32, 16)\n",
    "        self.layer_out = nn.Linear(16, 1)\n",
    "\n",
    "        self.relu = nn.ReLU()\n",
    "\n",
    "    def forward(self, inputs):\n",
    "        x = self.relu(self.layer_1(inputs))\n",
    "        x = self.relu(self.layer_2(x))\n",
    "        x = self.relu(self.layer_3(x))\n",
    "        x = self.layer_out(x)\n",
    "        return x\n",
    "\n",
    "    def predict(self, test_inputs):\n",
    "        x = self.relu(self.layer_1(test_inputs))\n",
    "        x = self.relu(self.layer_2(x))\n",
    "        x = self.relu(self.layer_3(x))\n",
    "        x = self.layer_out(x)\n",
    "        return x\n",
    "# torch.cuda.set_device(\"cuda:0\")\n",
    "# print(torch.cuda.get_device_name())"
   ]
  },
  {
   "cell_type": "code",
   "execution_count": 13,
   "metadata": {},
   "outputs": [
    {
     "name": "stdout",
     "output_type": "stream",
     "text": [
      "MultipleRegression(\n",
      "  (layer_1): Linear(in_features=8, out_features=16, bias=True)\n",
      "  (layer_2): Linear(in_features=16, out_features=32, bias=True)\n",
      "  (layer_3): Linear(in_features=32, out_features=16, bias=True)\n",
      "  (layer_out): Linear(in_features=16, out_features=1, bias=True)\n",
      "  (relu): ReLU()\n",
      ")\n"
     ]
    }
   ],
   "source": [
    "# device = torch.device(\"cuda:0\" if torch.cuda.is_available() else \"cpu\")\n",
    "device = \"cpu\"\n",
    "model = MultipleRegression(NUM_FEATURES)\n",
    "model.to(device)\n",
    "print(model)\n",
    "criterion = nn.MSELoss()\n",
    "optimizer = optim.Adam(model.parameters(), lr=LEARNING_RATE)"
   ]
  },
  {
   "cell_type": "code",
   "execution_count": 14,
   "metadata": {},
   "outputs": [],
   "source": [
    "loss_stats = {\n",
    "    'train': [],\n",
    "    \"val\": []\n",
    "}"
   ]
  },
  {
   "cell_type": "code",
   "execution_count": 15,
   "metadata": {},
   "outputs": [
    {
     "name": "stderr",
     "output_type": "stream",
     "text": [
      "  6%|▋         | 76/1200 [00:04<00:36, 30.71it/s] "
     ]
    },
    {
     "name": "stdout",
     "output_type": "stream",
     "text": [
      "Epoch 050: | Train Loss: 212838.46563 | Val Loss: 194600.70312\n"
     ]
    },
    {
     "name": "stderr",
     "output_type": "stream",
     "text": [
      " 12%|█▏        | 149/1200 [00:05<00:12, 86.32it/s]"
     ]
    },
    {
     "name": "stdout",
     "output_type": "stream",
     "text": [
      "Epoch 100: | Train Loss: 14613.24375 | Val Loss: 6991.29529\n",
      "Epoch 150: | Train Loss: 13727.37676 | Val Loss: 5939.33374\n"
     ]
    },
    {
     "name": "stderr",
     "output_type": "stream",
     "text": [
      " 20%|██        | 244/1200 [00:05<00:05, 168.37it/s]"
     ]
    },
    {
     "name": "stdout",
     "output_type": "stream",
     "text": [
      "Epoch 200: | Train Loss: 10639.54043 | Val Loss: 5028.63879\n"
     ]
    },
    {
     "name": "stderr",
     "output_type": "stream",
     "text": [
      " 24%|██▍       | 293/1200 [00:05<00:04, 197.04it/s]"
     ]
    },
    {
     "name": "stdout",
     "output_type": "stream",
     "text": [
      "Epoch 250: | Train Loss: 9186.85088 | Val Loss: 4092.30804\n"
     ]
    },
    {
     "name": "stderr",
     "output_type": "stream",
     "text": [
      " 28%|██▊       | 342/1200 [00:06<00:04, 210.86it/s]"
     ]
    },
    {
     "name": "stdout",
     "output_type": "stream",
     "text": [
      "Epoch 300: | Train Loss: 6646.14482 | Val Loss: 3164.69879\n"
     ]
    },
    {
     "name": "stderr",
     "output_type": "stream",
     "text": [
      " 33%|███▎      | 391/1200 [00:06<00:03, 217.48it/s]"
     ]
    },
    {
     "name": "stdout",
     "output_type": "stream",
     "text": [
      "Epoch 350: | Train Loss: 4662.32461 | Val Loss: 2299.71457\n"
     ]
    },
    {
     "name": "stderr",
     "output_type": "stream",
     "text": [
      " 36%|███▋      | 438/1200 [00:06<00:03, 223.47it/s]"
     ]
    },
    {
     "name": "stdout",
     "output_type": "stream",
     "text": [
      "Epoch 400: | Train Loss: 2972.40742 | Val Loss: 1549.22510\n"
     ]
    },
    {
     "name": "stderr",
     "output_type": "stream",
     "text": [
      " 41%|████      | 489/1200 [00:06<00:02, 237.13it/s]"
     ]
    },
    {
     "name": "stdout",
     "output_type": "stream",
     "text": [
      "Epoch 450: | Train Loss: 1577.41936 | Val Loss: 821.94257\n"
     ]
    },
    {
     "name": "stderr",
     "output_type": "stream",
     "text": [
      " 45%|████▍     | 539/1200 [00:06<00:02, 237.92it/s]"
     ]
    },
    {
     "name": "stdout",
     "output_type": "stream",
     "text": [
      "Epoch 500: | Train Loss: 675.96375 | Val Loss: 334.83965\n"
     ]
    },
    {
     "name": "stderr",
     "output_type": "stream",
     "text": [
      " 47%|████▋     | 564/1200 [00:07<00:02, 239.80it/s]"
     ]
    },
    {
     "name": "stdout",
     "output_type": "stream",
     "text": [
      "Epoch 550: | Train Loss: 172.63800 | Val Loss: 95.40790\n"
     ]
    },
    {
     "name": "stderr",
     "output_type": "stream",
     "text": [
      " 53%|█████▎    | 633/1200 [00:07<00:02, 209.39it/s]"
     ]
    },
    {
     "name": "stdout",
     "output_type": "stream",
     "text": [
      "Epoch 600: | Train Loss: 36.37450 | Val Loss: 26.39553\n"
     ]
    },
    {
     "name": "stderr",
     "output_type": "stream",
     "text": [
      " 57%|█████▋    | 680/1200 [00:07<00:02, 220.05it/s]"
     ]
    },
    {
     "name": "stdout",
     "output_type": "stream",
     "text": [
      "Epoch 650: | Train Loss: 11.40799 | Val Loss: 14.39096\n"
     ]
    },
    {
     "name": "stderr",
     "output_type": "stream",
     "text": [
      " 61%|██████    | 728/1200 [00:07<00:02, 227.89it/s]"
     ]
    },
    {
     "name": "stdout",
     "output_type": "stream",
     "text": [
      "Epoch 700: | Train Loss: 8.48249 | Val Loss: 13.95218\n"
     ]
    },
    {
     "name": "stderr",
     "output_type": "stream",
     "text": [
      " 65%|██████▍   | 777/1200 [00:08<00:01, 230.80it/s]"
     ]
    },
    {
     "name": "stdout",
     "output_type": "stream",
     "text": [
      "Epoch 750: | Train Loss: 7.00983 | Val Loss: 14.06730\n"
     ]
    },
    {
     "name": "stderr",
     "output_type": "stream",
     "text": [
      " 69%|██████▉   | 825/1200 [00:08<00:01, 226.86it/s]"
     ]
    },
    {
     "name": "stdout",
     "output_type": "stream",
     "text": [
      "Epoch 800: | Train Loss: 7.71616 | Val Loss: 13.75430\n"
     ]
    },
    {
     "name": "stderr",
     "output_type": "stream",
     "text": [
      " 73%|███████▎  | 876/1200 [00:08<00:01, 235.79it/s]"
     ]
    },
    {
     "name": "stdout",
     "output_type": "stream",
     "text": [
      "Epoch 850: | Train Loss: 6.89270 | Val Loss: 13.42979\n"
     ]
    },
    {
     "name": "stderr",
     "output_type": "stream",
     "text": [
      " 77%|███████▋  | 926/1200 [00:08<00:01, 240.21it/s]"
     ]
    },
    {
     "name": "stdout",
     "output_type": "stream",
     "text": [
      "Epoch 900: | Train Loss: 6.45733 | Val Loss: 13.00468\n"
     ]
    },
    {
     "name": "stderr",
     "output_type": "stream",
     "text": [
      " 81%|████████▏ | 976/1200 [00:08<00:00, 230.99it/s]"
     ]
    },
    {
     "name": "stdout",
     "output_type": "stream",
     "text": [
      "Epoch 950: | Train Loss: 6.80014 | Val Loss: 12.66773\n"
     ]
    },
    {
     "name": "stderr",
     "output_type": "stream",
     "text": [
      " 85%|████████▌ | 1023/1200 [00:09<00:00, 210.84it/s]"
     ]
    },
    {
     "name": "stdout",
     "output_type": "stream",
     "text": [
      "Epoch 1000: | Train Loss: 6.38182 | Val Loss: 12.22005\n"
     ]
    },
    {
     "name": "stderr",
     "output_type": "stream",
     "text": [
      " 91%|█████████ | 1087/1200 [00:09<00:00, 201.33it/s]"
     ]
    },
    {
     "name": "stdout",
     "output_type": "stream",
     "text": [
      "Epoch 1050: | Train Loss: 6.99400 | Val Loss: 12.01069\n"
     ]
    },
    {
     "name": "stderr",
     "output_type": "stream",
     "text": [
      " 94%|█████████▍| 1131/1200 [00:09<00:00, 207.70it/s]"
     ]
    },
    {
     "name": "stdout",
     "output_type": "stream",
     "text": [
      "Epoch 1100: | Train Loss: 5.86996 | Val Loss: 11.41963\n"
     ]
    },
    {
     "name": "stderr",
     "output_type": "stream",
     "text": [
      " 98%|█████████▊| 1178/1200 [00:09<00:00, 220.15it/s]"
     ]
    },
    {
     "name": "stdout",
     "output_type": "stream",
     "text": [
      "Epoch 1150: | Train Loss: 6.11199 | Val Loss: 11.06085\n"
     ]
    },
    {
     "name": "stderr",
     "output_type": "stream",
     "text": [
      "100%|██████████| 1200/1200 [00:09<00:00, 120.62it/s]"
     ]
    },
    {
     "name": "stdout",
     "output_type": "stream",
     "text": [
      "Epoch 1200: | Train Loss: 5.81685 | Val Loss: 10.36176\n"
     ]
    },
    {
     "name": "stderr",
     "output_type": "stream",
     "text": [
      "\n"
     ]
    }
   ],
   "source": [
    "for e in tqdm(range(1, EPOCHS + 1)):\n",
    "    # TRAINING\n",
    "    train_epoch_loss = 0\n",
    "    model.train()\n",
    "    for X_train_batch, y_train_batch in train_loader:\n",
    "        X_train_batch, y_train_batch = X_train_batch.to(device), y_train_batch.to(\n",
    "            device\n",
    "        )\n",
    "        optimizer.zero_grad()\n",
    "\n",
    "        y_train_pred = model(X_train_batch)\n",
    "\n",
    "        train_loss = criterion(y_train_pred, y_train_batch.unsqueeze(1))\n",
    "\n",
    "        train_loss.backward()\n",
    "        optimizer.step()\n",
    "\n",
    "        train_epoch_loss += train_loss.item()\n",
    "\n",
    "    # VALIDATION\n",
    "    with torch.no_grad():\n",
    "        val_epoch_loss = 0\n",
    "\n",
    "        model.eval()\n",
    "        for X_val_batch, y_val_batch in val_loader:\n",
    "            X_val_batch, y_val_batch = X_val_batch.to(device), y_val_batch.to(device)\n",
    "\n",
    "            y_val_pred = model(X_val_batch)\n",
    "\n",
    "            val_loss = criterion(y_val_pred, y_val_batch.unsqueeze(1))\n",
    "\n",
    "            val_epoch_loss += val_loss.item()\n",
    "        # print(torch.cuda.get_device_name())\n",
    "\n",
    "        loss_stats[\"train\"].append(train_epoch_loss / len(train_loader))\n",
    "        loss_stats[\"val\"].append(val_epoch_loss / len(val_loader))\n",
    "\n",
    "    if e % 50 == 0:\n",
    "        print(\n",
    "            f\"Epoch {e+0:03}: | Train Loss: {train_epoch_loss/len(train_loader):.5f} | Val Loss: {val_epoch_loss/len(val_loader):.5f}\"\n",
    "        )\n",
    "# torch.cuda.set_device(\"cuda:0\")\n",
    "# print(torch.cuda.get_device_name())"
   ]
  },
  {
   "cell_type": "code",
   "execution_count": 16,
   "metadata": {},
   "outputs": [
    {
     "name": "stdout",
     "output_type": "stream",
     "text": [
      "1200\n",
      "1200\n"
     ]
    }
   ],
   "source": [
    "print(len(loss_stats['train']))\n",
    "print(len(loss_stats['val']))"
   ]
  },
  {
   "cell_type": "code",
   "execution_count": 17,
   "metadata": {},
   "outputs": [
    {
     "data": {
      "text/plain": [
       "Text(0.5, 1.0, 'Train-Val Loss/Epoch')"
      ]
     },
     "execution_count": 17,
     "metadata": {},
     "output_type": "execute_result"
    },
    {
     "data": {
      "image/png": "[encoded data removed]",
      "text/plain": [
       "<Figure size 1500x800 with 1 Axes>"
      ]
     },
     "metadata": {},
     "output_type": "display_data"
    }
   ],
   "source": [
    "train_val_loss_df = (\n",
    "    pd.DataFrame.from_dict(loss_stats)\n",
    "    .reset_index()\n",
    "    .melt(id_vars=[\"index\"])\n",
    "    .rename(columns={\"index\": \"epochs\"})\n",
    ")\n",
    "plt.figure(figsize=(15, 8))\n",
    "sns.lineplot(data=train_val_loss_df, x=\"epochs\", y=\"value\", hue=\"variable\").set_title(\n",
    "    \"Train-Val Loss/Epoch\"\n",
    ")"
   ]
  },
  {
   "cell_type": "code",
   "execution_count": 22,
   "metadata": {},
   "outputs": [
    {
     "name": "stderr",
     "output_type": "stream",
     "text": [
      "100%|██████████| 2/2 [00:00<00:00, 8621.39it/s]"
     ]
    },
    {
     "name": "stdout",
     "output_type": "stream",
     "text": [
      "[808.744, 815.20825, 821.76886, 828.23346, 833.9375, 838.14056, 840.2991, 842.5673, 845.7677, 848.68396, 851.7291, 853.06995, 856.4232, 859.4187, 861.4254, 863.6372, 866.04803, 867.40137, 870.0489, 873.3172, 876.8599, 880.3987, 884.403, 887.89905, 890.4016, 892.10925, 894.2392, 897.6539, 898.9008, 898.2902, 895.7039, 892.0431, 888.0727, 884.578, 882.26245, 879.6109, 878.1466, 878.90967, 879.4587, 879.4182, 878.53564, 877.4479, 875.5936, 874.37714, 875.35254, 877.68414, 879.7651, 881.20087, 883.4148, 887.4246, 890.9397, 894.06744, 895.2086, 895.30066, 895.7234, 896.00336, 897.03345, 897.27673, 898.4741, 899.2832, 900.1515, 900.8002, 900.3816, 901.2954, 903.0725, 904.53613, 906.64526, 907.9422, 909.1881, 910.8928, 913.29553, 915.4971, 917.6211, 921.182, 924.4443, 926.4651, 927.2749, 927.794, 928.0863, 927.6165, 927.8371, 927.96893, 928.0116, 928.55865, 927.968, 926.4083]\n",
      "[805.4301263292069, 810.8571148962862, 817.2114058066577, 823.415265225992, 829.3987387033927, 834.9688624330536, 838.5119785897482, 839.8857807307734, 842.287205057696, 845.3884833519264, 848.0846326167338, 850.3611669550603, 850.9100478595542, 854.5490418735989, 856.5291352862389, 858.116224157615, 860.5496029418534, 862.8596450476681, 864.1936817429013, 867.6543123686113, 871.0138811317503, 874.6324942185752, 878.1692447967177, 882.162317917046, 885.7060837253415, 888.0454729528072, 889.1609268575265, 891.9198341717739, 894.2528507545966, 895.1675680791369, 893.8758112712234, 890.593228944101, 886.788904849691, 883.060014364722, 879.1440153282497, 877.4296137954248, 874.5216500158823, 873.8344874142941, 874.9960398728648, 875.7514346855783, 876.3512912170204, 875.7761596953183, 875.0335413257864, 872.8901847932077, 872.6261663138869, 873.8835508824982, 876.1851981942483, 877.7766759748235, 878.8640107773413, 881.6926120996071, 886.1533496896465, 890.0430135206819, 893.4787145686137, 894.9158407117524, 896.2942578405771, 897.5248296565194, 898.2423478908674, 899.2831155017807, 899.8848027516027, 901.6463224764424, 902.5316902287982, 903.3485224059184, 903.6686689653266, 902.7968032687938, 903.6871241419144, 904.678409327723, 906.1905671949506, 907.6065080754556, 908.9858596679101, 910.457274901119, 912.1565486110071, 914.8258913499064, 916.3733010149158, 918.4759733134243, 921.3033759820819, 924.4630407838738, 926.0367379054863, 926.4930617149377, 927.2037531434438, 926.7483802290994, 926.2885446061896, 926.8496925455706, 927.1547256910136, 927.4692519219122, 928.017327929721, 927.3905951367489]\n",
      "The average deviation in error is: 2.864066112052043\n"
     ]
    },
    {
     "name": "stderr",
     "output_type": "stream",
     "text": [
      "\n"
     ]
    },
    {
     "data": {
      "text/plain": [
       "[Text(0.5, 1.0, 'Deviation of Error')]"
      ]
     },
     "execution_count": 22,
     "metadata": {},
     "output_type": "execute_result"
    },
    {
     "data": {
      "image/png": "[encoded data removed]",
      "text/plain": [
       "<Figure size 640x480 with 1 Axes>"
      ]
     },
     "metadata": {},
     "output_type": "display_data"
    }
   ],
   "source": [
    "y_pred_list = []\n",
    "with torch.no_grad():\n",
    "    model.eval()\n",
    "    for X_batch, _ in test_loader:\n",
    "        X_batch = X_batch.to(device)\n",
    "        y_test_pred = model(X_batch)\n",
    "        y_pred_list.append(y_test_pred.cpu().numpy())\n",
    "        y_pred_list = [a for a in y_pred_list]\n",
    "        \n",
    "y_pred = []\n",
    "for i in tqdm(range(len(y_pred_list))):\n",
    "    for j in range(len(y_pred_list[i])):\n",
    "        for k in range(len(y_pred_list[i][j])):\n",
    "            y_pred.append(y_pred_list[i][j][k])\n",
    "\n",
    "print(y_pred)  \n",
    "print(y_test.tolist())\n",
    "y_pred_np = np.array(y_pred)\n",
    "difference = np.subtract(y_pred_np, y_test)\n",
    "difference = abs(difference)\n",
    "mean_difference = np.mean(difference)\n",
    "print(f\"The average deviation in error is: {mean_difference}\")\n",
    "sns.lineplot(difference).set(title=\"Deviation of Error\")"
   ]
  },
  {
   "cell_type": "code",
   "execution_count": 19,
   "metadata": {},
   "outputs": [
    {
     "name": "stdout",
     "output_type": "stream",
     "text": [
      "Mean Squared Error : 11.374619293685035\n",
      "R^2 : 0.9866567839944503\n",
      "Accuracy (using MSE): 88.62538070631497%\n",
      "Mean absolute percentage error: 99.996720376167%\n"
     ]
    }
   ],
   "source": [
    "mse = mean_squared_error(y_test, y_pred)\n",
    "r_square = r2_score(y_test, y_pred)\n",
    "mean_abs_err = mean_absolute_percentage_error(y_test, y_pred)\n",
    "print(\"Mean Squared Error :\",mse)\n",
    "print(\"R^2 :\",r_square)\n",
    "print(f\"Accuracy (using MSE): {(100 - mse)}%\")\n",
    "print(f\"Mean absolute percentage error: {100 - mean_abs_err}%\")"
   ]
  },
  {
   "cell_type": "markdown",
   "metadata": {},
   "source": [
    "#### Visualising the data"
   ]
  },
  {
   "cell_type": "code",
   "execution_count": 20,
   "metadata": {},
   "outputs": [],
   "source": [
    "import plotly as py\n",
    "import plotly.io as pio    \n",
    "import plotly.graph_objects as go\n",
    "from plotly.subplots import make_subplots\n",
    "from plotly.offline import download_plotlyjs, init_notebook_mode, plot, iplot"
   ]
  },
  {
   "cell_type": "code",
   "execution_count": 21,
   "metadata": {},
   "outputs": [
    {
     "data": {
      "application/vnd.plotly.v1+json": {
       "config": {
        "plotlyServerURL": "https://plot.ly"
       },
       "data": [
        {
         "marker": {
          "color": "LightSkyBlue"
         },
         "name": "Truth",
         "type": "scatter",
         "x": [
          0,
          1,
          2,
          3,
          4,
          5,
          6,
          7,
          8,
          9,
          10,
          11,
          12,
          13,
          14,
          15,
          16,
          17,
          18,
          19,
          20,
          21,
          22,
          23,
          24,
          25,
          26,
          27,
          28,
          29,
          30,
          31,
          32,
          33,
          34,
          35,
          36,
          37,
          38,
          39,
          40,
          41,
          42,
          43,
          44,
          45,
          46,
          47,
          48,
          49,
          50,
          51,
          52,
          53,
          54,
          55,
          56,
          57,
          58,
          59,
          60,
          61,
          62,
          63,
          64,
          65,
          66,
          67,
          68,
          69,
          70,
          71,
          72,
          73,
          74,
          75,
          76,
          77,
          78,
          79,
          80,
          81,
          82,
          83,
          84,
          85,
          86,
          87,
          88,
          89,
          90,
          91,
          92,
          93,
          94,
          95,
          96,
          97,
          98,
          99,
          100,
          101,
          102,
          103,
          104,
          105,
          106,
          107,
          108,
          109,
          110,
          111,
          112,
          113,
          114,
          115,
          116,
          117,
          118,
          119,
          120,
          121,
          122,
          123,
          124,
          125,
          126,
          127,
          128,
          129,
          130,
          131,
          132,
          133,
          134,
          135,
          136,
          137,
          138,
          139,
          140,
          141,
          142,
          143,
          144,
          145,
          146,
          147,
          148,
          149,
          150,
          151,
          152,
          153,
          154,
          155,
          156,
          157,
          158,
          159,
          160,
          161,
          162,
          163,
          164,
          165,
          166,
          167,
          168,
          169,
          170,
          171,
          172,
          173,
          174,
          175,
          176,
          177,
          178,
          179,
          180,
          181,
          182,
          183,
          184,
          185,
          186,
          187,
          188,
          189,
          190,
          191,
          192,
          193,
          194,
          195,
          196,
          197,
          198,
          199,
          200,
          201,
          202,
          203,
          204,
          205,
          206,
          207,
          208,
          209,
          210,
          211,
          212,
          213,
          214,
          215,
          216,
          217,
          218,
          219,
          220,
          221,
          222,
          223,
          224,
          225,
          226,
          227,
          228,
          229,
          230,
          231,
          232,
          233,
          234,
          235,
          236,
          237,
          238,
          239,
          240,
          241,
          242,
          243,
          244,
          245,
          246,
          247,
          248,
          249,
          250,
          251,
          252,
          253,
          254,
          255,
          256,
          257,
          258,
          259,
          260,
          261,
          262,
          263,
          264,
          265,
          266,
          267,
          268,
          269,
          270,
          271,
          272,
          273,
          274,
          275,
          276,
          277,
          278,
          279,
          280,
          281,
          282,
          283,
          284,
          285,
          286,
          287,
          288,
          289,
          290,
          291,
          292,
          293,
          294,
          295,
          296,
          297,
          298,
          299,
          300,
          301,
          302,
          303,
          304,
          305,
          306,
          307,
          308,
          309,
          310,
          311,
          312,
          313,
          314,
          315,
          316,
          317,
          318,
          319,
          320,
          321,
          322,
          323,
          324,
          325,
          326,
          327,
          328,
          329,
          330,
          331,
          332,
          333,
          334,
          335,
          336,
          337,
          338,
          339,
          340,
          341,
          342,
          343,
          344,
          345,
          346,
          347,
          348,
          349,
          350,
          351,
          352,
          353,
          354,
          355,
          356,
          357,
          358,
          359,
          360,
          361,
          362,
          363,
          364,
          365,
          366,
          367,
          368,
          369,
          370,
          371,
          372,
          373,
          374,
          375,
          376,
          377,
          378,
          379,
          380,
          381,
          382,
          383,
          384,
          385,
          386,
          387,
          388,
          389,
          390,
          391,
          392,
          393,
          394,
          395,
          396,
          397,
          398,
          399,
          400,
          401,
          402,
          403,
          404,
          405,
          406,
          407,
          408,
          409,
          410,
          411,
          412,
          413,
          414,
          415,
          416,
          417,
          418,
          419,
          420,
          421,
          422,
          423,
          424,
          425,
          426,
          427,
          428,
          429,
          430,
          431,
          432,
          433,
          434,
          435,
          436,
          437,
          438,
          439,
          440,
          441,
          442,
          443,
          444,
          445,
          446,
          447,
          448,
          449,
          450,
          451,
          452,
          453,
          454,
          455,
          456,
          457,
          458,
          459
         ],
         "xaxis": "x",
         "y": [
          582.099976,
          594.400024,
          571.25,
          565.900024,
          577.650024,
          576.700012,
          566.200012,
          538.549988,
          560.599976,
          575.200012,
          566.950012,
          559.75,
          559.099976,
          579.200012,
          569.950012,
          591.099976,
          598.75,
          621.349976,
          621.450012,
          600.5,
          596.75,
          591.549988,
          602.799988,
          608.200012,
          607.099976,
          613.25,
          609.849976,
          594.75,
          597.299988,
          623.599976,
          633.200012,
          625.450012,
          618.599976,
          642.450012,
          647.349976,
          650.299988,
          652.5,
          652.25,
          643.049988,
          662.75,
          650.099976,
          648.349976,
          650.25,
          642.700012,
          648.200012,
          642.400024,
          636.099976,
          640.400024,
          635.700012,
          635.150024,
          645.299988,
          640.099976,
          633,
          630.400024,
          631.25,
          630.849976,
          624.700012,
          634.049988,
          649,
          650.299988,
          640.099976,
          630.900024,
          630.849976,
          640.25,
          647.849976,
          650.299988,
          654,
          641.900024,
          638.549988,
          646.25,
          664.950012,
          664.349976,
          667.450012,
          660.299988,
          655.900024,
          641.900024,
          655.950012,
          676.650024,
          676.75,
          677.450012,
          685.049988,
          687.5,
          682.5,
          681.400024,
          690.400024,
          714.650024,
          702.450012,
          697.650024,
          702.849976,
          700.900024,
          693.549988,
          701.349976,
          704.799988,
          702.650024,
          701.200012,
          688.299988,
          680.700012,
          682.700012,
          694.450012,
          691.049988,
          698.799988,
          699.75,
          713.650024,
          719.049988,
          719.900024,
          725.150024,
          724.299988,
          721.150024,
          716.900024,
          720.950012,
          720.25,
          707.400024,
          707.450012,
          714.349976,
          727.200012,
          720.150024,
          710,
          711.849976,
          703.349976,
          717,
          722.950012,
          730,
          717.150024,
          709.5,
          700.849976,
          692.349976,
          700.200012,
          697.099976,
          689.5,
          702.200012,
          703.400024,
          713.299988,
          708.599976,
          709.950012,
          727.299988,
          745.450012,
          747.450012,
          745.849976,
          755.5,
          759.299988,
          841.700012,
          829.400024,
          835,
          798.700012,
          802.049988,
          803.900024,
          800.950012,
          785.950012,
          782.099976,
          780.150024,
          786.549988,
          780.900024,
          771.450012,
          776.599976,
          773.299988,
          764.049988,
          761.299988,
          762.900024,
          752,
          751.849976,
          760.200012,
          751.049988,
          722.200012,
          718.400024,
          714.349976,
          727.700012,
          722.400024,
          716.299988,
          709.549988,
          734.650024,
          753.400024,
          755,
          758,
          754,
          758.650024,
          752.25,
          741.150024,
          728.299988,
          709.950012,
          720.349976,
          732.799988,
          731.299988,
          727.099976,
          736,
          735.799988,
          735.700012,
          735.700012,
          740.150024,
          764.700012,
          772.849976,
          788.049988,
          785.049988,
          793.25,
          810.75,
          810.650024,
          823.75,
          824.700012,
          820,
          819.299988,
          823.099976,
          808.599976,
          810.25,
          804.5,
          798.450012,
          801.650024,
          794.650024,
          781.150024,
          788.799988,
          810.299988,
          813.75,
          808.950012,
          805.049988,
          786.400024,
          792.5,
          802.799988,
          805.5,
          790.799988,
          753.700012,
          776.049988,
          764.049988,
          750.349976,
          748.900024,
          754.450012,
          751.299988,
          744.599976,
          707.400024,
          730.049988,
          742.700012,
          714.849976,
          698.299988,
          688.049988,
          653.75,
          665,
          667.450012,
          676.599976,
          677.900024,
          696.150024,
          697.349976,
          708,
          720.099976,
          710.75,
          718.200012,
          718.299988,
          704.200012,
          699.25,
          710.349976,
          715.299988,
          730.900024,
          730.299988,
          736.25,
          746.599976,
          741.799988,
          741.599976,
          748.549988,
          754.299988,
          759.599976,
          763.849976,
          762.25,
          757.799988,
          766.299988,
          755.549988,
          762.349976,
          747.650024,
          752.200012,
          753.75,
          736.700012,
          747.150024,
          743.299988,
          741,
          724.25,
          728.799988,
          719.25,
          710.349976,
          711.299988,
          714.200012,
          695.799988,
          677.349976,
          683,
          710,
          707.349976,
          690.299988,
          709.549988,
          711.049988,
          708.150024,
          713.349976,
          728.5,
          739.799988,
          748.5,
          752.849976,
          752.650024,
          749.75,
          744.299988,
          746.75,
          735.25,
          729.5,
          732.75,
          720,
          688,
          685.5,
          687.25,
          678.5,
          686.849976,
          685.950012,
          696.099976,
          686.599976,
          699.150024,
          713.450012,
          717.349976,
          710.299988,
          702.75,
          707.200012,
          703.900024,
          720.099976,
          719.450012,
          725.950012,
          742,
          755.700012,
          769.5,
          759.900024,
          753.200012,
          752.400024,
          751.200012,
          772,
          780.650024,
          783.099976,
          786,
          800.049988,
          800.900024,
          796.299988,
          800.5,
          814.599976,
          818.599976,
          823.400024,
          817.75,
          824.799988,
          820.25,
          838.200012,
          836.950012,
          848.75,
          859.700012,
          874.400024,
          879.25,
          883.25,
          885.099976,
          870.400024,
          852.25,
          863.900024,
          873.299988,
          872.349976,
          870.849976,
          855.849976,
          887.299988,
          874.349976,
          872.400024,
          882.450012,
          883.650024,
          876.200012,
          898.799988,
          901.25,
          907.200012,
          910,
          918.099976,
          917.599976,
          909.099976,
          899.200012,
          916.75,
          915.25,
          903.400024,
          882.25,
          861.049988,
          852.549988,
          849.5,
          843.900024,
          862,
          848.349976,
          867.650024,
          885.450012,
          882.549988,
          881.75,
          870.599976,
          868.349976,
          853.599976,
          870.25,
          885.200012,
          896.900024,
          892.099976,
          888.650024,
          907.150024,
          926.299988,
          925.049988,
          924.400024,
          907.849976,
          908.700012,
          908.599976,
          904.700012,
          908.650024,
          905.299988,
          917.5,
          910.5,
          910.700012,
          906.549988,
          894.950012,
          911.700012,
          913.599976,
          919.799988,
          920.349976,
          921.400024,
          923.700012,
          927.450012,
          938.849976,
          930.299988,
          937.400024,
          946.75,
          952.900024,
          940.200012,
          930.599976,
          933.599976,
          922.650024,
          922.150024,
          931.900024,
          929.900024,
          930.299988,
          932.950012,
          921.75,
          908.799988,
          902
         ],
         "yaxis": "y"
        },
        {
         "marker": {
          "color": "MediumPurple"
         },
         "name": "Prediction",
         "type": "scatter",
         "x": [
          340,
          341,
          342,
          343,
          344,
          345,
          346,
          347,
          348,
          349,
          350,
          351,
          352,
          353,
          354,
          355,
          356,
          357,
          358,
          359,
          360,
          361,
          362,
          363,
          364,
          365,
          366,
          367,
          368,
          369,
          370,
          371,
          372,
          373,
          374,
          375,
          376,
          377,
          378,
          379,
          380,
          381,
          382,
          383,
          384,
          385,
          386,
          387,
          388,
          389,
          390,
          391,
          392,
          393,
          394,
          395,
          396,
          397,
          398,
          399,
          400,
          401,
          402,
          403,
          404,
          405,
          406,
          407,
          408,
          409,
          410,
          411,
          412,
          413,
          414,
          415,
          416,
          417,
          418,
          419,
          420,
          421,
          422,
          423,
          424,
          425,
          426,
          427,
          428,
          429,
          430,
          431,
          432,
          433,
          434,
          435,
          436,
          437,
          438,
          439,
          440,
          441,
          442,
          443,
          444,
          445,
          446,
          447,
          448,
          449,
          450,
          451,
          452,
          453,
          454,
          455,
          456,
          457,
          458,
          459
         ],
         "xaxis": "x",
         "y": [
          808.7440185546875,
          815.208251953125,
          821.7688598632812,
          828.2334594726562,
          833.9375,
          838.1405639648438,
          840.299072265625,
          842.5673217773438,
          845.7677001953125,
          848.6839599609375,
          851.7291259765625,
          853.0699462890625,
          856.4232177734375,
          859.418701171875,
          861.4254150390625,
          863.63720703125,
          866.0480346679688,
          867.4013671875,
          870.0488891601562,
          873.3171997070312,
          876.8599243164062,
          880.398681640625,
          884.4030151367188,
          887.8990478515625,
          890.401611328125,
          892.1092529296875,
          894.2391967773438,
          897.6538696289062,
          898.9008178710938,
          898.2902221679688,
          895.7039184570312,
          892.0430908203125,
          888.0726928710938,
          884.5780029296875,
          882.262451171875,
          879.6109008789062,
          878.1466064453125,
          878.90966796875,
          879.4586791992188,
          879.418212890625,
          878.53564453125,
          877.4478759765625,
          875.5936279296875,
          874.3771362304688,
          875.3525390625,
          877.6841430664062,
          879.7650756835938,
          881.2008666992188,
          883.414794921875,
          887.4246215820312,
          890.939697265625,
          894.0674438476562,
          895.2086181640625,
          895.3006591796875,
          895.723388671875,
          896.0033569335938,
          897.033447265625,
          897.2767333984375,
          898.47412109375,
          899.283203125,
          900.1514892578125,
          900.8001708984375,
          900.381591796875,
          901.29541015625,
          903.072509765625,
          904.5361328125,
          906.645263671875,
          907.9421997070312,
          909.1881103515625,
          910.892822265625,
          913.2955322265625,
          915.4970703125,
          917.62109375,
          921.1820068359375,
          924.4442749023438,
          926.465087890625,
          927.27490234375,
          927.7940063476562,
          928.0863037109375,
          927.6165161132812,
          927.8370971679688,
          927.9689331054688,
          928.0115966796875,
          928.5586547851562,
          927.968017578125,
          926.4083251953125
         ],
         "yaxis": "y"
        },
        {
         "marker": {
          "color": "MediumPurple"
         },
         "name": "Prediction",
         "type": "scatter",
         "x": [
          340,
          341,
          342,
          343,
          344,
          345,
          346,
          347,
          348,
          349,
          350,
          351,
          352,
          353,
          354,
          355,
          356,
          357,
          358,
          359,
          360,
          361,
          362,
          363,
          364,
          365,
          366,
          367,
          368,
          369,
          370,
          371,
          372,
          373,
          374,
          375,
          376,
          377,
          378,
          379,
          380,
          381,
          382,
          383,
          384,
          385,
          386,
          387,
          388,
          389,
          390,
          391,
          392,
          393,
          394,
          395,
          396,
          397,
          398,
          399,
          400,
          401,
          402,
          403,
          404,
          405,
          406,
          407,
          408,
          409,
          410,
          411,
          412,
          413,
          414,
          415,
          416,
          417,
          418,
          419,
          420,
          421,
          422,
          423,
          424,
          425,
          426,
          427,
          428,
          429,
          430,
          431,
          432,
          433,
          434,
          435,
          436,
          437,
          438,
          439,
          440,
          441,
          442,
          443,
          444,
          445,
          446,
          447,
          448,
          449,
          450,
          451,
          452,
          453,
          454,
          455,
          456,
          457,
          458,
          459
         ],
         "xaxis": "x2",
         "y": [
          808.7440185546875,
          815.208251953125,
          821.7688598632812,
          828.2334594726562,
          833.9375,
          838.1405639648438,
          840.299072265625,
          842.5673217773438,
          845.7677001953125,
          848.6839599609375,
          851.7291259765625,
          853.0699462890625,
          856.4232177734375,
          859.418701171875,
          861.4254150390625,
          863.63720703125,
          866.0480346679688,
          867.4013671875,
          870.0488891601562,
          873.3171997070312,
          876.8599243164062,
          880.398681640625,
          884.4030151367188,
          887.8990478515625,
          890.401611328125,
          892.1092529296875,
          894.2391967773438,
          897.6538696289062,
          898.9008178710938,
          898.2902221679688,
          895.7039184570312,
          892.0430908203125,
          888.0726928710938,
          884.5780029296875,
          882.262451171875,
          879.6109008789062,
          878.1466064453125,
          878.90966796875,
          879.4586791992188,
          879.418212890625,
          878.53564453125,
          877.4478759765625,
          875.5936279296875,
          874.3771362304688,
          875.3525390625,
          877.6841430664062,
          879.7650756835938,
          881.2008666992188,
          883.414794921875,
          887.4246215820312,
          890.939697265625,
          894.0674438476562,
          895.2086181640625,
          895.3006591796875,
          895.723388671875,
          896.0033569335938,
          897.033447265625,
          897.2767333984375,
          898.47412109375,
          899.283203125,
          900.1514892578125,
          900.8001708984375,
          900.381591796875,
          901.29541015625,
          903.072509765625,
          904.5361328125,
          906.645263671875,
          907.9421997070312,
          909.1881103515625,
          910.892822265625,
          913.2955322265625,
          915.4970703125,
          917.62109375,
          921.1820068359375,
          924.4442749023438,
          926.465087890625,
          927.27490234375,
          927.7940063476562,
          928.0863037109375,
          927.6165161132812,
          927.8370971679688,
          927.9689331054688,
          928.0115966796875,
          928.5586547851562,
          927.968017578125,
          926.4083251953125
         ],
         "yaxis": "y2"
        },
        {
         "marker": {
          "color": "LightSkyBlue"
         },
         "name": "Truth",
         "showlegend": false,
         "type": "scatter",
         "x": [
          340,
          341,
          342,
          343,
          344,
          345,
          346,
          347,
          348,
          349,
          350,
          351,
          352,
          353,
          354,
          355,
          356,
          357,
          358,
          359,
          360,
          361,
          362,
          363,
          364,
          365,
          366,
          367,
          368,
          369,
          370,
          371,
          372,
          373,
          374,
          375,
          376,
          377,
          378,
          379,
          380,
          381,
          382,
          383,
          384,
          385,
          386,
          387,
          388,
          389,
          390,
          391,
          392,
          393,
          394,
          395,
          396,
          397,
          398,
          399,
          400,
          401,
          402,
          403,
          404,
          405,
          406,
          407,
          408,
          409,
          410,
          411,
          412,
          413,
          414,
          415,
          416,
          417,
          418,
          419,
          420,
          421,
          422,
          423,
          424,
          425,
          426,
          427,
          428,
          429,
          430,
          431,
          432,
          433,
          434,
          435,
          436,
          437,
          438,
          439,
          440,
          441,
          442,
          443,
          444,
          445,
          446,
          447,
          448,
          449,
          450,
          451,
          452,
          453,
          454,
          455,
          456,
          457,
          458,
          459
         ],
         "xaxis": "x3",
         "y": [
          805.4301263292069,
          810.8571148962862,
          817.2114058066577,
          823.415265225992,
          829.3987387033927,
          834.9688624330536,
          838.5119785897482,
          839.8857807307734,
          842.287205057696,
          845.3884833519264,
          848.0846326167338,
          850.3611669550603,
          850.9100478595542,
          854.5490418735989,
          856.5291352862389,
          858.116224157615,
          860.5496029418534,
          862.8596450476681,
          864.1936817429013,
          867.6543123686113,
          871.0138811317503,
          874.6324942185752,
          878.1692447967177,
          882.162317917046,
          885.7060837253415,
          888.0454729528072,
          889.1609268575265,
          891.9198341717739,
          894.2528507545966,
          895.1675680791369,
          893.8758112712234,
          890.593228944101,
          886.788904849691,
          883.060014364722,
          879.1440153282497,
          877.4296137954248,
          874.5216500158823,
          873.8344874142941,
          874.9960398728648,
          875.7514346855783,
          876.3512912170204,
          875.7761596953183,
          875.0335413257864,
          872.8901847932077,
          872.6261663138869,
          873.8835508824982,
          876.1851981942483,
          877.7766759748235,
          878.8640107773413,
          881.6926120996071,
          886.1533496896465,
          890.0430135206819,
          893.4787145686137,
          894.9158407117524,
          896.2942578405771,
          897.5248296565194,
          898.2423478908674,
          899.2831155017807,
          899.8848027516027,
          901.6463224764424,
          902.5316902287982,
          903.3485224059184,
          903.6686689653266,
          902.7968032687938,
          903.6871241419144,
          904.678409327723,
          906.1905671949506,
          907.6065080754556,
          908.9858596679101,
          910.457274901119,
          912.1565486110071,
          914.8258913499064,
          916.3733010149158,
          918.4759733134243,
          921.3033759820819,
          924.4630407838738,
          926.0367379054863,
          926.4930617149377,
          927.2037531434438,
          926.7483802290994,
          926.2885446061896,
          926.8496925455706,
          927.1547256910136,
          927.4692519219122,
          928.017327929721,
          927.3905951367489
         ],
         "yaxis": "y3"
        }
       ],
       "layout": {
        "template": {
         "data": {
          "bar": [
           {
            "error_x": {
             "color": "#2a3f5f"
            },
            "error_y": {
             "color": "#2a3f5f"
            },
            "marker": {
             "line": {
              "color": "#E5ECF6",
              "width": 0.5
             },
             "pattern": {
              "fillmode": "overlay",
              "size": 10,
              "solidity": 0.2
             }
            },
            "type": "bar"
           }
          ],
          "barpolar": [
           {
            "marker": {
             "line": {
              "color": "#E5ECF6",
              "width": 0.5
             },
             "pattern": {
              "fillmode": "overlay",
              "size": 10,
              "solidity": 0.2
             }
            },
            "type": "barpolar"
           }
          ],
          "carpet": [
           {
            "aaxis": {
             "endlinecolor": "#2a3f5f",
             "gridcolor": "white",
             "linecolor": "white",
             "minorgridcolor": "white",
             "startlinecolor": "#2a3f5f"
            },
            "baxis": {
             "endlinecolor": "#2a3f5f",
             "gridcolor": "white",
             "linecolor": "white",
             "minorgridcolor": "white",
             "startlinecolor": "#2a3f5f"
            },
            "type": "carpet"
           }
          ],
          "choropleth": [
           {
            "colorbar": {
             "outlinewidth": 0,
             "ticks": ""
            },
            "type": "choropleth"
           }
          ],
          "contour": [
           {
            "colorbar": {
             "outlinewidth": 0,
             "ticks": ""
            },
            "colorscale": [
             [
              0,
              "#0d0887"
             ],
             [
              0.1111111111111111,
              "#46039f"
             ],
             [
              0.2222222222222222,
              "#7201a8"
             ],
             [
              0.3333333333333333,
              "#9c179e"
             ],
             [
              0.4444444444444444,
              "#bd3786"
             ],
             [
              0.5555555555555556,
              "#d8576b"
             ],
             [
              0.6666666666666666,
              "#ed7953"
             ],
             [
              0.7777777777777778,
              "#fb9f3a"
             ],
             [
              0.8888888888888888,
              "#fdca26"
             ],
             [
              1,
              "#f0f921"
             ]
            ],
            "type": "contour"
           }
          ],
          "contourcarpet": [
           {
            "colorbar": {
             "outlinewidth": 0,
             "ticks": ""
            },
            "type": "contourcarpet"
           }
          ],
          "heatmap": [
           {
            "colorbar": {
             "outlinewidth": 0,
             "ticks": ""
            },
            "colorscale": [
             [
              0,
              "#0d0887"
             ],
             [
              0.1111111111111111,
              "#46039f"
             ],
             [
              0.2222222222222222,
              "#7201a8"
             ],
             [
              0.3333333333333333,
              "#9c179e"
             ],
             [
              0.4444444444444444,
              "#bd3786"
             ],
             [
              0.5555555555555556,
              "#d8576b"
             ],
             [
              0.6666666666666666,
              "#ed7953"
             ],
             [
              0.7777777777777778,
              "#fb9f3a"
             ],
             [
              0.8888888888888888,
              "#fdca26"
             ],
             [
              1,
              "#f0f921"
             ]
            ],
            "type": "heatmap"
           }
          ],
          "heatmapgl": [
           {
            "colorbar": {
             "outlinewidth": 0,
             "ticks": ""
            },
            "colorscale": [
             [
              0,
              "#0d0887"
             ],
             [
              0.1111111111111111,
              "#46039f"
             ],
             [
              0.2222222222222222,
              "#7201a8"
             ],
             [
              0.3333333333333333,
              "#9c179e"
             ],
             [
              0.4444444444444444,
              "#bd3786"
             ],
             [
              0.5555555555555556,
              "#d8576b"
             ],
             [
              0.6666666666666666,
              "#ed7953"
             ],
             [
              0.7777777777777778,
              "#fb9f3a"
             ],
             [
              0.8888888888888888,
              "#fdca26"
             ],
             [
              1,
              "#f0f921"
             ]
            ],
            "type": "heatmapgl"
           }
          ],
          "histogram": [
           {
            "marker": {
             "pattern": {
              "fillmode": "overlay",
              "size": 10,
              "solidity": 0.2
             }
            },
            "type": "histogram"
           }
          ],
          "histogram2d": [
           {
            "colorbar": {
             "outlinewidth": 0,
             "ticks": ""
            },
            "colorscale": [
             [
              0,
              "#0d0887"
             ],
             [
              0.1111111111111111,
              "#46039f"
             ],
             [
              0.2222222222222222,
              "#7201a8"
             ],
             [
              0.3333333333333333,
              "#9c179e"
             ],
             [
              0.4444444444444444,
              "#bd3786"
             ],
             [
              0.5555555555555556,
              "#d8576b"
             ],
             [
              0.6666666666666666,
              "#ed7953"
             ],
             [
              0.7777777777777778,
              "#fb9f3a"
             ],
             [
              0.8888888888888888,
              "#fdca26"
             ],
             [
              1,
              "#f0f921"
             ]
            ],
            "type": "histogram2d"
           }
          ],
          "histogram2dcontour": [
           {
            "colorbar": {
             "outlinewidth": 0,
             "ticks": ""
            },
            "colorscale": [
             [
              0,
              "#0d0887"
             ],
             [
              0.1111111111111111,
              "#46039f"
             ],
             [
              0.2222222222222222,
              "#7201a8"
             ],
             [
              0.3333333333333333,
              "#9c179e"
             ],
             [
              0.4444444444444444,
              "#bd3786"
             ],
             [
              0.5555555555555556,
              "#d8576b"
             ],
             [
              0.6666666666666666,
              "#ed7953"
             ],
             [
              0.7777777777777778,
              "#fb9f3a"
             ],
             [
              0.8888888888888888,
              "#fdca26"
             ],
             [
              1,
              "#f0f921"
             ]
            ],
            "type": "histogram2dcontour"
           }
          ],
          "mesh3d": [
           {
            "colorbar": {
             "outlinewidth": 0,
             "ticks": ""
            },
            "type": "mesh3d"
           }
          ],
          "parcoords": [
           {
            "line": {
             "colorbar": {
              "outlinewidth": 0,
              "ticks": ""
             }
            },
            "type": "parcoords"
           }
          ],
          "pie": [
           {
            "automargin": true,
            "type": "pie"
           }
          ],
          "scatter": [
           {
            "fillpattern": {
             "fillmode": "overlay",
             "size": 10,
             "solidity": 0.2
            },
            "type": "scatter"
           }
          ],
          "scatter3d": [
           {
            "line": {
             "colorbar": {
              "outlinewidth": 0,
              "ticks": ""
             }
            },
            "marker": {
             "colorbar": {
              "outlinewidth": 0,
              "ticks": ""
             }
            },
            "type": "scatter3d"
           }
          ],
          "scattercarpet": [
           {
            "marker": {
             "colorbar": {
              "outlinewidth": 0,
              "ticks": ""
             }
            },
            "type": "scattercarpet"
           }
          ],
          "scattergeo": [
           {
            "marker": {
             "colorbar": {
              "outlinewidth": 0,
              "ticks": ""
             }
            },
            "type": "scattergeo"
           }
          ],
          "scattergl": [
           {
            "marker": {
             "colorbar": {
              "outlinewidth": 0,
              "ticks": ""
             }
            },
            "type": "scattergl"
           }
          ],
          "scattermapbox": [
           {
            "marker": {
             "colorbar": {
              "outlinewidth": 0,
              "ticks": ""
             }
            },
            "type": "scattermapbox"
           }
          ],
          "scatterpolar": [
           {
            "marker": {
             "colorbar": {
              "outlinewidth": 0,
              "ticks": ""
             }
            },
            "type": "scatterpolar"
           }
          ],
          "scatterpolargl": [
           {
            "marker": {
             "colorbar": {
              "outlinewidth": 0,
              "ticks": ""
             }
            },
            "type": "scatterpolargl"
           }
          ],
          "scatterternary": [
           {
            "marker": {
             "colorbar": {
              "outlinewidth": 0,
              "ticks": ""
             }
            },
            "type": "scatterternary"
           }
          ],
          "surface": [
           {
            "colorbar": {
             "outlinewidth": 0,
             "ticks": ""
            },
            "colorscale": [
             [
              0,
              "#0d0887"
             ],
             [
              0.1111111111111111,
              "#46039f"
             ],
             [
              0.2222222222222222,
              "#7201a8"
             ],
             [
              0.3333333333333333,
              "#9c179e"
             ],
             [
              0.4444444444444444,
              "#bd3786"
             ],
             [
              0.5555555555555556,
              "#d8576b"
             ],
             [
              0.6666666666666666,
              "#ed7953"
             ],
             [
              0.7777777777777778,
              "#fb9f3a"
             ],
             [
              0.8888888888888888,
              "#fdca26"
             ],
             [
              1,
              "#f0f921"
             ]
            ],
            "type": "surface"
           }
          ],
          "table": [
           {
            "cells": {
             "fill": {
              "color": "#EBF0F8"
             },
             "line": {
              "color": "white"
             }
            },
            "header": {
             "fill": {
              "color": "#C8D4E3"
             },
             "line": {
              "color": "white"
             }
            },
            "type": "table"
           }
          ]
         },
         "layout": {
          "annotationdefaults": {
           "arrowcolor": "#2a3f5f",
           "arrowhead": 0,
           "arrowwidth": 1
          },
          "autotypenumbers": "strict",
          "coloraxis": {
           "colorbar": {
            "outlinewidth": 0,
            "ticks": ""
           }
          },
          "colorscale": {
           "diverging": [
            [
             0,
             "#8e0152"
            ],
            [
             0.1,
             "#c51b7d"
            ],
            [
             0.2,
             "#de77ae"
            ],
            [
             0.3,
             "#f1b6da"
            ],
            [
             0.4,
             "#fde0ef"
            ],
            [
             0.5,
             "#f7f7f7"
            ],
            [
             0.6,
             "#e6f5d0"
            ],
            [
             0.7,
             "#b8e186"
            ],
            [
             0.8,
             "#7fbc41"
            ],
            [
             0.9,
             "#4d9221"
            ],
            [
             1,
             "#276419"
            ]
           ],
           "sequential": [
            [
             0,
             "#0d0887"
            ],
            [
             0.1111111111111111,
             "#46039f"
            ],
            [
             0.2222222222222222,
             "#7201a8"
            ],
            [
             0.3333333333333333,
             "#9c179e"
            ],
            [
             0.4444444444444444,
             "#bd3786"
            ],
            [
             0.5555555555555556,
             "#d8576b"
            ],
            [
             0.6666666666666666,
             "#ed7953"
            ],
            [
             0.7777777777777778,
             "#fb9f3a"
            ],
            [
             0.8888888888888888,
             "#fdca26"
            ],
            [
             1,
             "#f0f921"
            ]
           ],
           "sequentialminus": [
            [
             0,
             "#0d0887"
            ],
            [
             0.1111111111111111,
             "#46039f"
            ],
            [
             0.2222222222222222,
             "#7201a8"
            ],
            [
             0.3333333333333333,
             "#9c179e"
            ],
            [
             0.4444444444444444,
             "#bd3786"
            ],
            [
             0.5555555555555556,
             "#d8576b"
            ],
            [
             0.6666666666666666,
             "#ed7953"
            ],
            [
             0.7777777777777778,
             "#fb9f3a"
            ],
            [
             0.8888888888888888,
             "#fdca26"
            ],
            [
             1,
             "#f0f921"
            ]
           ]
          },
          "colorway": [
           "#636efa",
           "#EF553B",
           "#00cc96",
           "#ab63fa",
           "#FFA15A",
           "#19d3f3",
           "#FF6692",
           "#B6E880",
           "#FF97FF",
           "#FECB52"
          ],
          "font": {
           "color": "#2a3f5f"
          },
          "geo": {
           "bgcolor": "white",
           "lakecolor": "white",
           "landcolor": "#E5ECF6",
           "showlakes": true,
           "showland": true,
           "subunitcolor": "white"
          },
          "hoverlabel": {
           "align": "left"
          },
          "hovermode": "closest",
          "mapbox": {
           "style": "light"
          },
          "paper_bgcolor": "white",
          "plot_bgcolor": "#E5ECF6",
          "polar": {
           "angularaxis": {
            "gridcolor": "white",
            "linecolor": "white",
            "ticks": ""
           },
           "bgcolor": "#E5ECF6",
           "radialaxis": {
            "gridcolor": "white",
            "linecolor": "white",
            "ticks": ""
           }
          },
          "scene": {
           "xaxis": {
            "backgroundcolor": "#E5ECF6",
            "gridcolor": "white",
            "gridwidth": 2,
            "linecolor": "white",
            "showbackground": true,
            "ticks": "",
            "zerolinecolor": "white"
           },
           "yaxis": {
            "backgroundcolor": "#E5ECF6",
            "gridcolor": "white",
            "gridwidth": 2,
            "linecolor": "white",
            "showbackground": true,
            "ticks": "",
            "zerolinecolor": "white"
           },
           "zaxis": {
            "backgroundcolor": "#E5ECF6",
            "gridcolor": "white",
            "gridwidth": 2,
            "linecolor": "white",
            "showbackground": true,
            "ticks": "",
            "zerolinecolor": "white"
           }
          },
          "shapedefaults": {
           "line": {
            "color": "#2a3f5f"
           }
          },
          "ternary": {
           "aaxis": {
            "gridcolor": "white",
            "linecolor": "white",
            "ticks": ""
           },
           "baxis": {
            "gridcolor": "white",
            "linecolor": "white",
            "ticks": ""
           },
           "bgcolor": "#E5ECF6",
           "caxis": {
            "gridcolor": "white",
            "linecolor": "white",
            "ticks": ""
           }
          },
          "title": {
           "x": 0.05
          },
          "xaxis": {
           "automargin": true,
           "gridcolor": "white",
           "linecolor": "white",
           "ticks": "",
           "title": {
            "standoff": 15
           },
           "zerolinecolor": "white",
           "zerolinewidth": 2
          },
          "yaxis": {
           "automargin": true,
           "gridcolor": "white",
           "linecolor": "white",
           "ticks": "",
           "title": {
            "standoff": 15
           },
           "zerolinecolor": "white",
           "zerolinewidth": 2
          }
         }
        },
        "xaxis": {
         "anchor": "y",
         "domain": [
          0,
          1
         ]
        },
        "xaxis2": {
         "anchor": "y2",
         "domain": [
          0,
          1
         ]
        },
        "xaxis3": {
         "anchor": "y3",
         "domain": [
          0,
          1
         ]
        },
        "xaxis4": {
         "anchor": "y4",
         "domain": [
          0,
          1
         ]
        },
        "yaxis": {
         "anchor": "x",
         "domain": [
          0.80625,
          1
         ]
        },
        "yaxis2": {
         "anchor": "x2",
         "domain": [
          0.5375,
          0.73125
         ]
        },
        "yaxis3": {
         "anchor": "x3",
         "domain": [
          0.26875,
          0.4625
         ]
        },
        "yaxis4": {
         "anchor": "x4",
         "domain": [
          0,
          0.19375
         ]
        }
       }
      }
     },
     "metadata": {},
     "output_type": "display_data"
    }
   ],
   "source": [
    "test_vals = temp.index[x_len:]\n",
    "fig = make_subplots(rows=4, cols=1)\n",
    "fig.add_trace(go.Scatter(x=temp.index, y=df.Close,\n",
    "                         name='Truth',\n",
    "                         marker_color='LightSkyBlue'), row=1, col=1)\n",
    "\n",
    "\n",
    "fig.add_trace(go.Scatter(x=test_vals,\n",
    "                         y=y_pred,\n",
    "                         name='Prediction',\n",
    "                         marker_color='MediumPurple'), row=1, col=1)\n",
    "\n",
    "\n",
    "fig.add_trace(go.Scatter(x=test_vals,\n",
    "                         y=y_pred,\n",
    "                         name='Prediction',\n",
    "                         marker_color='MediumPurple'), row=2, col=1)\n",
    "\n",
    "\n",
    "fig.add_trace(go.Scatter(x=test_vals,\n",
    "                         y=y_test,\n",
    "                         name='Truth',\n",
    "                         marker_color='LightSkyBlue',\n",
    "                         showlegend=False), row=3, col=1)\n",
    "\n",
    "# )\n",
    "\n",
    "\n",
    "fig.show()"
   ]
  }
 ],
 "metadata": {
  "kernelspec": {
   "display_name": ".venv",
   "language": "python",
   "name": "python3"
  },
  "language_info": {
   "codemirror_mode": {
    "name": "ipython",
    "version": 3
   },
   "file_extension": ".py",
   "mimetype": "text/x-python",
   "name": "python",
   "nbconvert_exporter": "python",
   "pygments_lexer": "ipython3",
   "version": "3.11.3"
  },
  "orig_nbformat": 4
 },
 "nbformat": 4,
 "nbformat_minor": 2
}
