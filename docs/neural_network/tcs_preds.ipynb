{
 "cells": [
  {
   "cell_type": "markdown",
   "metadata": {},
   "source": [
    "##  A neural Network replacing the simple xgboost regression algorithm"
   ]
  },
  {
   "cell_type": "markdown",
   "metadata": {},
   "source": [
    "#### Importing all libraries and setting the device to gpu"
   ]
  },
  {
   "cell_type": "code",
   "execution_count": 1,
   "metadata": {},
   "outputs": [],
   "source": [
    "\n",
    "import pandas as pd\n",
    "import numpy as np\n",
    "import matplotlib.pyplot as plt\n",
    "from tqdm import tqdm\n",
    "import torch\n",
    "import torch.nn as nn\n",
    "import torch.optim as optim\n",
    "from sklearn.preprocessing import MinMaxScaler    \n",
    "from sklearn.model_selection import train_test_split\n",
    "from sklearn.metrics import mean_squared_error, r2_score,mean_absolute_percentage_error\n",
    "from torch.utils.data import Dataset, DataLoader\n",
    "\n",
    "import seaborn as sns\n",
    "import random\n",
    "\n",
    "# torch.cuda.set_device(\"cuda:0\")\n",
    "# print(torch.cuda.get_device_name())"
   ]
  },
  {
   "cell_type": "code",
   "execution_count": 2,
   "metadata": {},
   "outputs": [],
   "source": [
    "import random\n",
    "def set_seeds(seed=1234):\n",
    "    \"\"\"Set seeds for reproducibility.\"\"\"\n",
    "    np.random.seed(seed)\n",
    "    random.seed(seed)\n",
    "    torch.manual_seed(seed)\n",
    "    torch.cuda.manual_seed(seed)\n",
    "    torch.cuda.manual_seed_all(seed) # multi-GPU\n",
    "    \n",
    "set_seeds()"
   ]
  },
  {
   "cell_type": "markdown",
   "metadata": {},
   "source": [
    "#### Pre processing the data and adding data indicators to the data"
   ]
  },
  {
   "cell_type": "code",
   "execution_count": 3,
   "metadata": {},
   "outputs": [
    {
     "data": {
      "text/html": [
       "<div>\n",
       "<style scoped>\n",
       "    .dataframe tbody tr th:only-of-type {\n",
       "        vertical-align: middle;\n",
       "    }\n",
       "\n",
       "    .dataframe tbody tr th {\n",
       "        vertical-align: top;\n",
       "    }\n",
       "\n",
       "    .dataframe thead th {\n",
       "        text-align: right;\n",
       "    }\n",
       "</style>\n",
       "<table border=\"1\" class=\"dataframe\">\n",
       "  <thead>\n",
       "    <tr style=\"text-align: right;\">\n",
       "      <th></th>\n",
       "      <th>Date</th>\n",
       "      <th>Open</th>\n",
       "      <th>High</th>\n",
       "      <th>Low</th>\n",
       "      <th>Close</th>\n",
       "      <th>Volume</th>\n",
       "    </tr>\n",
       "  </thead>\n",
       "  <tbody>\n",
       "    <tr>\n",
       "      <th>0</th>\n",
       "      <td>2020-02-28</td>\n",
       "      <td>2068.000000</td>\n",
       "      <td>2069.500000</td>\n",
       "      <td>1990.000000</td>\n",
       "      <td>2000.150024</td>\n",
       "      <td>4298076</td>\n",
       "    </tr>\n",
       "    <tr>\n",
       "      <th>1</th>\n",
       "      <td>2020-03-02</td>\n",
       "      <td>2035.000000</td>\n",
       "      <td>2053.949951</td>\n",
       "      <td>1985.699951</td>\n",
       "      <td>2001.300049</td>\n",
       "      <td>2667076</td>\n",
       "    </tr>\n",
       "    <tr>\n",
       "      <th>2</th>\n",
       "      <td>2020-03-03</td>\n",
       "      <td>2020.000000</td>\n",
       "      <td>2060.000000</td>\n",
       "      <td>2012.000000</td>\n",
       "      <td>2036.199951</td>\n",
       "      <td>2757585</td>\n",
       "    </tr>\n",
       "    <tr>\n",
       "      <th>3</th>\n",
       "      <td>2020-03-04</td>\n",
       "      <td>2056.000000</td>\n",
       "      <td>2094.449951</td>\n",
       "      <td>2025.000000</td>\n",
       "      <td>2083.199951</td>\n",
       "      <td>3237002</td>\n",
       "    </tr>\n",
       "    <tr>\n",
       "      <th>4</th>\n",
       "      <td>2020-03-05</td>\n",
       "      <td>2085.699951</td>\n",
       "      <td>2147.750000</td>\n",
       "      <td>2084.050049</td>\n",
       "      <td>2125.050049</td>\n",
       "      <td>3937056</td>\n",
       "    </tr>\n",
       "  </tbody>\n",
       "</table>\n",
       "</div>"
      ],
      "text/plain": [
       "        Date         Open         High          Low        Close   Volume\n",
       "0 2020-02-28  2068.000000  2069.500000  1990.000000  2000.150024  4298076\n",
       "1 2020-03-02  2035.000000  2053.949951  1985.699951  2001.300049  2667076\n",
       "2 2020-03-03  2020.000000  2060.000000  2012.000000  2036.199951  2757585\n",
       "3 2020-03-04  2056.000000  2094.449951  2025.000000  2083.199951  3237002\n",
       "4 2020-03-05  2085.699951  2147.750000  2084.050049  2125.050049  3937056"
      ]
     },
     "execution_count": 3,
     "metadata": {},
     "output_type": "execute_result"
    }
   ],
   "source": [
    "df = pd.read_csv(\"../data/tcs/tcs.csv\")\n",
    "# Need to reverse the db\n",
    "# df = df.loc[::-1]\n",
    "df['Date'] = pd.to_datetime(df['Date'],dayfirst=True,format=\"mixed\")\n",
    "df = df[(df['Date'].dt.year >= 2020)].copy()\n",
    "df.index = range(len(df))\n",
    "temp = df\n",
    "# df['Close'] = (df['High'] + df['Low'] )/ 2\n",
    "df.rename(columns={\"Open Price\":\"Open\",\"High Price\":\"High\",\"Low Price\":\"Low\",\"Close Price\":\"Close\",\"Total Traded Quantity\":\"Volume\",\"No.of Shares\":\"Volume\",\"Price\":\"Close\"},inplace=True)\n",
    "# cols = [\"Symbol\",\"Ser verbose=Falseies\",\"Prev Close\",\"Last Price\",\"Average Price\",\"Turnover\",\"No. of Trades\", \"Deliverable Qty\",'% Dly Qt to Traded Qty']\n",
    "# cols = [\"WAP\",\"No. of Trades\"\t,\"Total Turnover (Rs.)\"\t,\"Deliverable Quantity\"\t,\"% Deli. Qty to Traded Qty\"\t,\"Spread High-Low\"\t,\"Spread Close-Open\"]\n",
    "cols = \"Adj Close\"\n",
    "# # cols = \"Change(%)\"\n",
    "df.drop(columns=cols,inplace=True)   \n",
    "df.dropna(inplace=True)\n",
    "df.head()"
   ]
  },
  {
   "cell_type": "code",
   "execution_count": 4,
   "metadata": {},
   "outputs": [
    {
     "data": {
      "text/html": [
       "<div>\n",
       "<style scoped>\n",
       "    .dataframe tbody tr th:only-of-type {\n",
       "        vertical-align: middle;\n",
       "    }\n",
       "\n",
       "    .dataframe tbody tr th {\n",
       "        vertical-align: top;\n",
       "    }\n",
       "\n",
       "    .dataframe thead th {\n",
       "        text-align: right;\n",
       "    }\n",
       "</style>\n",
       "<table border=\"1\" class=\"dataframe\">\n",
       "  <thead>\n",
       "    <tr style=\"text-align: right;\">\n",
       "      <th></th>\n",
       "      <th>Date</th>\n",
       "      <th>Open</th>\n",
       "      <th>High</th>\n",
       "      <th>Low</th>\n",
       "      <th>Close</th>\n",
       "      <th>Volume</th>\n",
       "      <th>EMA_9</th>\n",
       "      <th>SMA_5</th>\n",
       "      <th>SMA_10</th>\n",
       "      <th>SMA_15</th>\n",
       "      <th>SMA_30</th>\n",
       "      <th>RSI</th>\n",
       "      <th>MACD</th>\n",
       "      <th>MACD_signal</th>\n",
       "    </tr>\n",
       "  </thead>\n",
       "  <tbody>\n",
       "    <tr>\n",
       "      <th>0</th>\n",
       "      <td>2020-04-22</td>\n",
       "      <td>1737.650024</td>\n",
       "      <td>1790.000000</td>\n",
       "      <td>1719.150024</td>\n",
       "      <td>1878.250000</td>\n",
       "      <td>3829836</td>\n",
       "      <td>1764.248338</td>\n",
       "      <td>1762.740014</td>\n",
       "      <td>1747.394995</td>\n",
       "      <td>1760.183325</td>\n",
       "      <td>1793.179993</td>\n",
       "      <td>46.485623</td>\n",
       "      <td>-9.093378</td>\n",
       "      <td>-14.518228</td>\n",
       "    </tr>\n",
       "    <tr>\n",
       "      <th>1</th>\n",
       "      <td>2020-04-23</td>\n",
       "      <td>1780.000000</td>\n",
       "      <td>1900.000000</td>\n",
       "      <td>1760.849976</td>\n",
       "      <td>1818.550049</td>\n",
       "      <td>5934366</td>\n",
       "      <td>1764.788529</td>\n",
       "      <td>1769.610010</td>\n",
       "      <td>1758.925000</td>\n",
       "      <td>1758.753328</td>\n",
       "      <td>1782.723328</td>\n",
       "      <td>55.900621</td>\n",
       "      <td>0.374080</td>\n",
       "      <td>-11.181487</td>\n",
       "    </tr>\n",
       "    <tr>\n",
       "      <th>2</th>\n",
       "      <td>2020-04-24</td>\n",
       "      <td>1840.699951</td>\n",
       "      <td>1851.949951</td>\n",
       "      <td>1807.800049</td>\n",
       "      <td>1836.599976</td>\n",
       "      <td>2987102</td>\n",
       "      <td>1776.425979</td>\n",
       "      <td>1802.050000</td>\n",
       "      <td>1769.230005</td>\n",
       "      <td>1762.336662</td>\n",
       "      <td>1774.496659</td>\n",
       "      <td>49.559694</td>\n",
       "      <td>3.285960</td>\n",
       "      <td>-8.016092</td>\n",
       "    </tr>\n",
       "    <tr>\n",
       "      <th>3</th>\n",
       "      <td>2020-04-27</td>\n",
       "      <td>1832.300049</td>\n",
       "      <td>1875.000000</td>\n",
       "      <td>1825.000000</td>\n",
       "      <td>1859.050049</td>\n",
       "      <td>3374741</td>\n",
       "      <td>1780.735472</td>\n",
       "      <td>1804.520019</td>\n",
       "      <td>1780.540014</td>\n",
       "      <td>1765.006665</td>\n",
       "      <td>1764.566663</td>\n",
       "      <td>58.432820</td>\n",
       "      <td>6.889661</td>\n",
       "      <td>-4.814961</td>\n",
       "    </tr>\n",
       "    <tr>\n",
       "      <th>4</th>\n",
       "      <td>2020-04-28</td>\n",
       "      <td>1865.000000</td>\n",
       "      <td>1868.000000</td>\n",
       "      <td>1832.599976</td>\n",
       "      <td>1905.650024</td>\n",
       "      <td>2678505</td>\n",
       "      <td>1786.437535</td>\n",
       "      <td>1808.110010</td>\n",
       "      <td>1787.585010</td>\n",
       "      <td>1765.706665</td>\n",
       "      <td>1760.041663</td>\n",
       "      <td>64.109106</td>\n",
       "      <td>11.332953</td>\n",
       "      <td>-1.397502</td>\n",
       "    </tr>\n",
       "  </tbody>\n",
       "</table>\n",
       "</div>"
      ],
      "text/plain": [
       "        Date         Open         High          Low        Close   Volume  \\\n",
       "0 2020-04-22  1737.650024  1790.000000  1719.150024  1878.250000  3829836   \n",
       "1 2020-04-23  1780.000000  1900.000000  1760.849976  1818.550049  5934366   \n",
       "2 2020-04-24  1840.699951  1851.949951  1807.800049  1836.599976  2987102   \n",
       "3 2020-04-27  1832.300049  1875.000000  1825.000000  1859.050049  3374741   \n",
       "4 2020-04-28  1865.000000  1868.000000  1832.599976  1905.650024  2678505   \n",
       "\n",
       "         EMA_9        SMA_5       SMA_10       SMA_15       SMA_30        RSI  \\\n",
       "0  1764.248338  1762.740014  1747.394995  1760.183325  1793.179993  46.485623   \n",
       "1  1764.788529  1769.610010  1758.925000  1758.753328  1782.723328  55.900621   \n",
       "2  1776.425979  1802.050000  1769.230005  1762.336662  1774.496659  49.559694   \n",
       "3  1780.735472  1804.520019  1780.540014  1765.006665  1764.566663  58.432820   \n",
       "4  1786.437535  1808.110010  1787.585010  1765.706665  1760.041663  64.109106   \n",
       "\n",
       "        MACD  MACD_signal  \n",
       "0  -9.093378   -14.518228  \n",
       "1   0.374080   -11.181487  \n",
       "2   3.285960    -8.016092  \n",
       "3   6.889661    -4.814961  \n",
       "4  11.332953    -1.397502  "
      ]
     },
     "execution_count": 4,
     "metadata": {},
     "output_type": "execute_result"
    }
   ],
   "source": [
    "df['EMA_9'] = df['Close'].ewm(9).mean().shift()\n",
    "df['SMA_5'] = df['Close'].rolling(5).mean().shift()\n",
    "df['SMA_10'] = df['Close'].rolling(10).mean().shift()\n",
    "df['SMA_15'] = df['Close'].rolling(15).mean().shift()\n",
    "df['SMA_30'] = df['Close'].rolling(30).mean().shift()\n",
    "\n",
    "def relative_strength_idx(df, n=14):\n",
    "    close = df['Close']\n",
    "    delta = close.diff()\n",
    "    delta = delta[1:]\n",
    "    pricesUp = delta.copy()\n",
    "    pricesDown = delta.copy()\n",
    "    pricesUp[pricesUp < 0] = 0\n",
    "    pricesDown[pricesDown > 0] = 0    \n",
    "    rollUp = pricesUp.rolling(n).mean()\n",
    "    rollDown = pricesDown.abs().rolling(n).mean()\n",
    "    rs = rollUp / rollDown\n",
    "    rsi = 100.0 - (100.0 / (1.0 + rs))\n",
    "    return rsi\n",
    "\n",
    "df['RSI'] = relative_strength_idx(df).fillna(0)\n",
    "\n",
    "EMA_12 = pd.Series(df['Close'].ewm(span=12, min_periods=12).mean())\n",
    "EMA_26 = pd.Series(df['Close'].ewm(span=26, min_periods=26).mean())\n",
    "df['MACD'] = pd.Series(EMA_12 - EMA_26)\n",
    "df['MACD_signal'] = pd.Series(df.MACD.ewm(span=9, min_periods=9).mean())\n",
    "\n",
    "df['Close'] = df['Close'].shift(-1)\n",
    "\n",
    "df = df.iloc[33:] # Because of moving average\n",
    "df = df[:-1]      # Because of shifting close price\n",
    "\n",
    "df.index = range(len(df))\n",
    "\n",
    "df.head()"
   ]
  },
  {
   "cell_type": "code",
   "execution_count": 5,
   "metadata": {},
   "outputs": [
    {
     "data": {
      "text/html": [
       "<div>\n",
       "<style scoped>\n",
       "    .dataframe tbody tr th:only-of-type {\n",
       "        vertical-align: middle;\n",
       "    }\n",
       "\n",
       "    .dataframe tbody tr th {\n",
       "        vertical-align: top;\n",
       "    }\n",
       "\n",
       "    .dataframe thead th {\n",
       "        text-align: right;\n",
       "    }\n",
       "</style>\n",
       "<table border=\"1\" class=\"dataframe\">\n",
       "  <thead>\n",
       "    <tr style=\"text-align: right;\">\n",
       "      <th></th>\n",
       "      <th>Close</th>\n",
       "      <th>EMA_9</th>\n",
       "      <th>SMA_5</th>\n",
       "      <th>SMA_10</th>\n",
       "      <th>SMA_15</th>\n",
       "      <th>SMA_30</th>\n",
       "      <th>RSI</th>\n",
       "      <th>MACD</th>\n",
       "      <th>MACD_signal</th>\n",
       "    </tr>\n",
       "  </thead>\n",
       "  <tbody>\n",
       "    <tr>\n",
       "      <th>0</th>\n",
       "      <td>1878.250000</td>\n",
       "      <td>1764.248338</td>\n",
       "      <td>1762.740014</td>\n",
       "      <td>1747.394995</td>\n",
       "      <td>1760.183325</td>\n",
       "      <td>1793.179993</td>\n",
       "      <td>46.485623</td>\n",
       "      <td>-9.093378</td>\n",
       "      <td>-14.518228</td>\n",
       "    </tr>\n",
       "    <tr>\n",
       "      <th>1</th>\n",
       "      <td>1818.550049</td>\n",
       "      <td>1764.788529</td>\n",
       "      <td>1769.610010</td>\n",
       "      <td>1758.925000</td>\n",
       "      <td>1758.753328</td>\n",
       "      <td>1782.723328</td>\n",
       "      <td>55.900621</td>\n",
       "      <td>0.374080</td>\n",
       "      <td>-11.181487</td>\n",
       "    </tr>\n",
       "    <tr>\n",
       "      <th>2</th>\n",
       "      <td>1836.599976</td>\n",
       "      <td>1776.425979</td>\n",
       "      <td>1802.050000</td>\n",
       "      <td>1769.230005</td>\n",
       "      <td>1762.336662</td>\n",
       "      <td>1774.496659</td>\n",
       "      <td>49.559694</td>\n",
       "      <td>3.285960</td>\n",
       "      <td>-8.016092</td>\n",
       "    </tr>\n",
       "    <tr>\n",
       "      <th>3</th>\n",
       "      <td>1859.050049</td>\n",
       "      <td>1780.735472</td>\n",
       "      <td>1804.520019</td>\n",
       "      <td>1780.540014</td>\n",
       "      <td>1765.006665</td>\n",
       "      <td>1764.566663</td>\n",
       "      <td>58.432820</td>\n",
       "      <td>6.889661</td>\n",
       "      <td>-4.814961</td>\n",
       "    </tr>\n",
       "    <tr>\n",
       "      <th>4</th>\n",
       "      <td>1905.650024</td>\n",
       "      <td>1786.437535</td>\n",
       "      <td>1808.110010</td>\n",
       "      <td>1787.585010</td>\n",
       "      <td>1765.706665</td>\n",
       "      <td>1760.041663</td>\n",
       "      <td>64.109106</td>\n",
       "      <td>11.332953</td>\n",
       "      <td>-1.397502</td>\n",
       "    </tr>\n",
       "  </tbody>\n",
       "</table>\n",
       "</div>"
      ],
      "text/plain": [
       "         Close        EMA_9        SMA_5       SMA_10       SMA_15  \\\n",
       "0  1878.250000  1764.248338  1762.740014  1747.394995  1760.183325   \n",
       "1  1818.550049  1764.788529  1769.610010  1758.925000  1758.753328   \n",
       "2  1836.599976  1776.425979  1802.050000  1769.230005  1762.336662   \n",
       "3  1859.050049  1780.735472  1804.520019  1780.540014  1765.006665   \n",
       "4  1905.650024  1786.437535  1808.110010  1787.585010  1765.706665   \n",
       "\n",
       "        SMA_30        RSI       MACD  MACD_signal  \n",
       "0  1793.179993  46.485623  -9.093378   -14.518228  \n",
       "1  1782.723328  55.900621   0.374080   -11.181487  \n",
       "2  1774.496659  49.559694   3.285960    -8.016092  \n",
       "3  1764.566663  58.432820   6.889661    -4.814961  \n",
       "4  1760.041663  64.109106  11.332953    -1.397502  "
      ]
     },
     "execution_count": 5,
     "metadata": {},
     "output_type": "execute_result"
    }
   ],
   "source": [
    "drop_cols = ['Date', 'Volume', 'Open', 'Low', 'High']\n",
    "df.drop(columns=drop_cols,inplace=True)\n",
    "df.head()"
   ]
  },
  {
   "cell_type": "markdown",
   "metadata": {},
   "source": [
    "#### Separating the data into train and test splits. Then splitting into validation split"
   ]
  },
  {
   "cell_type": "code",
   "execution_count": 6,
   "metadata": {},
   "outputs": [],
   "source": [
    "X = df.iloc[:, 1:]\n",
    "y = df.iloc[:, 1]\n",
    "\n",
    "x_len = int(0.8 * len(X))\n",
    "y_len = int(0.8 * len(y))\n",
    "X_trainval = X[:x_len]\n",
    "X_test = X[x_len:]\n",
    "y_trainval = y[:y_len]\n",
    "y_test = y[y_len:]\n",
    "\n",
    "X_train, X_val, y_train, y_val = train_test_split(\n",
    "    X_trainval, y_trainval, test_size=0.2\n",
    ")"
   ]
  },
  {
   "cell_type": "markdown",
   "metadata": {},
   "source": [
    "#### Normalising the data"
   ]
  },
  {
   "cell_type": "code",
   "execution_count": 7,
   "metadata": {},
   "outputs": [],
   "source": [
    "scaler = MinMaxScaler()\n",
    "X_train = scaler.fit_transform(X_train)\n",
    "X_val = scaler.transform(X_val)\n",
    "X_test = scaler.transform(X_test)\n",
    "X_train, y_train = np.array(X_train), np.array(y_train)\n",
    "X_val, y_val = np.array(X_val), np.array(y_val)\n",
    "X_test, y_test = np.array(X_test), np.array(y_test)"
   ]
  },
  {
   "cell_type": "markdown",
   "metadata": {},
   "source": [
    "#### Initialising the dataset"
   ]
  },
  {
   "cell_type": "code",
   "execution_count": 8,
   "metadata": {},
   "outputs": [],
   "source": [
    "class RegressionDataset(Dataset):\n",
    "    def __init__(self, X_data, y_data):\n",
    "        self.X_data = X_data\n",
    "        self.y_data = y_data\n",
    "\n",
    "    def __getitem__(self, index):\n",
    "        return self.X_data[index], self.y_data[index]\n",
    "\n",
    "    def __len__(self):\n",
    "        return len(self.X_data)   "
   ]
  },
  {
   "cell_type": "code",
   "execution_count": 9,
   "metadata": {},
   "outputs": [],
   "source": [
    "train_dataset = RegressionDataset(\n",
    "    torch.from_numpy(X_train).float(), torch.from_numpy(y_train).float()\n",
    ")\n",
    "val_dataset = RegressionDataset(\n",
    "    torch.from_numpy(X_val).float(), torch.from_numpy(y_val).float()\n",
    ")\n",
    "test_dataset = RegressionDataset(\n",
    "    torch.from_numpy(X_test).float(), torch.from_numpy(y_test).float()\n",
    ")"
   ]
  },
  {
   "cell_type": "markdown",
   "metadata": {},
   "source": [
    "#### Setting hyper parameters"
   ]
  },
  {
   "cell_type": "code",
   "execution_count": 10,
   "metadata": {},
   "outputs": [],
   "source": [
    "EPOCHS = 1000\n",
    "BATCH_SIZE = 64\n",
    "LEARNING_RATE = 0.001\n",
    "NUM_FEATURES = len(X.columns)"
   ]
  },
  {
   "cell_type": "code",
   "execution_count": 11,
   "metadata": {},
   "outputs": [],
   "source": [
    "train_loader = DataLoader(dataset=train_dataset, batch_size=BATCH_SIZE,shuffle=True)\n",
    "val_loader = DataLoader(dataset=val_dataset, batch_size=BATCH_SIZE,)\n",
    "test_loader = DataLoader(dataset=test_dataset, batch_size=BATCH_SIZE)"
   ]
  },
  {
   "cell_type": "code",
   "execution_count": 12,
   "metadata": {},
   "outputs": [],
   "source": [
    "class MultipleRegression(nn.Module):\n",
    "    def __init__(self, num_features):\n",
    "        super(MultipleRegression, self).__init__()\n",
    "\n",
    "        self.layer_1 = nn.Linear(num_features, 16)\n",
    "        self.layer_2 = nn.Linear(16, 32)\n",
    "        self.layer_3 = nn.Linear(32, 16)\n",
    "        self.layer_out = nn.Linear(16, 1)\n",
    "\n",
    "        self.relu = nn.ReLU()\n",
    "\n",
    "    def forward(self, inputs):\n",
    "        x = self.relu(self.layer_1(inputs))\n",
    "        x = self.relu(self.layer_2(x))\n",
    "        x = self.relu(self.layer_3(x))\n",
    "        x = self.layer_out(x)\n",
    "        return x\n",
    "\n",
    "    def predict(self, test_inputs):\n",
    "        x = self.relu(self.layer_1(test_inputs))\n",
    "        x = self.relu(self.layer_2(x))\n",
    "        x = self.relu(self.layer_3(x))\n",
    "        x = self.layer_out(x)\n",
    "        return x\n",
    "# torch.cuda.set_device(\"cuda:0\")\n",
    "# print(torch.cuda.get_device_name())"
   ]
  },
  {
   "cell_type": "code",
   "execution_count": 13,
   "metadata": {},
   "outputs": [
    {
     "name": "stdout",
     "output_type": "stream",
     "text": [
      "MultipleRegression(\n",
      "  (layer_1): Linear(in_features=8, out_features=16, bias=True)\n",
      "  (layer_2): Linear(in_features=16, out_features=32, bias=True)\n",
      "  (layer_3): Linear(in_features=32, out_features=16, bias=True)\n",
      "  (layer_out): Linear(in_features=16, out_features=1, bias=True)\n",
      "  (relu): ReLU()\n",
      ")\n"
     ]
    }
   ],
   "source": [
    "# device = torch.device(\"cuda:0\" if torch.cuda.is_available() else \"cpu\")\n",
    "device = \"cpu\"\n",
    "model = MultipleRegression(NUM_FEATURES)\n",
    "model.to(device)\n",
    "print(model)\n",
    "criterion = nn.MSELoss()\n",
    "optimizer = optim.Adam(model.parameters(), lr=LEARNING_RATE)"
   ]
  },
  {
   "cell_type": "code",
   "execution_count": 14,
   "metadata": {},
   "outputs": [],
   "source": [
    "loss_stats = {\n",
    "    'train': [],\n",
    "    \"val\": []\n",
    "}"
   ]
  },
  {
   "cell_type": "code",
   "execution_count": 15,
   "metadata": {},
   "outputs": [
    {
     "name": "stderr",
     "output_type": "stream",
     "text": [
      "  7%|▋         | 74/1000 [00:05<00:27, 33.76it/s] "
     ]
    },
    {
     "name": "stdout",
     "output_type": "stream",
     "text": [
      "Epoch 050: | Train Loss: 2866157.14286 | Val Loss: 2663214.25000\n"
     ]
    },
    {
     "name": "stderr",
     "output_type": "stream",
     "text": [
      " 13%|█▎        | 129/1000 [00:05<00:10, 80.59it/s]"
     ]
    },
    {
     "name": "stdout",
     "output_type": "stream",
     "text": [
      "Epoch 100: | Train Loss: 79954.99554 | Val Loss: 95365.69531\n"
     ]
    },
    {
     "name": "stderr",
     "output_type": "stream",
     "text": [
      " 18%|█▊        | 184/1000 [00:05<00:06, 128.36it/s]"
     ]
    },
    {
     "name": "stdout",
     "output_type": "stream",
     "text": [
      "Epoch 150: | Train Loss: 71866.83650 | Val Loss: 87687.24219\n"
     ]
    },
    {
     "name": "stderr",
     "output_type": "stream",
     "text": [
      " 22%|██▏       | 220/1000 [00:05<00:05, 148.64it/s]"
     ]
    },
    {
     "name": "stdout",
     "output_type": "stream",
     "text": [
      "Epoch 200: | Train Loss: 63496.20424 | Val Loss: 78574.38477\n"
     ]
    },
    {
     "name": "stderr",
     "output_type": "stream",
     "text": [
      " 27%|██▋       | 273/1000 [00:06<00:04, 159.99it/s]"
     ]
    },
    {
     "name": "stdout",
     "output_type": "stream",
     "text": [
      "Epoch 250: | Train Loss: 56233.00279 | Val Loss: 68797.39453\n"
     ]
    },
    {
     "name": "stderr",
     "output_type": "stream",
     "text": [
      " 33%|███▎      | 326/1000 [00:06<00:04, 161.94it/s]"
     ]
    },
    {
     "name": "stdout",
     "output_type": "stream",
     "text": [
      "Epoch 300: | Train Loss: 46449.94587 | Val Loss: 58786.82227\n"
     ]
    },
    {
     "name": "stderr",
     "output_type": "stream",
     "text": [
      " 38%|███▊      | 381/1000 [00:06<00:03, 172.81it/s]"
     ]
    },
    {
     "name": "stdout",
     "output_type": "stream",
     "text": [
      "Epoch 350: | Train Loss: 40965.55804 | Val Loss: 48050.70117\n"
     ]
    },
    {
     "name": "stderr",
     "output_type": "stream",
     "text": [
      " 42%|████▏     | 417/1000 [00:07<00:03, 172.78it/s]"
     ]
    },
    {
     "name": "stdout",
     "output_type": "stream",
     "text": [
      "Epoch 400: | Train Loss: 30453.58454 | Val Loss: 37405.75879\n"
     ]
    },
    {
     "name": "stderr",
     "output_type": "stream",
     "text": [
      " 47%|████▋     | 472/1000 [00:07<00:03, 174.71it/s]"
     ]
    },
    {
     "name": "stdout",
     "output_type": "stream",
     "text": [
      "Epoch 450: | Train Loss: 22641.00656 | Val Loss: 27000.52051\n"
     ]
    },
    {
     "name": "stderr",
     "output_type": "stream",
     "text": [
      " 53%|█████▎    | 526/1000 [00:07<00:02, 171.07it/s]"
     ]
    },
    {
     "name": "stdout",
     "output_type": "stream",
     "text": [
      "Epoch 500: | Train Loss: 15104.52706 | Val Loss: 17777.66211\n"
     ]
    },
    {
     "name": "stderr",
     "output_type": "stream",
     "text": [
      " 58%|█████▊    | 581/1000 [00:07<00:02, 175.11it/s]"
     ]
    },
    {
     "name": "stdout",
     "output_type": "stream",
     "text": [
      "Epoch 550: | Train Loss: 9347.86823 | Val Loss: 10370.61670\n"
     ]
    },
    {
     "name": "stderr",
     "output_type": "stream",
     "text": [
      " 64%|██████▎   | 636/1000 [00:08<00:02, 174.11it/s]"
     ]
    },
    {
     "name": "stdout",
     "output_type": "stream",
     "text": [
      "Epoch 600: | Train Loss: 5224.84658 | Val Loss: 5339.74194\n"
     ]
    },
    {
     "name": "stderr",
     "output_type": "stream",
     "text": [
      " 67%|██████▋   | 671/1000 [00:08<00:02, 164.28it/s]"
     ]
    },
    {
     "name": "stdout",
     "output_type": "stream",
     "text": [
      "Epoch 650: | Train Loss: 2063.80399 | Val Loss: 2230.99207\n"
     ]
    },
    {
     "name": "stderr",
     "output_type": "stream",
     "text": [
      " 73%|███████▎  | 726/1000 [00:08<00:01, 174.12it/s]"
     ]
    },
    {
     "name": "stdout",
     "output_type": "stream",
     "text": [
      "Epoch 700: | Train Loss: 832.17569 | Val Loss: 853.16135\n"
     ]
    },
    {
     "name": "stderr",
     "output_type": "stream",
     "text": [
      " 78%|███████▊  | 780/1000 [00:09<00:01, 173.13it/s]"
     ]
    },
    {
     "name": "stdout",
     "output_type": "stream",
     "text": [
      "Epoch 750: | Train Loss: 354.23011 | Val Loss: 309.48846\n"
     ]
    },
    {
     "name": "stderr",
     "output_type": "stream",
     "text": [
      " 83%|████████▎ | 834/1000 [00:09<00:00, 167.57it/s]"
     ]
    },
    {
     "name": "stdout",
     "output_type": "stream",
     "text": [
      "Epoch 800: | Train Loss: 109.91746 | Val Loss: 108.58949\n"
     ]
    },
    {
     "name": "stderr",
     "output_type": "stream",
     "text": [
      " 87%|████████▋ | 870/1000 [00:09<00:00, 170.81it/s]"
     ]
    },
    {
     "name": "stdout",
     "output_type": "stream",
     "text": [
      "Epoch 850: | Train Loss: 43.90519 | Val Loss: 36.22141\n"
     ]
    },
    {
     "name": "stderr",
     "output_type": "stream",
     "text": [
      " 92%|█████████▏| 924/1000 [00:10<00:00, 171.28it/s]"
     ]
    },
    {
     "name": "stdout",
     "output_type": "stream",
     "text": [
      "Epoch 900: | Train Loss: 22.31521 | Val Loss: 16.34776\n"
     ]
    },
    {
     "name": "stderr",
     "output_type": "stream",
     "text": [
      " 98%|█████████▊| 977/1000 [00:10<00:00, 161.65it/s]"
     ]
    },
    {
     "name": "stdout",
     "output_type": "stream",
     "text": [
      "Epoch 950: | Train Loss: 15.39192 | Val Loss: 12.11446\n"
     ]
    },
    {
     "name": "stderr",
     "output_type": "stream",
     "text": [
      "100%|██████████| 1000/1000 [00:10<00:00, 95.09it/s]"
     ]
    },
    {
     "name": "stdout",
     "output_type": "stream",
     "text": [
      "Epoch 1000: | Train Loss: 14.54016 | Val Loss: 11.27091\n"
     ]
    },
    {
     "name": "stderr",
     "output_type": "stream",
     "text": [
      "\n"
     ]
    }
   ],
   "source": [
    "for e in tqdm(range(1, EPOCHS + 1)):\n",
    "    # TRAINING\n",
    "    train_epoch_loss = 0\n",
    "    model.train()\n",
    "    for X_train_batch, y_train_batch in train_loader:\n",
    "        X_train_batch, y_train_batch = X_train_batch.to(device), y_train_batch.to(\n",
    "            device\n",
    "        )\n",
    "        optimizer.zero_grad()\n",
    "\n",
    "        y_train_pred = model(X_train_batch)\n",
    "\n",
    "        train_loss = criterion(y_train_pred, y_train_batch.unsqueeze(1))\n",
    "\n",
    "        train_loss.backward()\n",
    "        optimizer.step()\n",
    "\n",
    "        train_epoch_loss += train_loss.item()\n",
    "\n",
    "    # VALIDATION\n",
    "    with torch.no_grad():\n",
    "        val_epoch_loss = 0\n",
    "\n",
    "        model.eval()\n",
    "        for X_val_batch, y_val_batch in val_loader:\n",
    "            X_val_batch, y_val_batch = X_val_batch.to(device), y_val_batch.to(device)\n",
    "\n",
    "            y_val_pred = model(X_val_batch)\n",
    "\n",
    "            val_loss = criterion(y_val_pred, y_val_batch.unsqueeze(1))\n",
    "\n",
    "            val_epoch_loss += val_loss.item()\n",
    "        # print(torch.cuda.get_device_name())\n",
    "\n",
    "        loss_stats[\"train\"].append(train_epoch_loss / len(train_loader))\n",
    "        loss_stats[\"val\"].append(val_epoch_loss / len(val_loader))\n",
    "\n",
    "    if e % 50 == 0:\n",
    "        print(\n",
    "            f\"Epoch {e+0:03}: | Train Loss: {train_epoch_loss/len(train_loader):.5f} | Val Loss: {val_epoch_loss/len(val_loader):.5f}\"\n",
    "        )\n",
    "# torch.cuda.set_device(\"cuda:0\")\n",
    "# print(torch.cuda.get_device_name())"
   ]
  },
  {
   "cell_type": "code",
   "execution_count": 16,
   "metadata": {},
   "outputs": [
    {
     "name": "stdout",
     "output_type": "stream",
     "text": [
      "1000\n",
      "1000\n"
     ]
    }
   ],
   "source": [
    "print(len(loss_stats['train']))\n",
    "print(len(loss_stats['val']))"
   ]
  },
  {
   "cell_type": "code",
   "execution_count": 17,
   "metadata": {},
   "outputs": [
    {
     "data": {
      "text/plain": [
       "Text(0.5, 1.0, 'Train-Val Loss/Epoch')"
      ]
     },
     "execution_count": 17,
     "metadata": {},
     "output_type": "execute_result"
    },
    {
     "data": {
      "image/png": "[encoded data removed]",
      "text/plain": [
       "<Figure size 1500x800 with 1 Axes>"
      ]
     },
     "metadata": {},
     "output_type": "display_data"
    }
   ],
   "source": [
    "train_val_loss_df = (\n",
    "    pd.DataFrame.from_dict(loss_stats)\n",
    "    .reset_index()\n",
    "    .melt(id_vars=[\"index\"])\n",
    "    .rename(columns={\"index\": \"epochs\"})\n",
    ")\n",
    "plt.figure(figsize=(15, 8))\n",
    "sns.lineplot(data=train_val_loss_df, x=\"epochs\", y=\"value\", hue=\"variable\").set_title(\n",
    "    \"Train-Val Loss/Epoch\"\n",
    ")"
   ]
  },
  {
   "cell_type": "code",
   "execution_count": 18,
   "metadata": {},
   "outputs": [
    {
     "name": "stderr",
     "output_type": "stream",
     "text": [
      "100%|██████████| 2/2 [00:00<00:00, 15978.30it/s]"
     ]
    },
    {
     "name": "stdout",
     "output_type": "stream",
     "text": [
      "[3640.736, 3633.4302, 3626.5984, 3620.9043, 3613.9187, 3605.1248, 3600.2239, 3592.5579, 3585.4902, 3571.796, 3559.5508, 3545.3066, 3531.7288, 3519.5461, 3509.1833, 3498.0342, 3490.619, 3483.8337, 3464.3633, 3447.3984, 3434.9133, 3416.5068, 3393.4084, 3377.8176, 3366.5398, 3363.5261, 3360.317, 3361.1174, 3368.985, 3373.9592, 3376.5, 3378.464, 3381.6606, 3385.5276, 3383.406, 3370.723, 3356.2874, 3342.8225, 3318.8992, 3296.812, 3279.9932, 3269.4475, 3262.1091, 3261.5266, 3263.6252, 3267.4817, 3269.6895, 3270.8784, 3273.5764, 3276.7144, 3275.3225, 3273.326, 3276.2776, 3278.0916, 3273.968, 3262.3516, 3244.9514, 3226.2312, 3201.1082, 3177.7554, 3164.5386, 3155.117, 3150.8223, 3151.0586, 3150.2046, 3150.225, 3149.0173, 3152.239, 3164.9475, 3178.6565, 3193.8452, 3209.426, 3224.0793, 3236.8157, 3250.0347, 3260.9165, 3273.241, 3286.6746, 3297.0488, 3308.1086, 3315.5857, 3323.3865, 3325.6653, 3325.0579, 3320.3528, 3311.6055, 3303.3254, 3293.1033, 3280.3098, 3273.5745, 3257.632, 3246.3438, 3233.0774, 3222.866, 3214.3247, 3210.279, 3211.6755, 3214.71, 3216.3972, 3209.2146, 3200.808, 3186.715, 3168.438, 3156.6985, 3142.1587, 3128.7888, 3116.3157, 3102.5256, 3090.8572, 3081.566, 3070.4368, 3063.0037, 3058.3943, 3057.1516, 3061.286, 3061.677, 3066.546, 3071.0544, 3073.3103, 3076.1619, 3079.9429, 3083.4915, 3090.2632, 3095.3293, 3099.6829]\n",
      "[3645.7747872554155, 3636.0173036298743, 3627.0455781668866, 3620.4610154501984, 3616.8449188051786, 3609.8304220246605, 3603.0873700221946, 3590.7536330199746, 3583.018259917977, 3567.9764437261792, 3555.6888091535616, 3543.9949282382054, 3530.7954354143853, 3518.5808820729467, 3508.212784065652, 3495.0715105590866, 3490.7243693031783, 3486.53193727286, 3464.073738645574, 3446.966364781016, 3434.4447283029144, 3419.800255472623, 3394.585220125361, 3377.8216932128253, 3366.169528791543, 3367.077575912389, 3366.8048281211504, 3365.6443404090355, 3371.379906368132, 3378.256905931319, 3383.5262104381877, 3381.4435844943687, 3383.714216244932, 3388.0528044204384, 3385.237514178395, 3368.673772560556, 3352.8614002045, 3338.2052650840496, 3318.584738575644, 3295.6162549180794, 3277.2946196262715, 3270.760152763644, 3265.9791325872793, 3270.2612242285513, 3272.545111605696, 3276.7605955451263, 3280.8995261906134, 3281.8595735715517, 3280.3836260143967, 3283.855273212957, 3278.9747507916613, 3272.707280612495, 3271.5115525512456, 3273.145407096121, 3272.3758614865087, 3256.518280237858, 3239.3364473140723, 3219.277802582665, 3197.2250223243987, 3176.9625298919586, 3165.616276902763, 3156.4796492124865, 3157.3116891912377, 3159.310525172114, 3160.4794726549026, 3161.1065253894126, 3156.5858630504713, 3159.8122865454243, 3169.881057890882, 3183.0829423017935, 3194.6546529716143, 3204.369192574453, 3217.8822733170077, 3231.5890410853067, 3244.935141876776, 3257.886622789098, 3267.522960510188, 3283.020664459169, 3294.873602913252, 3304.6562377219266, 3314.300623749734, 3320.9955613747607, 3327.4710052372848, 3330.1789096135562, 3325.621028452201, 3318.593935406981, 3308.5545369662827, 3299.9190783696545, 3283.182175432689, 3275.97894808942, 3261.551048380478, 3248.4359337424303, 3236.9323305681874, 3225.944102411369, 3218.309701970232, 3213.4437219732085, 3213.864339975888, 3216.772901078299, 3218.0306207704693, 3208.2675488934224, 3197.87580380408, 3178.958218523672, 3163.942401571305, 3151.5781663141743, 3136.5403447827566, 3123.626300504481, 3109.468675354033, 3097.96179801863, 3089.9106133167666, 3084.48454218509, 3075.766092866581, 3068.644488479923, 3060.2750347319306, 3063.362521458738, 3067.221264412864, 3066.9891281715777, 3072.14522025442, 3071.885703128978, 3074.7721328160806, 3077.6249244344726, 3079.7774221910254, 3082.974679971923, 3089.1472070747304, 3092.4174961672575, 3098.9057514505316]\n",
      "The average deviation in error is: 3.7417223783623705\n"
     ]
    },
    {
     "name": "stderr",
     "output_type": "stream",
     "text": [
      "\n"
     ]
    },
    {
     "data": {
      "text/plain": [
       "[Text(0.5, 1.0, 'Deviation of Error')]"
      ]
     },
     "execution_count": 18,
     "metadata": {},
     "output_type": "execute_result"
    },
    {
     "data": {
      "image/png": "[encoded data removed]",
      "text/plain": [
       "<Figure size 640x480 with 1 Axes>"
      ]
     },
     "metadata": {},
     "output_type": "display_data"
    }
   ],
   "source": [
    "y_pred_list = []\n",
    "with torch.no_grad():\n",
    "    model.eval()\n",
    "    for X_batch, _ in test_loader:\n",
    "        X_batch = X_batch.to(device)\n",
    "        y_test_pred = model(X_batch)\n",
    "        y_pred_list.append(y_test_pred.cpu().numpy())\n",
    "        y_pred_list = [a for a in y_pred_list]\n",
    "        \n",
    "y_pred = []\n",
    "for i in tqdm(range(len(y_pred_list))):\n",
    "    for j in range(len(y_pred_list[i])):\n",
    "        for k in range(len(y_pred_list[i][j])):\n",
    "            y_pred.append(y_pred_list[i][j][k])\n",
    "\n",
    "print(y_pred)  \n",
    "print(y_test.tolist())\n",
    "y_pred_np = np.array(y_pred)\n",
    "difference = np.subtract(y_pred_np, y_test)\n",
    "difference = abs(difference)\n",
    "mean_difference = np.mean(difference)\n",
    "print(f\"The average deviation in error is: {mean_difference}\")\n",
    "sns.lineplot(difference).set(title=\"Deviation of Error\")"
   ]
  },
  {
   "cell_type": "code",
   "execution_count": 19,
   "metadata": {},
   "outputs": [
    {
     "name": "stdout",
     "output_type": "stream",
     "text": [
      "Mean Squared Error : 20.714532537029623\n",
      "R^2 : 0.9990980886941775\n",
      "Accuracy (using MSE): 79.28546746297037%\n",
      "Mean absolute percentage error: 99.9988507984092%\n"
     ]
    }
   ],
   "source": [
    "mse = mean_squared_error(y_test, y_pred)\n",
    "r_square = r2_score(y_test, y_pred)\n",
    "mean_abs_err = mean_absolute_percentage_error(y_test, y_pred)\n",
    "print(\"Mean Squared Error :\",mse)\n",
    "print(\"R^2 :\",r_square)\n",
    "print(f\"Accuracy (using MSE): {(100 - mse)}%\")\n",
    "print(f\"Mean absolute percentage error: {100 - mean_abs_err}%\")"
   ]
  },
  {
   "cell_type": "markdown",
   "metadata": {},
   "source": [
    "#### Visualising the data"
   ]
  },
  {
   "cell_type": "code",
   "execution_count": 20,
   "metadata": {},
   "outputs": [],
   "source": [
    "import plotly as py\n",
    "import plotly.io as pio    \n",
    "import plotly.graph_objects as go\n",
    "from plotly.subplots import make_subplots\n",
    "from plotly.offline import download_plotlyjs, init_notebook_mode, plot, iplot"
   ]
  },
  {
   "cell_type": "code",
   "execution_count": 24,
   "metadata": {},
   "outputs": [
    {
     "data": {
      "application/vnd.plotly.v1+json": {
       "config": {
        "plotlyServerURL": "https://plot.ly"
       },
       "data": [
        {
         "marker": {
          "color": "LightSkyBlue"
         },
         "name": "Truth",
         "type": "scatter",
         "x": [
          0,
          0,
          0,
          0,
          0,
          0,
          0,
          1,
          1,
          1,
          1,
          1,
          1,
          1,
          2,
          2,
          2,
          2,
          2,
          2,
          2,
          3,
          3,
          3,
          3,
          3,
          3,
          3,
          4,
          4,
          4,
          4,
          4,
          4,
          4,
          5,
          5,
          5,
          5,
          5,
          5,
          5,
          6,
          6,
          6,
          6,
          6,
          6,
          6,
          7,
          7,
          7,
          7,
          7,
          7,
          7,
          8,
          8,
          8,
          8,
          8,
          8,
          8,
          9,
          9,
          9,
          9,
          9,
          9,
          9,
          10,
          10,
          10,
          10,
          10,
          10,
          10,
          11,
          11,
          11,
          11,
          11,
          11,
          11,
          12,
          12,
          12,
          12,
          12,
          12,
          12,
          13,
          13,
          13,
          13,
          13,
          13,
          13,
          14,
          14,
          14,
          14,
          14,
          14,
          14,
          15,
          15,
          15,
          15,
          15,
          15,
          15,
          16,
          16,
          16,
          16,
          16,
          16,
          16,
          17,
          17,
          17,
          17,
          17,
          17,
          17,
          18,
          18,
          18,
          18,
          18,
          18,
          18,
          19,
          19,
          19,
          19,
          19,
          19,
          19,
          20,
          20,
          20,
          20,
          20,
          20,
          20,
          21,
          21,
          21,
          21,
          21,
          21,
          21,
          22,
          22,
          22,
          22,
          22,
          22,
          22,
          23,
          23,
          23,
          23,
          23,
          23,
          23,
          24,
          24,
          24,
          24,
          24,
          24,
          24,
          25,
          25,
          25,
          25,
          25,
          25,
          25,
          26,
          26,
          26,
          26,
          26,
          26,
          26,
          27,
          27,
          27,
          27,
          27,
          27,
          27,
          28,
          28,
          28,
          28,
          28,
          28,
          28,
          29,
          29,
          29,
          29,
          29,
          29,
          29,
          30,
          30,
          30,
          30,
          30,
          30,
          30,
          31,
          31,
          31,
          31,
          31,
          31,
          31,
          32,
          32,
          32,
          32,
          32,
          32,
          32,
          33,
          33,
          33,
          33,
          33,
          33,
          33,
          34,
          34,
          34,
          34,
          34,
          34,
          34,
          35,
          35,
          35,
          35,
          35,
          35,
          35,
          36,
          36,
          36,
          36,
          36,
          36,
          36,
          37,
          37,
          37,
          37,
          37,
          37,
          37,
          38,
          38,
          38,
          38,
          38,
          38,
          38,
          39,
          39,
          39,
          39,
          39,
          39,
          39,
          40,
          40,
          40,
          40,
          40,
          40,
          40,
          41,
          41,
          41,
          41,
          41,
          41,
          41,
          42,
          42,
          42,
          42,
          42,
          42,
          42,
          43,
          43,
          43,
          43,
          43,
          43,
          43,
          44,
          44,
          44,
          44,
          44,
          44,
          44,
          45,
          45,
          45,
          45,
          45,
          45,
          45,
          46,
          46,
          46,
          46,
          46,
          46,
          46,
          47,
          47,
          47,
          47,
          47,
          47,
          47,
          48,
          48,
          48,
          48,
          48,
          48,
          48,
          49,
          49,
          49,
          49,
          49,
          49,
          49,
          50,
          50,
          50,
          50,
          50,
          50,
          50,
          51,
          51,
          51,
          51,
          51,
          51,
          51,
          52,
          52,
          52,
          52,
          52,
          52,
          52,
          53,
          53,
          53,
          53,
          53,
          53,
          53,
          54,
          54,
          54,
          54,
          54,
          54,
          54,
          55,
          55,
          55,
          55,
          55,
          55,
          55,
          56,
          56,
          56,
          56,
          56,
          56,
          56,
          57,
          57,
          57,
          57,
          57,
          57,
          57,
          58,
          58,
          58,
          58,
          58,
          58,
          58,
          59,
          59,
          59,
          59,
          59,
          59,
          59,
          60,
          60,
          60,
          60,
          60,
          60,
          60,
          61,
          61,
          61,
          61,
          61,
          61,
          61,
          62,
          62,
          62,
          62,
          62,
          62,
          62,
          63,
          63,
          63,
          63,
          63,
          63,
          63,
          64,
          64,
          64,
          64,
          64,
          64,
          64,
          65,
          65,
          65,
          65,
          65,
          65,
          65,
          66,
          66,
          66,
          66,
          66,
          66,
          66,
          67,
          67,
          67,
          67,
          67,
          67,
          67,
          68,
          68,
          68,
          68,
          68,
          68,
          68,
          69,
          69,
          69,
          69,
          69,
          69,
          69,
          70,
          70,
          70,
          70,
          70,
          70,
          70,
          71,
          71,
          71,
          71,
          71,
          71,
          71,
          72,
          72,
          72,
          72,
          72,
          72,
          72,
          73,
          73,
          73,
          73,
          73,
          73,
          73,
          74,
          74,
          74,
          74,
          74,
          74,
          74,
          75,
          75,
          75,
          75,
          75,
          75,
          75,
          76,
          76,
          76,
          76,
          76,
          76,
          76,
          77,
          77,
          77,
          77,
          77,
          77,
          77,
          78,
          78,
          78,
          78,
          78,
          78,
          78,
          79,
          79,
          79,
          79,
          79,
          79,
          79,
          80,
          80,
          80,
          80,
          80,
          80,
          80,
          81,
          81,
          81,
          81,
          81,
          81,
          81,
          82,
          82,
          82,
          82,
          82,
          82,
          82,
          83,
          83,
          83,
          83,
          83,
          83,
          83,
          84,
          84,
          84,
          84,
          84,
          84,
          84,
          85,
          85,
          85,
          85,
          85,
          85,
          85,
          86,
          86,
          86,
          86,
          86,
          86,
          86,
          87,
          87,
          87,
          87,
          87,
          87,
          87,
          88,
          88,
          88,
          88,
          88,
          88,
          88,
          89,
          89,
          89,
          89,
          89,
          89,
          89,
          90,
          90,
          90,
          90,
          90,
          90,
          90,
          91,
          91,
          91,
          91,
          91,
          91,
          91,
          92,
          92,
          92,
          92,
          92,
          92,
          92,
          93,
          93,
          93,
          93,
          93,
          93,
          93,
          94
         ],
         "xaxis": "x",
         "y": [
          1878.25,
          1818.550049,
          1836.599976,
          1859.050049,
          1905.650024,
          2014.449951,
          1930.449951,
          1932.75,
          1903.599976,
          1891.650024,
          1893.400024,
          1935.300049,
          1949.5,
          1949.650024,
          1902.349976,
          1892.900024,
          1945.599976,
          1948.650024,
          1953.599976,
          1991.199951,
          2020.349976,
          1943,
          2005.300049,
          2004.300049,
          1972.349976,
          2045.25,
          2047.150024,
          2046.150024,
          2091.550049,
          2048.25,
          2071.75,
          2072.050049,
          2108.75,
          2067.649902,
          2039.5,
          2029.900024,
          2045.800049,
          2047.800049,
          2038.099976,
          2044.599976,
          2027.949951,
          2035.300049,
          2042.199951,
          2016.099976,
          2118.850098,
          2101.649902,
          2082.149902,
          2092.050049,
          2157.149902,
          2199.649902,
          2263.199951,
          2269.899902,
          2218.899902,
          2204.350098,
          2222.350098,
          2220,
          2171.949951,
          2233.899902,
          2234.75,
          2200.75,
          2207.899902,
          2225.050049,
          2190.949951,
          2171.199951,
          2157.399902,
          2206.800049,
          2309.75,
          2276.050049,
          2279.5,
          2281.399902,
          2254.149902,
          2249.699951,
          2259.5,
          2308.100098,
          2295.350098,
          2282.800049,
          2279.899902,
          2257.350098,
          2254.449951,
          2242.149902,
          2253.399902,
          2269.75,
          2256.600098,
          2252.850098,
          2248.600098,
          2248.100098,
          2242.649902,
          2253.5,
          2248.399902,
          2238.550049,
          2257.25,
          2246.350098,
          2265.149902,
          2299.5,
          2288.800049,
          2327.050049,
          2348.199951,
          2327.649902,
          2331.149902,
          2374.100098,
          2491.399902,
          2491.399902,
          2503,
          2460.949951,
          2449.899902,
          2465.300049,
          2522.949951,
          2467.449951,
          2332.25,
          2422.300049,
          2426.300049,
          2488.399902,
          2492.300049,
          2523.449951,
          2705.800049,
          2714.300049,
          2735.949951,
          2825.699951,
          2812.949951,
          2830,
          2826.550049,
          2809.600098,
          2740.600098,
          2763.300049,
          2711.550049,
          2739,
          2675.399902,
          2671.149902,
          2686.800049,
          2688.199951,
          2630.149902,
          2622.199951,
          2632.649902,
          2664.850098,
          2604.600098,
          2633.600098,
          2653.149902,
          2685.699951,
          2707.449951,
          2726.600098,
          2649.600098,
          2687.800049,
          2671.050049,
          2656.850098,
          2670.350098,
          2666.050049,
          2626.649902,
          2636.899902,
          2660.25,
          2724.25,
          2722.050049,
          2701.300049,
          2720.600098,
          2679.649902,
          2726.800049,
          2749.550049,
          2709.449951,
          2727.550049,
          2737.699951,
          2797.300049,
          2810.800049,
          2784.300049,
          2783.600098,
          2797.699951,
          2761.550049,
          2814.199951,
          2838.199951,
          2861,
          2820.149902,
          2872.5,
          2908.75,
          2909.350098,
          2929.399902,
          2930.5,
          2909.300049,
          2862.75,
          2928.25,
          3039.449951,
          3093,
          3051.5,
          3032.800049,
          3120.899902,
          3176.449951,
          3174.850098,
          3158.949951,
          3250.699951,
          3233.350098,
          3221.75,
          3260.699951,
          3308.800049,
          3273.850098,
          3303.100098,
          3291.300049,
          3261.050049,
          3196.550049,
          3111.350098,
          3139.350098,
          3203.449951,
          3200.050049,
          3188.449951,
          3157.949951,
          3214.100098,
          3176.899902,
          3213.300049,
          3206,
          3190.800049,
          3139.850098,
          3108.800049,
          3073.100098,
          3057.350098,
          3071.850098,
          2958.449951,
          2980.199951,
          2948.100098,
          2995.300049,
          2894.300049,
          2924.199951,
          3006.350098,
          3059.100098,
          3049.699951,
          3008.050049,
          3006.949951,
          3050.949951,
          3070.949951,
          3057.949951,
          3066.149902,
          3110.050049,
          3112.949951,
          3036.5,
          3050.199951,
          3129.649902,
          3142.600098,
          3121.100098,
          3064.850098,
          3066.800049,
          3158.550049,
          3177.850098,
          3165,
          3238.899902,
          3264.699951,
          3271.399902,
          3317.350098,
          3322.25,
          3246.550049,
          3104.050049,
          3218.949951,
          3195.149902,
          3161.800049,
          3144.550049,
          3118.800049,
          3109.5,
          3100.800049,
          3132,
          3124.100098,
          3115.25,
          3035.649902,
          3037,
          3049.75,
          3095.699951,
          3111.449951,
          3132.899902,
          3145.5,
          3122.600098,
          3087.600098,
          3051.5,
          3069.75,
          3088.800049,
          3082,
          3060,
          3080.5,
          3081.5,
          3114,
          3158.5,
          3180,
          3143.600098,
          3159.149902,
          3153,
          3129.449951,
          3141.25,
          3143.75,
          3183.199951,
          3200.149902,
          3200.25,
          3216.800049,
          3273.800049,
          3276.350098,
          3262.75,
          3274.350098,
          3317.75,
          3297.300049,
          3273.100098,
          3301.199951,
          3261.399902,
          3373.600098,
          3380.800049,
          3336.75,
          3340.850098,
          3345.75,
          3341.5,
          3325.449951,
          3321,
          3262.300049,
          3274.949951,
          3258.5,
          3208.149902,
          3193.100098,
          3187.550049,
          3214.550049,
          3202.949951,
          3194.800049,
          3184.600098,
          3205.800049,
          3216.350098,
          3212.850098,
          3197.550049,
          3182.949951,
          3197.800049,
          3195.800049,
          3167.449951,
          3219.399902,
          3284.899902,
          3273.949951,
          3283.949951,
          3309.800049,
          3322.699951,
          3333.899902,
          3344.199951,
          3351.75,
          3463.399902,
          3472.949951,
          3553.050049,
          3560.550049,
          3559.5,
          3637.399902,
          3613.199951,
          3659,
          3671.850098,
          3720.149902,
          3701.300049,
          3786.449951,
          3714.949951,
          3836.75,
          3842.050049,
          3852,
          3815.899902,
          3774.149902,
          3791.399902,
          3845.350098,
          3885.899902,
          3954.550049,
          3903.300049,
          3827.850098,
          3823.5,
          3862.949951,
          3862.149902,
          3869.25,
          3871.300049,
          3836.949951,
          3779.149902,
          3791.899902,
          3775.550049,
          3730.199951,
          3773.300049,
          3833.300049,
          3810.899902,
          3892.899902,
          3935.649902,
          3685.600098,
          3652.850098,
          3655.199951,
          3611.449951,
          3647.149902,
          3634.149902,
          3608.850098,
          3532.5,
          3498.850098,
          3492.949951,
          3482.600098,
          3489.75,
          3421.649902,
          3397.75,
          3476.399902,
          3484.199951,
          3492.25,
          3508.649902,
          3502.75,
          3505.699951,
          3484.300049,
          3488.199951,
          3526.050049,
          3553.300049,
          3556.399902,
          3521.899902,
          3475.699951,
          3458.399902,
          3464.25,
          3443.300049,
          3445.899902,
          3446.850098,
          3502,
          3529.149902,
          3577.800049,
          3642.899902,
          3640.449951,
          3536.399902,
          3584.5,
          3626.899902,
          3601.75,
          3636.800049,
          3609.649902,
          3623.800049,
          3570.350098,
          3581.600098,
          3584.350098,
          3556.899902,
          3608.300049,
          3630.75,
          3662.699951,
          3670.899902,
          3696.100098,
          3706.550049,
          3694.699951,
          3733.75,
          3738.350098,
          3817.75,
          3884.75,
          3860.949951,
          3807.449951,
          3853.5,
          3879.850098,
          3915.899902,
          3859.899902,
          3897.899902,
          3968.149902,
          4019.149902,
          3990.600098,
          3914.649902,
          3826.550049,
          3833.5,
          3771.350098,
          3769.899902,
          3649.25,
          3690.050049,
          3736.25,
          3800.649902,
          3856.199951,
          3824.600098,
          3814.899902,
          3779,
          3743.449951,
          3760.550049,
          3770.350098,
          3694.949951,
          3733.75,
          3817.800049,
          3813.100098,
          3784.199951,
          3793.899902,
          3719.399902,
          3586.399902,
          3563.800049,
          3401.649902,
          3520.75,
          3554.199951,
          3546.149902,
          3544.399902,
          3524.350098,
          3484.899902,
          3599.949951,
          3632.600098,
          3620.949951,
          3599.149902,
          3643,
          3593.899902,
          3655.899902,
          3672.75,
          3626.699951,
          3700.949951,
          3712.399902,
          3749.850098,
          3707.449951,
          3707.699951,
          3705.350098,
          3731.550049,
          3739.949951,
          3758.75,
          3770.350098,
          3814.800049,
          3755.350098,
          3684.149902,
          3685.649902,
          3696.399902,
          3691.100098,
          3661.949951,
          3528.050049,
          3471.899902,
          3556.800049,
          3628.649902,
          3612.550049,
          3548.199951,
          3546.300049,
          3561.199951,
          3584.300049,
          3546.699951,
          3542.399902,
          3479.75,
          3513.399902,
          3432.600098,
          3445.100098,
          3438.75,
          3412,
          3408.649902,
          3414.899902,
          3376.800049,
          3451.600098,
          3448.800049,
          3261.949951,
          3293,
          3321.75,
          3288,
          3167.649902,
          3226.949951,
          3261.300049,
          3375.25,
          3364.350098,
          3355.199951,
          3423,
          3440.149902,
          3430.949951,
          3362.699951,
          3404.149902,
          3427.100098,
          3359.899902,
          3219.600098,
          3210.550049,
          3206.300049,
          3142,
          3088.899902,
          3112.399902,
          3211.949951,
          3222.949951,
          3308.800049,
          3293.100098,
          3314.699951,
          3318.149902,
          3290.5,
          3267.100098,
          3315.100098,
          3235.050049,
          3216.300049,
          3260.75,
          3287.850098,
          3265.449951,
          3113.800049,
          3084.699951,
          3038.75,
          2998.75,
          2994.600098,
          3063.5,
          3074.25,
          3164.800049,
          3177.300049,
          3171,
          3166.75,
          3115.899902,
          3188.850098,
          3260.5,
          3301.899902,
          3298.800049,
          3291.800049,
          3339.5,
          3354.949951,
          3365.050049,
          3374.449951,
          3354.25,
          3422.5,
          3401.550049,
          3392.699951,
          3401.100098,
          3381.25,
          3385.75,
          3354.550049,
          3284.600098,
          3255.350098,
          3218.199951,
          3222.199951,
          3132.550049,
          3211.149902,
          3131.699951,
          3130.399902,
          3133.399902,
          3127.050049,
          3149.600098,
          3169.649902,
          3217.649902,
          3242.949951,
          3229.350098,
          3120.399902,
          3104.350098,
          3008.699951,
          3028.800049,
          3040.300049,
          3001.199951,
          3007.399902,
          2982.050049,
          2994.399902,
          3017.449951,
          3035.649902,
          2997.300049,
          3004.550049,
          2984.949951,
          3091.149902,
          3101.949951,
          3064.899902,
          3118.550049,
          3069.550049,
          3100.75,
          3103.300049,
          3099.149902,
          3111.75,
          3144.699951,
          3121.850098,
          3157.300049,
          3137.399902,
          3161.699951
         ],
         "yaxis": "y"
        },
        {
         "marker": {
          "color": "MediumPurple"
         },
         "name": "Prediction",
         "type": "scatter",
         "x": [
          71,
          71,
          71,
          71,
          72,
          72,
          72,
          72,
          72,
          72,
          72,
          73,
          73,
          73,
          73,
          73,
          73,
          73,
          74,
          74,
          74,
          74,
          74,
          74,
          74,
          75,
          75,
          75,
          75,
          75,
          75,
          75,
          76,
          76,
          76,
          76,
          76,
          76,
          76,
          77,
          77,
          77,
          77,
          77,
          77,
          77,
          78,
          78,
          78,
          78,
          78,
          78,
          78,
          79,
          79,
          79,
          79,
          79,
          79,
          79,
          80,
          80,
          80,
          80,
          80,
          80,
          80,
          81,
          81,
          81,
          81,
          81,
          81,
          81,
          82,
          82,
          82,
          82,
          82,
          82,
          82,
          83,
          83,
          83,
          83,
          83,
          83,
          83,
          84,
          84,
          84,
          84,
          84,
          84,
          84,
          85,
          85,
          85,
          85,
          85,
          85,
          85,
          86,
          86,
          86,
          86,
          86,
          86,
          86,
          87,
          87,
          87,
          87,
          87,
          87,
          87,
          88,
          88,
          88,
          88,
          88,
          88,
          88,
          89,
          89,
          89,
          89,
          89,
          89,
          89,
          90,
          90,
          90,
          90,
          90,
          90,
          90,
          91,
          91,
          91,
          91,
          91,
          91,
          91,
          92,
          92,
          92,
          92,
          92,
          92,
          92,
          93,
          93,
          93,
          93,
          93,
          93,
          93,
          94
         ],
         "xaxis": "x",
         "y": [
          3640.736083984375,
          3633.43017578125,
          3626.598388671875,
          3620.904296875,
          3613.918701171875,
          3605.124755859375,
          3600.223876953125,
          3592.557861328125,
          3585.490234375,
          3571.7958984375,
          3559.55078125,
          3545.306640625,
          3531.728759765625,
          3519.546142578125,
          3509.183349609375,
          3498.0341796875,
          3490.618896484375,
          3483.833740234375,
          3464.36328125,
          3447.3984375,
          3434.913330078125,
          3416.5068359375,
          3393.408447265625,
          3377.817626953125,
          3366.539794921875,
          3363.526123046875,
          3360.31689453125,
          3361.117431640625,
          3368.985107421875,
          3373.959228515625,
          3376.5,
          3378.464111328125,
          3381.66064453125,
          3385.527587890625,
          3383.406005859375,
          3370.722900390625,
          3356.287353515625,
          3342.822509765625,
          3318.899169921875,
          3296.81201171875,
          3279.9931640625,
          3269.447509765625,
          3262.109130859375,
          3261.526611328125,
          3263.625244140625,
          3267.481689453125,
          3269.689453125,
          3270.87841796875,
          3273.576416015625,
          3276.71435546875,
          3275.322509765625,
          3273.325927734375,
          3276.277587890625,
          3278.091552734375,
          3273.968017578125,
          3262.3515625,
          3244.951416015625,
          3226.231201171875,
          3201.108154296875,
          3177.75537109375,
          3164.53857421875,
          3155.116943359375,
          3150.822265625,
          3151.05859375,
          3150.20458984375,
          3150.22509765625,
          3149.017333984375,
          3152.239013671875,
          3164.947509765625,
          3178.656494140625,
          3193.84521484375,
          3209.426025390625,
          3224.079345703125,
          3236.815673828125,
          3250.03466796875,
          3260.91650390625,
          3273.240966796875,
          3286.674560546875,
          3297.048828125,
          3308.108642578125,
          3315.585693359375,
          3323.386474609375,
          3325.665283203125,
          3325.057861328125,
          3320.352783203125,
          3311.60546875,
          3303.325439453125,
          3293.103271484375,
          3280.309814453125,
          3273.574462890625,
          3257.632080078125,
          3246.34375,
          3233.077392578125,
          3222.865966796875,
          3214.32470703125,
          3210.279052734375,
          3211.675537109375,
          3214.7099609375,
          3216.397216796875,
          3209.214599609375,
          3200.80810546875,
          3186.715087890625,
          3168.43798828125,
          3156.698486328125,
          3142.15869140625,
          3128.788818359375,
          3116.315673828125,
          3102.525634765625,
          3090.857177734375,
          3081.56591796875,
          3070.436767578125,
          3063.003662109375,
          3058.394287109375,
          3057.151611328125,
          3061.285888671875,
          3061.677001953125,
          3066.5458984375,
          3071.054443359375,
          3073.310302734375,
          3076.161865234375,
          3079.94287109375,
          3083.491455078125,
          3090.26318359375,
          3095.329345703125,
          3099.682861328125
         ],
         "yaxis": "y"
        },
        {
         "marker": {
          "color": "MediumPurple"
         },
         "name": "Prediction",
         "type": "scatter",
         "x": [
          71,
          71,
          71,
          71,
          72,
          72,
          72,
          72,
          72,
          72,
          72,
          73,
          73,
          73,
          73,
          73,
          73,
          73,
          74,
          74,
          74,
          74,
          74,
          74,
          74,
          75,
          75,
          75,
          75,
          75,
          75,
          75,
          76,
          76,
          76,
          76,
          76,
          76,
          76,
          77,
          77,
          77,
          77,
          77,
          77,
          77,
          78,
          78,
          78,
          78,
          78,
          78,
          78,
          79,
          79,
          79,
          79,
          79,
          79,
          79,
          80,
          80,
          80,
          80,
          80,
          80,
          80,
          81,
          81,
          81,
          81,
          81,
          81,
          81,
          82,
          82,
          82,
          82,
          82,
          82,
          82,
          83,
          83,
          83,
          83,
          83,
          83,
          83,
          84,
          84,
          84,
          84,
          84,
          84,
          84,
          85,
          85,
          85,
          85,
          85,
          85,
          85,
          86,
          86,
          86,
          86,
          86,
          86,
          86,
          87,
          87,
          87,
          87,
          87,
          87,
          87,
          88,
          88,
          88,
          88,
          88,
          88,
          88,
          89,
          89,
          89,
          89,
          89,
          89,
          89,
          90,
          90,
          90,
          90,
          90,
          90,
          90,
          91,
          91,
          91,
          91,
          91,
          91,
          91,
          92,
          92,
          92,
          92,
          92,
          92,
          92,
          93,
          93,
          93,
          93,
          93,
          93,
          93,
          94
         ],
         "xaxis": "x2",
         "y": [
          3640.736083984375,
          3633.43017578125,
          3626.598388671875,
          3620.904296875,
          3613.918701171875,
          3605.124755859375,
          3600.223876953125,
          3592.557861328125,
          3585.490234375,
          3571.7958984375,
          3559.55078125,
          3545.306640625,
          3531.728759765625,
          3519.546142578125,
          3509.183349609375,
          3498.0341796875,
          3490.618896484375,
          3483.833740234375,
          3464.36328125,
          3447.3984375,
          3434.913330078125,
          3416.5068359375,
          3393.408447265625,
          3377.817626953125,
          3366.539794921875,
          3363.526123046875,
          3360.31689453125,
          3361.117431640625,
          3368.985107421875,
          3373.959228515625,
          3376.5,
          3378.464111328125,
          3381.66064453125,
          3385.527587890625,
          3383.406005859375,
          3370.722900390625,
          3356.287353515625,
          3342.822509765625,
          3318.899169921875,
          3296.81201171875,
          3279.9931640625,
          3269.447509765625,
          3262.109130859375,
          3261.526611328125,
          3263.625244140625,
          3267.481689453125,
          3269.689453125,
          3270.87841796875,
          3273.576416015625,
          3276.71435546875,
          3275.322509765625,
          3273.325927734375,
          3276.277587890625,
          3278.091552734375,
          3273.968017578125,
          3262.3515625,
          3244.951416015625,
          3226.231201171875,
          3201.108154296875,
          3177.75537109375,
          3164.53857421875,
          3155.116943359375,
          3150.822265625,
          3151.05859375,
          3150.20458984375,
          3150.22509765625,
          3149.017333984375,
          3152.239013671875,
          3164.947509765625,
          3178.656494140625,
          3193.84521484375,
          3209.426025390625,
          3224.079345703125,
          3236.815673828125,
          3250.03466796875,
          3260.91650390625,
          3273.240966796875,
          3286.674560546875,
          3297.048828125,
          3308.108642578125,
          3315.585693359375,
          3323.386474609375,
          3325.665283203125,
          3325.057861328125,
          3320.352783203125,
          3311.60546875,
          3303.325439453125,
          3293.103271484375,
          3280.309814453125,
          3273.574462890625,
          3257.632080078125,
          3246.34375,
          3233.077392578125,
          3222.865966796875,
          3214.32470703125,
          3210.279052734375,
          3211.675537109375,
          3214.7099609375,
          3216.397216796875,
          3209.214599609375,
          3200.80810546875,
          3186.715087890625,
          3168.43798828125,
          3156.698486328125,
          3142.15869140625,
          3128.788818359375,
          3116.315673828125,
          3102.525634765625,
          3090.857177734375,
          3081.56591796875,
          3070.436767578125,
          3063.003662109375,
          3058.394287109375,
          3057.151611328125,
          3061.285888671875,
          3061.677001953125,
          3066.5458984375,
          3071.054443359375,
          3073.310302734375,
          3076.161865234375,
          3079.94287109375,
          3083.491455078125,
          3090.26318359375,
          3095.329345703125,
          3099.682861328125
         ],
         "yaxis": "y2"
        },
        {
         "marker": {
          "color": "LightSkyBlue"
         },
         "name": "Truth",
         "showlegend": false,
         "type": "scatter",
         "x": [
          500,
          501,
          502,
          503,
          504,
          505,
          506,
          507,
          508,
          509,
          510,
          511,
          512,
          513,
          514,
          515,
          516,
          517,
          518,
          519,
          520,
          521,
          522,
          523,
          524,
          525,
          526,
          527,
          528,
          529,
          530,
          531,
          532,
          533,
          534,
          535,
          536,
          537,
          538,
          539,
          540,
          541,
          542,
          543,
          544,
          545,
          546,
          547,
          548,
          549,
          550,
          551,
          552,
          553,
          554,
          555,
          556,
          557,
          558,
          559,
          560,
          561,
          562,
          563,
          564,
          565,
          566,
          567,
          568,
          569,
          570,
          571,
          572,
          573,
          574,
          575,
          576,
          577,
          578,
          579,
          580,
          581,
          582,
          583,
          584,
          585,
          586,
          587,
          588,
          589,
          590,
          591,
          592,
          593,
          594,
          595,
          596,
          597,
          598,
          599,
          600,
          601,
          602,
          603,
          604,
          605,
          606,
          607,
          608,
          609,
          610,
          611,
          612,
          613,
          614,
          615,
          616,
          617,
          618,
          619,
          620,
          621,
          622,
          623,
          624,
          625,
          626,
          627,
          628,
          629,
          630,
          631,
          632,
          633,
          634,
          635,
          636,
          637,
          638,
          639,
          640,
          641,
          642,
          643,
          644,
          645,
          646,
          647,
          648,
          649,
          650,
          651,
          652,
          653,
          654,
          655,
          656,
          657,
          658
         ],
         "xaxis": "x3",
         "y": [
          3645.7747872554155,
          3636.0173036298743,
          3627.0455781668866,
          3620.4610154501984,
          3616.8449188051786,
          3609.8304220246605,
          3603.0873700221946,
          3590.7536330199746,
          3583.018259917977,
          3567.9764437261792,
          3555.6888091535616,
          3543.9949282382054,
          3530.7954354143853,
          3518.5808820729467,
          3508.212784065652,
          3495.0715105590866,
          3490.7243693031783,
          3486.53193727286,
          3464.073738645574,
          3446.966364781016,
          3434.4447283029144,
          3419.800255472623,
          3394.585220125361,
          3377.8216932128253,
          3366.169528791543,
          3367.077575912389,
          3366.8048281211504,
          3365.6443404090355,
          3371.379906368132,
          3378.256905931319,
          3383.5262104381877,
          3381.4435844943687,
          3383.714216244932,
          3388.0528044204384,
          3385.237514178395,
          3368.673772560556,
          3352.8614002045,
          3338.2052650840496,
          3318.584738575644,
          3295.6162549180794,
          3277.2946196262715,
          3270.760152763644,
          3265.9791325872793,
          3270.2612242285513,
          3272.545111605696,
          3276.7605955451263,
          3280.8995261906134,
          3281.8595735715517,
          3280.3836260143967,
          3283.855273212957,
          3278.9747507916613,
          3272.707280612495,
          3271.5115525512456,
          3273.145407096121,
          3272.3758614865087,
          3256.518280237858,
          3239.3364473140723,
          3219.277802582665,
          3197.2250223243987,
          3176.9625298919586,
          3165.616276902763,
          3156.4796492124865,
          3157.3116891912377,
          3159.310525172114,
          3160.4794726549026,
          3161.1065253894126,
          3156.5858630504713,
          3159.8122865454243,
          3169.881057890882,
          3183.0829423017935,
          3194.6546529716143,
          3204.369192574453,
          3217.8822733170077,
          3231.5890410853067,
          3244.935141876776,
          3257.886622789098,
          3267.522960510188,
          3283.020664459169,
          3294.873602913252,
          3304.6562377219266,
          3314.300623749734,
          3320.9955613747607,
          3327.4710052372848,
          3330.1789096135562,
          3325.621028452201,
          3318.593935406981,
          3308.5545369662827,
          3299.9190783696545,
          3283.182175432689,
          3275.97894808942,
          3261.551048380478,
          3248.4359337424303,
          3236.9323305681874,
          3225.944102411369,
          3218.309701970232,
          3213.4437219732085,
          3213.864339975888,
          3216.772901078299,
          3218.0306207704693,
          3208.2675488934224,
          3197.87580380408,
          3178.958218523672,
          3163.942401571305,
          3151.5781663141743,
          3136.5403447827566,
          3123.626300504481,
          3109.468675354033,
          3097.96179801863,
          3089.9106133167666,
          3084.48454218509,
          3075.766092866581,
          3068.644488479923,
          3060.2750347319306,
          3063.362521458738,
          3067.221264412864,
          3066.9891281715777,
          3072.14522025442,
          3071.885703128978,
          3074.7721328160806,
          3077.6249244344726,
          3079.7774221910254,
          3082.974679971923,
          3089.1472070747304,
          3092.4174961672575,
          3098.9057514505316
         ],
         "yaxis": "y3"
        }
       ],
       "layout": {
        "template": {
         "data": {
          "bar": [
           {
            "error_x": {
             "color": "#2a3f5f"
            },
            "error_y": {
             "color": "#2a3f5f"
            },
            "marker": {
             "line": {
              "color": "#E5ECF6",
              "width": 0.5
             },
             "pattern": {
              "fillmode": "overlay",
              "size": 10,
              "solidity": 0.2
             }
            },
            "type": "bar"
           }
          ],
          "barpolar": [
           {
            "marker": {
             "line": {
              "color": "#E5ECF6",
              "width": 0.5
             },
             "pattern": {
              "fillmode": "overlay",
              "size": 10,
              "solidity": 0.2
             }
            },
            "type": "barpolar"
           }
          ],
          "carpet": [
           {
            "aaxis": {
             "endlinecolor": "#2a3f5f",
             "gridcolor": "white",
             "linecolor": "white",
             "minorgridcolor": "white",
             "startlinecolor": "#2a3f5f"
            },
            "baxis": {
             "endlinecolor": "#2a3f5f",
             "gridcolor": "white",
             "linecolor": "white",
             "minorgridcolor": "white",
             "startlinecolor": "#2a3f5f"
            },
            "type": "carpet"
           }
          ],
          "choropleth": [
           {
            "colorbar": {
             "outlinewidth": 0,
             "ticks": ""
            },
            "type": "choropleth"
           }
          ],
          "contour": [
           {
            "colorbar": {
             "outlinewidth": 0,
             "ticks": ""
            },
            "colorscale": [
             [
              0,
              "#0d0887"
             ],
             [
              0.1111111111111111,
              "#46039f"
             ],
             [
              0.2222222222222222,
              "#7201a8"
             ],
             [
              0.3333333333333333,
              "#9c179e"
             ],
             [
              0.4444444444444444,
              "#bd3786"
             ],
             [
              0.5555555555555556,
              "#d8576b"
             ],
             [
              0.6666666666666666,
              "#ed7953"
             ],
             [
              0.7777777777777778,
              "#fb9f3a"
             ],
             [
              0.8888888888888888,
              "#fdca26"
             ],
             [
              1,
              "#f0f921"
             ]
            ],
            "type": "contour"
           }
          ],
          "contourcarpet": [
           {
            "colorbar": {
             "outlinewidth": 0,
             "ticks": ""
            },
            "type": "contourcarpet"
           }
          ],
          "heatmap": [
           {
            "colorbar": {
             "outlinewidth": 0,
             "ticks": ""
            },
            "colorscale": [
             [
              0,
              "#0d0887"
             ],
             [
              0.1111111111111111,
              "#46039f"
             ],
             [
              0.2222222222222222,
              "#7201a8"
             ],
             [
              0.3333333333333333,
              "#9c179e"
             ],
             [
              0.4444444444444444,
              "#bd3786"
             ],
             [
              0.5555555555555556,
              "#d8576b"
             ],
             [
              0.6666666666666666,
              "#ed7953"
             ],
             [
              0.7777777777777778,
              "#fb9f3a"
             ],
             [
              0.8888888888888888,
              "#fdca26"
             ],
             [
              1,
              "#f0f921"
             ]
            ],
            "type": "heatmap"
           }
          ],
          "heatmapgl": [
           {
            "colorbar": {
             "outlinewidth": 0,
             "ticks": ""
            },
            "colorscale": [
             [
              0,
              "#0d0887"
             ],
             [
              0.1111111111111111,
              "#46039f"
             ],
             [
              0.2222222222222222,
              "#7201a8"
             ],
             [
              0.3333333333333333,
              "#9c179e"
             ],
             [
              0.4444444444444444,
              "#bd3786"
             ],
             [
              0.5555555555555556,
              "#d8576b"
             ],
             [
              0.6666666666666666,
              "#ed7953"
             ],
             [
              0.7777777777777778,
              "#fb9f3a"
             ],
             [
              0.8888888888888888,
              "#fdca26"
             ],
             [
              1,
              "#f0f921"
             ]
            ],
            "type": "heatmapgl"
           }
          ],
          "histogram": [
           {
            "marker": {
             "pattern": {
              "fillmode": "overlay",
              "size": 10,
              "solidity": 0.2
             }
            },
            "type": "histogram"
           }
          ],
          "histogram2d": [
           {
            "colorbar": {
             "outlinewidth": 0,
             "ticks": ""
            },
            "colorscale": [
             [
              0,
              "#0d0887"
             ],
             [
              0.1111111111111111,
              "#46039f"
             ],
             [
              0.2222222222222222,
              "#7201a8"
             ],
             [
              0.3333333333333333,
              "#9c179e"
             ],
             [
              0.4444444444444444,
              "#bd3786"
             ],
             [
              0.5555555555555556,
              "#d8576b"
             ],
             [
              0.6666666666666666,
              "#ed7953"
             ],
             [
              0.7777777777777778,
              "#fb9f3a"
             ],
             [
              0.8888888888888888,
              "#fdca26"
             ],
             [
              1,
              "#f0f921"
             ]
            ],
            "type": "histogram2d"
           }
          ],
          "histogram2dcontour": [
           {
            "colorbar": {
             "outlinewidth": 0,
             "ticks": ""
            },
            "colorscale": [
             [
              0,
              "#0d0887"
             ],
             [
              0.1111111111111111,
              "#46039f"
             ],
             [
              0.2222222222222222,
              "#7201a8"
             ],
             [
              0.3333333333333333,
              "#9c179e"
             ],
             [
              0.4444444444444444,
              "#bd3786"
             ],
             [
              0.5555555555555556,
              "#d8576b"
             ],
             [
              0.6666666666666666,
              "#ed7953"
             ],
             [
              0.7777777777777778,
              "#fb9f3a"
             ],
             [
              0.8888888888888888,
              "#fdca26"
             ],
             [
              1,
              "#f0f921"
             ]
            ],
            "type": "histogram2dcontour"
           }
          ],
          "mesh3d": [
           {
            "colorbar": {
             "outlinewidth": 0,
             "ticks": ""
            },
            "type": "mesh3d"
           }
          ],
          "parcoords": [
           {
            "line": {
             "colorbar": {
              "outlinewidth": 0,
              "ticks": ""
             }
            },
            "type": "parcoords"
           }
          ],
          "pie": [
           {
            "automargin": true,
            "type": "pie"
           }
          ],
          "scatter": [
           {
            "fillpattern": {
             "fillmode": "overlay",
             "size": 10,
             "solidity": 0.2
            },
            "type": "scatter"
           }
          ],
          "scatter3d": [
           {
            "line": {
             "colorbar": {
              "outlinewidth": 0,
              "ticks": ""
             }
            },
            "marker": {
             "colorbar": {
              "outlinewidth": 0,
              "ticks": ""
             }
            },
            "type": "scatter3d"
           }
          ],
          "scattercarpet": [
           {
            "marker": {
             "colorbar": {
              "outlinewidth": 0,
              "ticks": ""
             }
            },
            "type": "scattercarpet"
           }
          ],
          "scattergeo": [
           {
            "marker": {
             "colorbar": {
              "outlinewidth": 0,
              "ticks": ""
             }
            },
            "type": "scattergeo"
           }
          ],
          "scattergl": [
           {
            "marker": {
             "colorbar": {
              "outlinewidth": 0,
              "ticks": ""
             }
            },
            "type": "scattergl"
           }
          ],
          "scattermapbox": [
           {
            "marker": {
             "colorbar": {
              "outlinewidth": 0,
              "ticks": ""
             }
            },
            "type": "scattermapbox"
           }
          ],
          "scatterpolar": [
           {
            "marker": {
             "colorbar": {
              "outlinewidth": 0,
              "ticks": ""
             }
            },
            "type": "scatterpolar"
           }
          ],
          "scatterpolargl": [
           {
            "marker": {
             "colorbar": {
              "outlinewidth": 0,
              "ticks": ""
             }
            },
            "type": "scatterpolargl"
           }
          ],
          "scatterternary": [
           {
            "marker": {
             "colorbar": {
              "outlinewidth": 0,
              "ticks": ""
             }
            },
            "type": "scatterternary"
           }
          ],
          "surface": [
           {
            "colorbar": {
             "outlinewidth": 0,
             "ticks": ""
            },
            "colorscale": [
             [
              0,
              "#0d0887"
             ],
             [
              0.1111111111111111,
              "#46039f"
             ],
             [
              0.2222222222222222,
              "#7201a8"
             ],
             [
              0.3333333333333333,
              "#9c179e"
             ],
             [
              0.4444444444444444,
              "#bd3786"
             ],
             [
              0.5555555555555556,
              "#d8576b"
             ],
             [
              0.6666666666666666,
              "#ed7953"
             ],
             [
              0.7777777777777778,
              "#fb9f3a"
             ],
             [
              0.8888888888888888,
              "#fdca26"
             ],
             [
              1,
              "#f0f921"
             ]
            ],
            "type": "surface"
           }
          ],
          "table": [
           {
            "cells": {
             "fill": {
              "color": "#EBF0F8"
             },
             "line": {
              "color": "white"
             }
            },
            "header": {
             "fill": {
              "color": "#C8D4E3"
             },
             "line": {
              "color": "white"
             }
            },
            "type": "table"
           }
          ]
         },
         "layout": {
          "annotationdefaults": {
           "arrowcolor": "#2a3f5f",
           "arrowhead": 0,
           "arrowwidth": 1
          },
          "autotypenumbers": "strict",
          "coloraxis": {
           "colorbar": {
            "outlinewidth": 0,
            "ticks": ""
           }
          },
          "colorscale": {
           "diverging": [
            [
             0,
             "#8e0152"
            ],
            [
             0.1,
             "#c51b7d"
            ],
            [
             0.2,
             "#de77ae"
            ],
            [
             0.3,
             "#f1b6da"
            ],
            [
             0.4,
             "#fde0ef"
            ],
            [
             0.5,
             "#f7f7f7"
            ],
            [
             0.6,
             "#e6f5d0"
            ],
            [
             0.7,
             "#b8e186"
            ],
            [
             0.8,
             "#7fbc41"
            ],
            [
             0.9,
             "#4d9221"
            ],
            [
             1,
             "#276419"
            ]
           ],
           "sequential": [
            [
             0,
             "#0d0887"
            ],
            [
             0.1111111111111111,
             "#46039f"
            ],
            [
             0.2222222222222222,
             "#7201a8"
            ],
            [
             0.3333333333333333,
             "#9c179e"
            ],
            [
             0.4444444444444444,
             "#bd3786"
            ],
            [
             0.5555555555555556,
             "#d8576b"
            ],
            [
             0.6666666666666666,
             "#ed7953"
            ],
            [
             0.7777777777777778,
             "#fb9f3a"
            ],
            [
             0.8888888888888888,
             "#fdca26"
            ],
            [
             1,
             "#f0f921"
            ]
           ],
           "sequentialminus": [
            [
             0,
             "#0d0887"
            ],
            [
             0.1111111111111111,
             "#46039f"
            ],
            [
             0.2222222222222222,
             "#7201a8"
            ],
            [
             0.3333333333333333,
             "#9c179e"
            ],
            [
             0.4444444444444444,
             "#bd3786"
            ],
            [
             0.5555555555555556,
             "#d8576b"
            ],
            [
             0.6666666666666666,
             "#ed7953"
            ],
            [
             0.7777777777777778,
             "#fb9f3a"
            ],
            [
             0.8888888888888888,
             "#fdca26"
            ],
            [
             1,
             "#f0f921"
            ]
           ]
          },
          "colorway": [
           "#636efa",
           "#EF553B",
           "#00cc96",
           "#ab63fa",
           "#FFA15A",
           "#19d3f3",
           "#FF6692",
           "#B6E880",
           "#FF97FF",
           "#FECB52"
          ],
          "font": {
           "color": "#2a3f5f"
          },
          "geo": {
           "bgcolor": "white",
           "lakecolor": "white",
           "landcolor": "#E5ECF6",
           "showlakes": true,
           "showland": true,
           "subunitcolor": "white"
          },
          "hoverlabel": {
           "align": "left"
          },
          "hovermode": "closest",
          "mapbox": {
           "style": "light"
          },
          "paper_bgcolor": "white",
          "plot_bgcolor": "#E5ECF6",
          "polar": {
           "angularaxis": {
            "gridcolor": "white",
            "linecolor": "white",
            "ticks": ""
           },
           "bgcolor": "#E5ECF6",
           "radialaxis": {
            "gridcolor": "white",
            "linecolor": "white",
            "ticks": ""
           }
          },
          "scene": {
           "xaxis": {
            "backgroundcolor": "#E5ECF6",
            "gridcolor": "white",
            "gridwidth": 2,
            "linecolor": "white",
            "showbackground": true,
            "ticks": "",
            "zerolinecolor": "white"
           },
           "yaxis": {
            "backgroundcolor": "#E5ECF6",
            "gridcolor": "white",
            "gridwidth": 2,
            "linecolor": "white",
            "showbackground": true,
            "ticks": "",
            "zerolinecolor": "white"
           },
           "zaxis": {
            "backgroundcolor": "#E5ECF6",
            "gridcolor": "white",
            "gridwidth": 2,
            "linecolor": "white",
            "showbackground": true,
            "ticks": "",
            "zerolinecolor": "white"
           }
          },
          "shapedefaults": {
           "line": {
            "color": "#2a3f5f"
           }
          },
          "ternary": {
           "aaxis": {
            "gridcolor": "white",
            "linecolor": "white",
            "ticks": ""
           },
           "baxis": {
            "gridcolor": "white",
            "linecolor": "white",
            "ticks": ""
           },
           "bgcolor": "#E5ECF6",
           "caxis": {
            "gridcolor": "white",
            "linecolor": "white",
            "ticks": ""
           }
          },
          "title": {
           "x": 0.05
          },
          "xaxis": {
           "automargin": true,
           "gridcolor": "white",
           "linecolor": "white",
           "ticks": "",
           "title": {
            "standoff": 15
           },
           "zerolinecolor": "white",
           "zerolinewidth": 2
          },
          "yaxis": {
           "automargin": true,
           "gridcolor": "white",
           "linecolor": "white",
           "ticks": "",
           "title": {
            "standoff": 15
           },
           "zerolinecolor": "white",
           "zerolinewidth": 2
          }
         }
        },
        "xaxis": {
         "anchor": "y",
         "domain": [
          0,
          1
         ]
        },
        "xaxis2": {
         "anchor": "y2",
         "domain": [
          0,
          1
         ]
        },
        "xaxis3": {
         "anchor": "y3",
         "domain": [
          0,
          1
         ]
        },
        "xaxis4": {
         "anchor": "y4",
         "domain": [
          0,
          1
         ]
        },
        "yaxis": {
         "anchor": "x",
         "domain": [
          0.80625,
          1
         ]
        },
        "yaxis2": {
         "anchor": "x2",
         "domain": [
          0.5375,
          0.73125
         ]
        },
        "yaxis3": {
         "anchor": "x3",
         "domain": [
          0.26875,
          0.4625
         ]
        },
        "yaxis4": {
         "anchor": "x4",
         "domain": [
          0,
          0.19375
         ]
        }
       }
      }
     },
     "metadata": {},
     "output_type": "display_data"
    }
   ],
   "source": [
    "test_vals = temp.index[x_len:]\n",
    "fig = make_subplots(rows=4, cols=1)\n",
    "fig.add_trace(go.Scatter(x=temp.index, y=df.Close,\n",
    "                         name='Truth',\n",
    "                         marker_color='LightSkyBlue'), row=1, col=1)\n",
    "\n",
    "\n",
    "fig.add_trace(go.Scatter(x=test_vals,\n",
    "                         y=y_pred,\n",
    "                         name='Prediction',\n",
    "                         marker_color='MediumPurple'), row=1, col=1)\n",
    "\n",
    "\n",
    "fig.add_trace(go.Scatter(x=test_vals,\n",
    "                         y=y_pred,\n",
    "                         name='Prediction',\n",
    "                         marker_color='MediumPurple'), row=2, col=1)\n",
    "\n",
    "\n",
    "fig.add_trace(go.Scatter(x=test_vals,\n",
    "                         y=y_test,\n",
    "                         name='Truth',\n",
    "                         marker_color='LightSkyBlue',\n",
    "                         showlegend=False), row=3, col=1)\n",
    "\n",
    "# )\n",
    "\n",
    "\n",
    "fig.show()"
   ]
  },
  {
   "cell_type": "code",
   "execution_count": null,
   "metadata": {},
   "outputs": [],
   "source": []
  }
 ],
 "metadata": {
  "kernelspec": {
   "display_name": ".venv",
   "language": "python",
   "name": "python3"
  },
  "language_info": {
   "codemirror_mode": {
    "name": "ipython",
    "version": 3
   },
   "file_extension": ".py",
   "mimetype": "text/x-python",
   "name": "python",
   "nbconvert_exporter": "python",
   "pygments_lexer": "ipython3",
   "version": "3.11.3"
  },
  "orig_nbformat": 4
 },
 "nbformat": 4,
 "nbformat_minor": 2
}
