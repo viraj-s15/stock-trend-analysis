{
 "cells": [
  {
   "cell_type": "markdown",
   "metadata": {},
   "source": [
    "##  A neural Network replacing the simple xgboost regression algorithm"
   ]
  },
  {
   "cell_type": "markdown",
   "metadata": {},
   "source": [
    "#### Importing all libraries and setting the device to gpu"
   ]
  },
  {
   "cell_type": "code",
   "execution_count": 2,
   "metadata": {},
   "outputs": [],
   "source": [
    "\n",
    "import pandas as pd\n",
    "import numpy as np\n",
    "import matplotlib.pyplot as plt\n",
    "from tqdm import tqdm\n",
    "import torch\n",
    "import torch.nn as nn\n",
    "import torch.optim as optim\n",
    "from sklearn.preprocessing import MinMaxScaler    \n",
    "from sklearn.model_selection import train_test_split\n",
    "from sklearn.metrics import mean_squared_error, r2_score,mean_absolute_percentage_error\n",
    "from torch.utils.data import Dataset, DataLoader\n",
    "\n",
    "import seaborn as sns\n",
    "import random\n",
    "\n",
    "# torch.cuda.set_device(\"cuda:0\")\n",
    "# print(torch.cuda.get_device_name())"
   ]
  },
  {
   "cell_type": "code",
   "execution_count": 3,
   "metadata": {},
   "outputs": [],
   "source": [
    "import random\n",
    "def set_seeds(seed=1234):\n",
    "    \"\"\"Set seeds for reproducibility.\"\"\"\n",
    "    np.random.seed(seed)\n",
    "    random.seed(seed)\n",
    "    torch.manual_seed(seed)\n",
    "    torch.cuda.manual_seed(seed)\n",
    "    torch.cuda.manual_seed_all(seed) # multi-GPU\n",
    "    \n",
    "set_seeds()"
   ]
  },
  {
   "cell_type": "markdown",
   "metadata": {},
   "source": [
    "#### Pre processing the data and adding data indicators to the data"
   ]
  },
  {
   "cell_type": "code",
   "execution_count": 4,
   "metadata": {},
   "outputs": [
    {
     "data": {
      "text/html": [
       "<div>\n",
       "<style scoped>\n",
       "    .dataframe tbody tr th:only-of-type {\n",
       "        vertical-align: middle;\n",
       "    }\n",
       "\n",
       "    .dataframe tbody tr th {\n",
       "        vertical-align: top;\n",
       "    }\n",
       "\n",
       "    .dataframe thead th {\n",
       "        text-align: right;\n",
       "    }\n",
       "</style>\n",
       "<table border=\"1\" class=\"dataframe\">\n",
       "  <thead>\n",
       "    <tr style=\"text-align: right;\">\n",
       "      <th></th>\n",
       "      <th>Date</th>\n",
       "      <th>Open</th>\n",
       "      <th>High</th>\n",
       "      <th>Low</th>\n",
       "      <th>Close</th>\n",
       "      <th>Volume</th>\n",
       "    </tr>\n",
       "  </thead>\n",
       "  <tbody>\n",
       "    <tr>\n",
       "      <th>0</th>\n",
       "      <td>2021-01-18</td>\n",
       "      <td>3200.000000</td>\n",
       "      <td>3217.550049</td>\n",
       "      <td>3082.250000</td>\n",
       "      <td>3163.149902</td>\n",
       "      <td>1280163</td>\n",
       "    </tr>\n",
       "    <tr>\n",
       "      <th>1</th>\n",
       "      <td>2021-01-19</td>\n",
       "      <td>3170.500000</td>\n",
       "      <td>3240.750000</td>\n",
       "      <td>3170.500000</td>\n",
       "      <td>3232.899902</td>\n",
       "      <td>770832</td>\n",
       "    </tr>\n",
       "    <tr>\n",
       "      <th>2</th>\n",
       "      <td>2021-01-20</td>\n",
       "      <td>3239.000000</td>\n",
       "      <td>3292.500000</td>\n",
       "      <td>3230.300049</td>\n",
       "      <td>3275.600098</td>\n",
       "      <td>841752</td>\n",
       "    </tr>\n",
       "    <tr>\n",
       "      <th>3</th>\n",
       "      <td>2021-01-21</td>\n",
       "      <td>3275.600098</td>\n",
       "      <td>3346.000000</td>\n",
       "      <td>3219.699951</td>\n",
       "      <td>3247.300049</td>\n",
       "      <td>1300181</td>\n",
       "    </tr>\n",
       "    <tr>\n",
       "      <th>4</th>\n",
       "      <td>2021-01-22</td>\n",
       "      <td>3265.000000</td>\n",
       "      <td>3483.949951</td>\n",
       "      <td>3258.899902</td>\n",
       "      <td>3374.899902</td>\n",
       "      <td>3813020</td>\n",
       "    </tr>\n",
       "  </tbody>\n",
       "</table>\n",
       "</div>"
      ],
      "text/plain": [
       "        Date         Open         High          Low        Close   Volume\n",
       "0 2021-01-18  3200.000000  3217.550049  3082.250000  3163.149902  1280163\n",
       "1 2021-01-19  3170.500000  3240.750000  3170.500000  3232.899902   770832\n",
       "2 2021-01-20  3239.000000  3292.500000  3230.300049  3275.600098   841752\n",
       "3 2021-01-21  3275.600098  3346.000000  3219.699951  3247.300049  1300181\n",
       "4 2021-01-22  3265.000000  3483.949951  3258.899902  3374.899902  3813020"
      ]
     },
     "execution_count": 4,
     "metadata": {},
     "output_type": "execute_result"
    }
   ],
   "source": [
    "df = pd.read_csv(\"../../data/hero/hero.csv\")\n",
    "# Need to reverse the db\n",
    "# df = df.loc[::-1]\n",
    "df['Date'] = pd.to_datetime(df['Date'])\n",
    "df = df[(df['Date'].dt.year >= 2020)].copy()\n",
    "df.index = range(len(df))\n",
    "temp = df\n",
    "# df['Close'] = (df['High'] + df['Low'] )/ 2\n",
    "df.rename(columns={\"Open Price\":\"Open\",\"High Price\":\"High\",\"Low Price\":\"Low\",\"Close Price\":\"Close\",\"Total Traded Quantity\":\"Volume\",\"No.of Shares\":\"Volume\"},inplace=True)\n",
    "# cols = [\"Symbol\",\"Ser verbose=Falseies\",\"Prev Close\",\"Last Price\",\"Average Price\",\"Turnover\",\"No. of Trades\", \"Deliverable Qty\",'% Dly Qt to Traded Qty']\n",
    "# cols = [\"WAP\",\"No. of Trades\"\t,\"Total Turnover (Rs.)\"\t,\"Deliverable Quantity\"\t,\"% Deli. Qty to Traded Qty\"\t,\"Spread High-Low\"\t,\"Spread Close-Open\"]\n",
    "cols = \"Adj Close\"\n",
    "df.drop(columns=cols,inplace=True)   \n",
    "df.dropna(inplace=True)\n",
    "df.head()"
   ]
  },
  {
   "cell_type": "code",
   "execution_count": 5,
   "metadata": {},
   "outputs": [
    {
     "data": {
      "text/html": [
       "<div>\n",
       "<style scoped>\n",
       "    .dataframe tbody tr th:only-of-type {\n",
       "        vertical-align: middle;\n",
       "    }\n",
       "\n",
       "    .dataframe tbody tr th {\n",
       "        vertical-align: top;\n",
       "    }\n",
       "\n",
       "    .dataframe thead th {\n",
       "        text-align: right;\n",
       "    }\n",
       "</style>\n",
       "<table border=\"1\" class=\"dataframe\">\n",
       "  <thead>\n",
       "    <tr style=\"text-align: right;\">\n",
       "      <th></th>\n",
       "      <th>Date</th>\n",
       "      <th>Open</th>\n",
       "      <th>High</th>\n",
       "      <th>Low</th>\n",
       "      <th>Close</th>\n",
       "      <th>Volume</th>\n",
       "      <th>EMA_9</th>\n",
       "      <th>SMA_5</th>\n",
       "      <th>SMA_10</th>\n",
       "      <th>SMA_15</th>\n",
       "      <th>SMA_30</th>\n",
       "      <th>RSI</th>\n",
       "      <th>MACD</th>\n",
       "      <th>MACD_signal</th>\n",
       "    </tr>\n",
       "  </thead>\n",
       "  <tbody>\n",
       "    <tr>\n",
       "      <th>0</th>\n",
       "      <td>2021-03-05</td>\n",
       "      <td>3415.000000</td>\n",
       "      <td>3491.5</td>\n",
       "      <td>3394.000000</td>\n",
       "      <td>3463.949951</td>\n",
       "      <td>1017875</td>\n",
       "      <td>3420.492361</td>\n",
       "      <td>3378.960010</td>\n",
       "      <td>3398.009985</td>\n",
       "      <td>3435.309993</td>\n",
       "      <td>3419.963322</td>\n",
       "      <td>49.806952</td>\n",
       "      <td>0.572395</td>\n",
       "      <td>-1.193284</td>\n",
       "    </tr>\n",
       "    <tr>\n",
       "      <th>1</th>\n",
       "      <td>2021-03-08</td>\n",
       "      <td>3461.649902</td>\n",
       "      <td>3489.5</td>\n",
       "      <td>3422.699951</td>\n",
       "      <td>3448.850098</td>\n",
       "      <td>749107</td>\n",
       "      <td>3424.731009</td>\n",
       "      <td>3426.500000</td>\n",
       "      <td>3405.209985</td>\n",
       "      <td>3431.706657</td>\n",
       "      <td>3427.109985</td>\n",
       "      <td>50.125426</td>\n",
       "      <td>3.520412</td>\n",
       "      <td>-0.137143</td>\n",
       "    </tr>\n",
       "    <tr>\n",
       "      <th>2</th>\n",
       "      <td>2021-03-09</td>\n",
       "      <td>3465.050049</td>\n",
       "      <td>3490.0</td>\n",
       "      <td>3416.500000</td>\n",
       "      <td>3419.350098</td>\n",
       "      <td>564852</td>\n",
       "      <td>3428.753595</td>\n",
       "      <td>3449.250000</td>\n",
       "      <td>3410.189990</td>\n",
       "      <td>3431.609993</td>\n",
       "      <td>3430.078320</td>\n",
       "      <td>42.043918</td>\n",
       "      <td>4.650364</td>\n",
       "      <td>0.910336</td>\n",
       "    </tr>\n",
       "    <tr>\n",
       "      <th>3</th>\n",
       "      <td>2021-03-10</td>\n",
       "      <td>3449.000000</td>\n",
       "      <td>3475.0</td>\n",
       "      <td>3407.850098</td>\n",
       "      <td>3350.550049</td>\n",
       "      <td>787897</td>\n",
       "      <td>3430.809563</td>\n",
       "      <td>3443.740039</td>\n",
       "      <td>3414.530005</td>\n",
       "      <td>3430.763330</td>\n",
       "      <td>3429.208325</td>\n",
       "      <td>43.671271</td>\n",
       "      <td>3.252733</td>\n",
       "      <td>1.413385</td>\n",
       "    </tr>\n",
       "    <tr>\n",
       "      <th>4</th>\n",
       "      <td>2021-03-12</td>\n",
       "      <td>3355.000000</td>\n",
       "      <td>3419.0</td>\n",
       "      <td>3310.000000</td>\n",
       "      <td>3264.149902</td>\n",
       "      <td>1098158</td>\n",
       "      <td>3429.639901</td>\n",
       "      <td>3442.740039</td>\n",
       "      <td>3412.305005</td>\n",
       "      <td>3419.786670</td>\n",
       "      <td>3431.234993</td>\n",
       "      <td>47.401611</td>\n",
       "      <td>-3.096033</td>\n",
       "      <td>0.459035</td>\n",
       "    </tr>\n",
       "  </tbody>\n",
       "</table>\n",
       "</div>"
      ],
      "text/plain": [
       "        Date         Open    High          Low        Close   Volume  \\\n",
       "0 2021-03-05  3415.000000  3491.5  3394.000000  3463.949951  1017875   \n",
       "1 2021-03-08  3461.649902  3489.5  3422.699951  3448.850098   749107   \n",
       "2 2021-03-09  3465.050049  3490.0  3416.500000  3419.350098   564852   \n",
       "3 2021-03-10  3449.000000  3475.0  3407.850098  3350.550049   787897   \n",
       "4 2021-03-12  3355.000000  3419.0  3310.000000  3264.149902  1098158   \n",
       "\n",
       "         EMA_9        SMA_5       SMA_10       SMA_15       SMA_30        RSI  \\\n",
       "0  3420.492361  3378.960010  3398.009985  3435.309993  3419.963322  49.806952   \n",
       "1  3424.731009  3426.500000  3405.209985  3431.706657  3427.109985  50.125426   \n",
       "2  3428.753595  3449.250000  3410.189990  3431.609993  3430.078320  42.043918   \n",
       "3  3430.809563  3443.740039  3414.530005  3430.763330  3429.208325  43.671271   \n",
       "4  3429.639901  3442.740039  3412.305005  3419.786670  3431.234993  47.401611   \n",
       "\n",
       "       MACD  MACD_signal  \n",
       "0  0.572395    -1.193284  \n",
       "1  3.520412    -0.137143  \n",
       "2  4.650364     0.910336  \n",
       "3  3.252733     1.413385  \n",
       "4 -3.096033     0.459035  "
      ]
     },
     "execution_count": 5,
     "metadata": {},
     "output_type": "execute_result"
    }
   ],
   "source": [
    "df['EMA_9'] = df['Close'].ewm(9).mean().shift()\n",
    "df['SMA_5'] = df['Close'].rolling(5).mean().shift()\n",
    "df['SMA_10'] = df['Close'].rolling(10).mean().shift()\n",
    "df['SMA_15'] = df['Close'].rolling(15).mean().shift()\n",
    "df['SMA_30'] = df['Close'].rolling(30).mean().shift()\n",
    "\n",
    "def relative_strength_idx(df, n=14):\n",
    "    close = df['Close']\n",
    "    delta = close.diff()\n",
    "    delta = delta[1:]\n",
    "    pricesUp = delta.copy()\n",
    "    pricesDown = delta.copy()\n",
    "    pricesUp[pricesUp < 0] = 0\n",
    "    pricesDown[pricesDown > 0] = 0    \n",
    "    rollUp = pricesUp.rolling(n).mean()\n",
    "    rollDown = pricesDown.abs().rolling(n).mean()\n",
    "    rs = rollUp / rollDown\n",
    "    rsi = 100.0 - (100.0 / (1.0 + rs))\n",
    "    return rsi\n",
    "\n",
    "df['RSI'] = relative_strength_idx(df).fillna(0)\n",
    "\n",
    "EMA_12 = pd.Series(df['Close'].ewm(span=12, min_periods=12).mean())\n",
    "EMA_26 = pd.Series(df['Close'].ewm(span=26, min_periods=26).mean())\n",
    "df['MACD'] = pd.Series(EMA_12 - EMA_26)\n",
    "df['MACD_signal'] = pd.Series(df.MACD.ewm(span=9, min_periods=9).mean())\n",
    "\n",
    "df['Close'] = df['Close'].shift(-1)\n",
    "\n",
    "df = df.iloc[33:] # Because of moving average\n",
    "df = df[:-1]      # Because of shifting close price\n",
    "\n",
    "df.index = range(len(df))\n",
    "\n",
    "df.head()"
   ]
  },
  {
   "cell_type": "code",
   "execution_count": 6,
   "metadata": {},
   "outputs": [
    {
     "data": {
      "text/html": [
       "<div>\n",
       "<style scoped>\n",
       "    .dataframe tbody tr th:only-of-type {\n",
       "        vertical-align: middle;\n",
       "    }\n",
       "\n",
       "    .dataframe tbody tr th {\n",
       "        vertical-align: top;\n",
       "    }\n",
       "\n",
       "    .dataframe thead th {\n",
       "        text-align: right;\n",
       "    }\n",
       "</style>\n",
       "<table border=\"1\" class=\"dataframe\">\n",
       "  <thead>\n",
       "    <tr style=\"text-align: right;\">\n",
       "      <th></th>\n",
       "      <th>Close</th>\n",
       "      <th>EMA_9</th>\n",
       "      <th>SMA_5</th>\n",
       "      <th>SMA_10</th>\n",
       "      <th>SMA_15</th>\n",
       "      <th>SMA_30</th>\n",
       "      <th>RSI</th>\n",
       "      <th>MACD</th>\n",
       "      <th>MACD_signal</th>\n",
       "    </tr>\n",
       "  </thead>\n",
       "  <tbody>\n",
       "    <tr>\n",
       "      <th>0</th>\n",
       "      <td>3463.949951</td>\n",
       "      <td>3420.492361</td>\n",
       "      <td>3378.960010</td>\n",
       "      <td>3398.009985</td>\n",
       "      <td>3435.309993</td>\n",
       "      <td>3419.963322</td>\n",
       "      <td>49.806952</td>\n",
       "      <td>0.572395</td>\n",
       "      <td>-1.193284</td>\n",
       "    </tr>\n",
       "    <tr>\n",
       "      <th>1</th>\n",
       "      <td>3448.850098</td>\n",
       "      <td>3424.731009</td>\n",
       "      <td>3426.500000</td>\n",
       "      <td>3405.209985</td>\n",
       "      <td>3431.706657</td>\n",
       "      <td>3427.109985</td>\n",
       "      <td>50.125426</td>\n",
       "      <td>3.520412</td>\n",
       "      <td>-0.137143</td>\n",
       "    </tr>\n",
       "    <tr>\n",
       "      <th>2</th>\n",
       "      <td>3419.350098</td>\n",
       "      <td>3428.753595</td>\n",
       "      <td>3449.250000</td>\n",
       "      <td>3410.189990</td>\n",
       "      <td>3431.609993</td>\n",
       "      <td>3430.078320</td>\n",
       "      <td>42.043918</td>\n",
       "      <td>4.650364</td>\n",
       "      <td>0.910336</td>\n",
       "    </tr>\n",
       "    <tr>\n",
       "      <th>3</th>\n",
       "      <td>3350.550049</td>\n",
       "      <td>3430.809563</td>\n",
       "      <td>3443.740039</td>\n",
       "      <td>3414.530005</td>\n",
       "      <td>3430.763330</td>\n",
       "      <td>3429.208325</td>\n",
       "      <td>43.671271</td>\n",
       "      <td>3.252733</td>\n",
       "      <td>1.413385</td>\n",
       "    </tr>\n",
       "    <tr>\n",
       "      <th>4</th>\n",
       "      <td>3264.149902</td>\n",
       "      <td>3429.639901</td>\n",
       "      <td>3442.740039</td>\n",
       "      <td>3412.305005</td>\n",
       "      <td>3419.786670</td>\n",
       "      <td>3431.234993</td>\n",
       "      <td>47.401611</td>\n",
       "      <td>-3.096033</td>\n",
       "      <td>0.459035</td>\n",
       "    </tr>\n",
       "  </tbody>\n",
       "</table>\n",
       "</div>"
      ],
      "text/plain": [
       "         Close        EMA_9        SMA_5       SMA_10       SMA_15  \\\n",
       "0  3463.949951  3420.492361  3378.960010  3398.009985  3435.309993   \n",
       "1  3448.850098  3424.731009  3426.500000  3405.209985  3431.706657   \n",
       "2  3419.350098  3428.753595  3449.250000  3410.189990  3431.609993   \n",
       "3  3350.550049  3430.809563  3443.740039  3414.530005  3430.763330   \n",
       "4  3264.149902  3429.639901  3442.740039  3412.305005  3419.786670   \n",
       "\n",
       "        SMA_30        RSI      MACD  MACD_signal  \n",
       "0  3419.963322  49.806952  0.572395    -1.193284  \n",
       "1  3427.109985  50.125426  3.520412    -0.137143  \n",
       "2  3430.078320  42.043918  4.650364     0.910336  \n",
       "3  3429.208325  43.671271  3.252733     1.413385  \n",
       "4  3431.234993  47.401611 -3.096033     0.459035  "
      ]
     },
     "execution_count": 6,
     "metadata": {},
     "output_type": "execute_result"
    }
   ],
   "source": [
    "drop_cols = ['Date', 'Volume', 'Open', 'Low', 'High']\n",
    "df.drop(columns=drop_cols,inplace=True)\n",
    "df.head()"
   ]
  },
  {
   "cell_type": "markdown",
   "metadata": {},
   "source": [
    "#### Separating the data into train and test splits. Then splitting into validation split"
   ]
  },
  {
   "cell_type": "code",
   "execution_count": 7,
   "metadata": {},
   "outputs": [],
   "source": [
    "X = df.iloc[:, 1:]\n",
    "y = df.iloc[:, 1]\n",
    "\n",
    "x_len = int(0.8 * len(X))\n",
    "y_len = int(0.8 * len(y))\n",
    "X_trainval = X[:x_len]\n",
    "X_test = X[x_len:]\n",
    "y_trainval = y[:y_len]\n",
    "y_test = y[y_len:]\n",
    "\n",
    "X_train, X_val, y_train, y_val = train_test_split(\n",
    "    X_trainval, y_trainval, test_size=0.2\n",
    ")"
   ]
  },
  {
   "cell_type": "markdown",
   "metadata": {},
   "source": [
    "#### Normalising the data"
   ]
  },
  {
   "cell_type": "code",
   "execution_count": 8,
   "metadata": {},
   "outputs": [],
   "source": [
    "scaler = MinMaxScaler()\n",
    "X_train = scaler.fit_transform(X_train)\n",
    "X_val = scaler.transform(X_val)\n",
    "X_test = scaler.transform(X_test)\n",
    "X_train, y_train = np.array(X_train), np.array(y_train)\n",
    "X_val, y_val = np.array(X_val), np.array(y_val)\n",
    "X_test, y_test = np.array(X_test), np.array(y_test)"
   ]
  },
  {
   "cell_type": "markdown",
   "metadata": {},
   "source": [
    "#### Initialising the dataset"
   ]
  },
  {
   "cell_type": "code",
   "execution_count": 9,
   "metadata": {},
   "outputs": [],
   "source": [
    "class RegressionDataset(Dataset):\n",
    "    def __init__(self, X_data, y_data):\n",
    "        self.X_data = X_data\n",
    "        self.y_data = y_data\n",
    "\n",
    "    def __getitem__(self, index):\n",
    "        return self.X_data[index], self.y_data[index]\n",
    "\n",
    "    def __len__(self):\n",
    "        return len(self.X_data)   "
   ]
  },
  {
   "cell_type": "code",
   "execution_count": 10,
   "metadata": {},
   "outputs": [],
   "source": [
    "train_dataset = RegressionDataset(\n",
    "    torch.from_numpy(X_train).float(), torch.from_numpy(y_train).float()\n",
    ")\n",
    "val_dataset = RegressionDataset(\n",
    "    torch.from_numpy(X_val).float(), torch.from_numpy(y_val).float()\n",
    ")\n",
    "test_dataset = RegressionDataset(\n",
    "    torch.from_numpy(X_test).float(), torch.from_numpy(y_test).float()\n",
    ")"
   ]
  },
  {
   "cell_type": "markdown",
   "metadata": {},
   "source": [
    "#### Setting hyper parameters"
   ]
  },
  {
   "cell_type": "code",
   "execution_count": 11,
   "metadata": {},
   "outputs": [],
   "source": [
    "EPOCHS = 2000\n",
    "BATCH_SIZE = 64\n",
    "LEARNING_RATE = 0.001\n",
    "NUM_FEATURES = len(X.columns)"
   ]
  },
  {
   "cell_type": "code",
   "execution_count": 12,
   "metadata": {},
   "outputs": [],
   "source": [
    "train_loader = DataLoader(dataset=train_dataset, batch_size=BATCH_SIZE,shuffle=True)\n",
    "val_loader = DataLoader(dataset=val_dataset, batch_size=BATCH_SIZE,)\n",
    "test_loader = DataLoader(dataset=test_dataset, batch_size=BATCH_SIZE)"
   ]
  },
  {
   "cell_type": "code",
   "execution_count": 13,
   "metadata": {},
   "outputs": [],
   "source": [
    "class MultipleRegression(nn.Module):\n",
    "    def __init__(self, num_features):\n",
    "        super(MultipleRegression, self).__init__()\n",
    "\n",
    "        self.layer_1 = nn.Linear(num_features, 16)\n",
    "        self.layer_2 = nn.Linear(16, 32)\n",
    "        self.layer_3 = nn.Linear(32, 16)\n",
    "        self.layer_out = nn.Linear(16, 1)\n",
    "\n",
    "        self.relu = nn.ReLU()\n",
    "\n",
    "    def forward(self, inputs):\n",
    "        x = self.relu(self.layer_1(inputs))\n",
    "        x = self.relu(self.layer_2(x))\n",
    "        x = self.relu(self.layer_3(x))\n",
    "        x = self.layer_out(x)\n",
    "        return x\n",
    "\n",
    "    def predict(self, test_inputs):\n",
    "        x = self.relu(self.layer_1(test_inputs))\n",
    "        x = self.relu(self.layer_2(x))\n",
    "        x = self.relu(self.layer_3(x))\n",
    "        x = self.layer_out(x)\n",
    "        return x\n",
    "# torch.cuda.set_device(\"cuda:0\")\n",
    "# print(torch.cuda.get_device_name())"
   ]
  },
  {
   "cell_type": "code",
   "execution_count": 14,
   "metadata": {},
   "outputs": [
    {
     "name": "stdout",
     "output_type": "stream",
     "text": [
      "MultipleRegression(\n",
      "  (layer_1): Linear(in_features=8, out_features=16, bias=True)\n",
      "  (layer_2): Linear(in_features=16, out_features=32, bias=True)\n",
      "  (layer_3): Linear(in_features=32, out_features=16, bias=True)\n",
      "  (layer_out): Linear(in_features=16, out_features=1, bias=True)\n",
      "  (relu): ReLU()\n",
      ")\n"
     ]
    }
   ],
   "source": [
    "# device = torch.device(\"cuda:0\" if torch.cuda.is_available() else \"cpu\")\n",
    "device = \"cpu\"\n",
    "model = MultipleRegression(NUM_FEATURES)\n",
    "model.to(device)\n",
    "print(model)\n",
    "criterion = nn.MSELoss()\n",
    "optimizer = optim.Adam(model.parameters(), lr=LEARNING_RATE)"
   ]
  },
  {
   "cell_type": "code",
   "execution_count": 15,
   "metadata": {},
   "outputs": [],
   "source": [
    "loss_stats = {\n",
    "    'train': [],\n",
    "    \"val\": []\n",
    "}"
   ]
  },
  {
   "cell_type": "code",
   "execution_count": 16,
   "metadata": {},
   "outputs": [
    {
     "name": "stderr",
     "output_type": "stream",
     "text": [
      "  0%|          | 0/2000 [00:00<?, ?it/s]"
     ]
    },
    {
     "name": "stderr",
     "output_type": "stream",
     "text": [
      "  4%|▎         | 70/2000 [00:05<00:59, 32.59it/s] "
     ]
    },
    {
     "name": "stdout",
     "output_type": "stream",
     "text": [
      "Epoch 050: | Train Loss: 2714910.64286 | Val Loss: 2580795.12500\n"
     ]
    },
    {
     "name": "stderr",
     "output_type": "stream",
     "text": [
      "  6%|▌         | 124/2000 [00:05<00:23, 79.37it/s]"
     ]
    },
    {
     "name": "stdout",
     "output_type": "stream",
     "text": [
      "Epoch 100: | Train Loss: 150424.13170 | Val Loss: 188377.32031\n"
     ]
    },
    {
     "name": "stderr",
     "output_type": "stream",
     "text": [
      "  9%|▉         | 179/2000 [00:05<00:14, 127.68it/s]"
     ]
    },
    {
     "name": "stdout",
     "output_type": "stream",
     "text": [
      "Epoch 150: | Train Loss: 143557.30301 | Val Loss: 170794.71094\n"
     ]
    },
    {
     "name": "stderr",
     "output_type": "stream",
     "text": [
      " 12%|█▏        | 235/2000 [00:05<00:11, 159.03it/s]"
     ]
    },
    {
     "name": "stdout",
     "output_type": "stream",
     "text": [
      "Epoch 200: | Train Loss: 119771.42969 | Val Loss: 148281.92969\n"
     ]
    },
    {
     "name": "stderr",
     "output_type": "stream",
     "text": [
      " 14%|█▎        | 271/2000 [00:06<00:10, 166.32it/s]"
     ]
    },
    {
     "name": "stdout",
     "output_type": "stream",
     "text": [
      "Epoch 250: | Train Loss: 134694.34040 | Val Loss: 124635.98828\n"
     ]
    },
    {
     "name": "stderr",
     "output_type": "stream",
     "text": [
      " 16%|█▋        | 326/2000 [00:06<00:09, 169.61it/s]"
     ]
    },
    {
     "name": "stdout",
     "output_type": "stream",
     "text": [
      "Epoch 300: | Train Loss: 87436.39955 | Val Loss: 99014.41797\n"
     ]
    },
    {
     "name": "stderr",
     "output_type": "stream",
     "text": [
      " 19%|█▉        | 382/2000 [00:06<00:09, 176.55it/s]"
     ]
    },
    {
     "name": "stdout",
     "output_type": "stream",
     "text": [
      "Epoch 350: | Train Loss: 73977.74609 | Val Loss: 75262.63672\n"
     ]
    },
    {
     "name": "stderr",
     "output_type": "stream",
     "text": [
      " 21%|██        | 418/2000 [00:07<00:09, 161.03it/s]"
     ]
    },
    {
     "name": "stdout",
     "output_type": "stream",
     "text": [
      "Epoch 400: | Train Loss: 53767.76786 | Val Loss: 50798.30469\n"
     ]
    },
    {
     "name": "stderr",
     "output_type": "stream",
     "text": [
      " 24%|██▎       | 473/2000 [00:07<00:08, 173.13it/s]"
     ]
    },
    {
     "name": "stdout",
     "output_type": "stream",
     "text": [
      "Epoch 450: | Train Loss: 28322.33036 | Val Loss: 30444.39355\n"
     ]
    },
    {
     "name": "stderr",
     "output_type": "stream",
     "text": [
      " 26%|██▋       | 530/2000 [00:07<00:08, 180.80it/s]"
     ]
    },
    {
     "name": "stdout",
     "output_type": "stream",
     "text": [
      "Epoch 500: | Train Loss: 15255.79116 | Val Loss: 15422.15430\n"
     ]
    },
    {
     "name": "stderr",
     "output_type": "stream",
     "text": [
      " 28%|██▊       | 568/2000 [00:07<00:07, 182.63it/s]"
     ]
    },
    {
     "name": "stdout",
     "output_type": "stream",
     "text": [
      "Epoch 550: | Train Loss: 8020.62556 | Val Loss: 6439.80688\n"
     ]
    },
    {
     "name": "stderr",
     "output_type": "stream",
     "text": [
      " 31%|███       | 624/2000 [00:08<00:07, 176.67it/s]"
     ]
    },
    {
     "name": "stdout",
     "output_type": "stream",
     "text": [
      "Epoch 600: | Train Loss: 2955.24557 | Val Loss: 2706.85828\n"
     ]
    },
    {
     "name": "stderr",
     "output_type": "stream",
     "text": [
      " 34%|███▍      | 681/2000 [00:08<00:07, 180.25it/s]"
     ]
    },
    {
     "name": "stdout",
     "output_type": "stream",
     "text": [
      "Epoch 650: | Train Loss: 1377.49677 | Val Loss: 1290.40424\n"
     ]
    },
    {
     "name": "stderr",
     "output_type": "stream",
     "text": [
      " 36%|███▌      | 719/2000 [00:08<00:07, 182.65it/s]"
     ]
    },
    {
     "name": "stdout",
     "output_type": "stream",
     "text": [
      "Epoch 700: | Train Loss: 660.98279 | Val Loss: 684.69205\n"
     ]
    },
    {
     "name": "stderr",
     "output_type": "stream",
     "text": [
      " 39%|███▉      | 776/2000 [00:09<00:06, 176.94it/s]"
     ]
    },
    {
     "name": "stdout",
     "output_type": "stream",
     "text": [
      "Epoch 750: | Train Loss: 436.69203 | Val Loss: 388.16510\n"
     ]
    },
    {
     "name": "stderr",
     "output_type": "stream",
     "text": [
      " 42%|████▏     | 832/2000 [00:09<00:06, 180.16it/s]"
     ]
    },
    {
     "name": "stdout",
     "output_type": "stream",
     "text": [
      "Epoch 800: | Train Loss: 277.96813 | Val Loss: 246.49030\n"
     ]
    },
    {
     "name": "stderr",
     "output_type": "stream",
     "text": [
      " 44%|████▎     | 870/2000 [00:09<00:06, 178.56it/s]"
     ]
    },
    {
     "name": "stdout",
     "output_type": "stream",
     "text": [
      "Epoch 850: | Train Loss: 267.90736 | Val Loss: 183.64304\n"
     ]
    },
    {
     "name": "stderr",
     "output_type": "stream",
     "text": [
      " 46%|████▋     | 927/2000 [00:09<00:05, 180.70it/s]"
     ]
    },
    {
     "name": "stdout",
     "output_type": "stream",
     "text": [
      "Epoch 900: | Train Loss: 192.35591 | Val Loss: 156.85614\n"
     ]
    },
    {
     "name": "stderr",
     "output_type": "stream",
     "text": [
      " 49%|████▉     | 984/2000 [00:10<00:05, 184.05it/s]"
     ]
    },
    {
     "name": "stdout",
     "output_type": "stream",
     "text": [
      "Epoch 950: | Train Loss: 195.79838 | Val Loss: 142.50333\n"
     ]
    },
    {
     "name": "stderr",
     "output_type": "stream",
     "text": [
      " 51%|█████     | 1022/2000 [00:10<00:05, 185.04it/s]"
     ]
    },
    {
     "name": "stdout",
     "output_type": "stream",
     "text": [
      "Epoch 1000: | Train Loss: 185.81391 | Val Loss: 133.53303\n"
     ]
    },
    {
     "name": "stderr",
     "output_type": "stream",
     "text": [
      " 54%|█████▍    | 1079/2000 [00:10<00:05, 182.87it/s]"
     ]
    },
    {
     "name": "stdout",
     "output_type": "stream",
     "text": [
      "Epoch 1050: | Train Loss: 136.70208 | Val Loss: 127.20864\n"
     ]
    },
    {
     "name": "stderr",
     "output_type": "stream",
     "text": [
      " 56%|█████▌    | 1117/2000 [00:10<00:05, 173.33it/s]"
     ]
    },
    {
     "name": "stdout",
     "output_type": "stream",
     "text": [
      "Epoch 1100: | Train Loss: 151.42700 | Val Loss: 102.13533\n"
     ]
    },
    {
     "name": "stderr",
     "output_type": "stream",
     "text": [
      " 59%|█████▊    | 1171/2000 [00:11<00:04, 170.68it/s]"
     ]
    },
    {
     "name": "stdout",
     "output_type": "stream",
     "text": [
      "Epoch 1150: | Train Loss: 120.30363 | Val Loss: 93.41805\n"
     ]
    },
    {
     "name": "stderr",
     "output_type": "stream",
     "text": [
      " 61%|██████▏   | 1228/2000 [00:11<00:04, 179.44it/s]"
     ]
    },
    {
     "name": "stdout",
     "output_type": "stream",
     "text": [
      "Epoch 1200: | Train Loss: 91.26088 | Val Loss: 81.06774\n"
     ]
    },
    {
     "name": "stderr",
     "output_type": "stream",
     "text": [
      " 63%|██████▎   | 1266/2000 [00:11<00:04, 179.81it/s]"
     ]
    },
    {
     "name": "stdout",
     "output_type": "stream",
     "text": [
      "Epoch 1250: | Train Loss: 82.29194 | Val Loss: 67.87553\n"
     ]
    },
    {
     "name": "stderr",
     "output_type": "stream",
     "text": [
      " 66%|██████▌   | 1323/2000 [00:12<00:03, 175.46it/s]"
     ]
    },
    {
     "name": "stdout",
     "output_type": "stream",
     "text": [
      "Epoch 1300: | Train Loss: 109.16914 | Val Loss: 63.15322\n"
     ]
    },
    {
     "name": "stderr",
     "output_type": "stream",
     "text": [
      " 69%|██████▉   | 1378/2000 [00:12<00:03, 177.15it/s]"
     ]
    },
    {
     "name": "stdout",
     "output_type": "stream",
     "text": [
      "Epoch 1350: | Train Loss: 69.22643 | Val Loss: 54.90714\n"
     ]
    },
    {
     "name": "stderr",
     "output_type": "stream",
     "text": [
      " 72%|███████▏  | 1431/2000 [00:12<00:03, 160.77it/s]"
     ]
    },
    {
     "name": "stdout",
     "output_type": "stream",
     "text": [
      "Epoch 1400: | Train Loss: 58.06471 | Val Loss: 49.59909\n"
     ]
    },
    {
     "name": "stderr",
     "output_type": "stream",
     "text": [
      " 74%|███████▍  | 1483/2000 [00:13<00:03, 163.82it/s]"
     ]
    },
    {
     "name": "stdout",
     "output_type": "stream",
     "text": [
      "Epoch 1450: | Train Loss: 42.22180 | Val Loss: 36.80380\n"
     ]
    },
    {
     "name": "stderr",
     "output_type": "stream",
     "text": [
      " 76%|███████▌  | 1519/2000 [00:13<00:02, 168.39it/s]"
     ]
    },
    {
     "name": "stdout",
     "output_type": "stream",
     "text": [
      "Epoch 1500: | Train Loss: 43.17906 | Val Loss: 47.70981\n"
     ]
    },
    {
     "name": "stderr",
     "output_type": "stream",
     "text": [
      " 79%|███████▉  | 1575/2000 [00:13<00:02, 175.23it/s]"
     ]
    },
    {
     "name": "stdout",
     "output_type": "stream",
     "text": [
      "Epoch 1550: | Train Loss: 42.95601 | Val Loss: 32.16138\n"
     ]
    },
    {
     "name": "stderr",
     "output_type": "stream",
     "text": [
      " 82%|████████▏ | 1630/2000 [00:13<00:02, 176.92it/s]"
     ]
    },
    {
     "name": "stdout",
     "output_type": "stream",
     "text": [
      "Epoch 1600: | Train Loss: 24.34548 | Val Loss: 20.51526\n"
     ]
    },
    {
     "name": "stderr",
     "output_type": "stream",
     "text": [
      " 84%|████████▍ | 1684/2000 [00:14<00:01, 170.32it/s]"
     ]
    },
    {
     "name": "stdout",
     "output_type": "stream",
     "text": [
      "Epoch 1650: | Train Loss: 29.03135 | Val Loss: 45.99610\n"
     ]
    },
    {
     "name": "stderr",
     "output_type": "stream",
     "text": [
      " 86%|████████▌ | 1720/2000 [00:14<00:01, 170.71it/s]"
     ]
    },
    {
     "name": "stdout",
     "output_type": "stream",
     "text": [
      "Epoch 1700: | Train Loss: 18.20029 | Val Loss: 14.26296\n"
     ]
    },
    {
     "name": "stderr",
     "output_type": "stream",
     "text": [
      " 89%|████████▉ | 1776/2000 [00:14<00:01, 177.85it/s]"
     ]
    },
    {
     "name": "stdout",
     "output_type": "stream",
     "text": [
      "Epoch 1750: | Train Loss: 22.68200 | Val Loss: 16.51098\n"
     ]
    },
    {
     "name": "stderr",
     "output_type": "stream",
     "text": [
      " 92%|█████████▏| 1831/2000 [00:15<00:00, 175.45it/s]"
     ]
    },
    {
     "name": "stdout",
     "output_type": "stream",
     "text": [
      "Epoch 1800: | Train Loss: 16.40498 | Val Loss: 28.90930\n"
     ]
    },
    {
     "name": "stderr",
     "output_type": "stream",
     "text": [
      " 93%|█████████▎| 1867/2000 [00:15<00:00, 169.14it/s]"
     ]
    },
    {
     "name": "stdout",
     "output_type": "stream",
     "text": [
      "Epoch 1850: | Train Loss: 11.72892 | Val Loss: 8.93523\n"
     ]
    },
    {
     "name": "stderr",
     "output_type": "stream",
     "text": [
      " 96%|█████████▌| 1921/2000 [00:15<00:00, 171.88it/s]"
     ]
    },
    {
     "name": "stdout",
     "output_type": "stream",
     "text": [
      "Epoch 1900: | Train Loss: 26.13637 | Val Loss: 9.01642\n"
     ]
    },
    {
     "name": "stderr",
     "output_type": "stream",
     "text": [
      " 99%|█████████▉| 1977/2000 [00:15<00:00, 175.81it/s]"
     ]
    },
    {
     "name": "stdout",
     "output_type": "stream",
     "text": [
      "Epoch 1950: | Train Loss: 8.91110 | Val Loss: 6.68716\n"
     ]
    },
    {
     "name": "stderr",
     "output_type": "stream",
     "text": [
      "100%|██████████| 2000/2000 [00:16<00:00, 124.35it/s]"
     ]
    },
    {
     "name": "stdout",
     "output_type": "stream",
     "text": [
      "Epoch 2000: | Train Loss: 6.99312 | Val Loss: 7.55270\n"
     ]
    },
    {
     "name": "stderr",
     "output_type": "stream",
     "text": [
      "\n"
     ]
    }
   ],
   "source": [
    "for e in tqdm(range(1, EPOCHS + 1)):\n",
    "    # TRAINING\n",
    "    train_epoch_loss = 0\n",
    "    model.train()\n",
    "    for X_train_batch, y_train_batch in train_loader:\n",
    "        X_train_batch, y_train_batch = X_train_batch.to(device), y_train_batch.to(\n",
    "            device\n",
    "        )\n",
    "        optimizer.zero_grad()\n",
    "\n",
    "        y_train_pred = model(X_train_batch)\n",
    "\n",
    "        train_loss = criterion(y_train_pred, y_train_batch.unsqueeze(1))\n",
    "\n",
    "        train_loss.backward()\n",
    "        optimizer.step()\n",
    "\n",
    "        train_epoch_loss += train_loss.item()\n",
    "\n",
    "    # VALIDATION\n",
    "    with torch.no_grad():\n",
    "        val_epoch_loss = 0\n",
    "\n",
    "        model.eval()\n",
    "        for X_val_batch, y_val_batch in val_loader:\n",
    "            X_val_batch, y_val_batch = X_val_batch.to(device), y_val_batch.to(device)\n",
    "\n",
    "            y_val_pred = model(X_val_batch)\n",
    "\n",
    "            val_loss = criterion(y_val_pred, y_val_batch.unsqueeze(1))\n",
    "\n",
    "            val_epoch_loss += val_loss.item()\n",
    "        # print(torch.cuda.get_device_name())\n",
    "\n",
    "        loss_stats[\"train\"].append(train_epoch_loss / len(train_loader))\n",
    "        loss_stats[\"val\"].append(val_epoch_loss / len(val_loader))\n",
    "\n",
    "    if e % 50 == 0:\n",
    "        print(\n",
    "            f\"Epoch {e+0:03}: | Train Loss: {train_epoch_loss/len(train_loader):.5f} | Val Loss: {val_epoch_loss/len(val_loader):.5f}\"\n",
    "        )\n",
    "# torch.cuda.set_device(\"cuda:0\")\n",
    "# print(torch.cuda.get_device_name())"
   ]
  },
  {
   "cell_type": "code",
   "execution_count": 17,
   "metadata": {},
   "outputs": [
    {
     "name": "stdout",
     "output_type": "stream",
     "text": [
      "2000\n",
      "2000\n"
     ]
    }
   ],
   "source": [
    "print(len(loss_stats['train']))\n",
    "print(len(loss_stats['val']))"
   ]
  },
  {
   "cell_type": "code",
   "execution_count": 18,
   "metadata": {},
   "outputs": [
    {
     "data": {
      "text/plain": [
       "Text(0.5, 1.0, 'Train-Val Loss/Epoch')"
      ]
     },
     "execution_count": 18,
     "metadata": {},
     "output_type": "execute_result"
    },
    {
     "data": {
      "image/png": "[encoded data removed]",
      "text/plain": [
       "<Figure size 1500x800 with 1 Axes>"
      ]
     },
     "metadata": {},
     "output_type": "display_data"
    }
   ],
   "source": [
    "train_val_loss_df = (\n",
    "    pd.DataFrame.from_dict(loss_stats)\n",
    "    .reset_index()\n",
    "    .melt(id_vars=[\"index\"])\n",
    "    .rename(columns={\"index\": \"epochs\"})\n",
    ")\n",
    "plt.figure(figsize=(15, 8))\n",
    "sns.lineplot(data=train_val_loss_df, x=\"epochs\", y=\"value\", hue=\"variable\").set_title(\n",
    "    \"Train-Val Loss/Epoch\"\n",
    ")"
   ]
  },
  {
   "cell_type": "code",
   "execution_count": 19,
   "metadata": {},
   "outputs": [
    {
     "name": "stderr",
     "output_type": "stream",
     "text": [
      "100%|██████████| 2/2 [00:00<00:00, 20560.31it/s]"
     ]
    },
    {
     "name": "stdout",
     "output_type": "stream",
     "text": [
      "[2648.3298, 2639.4165, 2629.8267, 2619.932, 2608.821, 2597.7273, 2589.5503, 2579.322, 2564.8757, 2550.8147, 2540.1453, 2533.35, 2526.5464, 2523.3284, 2518.9543, 2511.2688, 2502.2014, 2490.1274, 2478.5757, 2467.9458, 2457.8796, 2446.795, 2436.3982, 2428.267, 2421.9214, 2415.483, 2405.8467, 2395.2668, 2381.3887, 2373.865, 2371.5264, 2376.695, 2382.3254, 2388.4429, 2395.6646, 2402.4878, 2408.4697, 2412.4155, 2418.3118, 2420.4849, 2422.7004, 2424.2468, 2429.0833, 2437.5247, 2444.65, 2450.8022, 2456.1206, 2465.0852, 2467.4875, 2470.4524, 2474.3213, 2481.6262, 2490.3464, 2499.9443, 2508.8838, 2517.4265, 2529.2012, 2545.217, 2560.8203, 2578.1233, 2594.463, 2605.3052, 2612.644, 2623.181, 2634.5508, 2644.809, 2655.8184, 2667.6748, 2678.2644, 2687.333, 2701.5933, 2720.9114, 2736.1262, 2753.73, 2773.3853, 2790.326, 2800.9553, 2814.3096, 2828.0393, 2836.779, 2837.9734, 2837.3381, 2833.0276, 2830.973, 2831.6594, 2831.4248, 2828.6868, 2832.125, 2833.1472, 2833.4429, 2839.6653, 2849.4822, 2870.3206, 2897.7585, 2923.3713, 2944.9956, 2964.404, 2978.6973, 2988.4485, 2998.6643, 3012.2593, 3023.0115, 3032.6528, 3039.203, 3044.6458, 3050.6077, 3061.1748, 3068.2434, 3072.7998, 3077.1873, 3085.0652, 3093.5413, 3091.723, 3082.4275, 3071.1082, 3059.3728, 3052.0374, 3054.2551, 3057.0261, 3057.8164, 3054.671]\n",
      "[2648.1684323237027, 2639.0215841913323, 2628.6744306721994, 2618.5519827049793, 2608.7517893344816, 2597.821605501033, 2587.5894449509296, 2577.3954906558365, 2563.4109464902526, 2548.979861641227, 2537.1918852771046, 2529.807706549394, 2522.9819407944547, 2518.653741815009, 2514.5933725335085, 2507.5140401801577, 2500.792641062142, 2489.418381855928, 2477.8215387703353, 2467.9843799933014, 2458.2809370939713, 2447.9678335845742, 2437.1060600261167, 2428.300458923505, 2420.7904081311544, 2414.9613673180393, 2404.800240386235, 2395.1802261476114, 2380.61220353285, 2372.965973379565, 2370.4043858416085, 2376.4739570574475, 2382.0465564517026, 2386.486895906532, 2393.9031965158792, 2401.497886664291, 2409.0781028978618, 2412.8752975080756, 2418.1827628572682, 2420.334481671541, 2422.896028604387, 2425.4614306439485, 2428.8502973795535, 2436.070272541598, 2442.2382452874385, 2448.529410958695, 2454.5414600628255, 2464.947323856543, 2468.0425816708885, 2471.5033137037994, 2475.8029823334195, 2482.947684100078, 2492.28792549007, 2502.2141378410633, 2510.597728956957, 2518.082951161261, 2526.8646462451347, 2543.3681718206212, 2557.631354638559, 2574.163214274703, 2590.261883047233, 2602.53569474251, 2611.497115468259, 2621.392399021433, 2633.1231542192895, 2643.090843697361, 2653.2967495276253, 2665.6570647748626, 2677.0063484973766, 2685.295703847639, 2696.806123662875, 2716.3905014965876, 2731.811461146929, 2749.110319932236, 2769.9992879390124, 2789.479364045111, 2800.4614325406, 2813.4552794865403, 2827.3547466378864, 2837.7792817740974, 2838.3063584966876, 2837.680727547019, 2832.1726645923172, 2829.025393233085, 2828.477858809777, 2828.1350778287992, 2822.9615602459194, 2825.7904042213277, 2827.6213735991946, 2829.269246039275, 2837.3523312353477, 2843.492098111813, 2862.122893200632, 2891.7305989805686, 2919.7675488825116, 2942.6107890942603, 2960.719705284834, 2974.9077445563503, 2985.301979900715, 2994.0817917106433, 3008.3036174395793, 3016.6332654956213, 3026.6099291460596, 3033.613926431454, 3038.9675239883086, 3045.2757764894777, 3054.1532037405304, 3062.7678882664777, 3071.06109453983, 3077.6499801858467, 3087.134982167262, 3098.7914790505356, 3099.122340945482, 3088.5551019509335, 3074.9395819558404, 3061.915618860256, 3051.1290618742305, 3052.7061458868075, 3053.4055263981263, 3051.6549639583136, 3046.3094626624825]\n",
      "[ 0.16140166  0.39491971  1.15222948  1.37990206  0.06925559 -0.09431058\n",
      "  1.96084802  1.92653083  1.46478593  1.83483562  2.95337839  3.54239111\n",
      "  3.56444592  4.67462733  4.36097317  3.75475865  1.40877495  0.70905955\n",
      "  0.75414482 -0.03857921 -0.40129842 -1.17291171 -0.70786667 -0.03336908\n",
      "  1.13097859  0.52154284  1.0464393   0.08661956  0.77646834  0.89901685\n",
      "  1.12198135  0.2211113   0.278883    1.95597519  1.76135427  0.9899063\n",
      " -0.60837634 -0.45977016  0.12900472  0.15038161 -0.19558915 -1.21460447\n",
      "  0.23295457  1.45438566  2.41165706  2.27283514  1.57914541  0.13788122\n",
      " -0.55503284 -1.05092113 -1.48169327 -1.3214634  -1.94148994 -2.2698019\n",
      " -1.71393989 -0.65643749  2.33652563  1.8488692   3.18895786  3.96007674\n",
      "  4.20100758  2.76948104  1.1469275   1.78850918  1.42762703  1.71823833\n",
      "  2.52160985  2.01773991  1.2580558   2.03730396  4.78713806  4.52087546\n",
      "  4.31475956  4.61966054  3.38596597  0.84656369  0.49388973  0.85429083\n",
      "  0.68456    -1.00022904 -0.33296982 -0.34259278  0.8549233   1.94750716\n",
      "  3.18156502  3.28972686  5.72520733  6.33459578  5.5258432   4.17362505\n",
      "  2.31295197  5.99007962  8.19766344  6.02794594  3.60378901  2.38481637\n",
      "  3.68434745  3.78952107  3.14650643  4.58251493  3.9556599   6.37820911\n",
      "  6.04290289  5.58895443  5.67822796  5.33188953  7.02160095  5.47551994\n",
      "  1.73871015 -0.46272433 -2.06979662 -5.25021928 -7.39944055 -6.12761172\n",
      " -3.83142766 -2.54281613  0.90829164  1.54898107  3.62059665  6.16144229\n",
      "  8.36143578]\n"
     ]
    },
    {
     "name": "stderr",
     "output_type": "stream",
     "text": [
      "\n"
     ]
    }
   ],
   "source": [
    "y_pred_list = []\n",
    "with torch.no_grad():\n",
    "    model.eval()\n",
    "    for X_batch, _ in test_loader:\n",
    "        X_batch = X_batch.to(device)\n",
    "        y_test_pred = model(X_batch)\n",
    "        y_pred_list.append(y_test_pred.cpu().numpy())\n",
    "        y_pred_list = [a for a in y_pred_list]\n",
    "        \n",
    "y_pred = []\n",
    "for i in tqdm(range(len(y_pred_list))):\n",
    "    for j in range(len(y_pred_list[i])):\n",
    "        for k in range(len(y_pred_list[i][j])):\n",
    "            y_pred.append(y_pred_list[i][j][k])\n",
    "\n",
    "print(y_pred)  \n",
    "print(y_test.tolist())\n",
    "y_pred_np = np.array(y_pred)\n",
    "difference = np.subtract(y_pred_np, y_test)\n",
    "print(difference)\n"
   ]
  },
  {
   "cell_type": "code",
   "execution_count": 20,
   "metadata": {},
   "outputs": [
    {
     "name": "stdout",
     "output_type": "stream",
     "text": [
      "Mean Squared Error : 10.319041462116179\n",
      "R^2 : 0.999812916991563\n",
      "Accuracy (using MSE): 89.68095853788382%\n",
      "Mean absolute percentage error: 99.99910952369571%\n"
     ]
    }
   ],
   "source": [
    "mse = mean_squared_error(y_test, y_pred)\n",
    "r_square = r2_score(y_test, y_pred)\n",
    "mean_abs_err = mean_absolute_percentage_error(y_test, y_pred)\n",
    "print(\"Mean Squared Error :\",mse)\n",
    "print(\"R^2 :\",r_square)\n",
    "print(f\"Accuracy (using MSE): {(100 - mse)}%\")\n",
    "print(f\"Mean absolute percentage error: {100 - mean_abs_err}%\")"
   ]
  },
  {
   "cell_type": "markdown",
   "metadata": {},
   "source": [
    "#### Visualising the data"
   ]
  },
  {
   "cell_type": "code",
   "execution_count": 21,
   "metadata": {},
   "outputs": [],
   "source": [
    "import plotly as py\n",
    "import plotly.io as pio    \n",
    "import plotly.graph_objects as go\n",
    "from plotly.subplots import make_subplots\n",
    "from plotly.offline import download_plotlyjs, init_notebook_mode, plot, iplot"
   ]
  },
  {
   "cell_type": "code",
   "execution_count": 22,
   "metadata": {},
   "outputs": [
    {
     "data": {
      "application/vnd.plotly.v1+json": {
       "config": {
        "plotlyServerURL": "https://plot.ly"
       },
       "data": [
        {
         "marker": {
          "color": "LightSkyBlue"
         },
         "name": "Truth",
         "type": "scatter",
         "x": [
          0,
          1,
          2,
          3,
          4,
          5,
          6,
          7,
          8,
          9,
          10,
          11,
          12,
          13,
          14,
          15,
          16,
          17,
          18,
          19,
          20,
          21,
          22,
          23,
          24,
          25,
          26,
          27,
          28,
          29,
          30,
          31,
          32,
          33,
          34,
          35,
          36,
          37,
          38,
          39,
          40,
          41,
          42,
          43,
          44,
          45,
          46,
          47,
          48,
          49,
          50,
          51,
          52,
          53,
          54,
          55,
          56,
          57,
          58,
          59,
          60,
          61,
          62,
          63,
          64,
          65,
          66,
          67,
          68,
          69,
          70,
          71,
          72,
          73,
          74,
          75,
          76,
          77,
          78,
          79,
          80,
          81,
          82,
          83,
          84,
          85,
          86,
          87,
          88,
          89,
          90,
          91,
          92,
          93,
          94,
          95,
          96,
          97,
          98,
          99,
          100,
          101,
          102,
          103,
          104,
          105,
          106,
          107,
          108,
          109,
          110,
          111,
          112,
          113,
          114,
          115,
          116,
          117,
          118,
          119,
          120,
          121,
          122,
          123,
          124,
          125,
          126,
          127,
          128,
          129,
          130,
          131,
          132,
          133,
          134,
          135,
          136,
          137,
          138,
          139,
          140,
          141,
          142,
          143,
          144,
          145,
          146,
          147,
          148,
          149,
          150,
          151,
          152,
          153,
          154,
          155,
          156,
          157,
          158,
          159,
          160,
          161,
          162,
          163,
          164,
          165,
          166,
          167,
          168,
          169,
          170,
          171,
          172,
          173,
          174,
          175,
          176,
          177,
          178,
          179,
          180,
          181,
          182,
          183,
          184,
          185,
          186,
          187,
          188,
          189,
          190,
          191,
          192,
          193,
          194,
          195,
          196,
          197,
          198,
          199,
          200,
          201,
          202,
          203,
          204,
          205,
          206,
          207,
          208,
          209,
          210,
          211,
          212,
          213,
          214,
          215,
          216,
          217,
          218,
          219,
          220,
          221,
          222,
          223,
          224,
          225,
          226,
          227,
          228,
          229,
          230,
          231,
          232,
          233,
          234,
          235,
          236,
          237,
          238,
          239,
          240,
          241,
          242,
          243,
          244,
          245,
          246,
          247,
          248,
          249,
          250,
          251,
          252,
          253,
          254,
          255,
          256,
          257,
          258,
          259,
          260,
          261,
          262,
          263,
          264,
          265,
          266,
          267,
          268,
          269,
          270,
          271,
          272,
          273,
          274,
          275,
          276,
          277,
          278,
          279,
          280,
          281,
          282,
          283,
          284,
          285,
          286,
          287,
          288,
          289,
          290,
          291,
          292,
          293,
          294,
          295,
          296,
          297,
          298,
          299,
          300,
          301,
          302,
          303,
          304,
          305,
          306,
          307,
          308,
          309,
          310,
          311,
          312,
          313,
          314,
          315,
          316,
          317,
          318,
          319,
          320,
          321,
          322,
          323,
          324,
          325,
          326,
          327,
          328,
          329,
          330,
          331,
          332,
          333,
          334,
          335,
          336,
          337,
          338,
          339,
          340,
          341,
          342,
          343,
          344,
          345,
          346,
          347,
          348,
          349,
          350,
          351,
          352,
          353,
          354,
          355,
          356,
          357,
          358,
          359,
          360,
          361,
          362,
          363,
          364,
          365,
          366,
          367,
          368,
          369,
          370,
          371,
          372,
          373,
          374,
          375,
          376,
          377,
          378,
          379,
          380,
          381,
          382,
          383,
          384,
          385,
          386,
          387,
          388,
          389,
          390,
          391,
          392,
          393,
          394,
          395,
          396,
          397,
          398,
          399,
          400,
          401,
          402,
          403,
          404,
          405,
          406,
          407,
          408,
          409,
          410,
          411,
          412,
          413,
          414,
          415,
          416,
          417,
          418,
          419,
          420,
          421,
          422,
          423,
          424,
          425,
          426,
          427,
          428,
          429,
          430,
          431,
          432,
          433,
          434,
          435,
          436,
          437,
          438,
          439,
          440,
          441,
          442,
          443,
          444,
          445,
          446,
          447,
          448,
          449,
          450,
          451,
          452,
          453,
          454,
          455,
          456,
          457,
          458,
          459,
          460,
          461,
          462,
          463,
          464,
          465,
          466,
          467,
          468,
          469,
          470,
          471,
          472,
          473,
          474,
          475,
          476,
          477,
          478,
          479,
          480,
          481,
          482,
          483,
          484,
          485,
          486,
          487,
          488,
          489,
          490,
          491,
          492,
          493,
          494,
          495,
          496,
          497,
          498,
          499,
          500,
          501,
          502,
          503,
          504,
          505,
          506,
          507,
          508,
          509,
          510,
          511,
          512,
          513,
          514,
          515,
          516,
          517,
          518,
          519,
          520,
          521,
          522,
          523,
          524,
          525,
          526,
          527,
          528,
          529,
          530,
          531,
          532,
          533,
          534,
          535,
          536,
          537,
          538,
          539,
          540,
          541,
          542,
          543,
          544,
          545,
          546,
          547,
          548,
          549,
          550,
          551,
          552,
          553,
          554,
          555,
          556,
          557,
          558,
          559,
          560,
          561,
          562,
          563,
          564,
          565,
          566,
          567,
          568,
          569,
          570,
          571,
          572,
          573,
          574,
          575,
          576,
          577,
          578,
          579,
          580,
          581,
          582,
          583,
          584,
          585,
          586,
          587,
          588,
          589,
          590,
          591,
          592,
          593,
          594,
          595,
          596,
          597,
          598,
          599,
          600,
          601,
          602,
          603,
          604,
          605,
          606,
          607,
          608,
          609,
          610,
          611,
          612,
          613,
          614,
          615,
          616,
          617,
          618,
          619,
          620,
          621,
          622,
          623,
          624,
          625,
          626,
          627,
          628,
          629,
          630,
          631,
          632,
          633,
          634,
          635,
          636,
          637,
          638
         ],
         "xaxis": "x",
         "y": [
          3463.949951,
          3448.850098,
          3419.350098,
          3350.550049,
          3264.149902,
          3255.050049,
          3190.550049,
          3107.199951,
          3119.149902,
          3095.850098,
          3067.449951,
          3033.850098,
          2941.649902,
          2937.800049,
          2963.850098,
          2913.600098,
          2956.100098,
          2886.899902,
          2887.949951,
          2941.600098,
          2928,
          2912.899902,
          2786.100098,
          2865.350098,
          2862.550049,
          2894.850098,
          2785.550049,
          2823.699951,
          2851.149902,
          2864.050049,
          2864.550049,
          2905.5,
          2926.25,
          2860.100098,
          2819.149902,
          2793.25,
          2776.75,
          2788.199951,
          2913.300049,
          2860.800049,
          2836.300049,
          2838.350098,
          2840.149902,
          2812.350098,
          2854.75,
          2906.949951,
          2915,
          2865.100098,
          2884.399902,
          2900.449951,
          2929.699951,
          2964.699951,
          2991.300049,
          2991.550049,
          3007.5,
          2976.75,
          2972.600098,
          3008.350098,
          3048.399902,
          3052.25,
          3055.949951,
          3023.5,
          3009,
          3004.350098,
          2985.649902,
          3007.050049,
          2975.399902,
          2914.100098,
          2891.350098,
          2894.850098,
          2907.050049,
          2928.350098,
          2906.949951,
          2939.199951,
          2943.649902,
          2927.5,
          2902.600098,
          2922.5,
          2919.850098,
          2938.050049,
          2919.25,
          2913.350098,
          2900.399902,
          2896.800049,
          2898.199951,
          2904.100098,
          2900.699951,
          2884.649902,
          2904.699951,
          2887.100098,
          2839,
          2838.25,
          2835,
          2810.25,
          2793.850098,
          2777.699951,
          2745.699951,
          2763.300049,
          2782.199951,
          2819.100098,
          2805.5,
          2818.800049,
          2833.800049,
          2836.300049,
          2797.050049,
          2781.600098,
          2782.949951,
          2772.199951,
          2747.350098,
          2782.600098,
          2763.600098,
          2697.5,
          2680.600098,
          2675.850098,
          2673.949951,
          2647.550049,
          2674.050049,
          2726.25,
          2741.850098,
          2740.850098,
          2730.350098,
          2799.449951,
          2817.199951,
          2797.75,
          2798.350098,
          2796.699951,
          2789.800049,
          2851.699951,
          2874.949951,
          2920.399902,
          2932.100098,
          2889.5,
          2850.449951,
          2847.199951,
          2853.050049,
          2833.449951,
          2912.949951,
          2920.550049,
          2886.149902,
          2832.5,
          2847.949951,
          2855.550049,
          2844.550049,
          2798.149902,
          2841.649902,
          2842.100098,
          2857.800049,
          2916.649902,
          2925.199951,
          2927.800049,
          2904.100098,
          2876.050049,
          2816,
          2756.899902,
          2744.149902,
          2686.800049,
          2700.5,
          2690.149902,
          2667.75,
          2657.100098,
          2680.699951,
          2684.300049,
          2641.449951,
          2677.5,
          2682.899902,
          2714.350098,
          2718.800049,
          2700.899902,
          2683.050049,
          2693.25,
          2750.899902,
          2749.350098,
          2684.850098,
          2634.600098,
          2632.199951,
          2621.050049,
          2594.699951,
          2529.399902,
          2490.800049,
          2449.300049,
          2448.199951,
          2472.699951,
          2462.449951,
          2420,
          2461.800049,
          2490.649902,
          2520.949951,
          2526.850098,
          2495,
          2483.800049,
          2507.149902,
          2471.100098,
          2444.649902,
          2356.649902,
          2347.399902,
          2348.800049,
          2392.699951,
          2392.449951,
          2402,
          2417.800049,
          2433.25,
          2431.899902,
          2462.100098,
          2476.600098,
          2484.899902,
          2506,
          2496,
          2499.100098,
          2578.100098,
          2568.25,
          2590.5,
          2593.600098,
          2569.699951,
          2701.5,
          2692.850098,
          2699.800049,
          2709.449951,
          2750.100098,
          2706.199951,
          2782.050049,
          2715,
          2672.149902,
          2724.300049,
          2726.75,
          2702.399902,
          2781.5,
          2721.75,
          2648.050049,
          2671.949951,
          2728.850098,
          2734.100098,
          2718.600098,
          2648.5,
          2778.649902,
          2786.800049,
          2793.449951,
          2774.050049,
          2713.350098,
          2731,
          2670.649902,
          2490.399902,
          2558.399902,
          2535.449951,
          2426.300049,
          2417.399902,
          2311.300049,
          2198.699951,
          2251.649902,
          2290.5,
          2320.75,
          2331.199951,
          2341.899902,
          2318.399902,
          2369.5,
          2419.899902,
          2391.550049,
          2423.649902,
          2394.649902,
          2412.149902,
          2378.399902,
          2377.949951,
          2210.649902,
          2271.649902,
          2294.149902,
          2240.149902,
          2311.75,
          2332.25,
          2346.899902,
          2350.600098,
          2362.449951,
          2335.399902,
          2297.899902,
          2274.399902,
          2285.399902,
          2263.25,
          2274.850098,
          2317.649902,
          2294.25,
          2288.600098,
          2407.25,
          2500,
          2517.300049,
          2506.649902,
          2487.300049,
          2409.5,
          2501.649902,
          2563.350098,
          2492.75,
          2469.75,
          2470.300049,
          2401.199951,
          2449.149902,
          2495.899902,
          2523.5,
          2539,
          2515.5,
          2590.149902,
          2624.699951,
          2637,
          2594.699951,
          2636.449951,
          2719.800049,
          2770.550049,
          2773.899902,
          2757.600098,
          2663.100098,
          2583.75,
          2540.75,
          2570.850098,
          2585.949951,
          2598.100098,
          2601.949951,
          2598.800049,
          2557.600098,
          2605.300049,
          2519.050049,
          2467.399902,
          2452.550049,
          2499.199951,
          2524.449951,
          2674.100098,
          2759.949951,
          2755.5,
          2766.699951,
          2752.399902,
          2719.699951,
          2763.800049,
          2760.449951,
          2737.25,
          2831.800049,
          2839.449951,
          2849.300049,
          2868.100098,
          2875.5,
          2843.350098,
          2792.800049,
          2800.050049,
          2817.949951,
          2801.199951,
          2826.75,
          2847.800049,
          2871.600098,
          2838.850098,
          2800.75,
          2782.550049,
          2780.699951,
          2818.050049,
          2840.800049,
          2771.449951,
          2801.899902,
          2807,
          2770.699951,
          2738.050049,
          2775.449951,
          2785.300049,
          2761.899902,
          2817,
          2913.449951,
          2908.199951,
          2838.649902,
          2780.550049,
          2803.399902,
          2806.350098,
          2799.800049,
          2826.75,
          2827.050049,
          2837.699951,
          2876.649902,
          2825.149902,
          2842.050049,
          2866.550049,
          2854.75,
          2857.300049,
          2838.449951,
          2857.899902,
          2870,
          2851.5,
          2790.300049,
          2685.199951,
          2704.399902,
          2771.550049,
          2776.649902,
          2776.949951,
          2762.050049,
          2721.350098,
          2638.25,
          2591.350098,
          2536.300049,
          2549.199951,
          2525.550049,
          2621.800049,
          2646.100098,
          2624.949951,
          2570.5,
          2548.149902,
          2550.050049,
          2546.449951,
          2535.899902,
          2553.699951,
          2562,
          2541.199951,
          2565.550049,
          2569.850098,
          2581.899902,
          2585.600098,
          2610.75,
          2649.850098,
          2676.850098,
          2673.149902,
          2643.949951,
          2646.350098,
          2588.899902,
          2621.050049,
          2651.5,
          2712.5,
          2668.5,
          2688.399902,
          2730.75,
          2739.449951,
          2744,
          2723.149902,
          2677.449951,
          2685.449951,
          2658.850098,
          2673.100098,
          2708.149902,
          2783.5,
          2828.25,
          2851.899902,
          2871.800049,
          2820.449951,
          2827.649902,
          2798.800049,
          2759.550049,
          2758.199951,
          2751.5,
          2771.449951,
          2759.449951,
          2747.350098,
          2770.850098,
          2724.850098,
          2780.600098,
          2772.550049,
          2757.449951,
          2727.699951,
          2636.850098,
          2686.300049,
          2702.350098,
          2696.600098,
          2722.199951,
          2738.850098,
          2715.899902,
          2720.399902,
          2709.300049,
          2767.149902,
          2742.550049,
          2752.350098,
          2712.050049,
          2693.75,
          2694.25,
          2728.449951,
          2758.600098,
          2766.850098,
          2769.949951,
          2769.550049,
          2746.449951,
          2774.600098,
          2771.899902,
          2785,
          2736.149902,
          2702.300049,
          2763.25,
          2727.25,
          2660.949951,
          2654.25,
          2695,
          2652.600098,
          2614.649902,
          2559.199951,
          2583.300049,
          2561.550049,
          2542.5,
          2572,
          2556.699951,
          2535.550049,
          2527.449951,
          2520.550049,
          2499.449951,
          2495.5,
          2485.649902,
          2437.550049,
          2419.100098,
          2431.100098,
          2463.350098,
          2461.550049,
          2479.699951,
          2478.050049,
          2443.800049,
          2440.300049,
          2387.050049,
          2373.449951,
          2379.449951,
          2370.949951,
          2355.149902,
          2339.350098,
          2349.050049,
          2353.199951,
          2362.5,
          2313.350098,
          2308.600098,
          2249.5,
          2304.149902,
          2347.350098,
          2431.100098,
          2432.199951,
          2426.449951,
          2460.649902,
          2469.850098,
          2477.300049,
          2447.050049,
          2465.949951,
          2439.699951,
          2445.949951,
          2448.550049,
          2459.350098,
          2501.050049,
          2497.75,
          2505.149902,
          2508.649902,
          2558.600098,
          2495.899902,
          2502.649902,
          2514.5,
          2547.25,
          2576.350098,
          2591.550049,
          2586.050049,
          2585.449951,
          2605.899902,
          2691.899902,
          2686,
          2722.949951,
          2735.149902,
          2713,
          2692.149902,
          2710.449951,
          2738.699951,
          2732.800049,
          2745.149902,
          2776.899902,
          2779.149902,
          2759.899902,
          2800.399902,
          2892.649902,
          2870.600098,
          2904.800049,
          2958,
          2964.800049,
          2899.300049,
          2930.399902,
          2952.449951,
          2931.600098,
          2843.050049,
          2832.050049,
          2782.600098,
          2800.699951,
          2823.550049,
          2825.050049,
          2776.399902,
          2851.25,
          2844.100098,
          2844.100098,
          2910.100098,
          2898.75,
          3029.800049,
          3158.199951,
          3172.100098,
          3148.199951,
          3123.699951,
          3102.600098,
          3078.850098,
          3073.100098,
          3136.300049,
          3091.600098,
          3116.399902,
          3096.649902,
          3087.149902,
          3102.050049,
          3134.050049,
          3140.300049,
          3145.699951,
          3136.949951,
          3172.5,
          3203.699951,
          3102.100098,
          2993.449951,
          2952.399902,
          2944.699951,
          2954.050049,
          3066.899902,
          3059.699951,
          3035.899902,
          2998.199951,
          3010.649902,
          2981.75
         ],
         "yaxis": "y"
        },
        {
         "marker": {
          "color": "MediumPurple"
         },
         "name": "Prediction",
         "type": "scatter",
         "x": [
          484,
          485,
          486,
          487,
          488,
          489,
          490,
          491,
          492,
          493,
          494,
          495,
          496,
          497,
          498,
          499,
          500,
          501,
          502,
          503,
          504,
          505,
          506,
          507,
          508,
          509,
          510,
          511,
          512,
          513,
          514,
          515,
          516,
          517,
          518,
          519,
          520,
          521,
          522,
          523,
          524,
          525,
          526,
          527,
          528,
          529,
          530,
          531,
          532,
          533,
          534,
          535,
          536,
          537,
          538,
          539,
          540,
          541,
          542,
          543,
          544,
          545,
          546,
          547,
          548,
          549,
          550,
          551,
          552,
          553,
          554,
          555,
          556,
          557,
          558,
          559,
          560,
          561,
          562,
          563,
          564,
          565,
          566,
          567,
          568,
          569,
          570,
          571,
          572,
          573,
          574,
          575,
          576,
          577,
          578,
          579,
          580,
          581,
          582,
          583,
          584,
          585,
          586,
          587,
          588,
          589,
          590,
          591,
          592,
          593,
          594,
          595,
          596,
          597,
          598,
          599,
          600,
          601,
          602,
          603,
          604,
          605,
          606,
          607,
          608,
          609,
          610,
          611,
          612,
          613,
          614,
          615,
          616,
          617,
          618,
          619,
          620,
          621,
          622,
          623,
          624,
          625,
          626,
          627,
          628,
          629,
          630,
          631,
          632,
          633,
          634,
          635,
          636,
          637,
          638
         ],
         "xaxis": "x",
         "y": [
          2648.329833984375,
          2639.41650390625,
          2629.82666015625,
          2619.931884765625,
          2608.821044921875,
          2597.727294921875,
          2589.55029296875,
          2579.322021484375,
          2564.875732421875,
          2550.814697265625,
          2540.145263671875,
          2533.35009765625,
          2526.54638671875,
          2523.328369140625,
          2518.954345703125,
          2511.268798828125,
          2502.201416015625,
          2490.12744140625,
          2478.57568359375,
          2467.94580078125,
          2457.879638671875,
          2446.794921875,
          2436.398193359375,
          2428.26708984375,
          2421.92138671875,
          2415.48291015625,
          2405.8466796875,
          2395.266845703125,
          2381.388671875,
          2373.864990234375,
          2371.5263671875,
          2376.695068359375,
          2382.325439453125,
          2388.44287109375,
          2395.66455078125,
          2402.48779296875,
          2408.4697265625,
          2412.41552734375,
          2418.311767578125,
          2420.48486328125,
          2422.700439453125,
          2424.246826171875,
          2429.083251953125,
          2437.524658203125,
          2444.64990234375,
          2450.80224609375,
          2456.12060546875,
          2465.085205078125,
          2467.487548828125,
          2470.452392578125,
          2474.3212890625,
          2481.626220703125,
          2490.346435546875,
          2499.9443359375,
          2508.8837890625,
          2517.426513671875,
          2529.201171875,
          2545.217041015625,
          2560.8203125,
          2578.123291015625,
          2594.462890625,
          2605.30517578125,
          2612.64404296875,
          2623.180908203125,
          2634.55078125,
          2644.80908203125,
          2655.818359375,
          2667.6748046875,
          2678.264404296875,
          2687.3330078125,
          2701.59326171875,
          2720.911376953125,
          2736.126220703125,
          2753.72998046875,
          2773.38525390625,
          2790.325927734375,
          2800.955322265625,
          2814.3095703125,
          2828.039306640625,
          2836.779052734375,
          2837.973388671875,
          2837.338134765625,
          2833.027587890625,
          2830.972900390625,
          2831.659423828125,
          2831.4248046875,
          2828.686767578125,
          2832.125,
          2833.147216796875,
          2833.44287109375,
          2839.665283203125,
          2849.482177734375,
          2870.320556640625,
          2897.758544921875,
          2923.371337890625,
          2944.99560546875,
          2964.404052734375,
          2978.697265625,
          2988.448486328125,
          2998.664306640625,
          3012.25927734375,
          3023.011474609375,
          3032.65283203125,
          3039.202880859375,
          3044.645751953125,
          3050.607666015625,
          3061.1748046875,
          3068.243408203125,
          3072.7998046875,
          3077.187255859375,
          3085.065185546875,
          3093.541259765625,
          3091.722900390625,
          3082.427490234375,
          3071.108154296875,
          3059.372802734375,
          3052.037353515625,
          3054.255126953125,
          3057.026123046875,
          3057.81640625,
          3054.6708984375
         ],
         "yaxis": "y"
        },
        {
         "marker": {
          "color": "MediumPurple"
         },
         "name": "Prediction",
         "type": "scatter",
         "x": [
          484,
          485,
          486,
          487,
          488,
          489,
          490,
          491,
          492,
          493,
          494,
          495,
          496,
          497,
          498,
          499,
          500,
          501,
          502,
          503,
          504,
          505,
          506,
          507,
          508,
          509,
          510,
          511,
          512,
          513,
          514,
          515,
          516,
          517,
          518,
          519,
          520,
          521,
          522,
          523,
          524,
          525,
          526,
          527,
          528,
          529,
          530,
          531,
          532,
          533,
          534,
          535,
          536,
          537,
          538,
          539,
          540,
          541,
          542,
          543,
          544,
          545,
          546,
          547,
          548,
          549,
          550,
          551,
          552,
          553,
          554,
          555,
          556,
          557,
          558,
          559,
          560,
          561,
          562,
          563,
          564,
          565,
          566,
          567,
          568,
          569,
          570,
          571,
          572,
          573,
          574,
          575,
          576,
          577,
          578,
          579,
          580,
          581,
          582,
          583,
          584,
          585,
          586,
          587,
          588,
          589,
          590,
          591,
          592,
          593,
          594,
          595,
          596,
          597,
          598,
          599,
          600,
          601,
          602,
          603,
          604,
          605,
          606,
          607,
          608,
          609,
          610,
          611,
          612,
          613,
          614,
          615,
          616,
          617,
          618,
          619,
          620,
          621,
          622,
          623,
          624,
          625,
          626,
          627,
          628,
          629,
          630,
          631,
          632,
          633,
          634,
          635,
          636,
          637,
          638
         ],
         "xaxis": "x2",
         "y": [
          2648.329833984375,
          2639.41650390625,
          2629.82666015625,
          2619.931884765625,
          2608.821044921875,
          2597.727294921875,
          2589.55029296875,
          2579.322021484375,
          2564.875732421875,
          2550.814697265625,
          2540.145263671875,
          2533.35009765625,
          2526.54638671875,
          2523.328369140625,
          2518.954345703125,
          2511.268798828125,
          2502.201416015625,
          2490.12744140625,
          2478.57568359375,
          2467.94580078125,
          2457.879638671875,
          2446.794921875,
          2436.398193359375,
          2428.26708984375,
          2421.92138671875,
          2415.48291015625,
          2405.8466796875,
          2395.266845703125,
          2381.388671875,
          2373.864990234375,
          2371.5263671875,
          2376.695068359375,
          2382.325439453125,
          2388.44287109375,
          2395.66455078125,
          2402.48779296875,
          2408.4697265625,
          2412.41552734375,
          2418.311767578125,
          2420.48486328125,
          2422.700439453125,
          2424.246826171875,
          2429.083251953125,
          2437.524658203125,
          2444.64990234375,
          2450.80224609375,
          2456.12060546875,
          2465.085205078125,
          2467.487548828125,
          2470.452392578125,
          2474.3212890625,
          2481.626220703125,
          2490.346435546875,
          2499.9443359375,
          2508.8837890625,
          2517.426513671875,
          2529.201171875,
          2545.217041015625,
          2560.8203125,
          2578.123291015625,
          2594.462890625,
          2605.30517578125,
          2612.64404296875,
          2623.180908203125,
          2634.55078125,
          2644.80908203125,
          2655.818359375,
          2667.6748046875,
          2678.264404296875,
          2687.3330078125,
          2701.59326171875,
          2720.911376953125,
          2736.126220703125,
          2753.72998046875,
          2773.38525390625,
          2790.325927734375,
          2800.955322265625,
          2814.3095703125,
          2828.039306640625,
          2836.779052734375,
          2837.973388671875,
          2837.338134765625,
          2833.027587890625,
          2830.972900390625,
          2831.659423828125,
          2831.4248046875,
          2828.686767578125,
          2832.125,
          2833.147216796875,
          2833.44287109375,
          2839.665283203125,
          2849.482177734375,
          2870.320556640625,
          2897.758544921875,
          2923.371337890625,
          2944.99560546875,
          2964.404052734375,
          2978.697265625,
          2988.448486328125,
          2998.664306640625,
          3012.25927734375,
          3023.011474609375,
          3032.65283203125,
          3039.202880859375,
          3044.645751953125,
          3050.607666015625,
          3061.1748046875,
          3068.243408203125,
          3072.7998046875,
          3077.187255859375,
          3085.065185546875,
          3093.541259765625,
          3091.722900390625,
          3082.427490234375,
          3071.108154296875,
          3059.372802734375,
          3052.037353515625,
          3054.255126953125,
          3057.026123046875,
          3057.81640625,
          3054.6708984375
         ],
         "yaxis": "y2"
        },
        {
         "marker": {
          "color": "LightSkyBlue"
         },
         "name": "Truth",
         "showlegend": false,
         "type": "scatter",
         "x": [
          484,
          485,
          486,
          487,
          488,
          489,
          490,
          491,
          492,
          493,
          494,
          495,
          496,
          497,
          498,
          499,
          500,
          501,
          502,
          503,
          504,
          505,
          506,
          507,
          508,
          509,
          510,
          511,
          512,
          513,
          514,
          515,
          516,
          517,
          518,
          519,
          520,
          521,
          522,
          523,
          524,
          525,
          526,
          527,
          528,
          529,
          530,
          531,
          532,
          533,
          534,
          535,
          536,
          537,
          538,
          539,
          540,
          541,
          542,
          543,
          544,
          545,
          546,
          547,
          548,
          549,
          550,
          551,
          552,
          553,
          554,
          555,
          556,
          557,
          558,
          559,
          560,
          561,
          562,
          563,
          564,
          565,
          566,
          567,
          568,
          569,
          570,
          571,
          572,
          573,
          574,
          575,
          576,
          577,
          578,
          579,
          580,
          581,
          582,
          583,
          584,
          585,
          586,
          587,
          588,
          589,
          590,
          591,
          592,
          593,
          594,
          595,
          596,
          597,
          598,
          599,
          600,
          601,
          602,
          603,
          604,
          605,
          606,
          607,
          608,
          609,
          610,
          611,
          612,
          613,
          614,
          615,
          616,
          617,
          618,
          619,
          620,
          621,
          622,
          623,
          624,
          625,
          626,
          627,
          628,
          629,
          630,
          631,
          632,
          633,
          634,
          635,
          636,
          637,
          638
         ],
         "xaxis": "x3",
         "y": [
          2648.1684323237027,
          2639.0215841913323,
          2628.6744306721994,
          2618.5519827049793,
          2608.7517893344816,
          2597.821605501033,
          2587.5894449509296,
          2577.3954906558365,
          2563.4109464902526,
          2548.979861641227,
          2537.1918852771046,
          2529.807706549394,
          2522.9819407944547,
          2518.653741815009,
          2514.5933725335085,
          2507.5140401801577,
          2500.792641062142,
          2489.418381855928,
          2477.8215387703353,
          2467.9843799933014,
          2458.2809370939713,
          2447.9678335845742,
          2437.1060600261167,
          2428.300458923505,
          2420.7904081311544,
          2414.9613673180393,
          2404.800240386235,
          2395.1802261476114,
          2380.61220353285,
          2372.965973379565,
          2370.4043858416085,
          2376.4739570574475,
          2382.0465564517026,
          2386.486895906532,
          2393.9031965158792,
          2401.497886664291,
          2409.0781028978618,
          2412.8752975080756,
          2418.1827628572682,
          2420.334481671541,
          2422.896028604387,
          2425.4614306439485,
          2428.8502973795535,
          2436.070272541598,
          2442.2382452874385,
          2448.529410958695,
          2454.5414600628255,
          2464.947323856543,
          2468.0425816708885,
          2471.5033137037994,
          2475.8029823334195,
          2482.947684100078,
          2492.28792549007,
          2502.2141378410633,
          2510.597728956957,
          2518.082951161261,
          2526.8646462451347,
          2543.3681718206212,
          2557.631354638559,
          2574.163214274703,
          2590.261883047233,
          2602.53569474251,
          2611.497115468259,
          2621.392399021433,
          2633.1231542192895,
          2643.090843697361,
          2653.2967495276253,
          2665.6570647748626,
          2677.0063484973766,
          2685.295703847639,
          2696.806123662875,
          2716.3905014965876,
          2731.811461146929,
          2749.110319932236,
          2769.9992879390124,
          2789.479364045111,
          2800.4614325406,
          2813.4552794865403,
          2827.3547466378864,
          2837.7792817740974,
          2838.3063584966876,
          2837.680727547019,
          2832.1726645923172,
          2829.025393233085,
          2828.477858809777,
          2828.1350778287992,
          2822.9615602459194,
          2825.7904042213277,
          2827.6213735991946,
          2829.269246039275,
          2837.3523312353477,
          2843.492098111813,
          2862.122893200632,
          2891.7305989805686,
          2919.7675488825116,
          2942.6107890942603,
          2960.719705284834,
          2974.9077445563503,
          2985.301979900715,
          2994.0817917106433,
          3008.3036174395793,
          3016.6332654956213,
          3026.6099291460596,
          3033.613926431454,
          3038.9675239883086,
          3045.2757764894777,
          3054.1532037405304,
          3062.7678882664777,
          3071.06109453983,
          3077.6499801858467,
          3087.134982167262,
          3098.7914790505356,
          3099.122340945482,
          3088.5551019509335,
          3074.9395819558404,
          3061.915618860256,
          3051.1290618742305,
          3052.7061458868075,
          3053.4055263981263,
          3051.6549639583136,
          3046.3094626624825
         ],
         "yaxis": "y3"
        }
       ],
       "layout": {
        "template": {
         "data": {
          "bar": [
           {
            "error_x": {
             "color": "#2a3f5f"
            },
            "error_y": {
             "color": "#2a3f5f"
            },
            "marker": {
             "line": {
              "color": "#E5ECF6",
              "width": 0.5
             },
             "pattern": {
              "fillmode": "overlay",
              "size": 10,
              "solidity": 0.2
             }
            },
            "type": "bar"
           }
          ],
          "barpolar": [
           {
            "marker": {
             "line": {
              "color": "#E5ECF6",
              "width": 0.5
             },
             "pattern": {
              "fillmode": "overlay",
              "size": 10,
              "solidity": 0.2
             }
            },
            "type": "barpolar"
           }
          ],
          "carpet": [
           {
            "aaxis": {
             "endlinecolor": "#2a3f5f",
             "gridcolor": "white",
             "linecolor": "white",
             "minorgridcolor": "white",
             "startlinecolor": "#2a3f5f"
            },
            "baxis": {
             "endlinecolor": "#2a3f5f",
             "gridcolor": "white",
             "linecolor": "white",
             "minorgridcolor": "white",
             "startlinecolor": "#2a3f5f"
            },
            "type": "carpet"
           }
          ],
          "choropleth": [
           {
            "colorbar": {
             "outlinewidth": 0,
             "ticks": ""
            },
            "type": "choropleth"
           }
          ],
          "contour": [
           {
            "colorbar": {
             "outlinewidth": 0,
             "ticks": ""
            },
            "colorscale": [
             [
              0,
              "#0d0887"
             ],
             [
              0.1111111111111111,
              "#46039f"
             ],
             [
              0.2222222222222222,
              "#7201a8"
             ],
             [
              0.3333333333333333,
              "#9c179e"
             ],
             [
              0.4444444444444444,
              "#bd3786"
             ],
             [
              0.5555555555555556,
              "#d8576b"
             ],
             [
              0.6666666666666666,
              "#ed7953"
             ],
             [
              0.7777777777777778,
              "#fb9f3a"
             ],
             [
              0.8888888888888888,
              "#fdca26"
             ],
             [
              1,
              "#f0f921"
             ]
            ],
            "type": "contour"
           }
          ],
          "contourcarpet": [
           {
            "colorbar": {
             "outlinewidth": 0,
             "ticks": ""
            },
            "type": "contourcarpet"
           }
          ],
          "heatmap": [
           {
            "colorbar": {
             "outlinewidth": 0,
             "ticks": ""
            },
            "colorscale": [
             [
              0,
              "#0d0887"
             ],
             [
              0.1111111111111111,
              "#46039f"
             ],
             [
              0.2222222222222222,
              "#7201a8"
             ],
             [
              0.3333333333333333,
              "#9c179e"
             ],
             [
              0.4444444444444444,
              "#bd3786"
             ],
             [
              0.5555555555555556,
              "#d8576b"
             ],
             [
              0.6666666666666666,
              "#ed7953"
             ],
             [
              0.7777777777777778,
              "#fb9f3a"
             ],
             [
              0.8888888888888888,
              "#fdca26"
             ],
             [
              1,
              "#f0f921"
             ]
            ],
            "type": "heatmap"
           }
          ],
          "heatmapgl": [
           {
            "colorbar": {
             "outlinewidth": 0,
             "ticks": ""
            },
            "colorscale": [
             [
              0,
              "#0d0887"
             ],
             [
              0.1111111111111111,
              "#46039f"
             ],
             [
              0.2222222222222222,
              "#7201a8"
             ],
             [
              0.3333333333333333,
              "#9c179e"
             ],
             [
              0.4444444444444444,
              "#bd3786"
             ],
             [
              0.5555555555555556,
              "#d8576b"
             ],
             [
              0.6666666666666666,
              "#ed7953"
             ],
             [
              0.7777777777777778,
              "#fb9f3a"
             ],
             [
              0.8888888888888888,
              "#fdca26"
             ],
             [
              1,
              "#f0f921"
             ]
            ],
            "type": "heatmapgl"
           }
          ],
          "histogram": [
           {
            "marker": {
             "pattern": {
              "fillmode": "overlay",
              "size": 10,
              "solidity": 0.2
             }
            },
            "type": "histogram"
           }
          ],
          "histogram2d": [
           {
            "colorbar": {
             "outlinewidth": 0,
             "ticks": ""
            },
            "colorscale": [
             [
              0,
              "#0d0887"
             ],
             [
              0.1111111111111111,
              "#46039f"
             ],
             [
              0.2222222222222222,
              "#7201a8"
             ],
             [
              0.3333333333333333,
              "#9c179e"
             ],
             [
              0.4444444444444444,
              "#bd3786"
             ],
             [
              0.5555555555555556,
              "#d8576b"
             ],
             [
              0.6666666666666666,
              "#ed7953"
             ],
             [
              0.7777777777777778,
              "#fb9f3a"
             ],
             [
              0.8888888888888888,
              "#fdca26"
             ],
             [
              1,
              "#f0f921"
             ]
            ],
            "type": "histogram2d"
           }
          ],
          "histogram2dcontour": [
           {
            "colorbar": {
             "outlinewidth": 0,
             "ticks": ""
            },
            "colorscale": [
             [
              0,
              "#0d0887"
             ],
             [
              0.1111111111111111,
              "#46039f"
             ],
             [
              0.2222222222222222,
              "#7201a8"
             ],
             [
              0.3333333333333333,
              "#9c179e"
             ],
             [
              0.4444444444444444,
              "#bd3786"
             ],
             [
              0.5555555555555556,
              "#d8576b"
             ],
             [
              0.6666666666666666,
              "#ed7953"
             ],
             [
              0.7777777777777778,
              "#fb9f3a"
             ],
             [
              0.8888888888888888,
              "#fdca26"
             ],
             [
              1,
              "#f0f921"
             ]
            ],
            "type": "histogram2dcontour"
           }
          ],
          "mesh3d": [
           {
            "colorbar": {
             "outlinewidth": 0,
             "ticks": ""
            },
            "type": "mesh3d"
           }
          ],
          "parcoords": [
           {
            "line": {
             "colorbar": {
              "outlinewidth": 0,
              "ticks": ""
             }
            },
            "type": "parcoords"
           }
          ],
          "pie": [
           {
            "automargin": true,
            "type": "pie"
           }
          ],
          "scatter": [
           {
            "fillpattern": {
             "fillmode": "overlay",
             "size": 10,
             "solidity": 0.2
            },
            "type": "scatter"
           }
          ],
          "scatter3d": [
           {
            "line": {
             "colorbar": {
              "outlinewidth": 0,
              "ticks": ""
             }
            },
            "marker": {
             "colorbar": {
              "outlinewidth": 0,
              "ticks": ""
             }
            },
            "type": "scatter3d"
           }
          ],
          "scattercarpet": [
           {
            "marker": {
             "colorbar": {
              "outlinewidth": 0,
              "ticks": ""
             }
            },
            "type": "scattercarpet"
           }
          ],
          "scattergeo": [
           {
            "marker": {
             "colorbar": {
              "outlinewidth": 0,
              "ticks": ""
             }
            },
            "type": "scattergeo"
           }
          ],
          "scattergl": [
           {
            "marker": {
             "colorbar": {
              "outlinewidth": 0,
              "ticks": ""
             }
            },
            "type": "scattergl"
           }
          ],
          "scattermapbox": [
           {
            "marker": {
             "colorbar": {
              "outlinewidth": 0,
              "ticks": ""
             }
            },
            "type": "scattermapbox"
           }
          ],
          "scatterpolar": [
           {
            "marker": {
             "colorbar": {
              "outlinewidth": 0,
              "ticks": ""
             }
            },
            "type": "scatterpolar"
           }
          ],
          "scatterpolargl": [
           {
            "marker": {
             "colorbar": {
              "outlinewidth": 0,
              "ticks": ""
             }
            },
            "type": "scatterpolargl"
           }
          ],
          "scatterternary": [
           {
            "marker": {
             "colorbar": {
              "outlinewidth": 0,
              "ticks": ""
             }
            },
            "type": "scatterternary"
           }
          ],
          "surface": [
           {
            "colorbar": {
             "outlinewidth": 0,
             "ticks": ""
            },
            "colorscale": [
             [
              0,
              "#0d0887"
             ],
             [
              0.1111111111111111,
              "#46039f"
             ],
             [
              0.2222222222222222,
              "#7201a8"
             ],
             [
              0.3333333333333333,
              "#9c179e"
             ],
             [
              0.4444444444444444,
              "#bd3786"
             ],
             [
              0.5555555555555556,
              "#d8576b"
             ],
             [
              0.6666666666666666,
              "#ed7953"
             ],
             [
              0.7777777777777778,
              "#fb9f3a"
             ],
             [
              0.8888888888888888,
              "#fdca26"
             ],
             [
              1,
              "#f0f921"
             ]
            ],
            "type": "surface"
           }
          ],
          "table": [
           {
            "cells": {
             "fill": {
              "color": "#EBF0F8"
             },
             "line": {
              "color": "white"
             }
            },
            "header": {
             "fill": {
              "color": "#C8D4E3"
             },
             "line": {
              "color": "white"
             }
            },
            "type": "table"
           }
          ]
         },
         "layout": {
          "annotationdefaults": {
           "arrowcolor": "#2a3f5f",
           "arrowhead": 0,
           "arrowwidth": 1
          },
          "autotypenumbers": "strict",
          "coloraxis": {
           "colorbar": {
            "outlinewidth": 0,
            "ticks": ""
           }
          },
          "colorscale": {
           "diverging": [
            [
             0,
             "#8e0152"
            ],
            [
             0.1,
             "#c51b7d"
            ],
            [
             0.2,
             "#de77ae"
            ],
            [
             0.3,
             "#f1b6da"
            ],
            [
             0.4,
             "#fde0ef"
            ],
            [
             0.5,
             "#f7f7f7"
            ],
            [
             0.6,
             "#e6f5d0"
            ],
            [
             0.7,
             "#b8e186"
            ],
            [
             0.8,
             "#7fbc41"
            ],
            [
             0.9,
             "#4d9221"
            ],
            [
             1,
             "#276419"
            ]
           ],
           "sequential": [
            [
             0,
             "#0d0887"
            ],
            [
             0.1111111111111111,
             "#46039f"
            ],
            [
             0.2222222222222222,
             "#7201a8"
            ],
            [
             0.3333333333333333,
             "#9c179e"
            ],
            [
             0.4444444444444444,
             "#bd3786"
            ],
            [
             0.5555555555555556,
             "#d8576b"
            ],
            [
             0.6666666666666666,
             "#ed7953"
            ],
            [
             0.7777777777777778,
             "#fb9f3a"
            ],
            [
             0.8888888888888888,
             "#fdca26"
            ],
            [
             1,
             "#f0f921"
            ]
           ],
           "sequentialminus": [
            [
             0,
             "#0d0887"
            ],
            [
             0.1111111111111111,
             "#46039f"
            ],
            [
             0.2222222222222222,
             "#7201a8"
            ],
            [
             0.3333333333333333,
             "#9c179e"
            ],
            [
             0.4444444444444444,
             "#bd3786"
            ],
            [
             0.5555555555555556,
             "#d8576b"
            ],
            [
             0.6666666666666666,
             "#ed7953"
            ],
            [
             0.7777777777777778,
             "#fb9f3a"
            ],
            [
             0.8888888888888888,
             "#fdca26"
            ],
            [
             1,
             "#f0f921"
            ]
           ]
          },
          "colorway": [
           "#636efa",
           "#EF553B",
           "#00cc96",
           "#ab63fa",
           "#FFA15A",
           "#19d3f3",
           "#FF6692",
           "#B6E880",
           "#FF97FF",
           "#FECB52"
          ],
          "font": {
           "color": "#2a3f5f"
          },
          "geo": {
           "bgcolor": "white",
           "lakecolor": "white",
           "landcolor": "#E5ECF6",
           "showlakes": true,
           "showland": true,
           "subunitcolor": "white"
          },
          "hoverlabel": {
           "align": "left"
          },
          "hovermode": "closest",
          "mapbox": {
           "style": "light"
          },
          "paper_bgcolor": "white",
          "plot_bgcolor": "#E5ECF6",
          "polar": {
           "angularaxis": {
            "gridcolor": "white",
            "linecolor": "white",
            "ticks": ""
           },
           "bgcolor": "#E5ECF6",
           "radialaxis": {
            "gridcolor": "white",
            "linecolor": "white",
            "ticks": ""
           }
          },
          "scene": {
           "xaxis": {
            "backgroundcolor": "#E5ECF6",
            "gridcolor": "white",
            "gridwidth": 2,
            "linecolor": "white",
            "showbackground": true,
            "ticks": "",
            "zerolinecolor": "white"
           },
           "yaxis": {
            "backgroundcolor": "#E5ECF6",
            "gridcolor": "white",
            "gridwidth": 2,
            "linecolor": "white",
            "showbackground": true,
            "ticks": "",
            "zerolinecolor": "white"
           },
           "zaxis": {
            "backgroundcolor": "#E5ECF6",
            "gridcolor": "white",
            "gridwidth": 2,
            "linecolor": "white",
            "showbackground": true,
            "ticks": "",
            "zerolinecolor": "white"
           }
          },
          "shapedefaults": {
           "line": {
            "color": "#2a3f5f"
           }
          },
          "ternary": {
           "aaxis": {
            "gridcolor": "white",
            "linecolor": "white",
            "ticks": ""
           },
           "baxis": {
            "gridcolor": "white",
            "linecolor": "white",
            "ticks": ""
           },
           "bgcolor": "#E5ECF6",
           "caxis": {
            "gridcolor": "white",
            "linecolor": "white",
            "ticks": ""
           }
          },
          "title": {
           "x": 0.05
          },
          "xaxis": {
           "automargin": true,
           "gridcolor": "white",
           "linecolor": "white",
           "ticks": "",
           "title": {
            "standoff": 15
           },
           "zerolinecolor": "white",
           "zerolinewidth": 2
          },
          "yaxis": {
           "automargin": true,
           "gridcolor": "white",
           "linecolor": "white",
           "ticks": "",
           "title": {
            "standoff": 15
           },
           "zerolinecolor": "white",
           "zerolinewidth": 2
          }
         }
        },
        "xaxis": {
         "anchor": "y",
         "domain": [
          0,
          1
         ]
        },
        "xaxis2": {
         "anchor": "y2",
         "domain": [
          0,
          1
         ]
        },
        "xaxis3": {
         "anchor": "y3",
         "domain": [
          0,
          1
         ]
        },
        "xaxis4": {
         "anchor": "y4",
         "domain": [
          0,
          1
         ]
        },
        "yaxis": {
         "anchor": "x",
         "domain": [
          0.80625,
          1
         ]
        },
        "yaxis2": {
         "anchor": "x2",
         "domain": [
          0.5375,
          0.73125
         ]
        },
        "yaxis3": {
         "anchor": "x3",
         "domain": [
          0.26875,
          0.4625
         ]
        },
        "yaxis4": {
         "anchor": "x4",
         "domain": [
          0,
          0.19375
         ]
        }
       }
      }
     },
     "metadata": {},
     "output_type": "display_data"
    }
   ],
   "source": [
    "test_vals = temp.index[x_len:]\n",
    "fig = make_subplots(rows=4, cols=1)\n",
    "fig.add_trace(go.Scatter(x=temp.index, y=df.Close,\n",
    "                         name='Truth',\n",
    "                         marker_color='LightSkyBlue'), row=1, col=1)\n",
    "\n",
    "\n",
    "fig.add_trace(go.Scatter(x=test_vals,\n",
    "                         y=y_pred,\n",
    "                         name='Prediction',\n",
    "                         marker_color='MediumPurple'), row=1, col=1)\n",
    "\n",
    "\n",
    "fig.add_trace(go.Scatter(x=test_vals,\n",
    "                         y=y_pred,\n",
    "                         name='Prediction',\n",
    "                         marker_color='MediumPurple'), row=2, col=1)\n",
    "\n",
    "\n",
    "fig.add_trace(go.Scatter(x=test_vals,\n",
    "                         y=y_test,\n",
    "                         name='Truth',\n",
    "                         marker_color='LightSkyBlue',\n",
    "                         showlegend=False), row=3, col=1)\n",
    "\n",
    "# )\n",
    "\n",
    "\n",
    "fig.show()"
   ]
  }
 ],
 "metadata": {
  "kernelspec": {
   "display_name": ".venv",
   "language": "python",
   "name": "python3"
  },
  "language_info": {
   "codemirror_mode": {
    "name": "ipython",
    "version": 3
   },
   "file_extension": ".py",
   "mimetype": "text/x-python",
   "name": "python",
   "nbconvert_exporter": "python",
   "pygments_lexer": "ipython3",
   "version": "3.11.3"
  },
  "orig_nbformat": 4
 },
 "nbformat": 4,
 "nbformat_minor": 2
}
