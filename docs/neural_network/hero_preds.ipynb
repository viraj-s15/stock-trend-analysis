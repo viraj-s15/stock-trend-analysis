{
 "cells": [
  {
   "cell_type": "markdown",
   "metadata": {},
   "source": [
    "##  A neural Network replacing the simple xgboost regression algorithm"
   ]
  },
  {
   "cell_type": "markdown",
   "metadata": {},
   "source": [
    "#### Importing all libraries and setting the device to gpu"
   ]
  },
  {
   "cell_type": "code",
   "execution_count": 1,
   "metadata": {},
   "outputs": [],
   "source": [
    "\n",
    "import pandas as pd\n",
    "import numpy as np\n",
    "import matplotlib.pyplot as plt\n",
    "from tqdm import tqdm\n",
    "import torch\n",
    "import torch.nn as nn\n",
    "import torch.optim as optim\n",
    "from sklearn.preprocessing import MinMaxScaler    \n",
    "from sklearn.model_selection import train_test_split\n",
    "from sklearn.metrics import mean_squared_error, r2_score,mean_absolute_percentage_error\n",
    "from torch.utils.data import Dataset, DataLoader\n",
    "\n",
    "import seaborn as sns\n",
    "import random\n",
    "\n",
    "# torch.cuda.set_device(\"cuda:0\")\n",
    "# print(torch.cuda.get_device_name())"
   ]
  },
  {
   "cell_type": "code",
   "execution_count": 2,
   "metadata": {},
   "outputs": [],
   "source": [
    "import random\n",
    "def set_seeds(seed=1234):\n",
    "    \"\"\"Set seeds for reproducibility.\"\"\"\n",
    "    np.random.seed(seed)\n",
    "    random.seed(seed)\n",
    "    torch.manual_seed(seed)\n",
    "    torch.cuda.manual_seed(seed)\n",
    "    torch.cuda.manual_seed_all(seed) # multi-GPU\n",
    "    \n",
    "set_seeds()"
   ]
  },
  {
   "cell_type": "markdown",
   "metadata": {},
   "source": [
    "#### Pre processing the data and adding data indicators to the data"
   ]
  },
  {
   "cell_type": "code",
   "execution_count": 3,
   "metadata": {},
   "outputs": [
    {
     "data": {
      "text/html": [
       "<div>\n",
       "<style scoped>\n",
       "    .dataframe tbody tr th:only-of-type {\n",
       "        vertical-align: middle;\n",
       "    }\n",
       "\n",
       "    .dataframe tbody tr th {\n",
       "        vertical-align: top;\n",
       "    }\n",
       "\n",
       "    .dataframe thead th {\n",
       "        text-align: right;\n",
       "    }\n",
       "</style>\n",
       "<table border=\"1\" class=\"dataframe\">\n",
       "  <thead>\n",
       "    <tr style=\"text-align: right;\">\n",
       "      <th></th>\n",
       "      <th>Date</th>\n",
       "      <th>Open</th>\n",
       "      <th>High</th>\n",
       "      <th>Low</th>\n",
       "      <th>Close</th>\n",
       "      <th>Volume</th>\n",
       "    </tr>\n",
       "  </thead>\n",
       "  <tbody>\n",
       "    <tr>\n",
       "      <th>0</th>\n",
       "      <td>2021-01-18</td>\n",
       "      <td>3200.000000</td>\n",
       "      <td>3217.550049</td>\n",
       "      <td>3082.250000</td>\n",
       "      <td>3163.149902</td>\n",
       "      <td>1280163</td>\n",
       "    </tr>\n",
       "    <tr>\n",
       "      <th>1</th>\n",
       "      <td>2021-01-19</td>\n",
       "      <td>3170.500000</td>\n",
       "      <td>3240.750000</td>\n",
       "      <td>3170.500000</td>\n",
       "      <td>3232.899902</td>\n",
       "      <td>770832</td>\n",
       "    </tr>\n",
       "    <tr>\n",
       "      <th>2</th>\n",
       "      <td>2021-01-20</td>\n",
       "      <td>3239.000000</td>\n",
       "      <td>3292.500000</td>\n",
       "      <td>3230.300049</td>\n",
       "      <td>3275.600098</td>\n",
       "      <td>841752</td>\n",
       "    </tr>\n",
       "    <tr>\n",
       "      <th>3</th>\n",
       "      <td>2021-01-21</td>\n",
       "      <td>3275.600098</td>\n",
       "      <td>3346.000000</td>\n",
       "      <td>3219.699951</td>\n",
       "      <td>3247.300049</td>\n",
       "      <td>1300181</td>\n",
       "    </tr>\n",
       "    <tr>\n",
       "      <th>4</th>\n",
       "      <td>2021-01-22</td>\n",
       "      <td>3265.000000</td>\n",
       "      <td>3483.949951</td>\n",
       "      <td>3258.899902</td>\n",
       "      <td>3374.899902</td>\n",
       "      <td>3813020</td>\n",
       "    </tr>\n",
       "  </tbody>\n",
       "</table>\n",
       "</div>"
      ],
      "text/plain": [
       "        Date         Open         High          Low        Close   Volume\n",
       "0 2021-01-18  3200.000000  3217.550049  3082.250000  3163.149902  1280163\n",
       "1 2021-01-19  3170.500000  3240.750000  3170.500000  3232.899902   770832\n",
       "2 2021-01-20  3239.000000  3292.500000  3230.300049  3275.600098   841752\n",
       "3 2021-01-21  3275.600098  3346.000000  3219.699951  3247.300049  1300181\n",
       "4 2021-01-22  3265.000000  3483.949951  3258.899902  3374.899902  3813020"
      ]
     },
     "execution_count": 3,
     "metadata": {},
     "output_type": "execute_result"
    }
   ],
   "source": [
    "df = pd.read_csv(\"../../data/hero/hero.csv\")\n",
    "# Need to reverse the db\n",
    "# df = df.loc[::-1]\n",
    "df['Date'] = pd.to_datetime(df['Date'])\n",
    "df = df[(df['Date'].dt.year >= 2020)].copy()\n",
    "df.index = range(len(df))\n",
    "temp = df\n",
    "# df['Close'] = (df['High'] + df['Low'] )/ 2\n",
    "df.rename(columns={\"Open Price\":\"Open\",\"High Price\":\"High\",\"Low Price\":\"Low\",\"Close Price\":\"Close\",\"Total Traded Quantity\":\"Volume\",\"No.of Shares\":\"Volume\"},inplace=True)\n",
    "# cols = [\"Symbol\",\"Ser verbose=Falseies\",\"Prev Close\",\"Last Price\",\"Average Price\",\"Turnover\",\"No. of Trades\", \"Deliverable Qty\",'% Dly Qt to Traded Qty']\n",
    "# cols = [\"WAP\",\"No. of Trades\"\t,\"Total Turnover (Rs.)\"\t,\"Deliverable Quantity\"\t,\"% Deli. Qty to Traded Qty\"\t,\"Spread High-Low\"\t,\"Spread Close-Open\"]\n",
    "cols = \"Adj Close\"\n",
    "df.drop(columns=cols,inplace=True)   \n",
    "df.dropna(inplace=True)\n",
    "df.head()"
   ]
  },
  {
   "cell_type": "code",
   "execution_count": 4,
   "metadata": {},
   "outputs": [
    {
     "data": {
      "text/html": [
       "<div>\n",
       "<style scoped>\n",
       "    .dataframe tbody tr th:only-of-type {\n",
       "        vertical-align: middle;\n",
       "    }\n",
       "\n",
       "    .dataframe tbody tr th {\n",
       "        vertical-align: top;\n",
       "    }\n",
       "\n",
       "    .dataframe thead th {\n",
       "        text-align: right;\n",
       "    }\n",
       "</style>\n",
       "<table border=\"1\" class=\"dataframe\">\n",
       "  <thead>\n",
       "    <tr style=\"text-align: right;\">\n",
       "      <th></th>\n",
       "      <th>Date</th>\n",
       "      <th>Open</th>\n",
       "      <th>High</th>\n",
       "      <th>Low</th>\n",
       "      <th>Close</th>\n",
       "      <th>Volume</th>\n",
       "      <th>EMA_9</th>\n",
       "      <th>SMA_5</th>\n",
       "      <th>SMA_10</th>\n",
       "      <th>SMA_15</th>\n",
       "      <th>SMA_30</th>\n",
       "      <th>RSI</th>\n",
       "      <th>MACD</th>\n",
       "      <th>MACD_signal</th>\n",
       "    </tr>\n",
       "  </thead>\n",
       "  <tbody>\n",
       "    <tr>\n",
       "      <th>0</th>\n",
       "      <td>2021-03-05</td>\n",
       "      <td>3415.000000</td>\n",
       "      <td>3491.5</td>\n",
       "      <td>3394.000000</td>\n",
       "      <td>3463.949951</td>\n",
       "      <td>1017875</td>\n",
       "      <td>3420.492361</td>\n",
       "      <td>3378.960010</td>\n",
       "      <td>3398.009985</td>\n",
       "      <td>3435.309993</td>\n",
       "      <td>3419.963322</td>\n",
       "      <td>49.806952</td>\n",
       "      <td>0.572395</td>\n",
       "      <td>-1.193284</td>\n",
       "    </tr>\n",
       "    <tr>\n",
       "      <th>1</th>\n",
       "      <td>2021-03-08</td>\n",
       "      <td>3461.649902</td>\n",
       "      <td>3489.5</td>\n",
       "      <td>3422.699951</td>\n",
       "      <td>3448.850098</td>\n",
       "      <td>749107</td>\n",
       "      <td>3424.731009</td>\n",
       "      <td>3426.500000</td>\n",
       "      <td>3405.209985</td>\n",
       "      <td>3431.706657</td>\n",
       "      <td>3427.109985</td>\n",
       "      <td>50.125426</td>\n",
       "      <td>3.520412</td>\n",
       "      <td>-0.137143</td>\n",
       "    </tr>\n",
       "    <tr>\n",
       "      <th>2</th>\n",
       "      <td>2021-03-09</td>\n",
       "      <td>3465.050049</td>\n",
       "      <td>3490.0</td>\n",
       "      <td>3416.500000</td>\n",
       "      <td>3419.350098</td>\n",
       "      <td>564852</td>\n",
       "      <td>3428.753595</td>\n",
       "      <td>3449.250000</td>\n",
       "      <td>3410.189990</td>\n",
       "      <td>3431.609993</td>\n",
       "      <td>3430.078320</td>\n",
       "      <td>42.043918</td>\n",
       "      <td>4.650364</td>\n",
       "      <td>0.910336</td>\n",
       "    </tr>\n",
       "    <tr>\n",
       "      <th>3</th>\n",
       "      <td>2021-03-10</td>\n",
       "      <td>3449.000000</td>\n",
       "      <td>3475.0</td>\n",
       "      <td>3407.850098</td>\n",
       "      <td>3350.550049</td>\n",
       "      <td>787897</td>\n",
       "      <td>3430.809563</td>\n",
       "      <td>3443.740039</td>\n",
       "      <td>3414.530005</td>\n",
       "      <td>3430.763330</td>\n",
       "      <td>3429.208325</td>\n",
       "      <td>43.671271</td>\n",
       "      <td>3.252733</td>\n",
       "      <td>1.413385</td>\n",
       "    </tr>\n",
       "    <tr>\n",
       "      <th>4</th>\n",
       "      <td>2021-03-12</td>\n",
       "      <td>3355.000000</td>\n",
       "      <td>3419.0</td>\n",
       "      <td>3310.000000</td>\n",
       "      <td>3264.149902</td>\n",
       "      <td>1098158</td>\n",
       "      <td>3429.639901</td>\n",
       "      <td>3442.740039</td>\n",
       "      <td>3412.305005</td>\n",
       "      <td>3419.786670</td>\n",
       "      <td>3431.234993</td>\n",
       "      <td>47.401611</td>\n",
       "      <td>-3.096033</td>\n",
       "      <td>0.459035</td>\n",
       "    </tr>\n",
       "  </tbody>\n",
       "</table>\n",
       "</div>"
      ],
      "text/plain": [
       "        Date         Open    High          Low        Close   Volume  \\\n",
       "0 2021-03-05  3415.000000  3491.5  3394.000000  3463.949951  1017875   \n",
       "1 2021-03-08  3461.649902  3489.5  3422.699951  3448.850098   749107   \n",
       "2 2021-03-09  3465.050049  3490.0  3416.500000  3419.350098   564852   \n",
       "3 2021-03-10  3449.000000  3475.0  3407.850098  3350.550049   787897   \n",
       "4 2021-03-12  3355.000000  3419.0  3310.000000  3264.149902  1098158   \n",
       "\n",
       "         EMA_9        SMA_5       SMA_10       SMA_15       SMA_30        RSI  \\\n",
       "0  3420.492361  3378.960010  3398.009985  3435.309993  3419.963322  49.806952   \n",
       "1  3424.731009  3426.500000  3405.209985  3431.706657  3427.109985  50.125426   \n",
       "2  3428.753595  3449.250000  3410.189990  3431.609993  3430.078320  42.043918   \n",
       "3  3430.809563  3443.740039  3414.530005  3430.763330  3429.208325  43.671271   \n",
       "4  3429.639901  3442.740039  3412.305005  3419.786670  3431.234993  47.401611   \n",
       "\n",
       "       MACD  MACD_signal  \n",
       "0  0.572395    -1.193284  \n",
       "1  3.520412    -0.137143  \n",
       "2  4.650364     0.910336  \n",
       "3  3.252733     1.413385  \n",
       "4 -3.096033     0.459035  "
      ]
     },
     "execution_count": 4,
     "metadata": {},
     "output_type": "execute_result"
    }
   ],
   "source": [
    "df['EMA_9'] = df['Close'].ewm(9).mean().shift()\n",
    "df['SMA_5'] = df['Close'].rolling(5).mean().shift()\n",
    "df['SMA_10'] = df['Close'].rolling(10).mean().shift()\n",
    "df['SMA_15'] = df['Close'].rolling(15).mean().shift()\n",
    "df['SMA_30'] = df['Close'].rolling(30).mean().shift()\n",
    "\n",
    "def relative_strength_idx(df, n=14):\n",
    "    close = df['Close']\n",
    "    delta = close.diff()\n",
    "    delta = delta[1:]\n",
    "    pricesUp = delta.copy()\n",
    "    pricesDown = delta.copy()\n",
    "    pricesUp[pricesUp < 0] = 0\n",
    "    pricesDown[pricesDown > 0] = 0    \n",
    "    rollUp = pricesUp.rolling(n).mean()\n",
    "    rollDown = pricesDown.abs().rolling(n).mean()\n",
    "    rs = rollUp / rollDown\n",
    "    rsi = 100.0 - (100.0 / (1.0 + rs))\n",
    "    return rsi\n",
    "\n",
    "df['RSI'] = relative_strength_idx(df).fillna(0)\n",
    "\n",
    "EMA_12 = pd.Series(df['Close'].ewm(span=12, min_periods=12).mean())\n",
    "EMA_26 = pd.Series(df['Close'].ewm(span=26, min_periods=26).mean())\n",
    "df['MACD'] = pd.Series(EMA_12 - EMA_26)\n",
    "df['MACD_signal'] = pd.Series(df.MACD.ewm(span=9, min_periods=9).mean())\n",
    "\n",
    "df['Close'] = df['Close'].shift(-1)\n",
    "\n",
    "df = df.iloc[33:] # Because of moving average\n",
    "df = df[:-1]      # Because of shifting close price\n",
    "\n",
    "df.index = range(len(df))\n",
    "\n",
    "df.head()"
   ]
  },
  {
   "cell_type": "code",
   "execution_count": 5,
   "metadata": {},
   "outputs": [
    {
     "data": {
      "text/html": [
       "<div>\n",
       "<style scoped>\n",
       "    .dataframe tbody tr th:only-of-type {\n",
       "        vertical-align: middle;\n",
       "    }\n",
       "\n",
       "    .dataframe tbody tr th {\n",
       "        vertical-align: top;\n",
       "    }\n",
       "\n",
       "    .dataframe thead th {\n",
       "        text-align: right;\n",
       "    }\n",
       "</style>\n",
       "<table border=\"1\" class=\"dataframe\">\n",
       "  <thead>\n",
       "    <tr style=\"text-align: right;\">\n",
       "      <th></th>\n",
       "      <th>Close</th>\n",
       "      <th>EMA_9</th>\n",
       "      <th>SMA_5</th>\n",
       "      <th>SMA_10</th>\n",
       "      <th>SMA_15</th>\n",
       "      <th>SMA_30</th>\n",
       "      <th>RSI</th>\n",
       "      <th>MACD</th>\n",
       "      <th>MACD_signal</th>\n",
       "    </tr>\n",
       "  </thead>\n",
       "  <tbody>\n",
       "    <tr>\n",
       "      <th>0</th>\n",
       "      <td>3463.949951</td>\n",
       "      <td>3420.492361</td>\n",
       "      <td>3378.960010</td>\n",
       "      <td>3398.009985</td>\n",
       "      <td>3435.309993</td>\n",
       "      <td>3419.963322</td>\n",
       "      <td>49.806952</td>\n",
       "      <td>0.572395</td>\n",
       "      <td>-1.193284</td>\n",
       "    </tr>\n",
       "    <tr>\n",
       "      <th>1</th>\n",
       "      <td>3448.850098</td>\n",
       "      <td>3424.731009</td>\n",
       "      <td>3426.500000</td>\n",
       "      <td>3405.209985</td>\n",
       "      <td>3431.706657</td>\n",
       "      <td>3427.109985</td>\n",
       "      <td>50.125426</td>\n",
       "      <td>3.520412</td>\n",
       "      <td>-0.137143</td>\n",
       "    </tr>\n",
       "    <tr>\n",
       "      <th>2</th>\n",
       "      <td>3419.350098</td>\n",
       "      <td>3428.753595</td>\n",
       "      <td>3449.250000</td>\n",
       "      <td>3410.189990</td>\n",
       "      <td>3431.609993</td>\n",
       "      <td>3430.078320</td>\n",
       "      <td>42.043918</td>\n",
       "      <td>4.650364</td>\n",
       "      <td>0.910336</td>\n",
       "    </tr>\n",
       "    <tr>\n",
       "      <th>3</th>\n",
       "      <td>3350.550049</td>\n",
       "      <td>3430.809563</td>\n",
       "      <td>3443.740039</td>\n",
       "      <td>3414.530005</td>\n",
       "      <td>3430.763330</td>\n",
       "      <td>3429.208325</td>\n",
       "      <td>43.671271</td>\n",
       "      <td>3.252733</td>\n",
       "      <td>1.413385</td>\n",
       "    </tr>\n",
       "    <tr>\n",
       "      <th>4</th>\n",
       "      <td>3264.149902</td>\n",
       "      <td>3429.639901</td>\n",
       "      <td>3442.740039</td>\n",
       "      <td>3412.305005</td>\n",
       "      <td>3419.786670</td>\n",
       "      <td>3431.234993</td>\n",
       "      <td>47.401611</td>\n",
       "      <td>-3.096033</td>\n",
       "      <td>0.459035</td>\n",
       "    </tr>\n",
       "  </tbody>\n",
       "</table>\n",
       "</div>"
      ],
      "text/plain": [
       "         Close        EMA_9        SMA_5       SMA_10       SMA_15  \\\n",
       "0  3463.949951  3420.492361  3378.960010  3398.009985  3435.309993   \n",
       "1  3448.850098  3424.731009  3426.500000  3405.209985  3431.706657   \n",
       "2  3419.350098  3428.753595  3449.250000  3410.189990  3431.609993   \n",
       "3  3350.550049  3430.809563  3443.740039  3414.530005  3430.763330   \n",
       "4  3264.149902  3429.639901  3442.740039  3412.305005  3419.786670   \n",
       "\n",
       "        SMA_30        RSI      MACD  MACD_signal  \n",
       "0  3419.963322  49.806952  0.572395    -1.193284  \n",
       "1  3427.109985  50.125426  3.520412    -0.137143  \n",
       "2  3430.078320  42.043918  4.650364     0.910336  \n",
       "3  3429.208325  43.671271  3.252733     1.413385  \n",
       "4  3431.234993  47.401611 -3.096033     0.459035  "
      ]
     },
     "execution_count": 5,
     "metadata": {},
     "output_type": "execute_result"
    }
   ],
   "source": [
    "drop_cols = ['Date', 'Volume', 'Open', 'Low', 'High']\n",
    "df.drop(columns=drop_cols,inplace=True)\n",
    "df.head()"
   ]
  },
  {
   "cell_type": "markdown",
   "metadata": {},
   "source": [
    "#### Separating the data into train and test splits. Then splitting into validation split"
   ]
  },
  {
   "cell_type": "code",
   "execution_count": 6,
   "metadata": {},
   "outputs": [],
   "source": [
    "X = df.iloc[:, 1:]\n",
    "y = df.iloc[:, 1]\n",
    "\n",
    "X_trainval, X_test, y_trainval, y_test = train_test_split(\n",
    "    X, y, test_size=0.2\n",
    ")\n",
    "X_train, X_val, y_train, y_val = train_test_split(\n",
    "    X_trainval, y_trainval, test_size=0.2\n",
    ")"
   ]
  },
  {
   "cell_type": "markdown",
   "metadata": {},
   "source": [
    "#### Normalising the data"
   ]
  },
  {
   "cell_type": "code",
   "execution_count": 7,
   "metadata": {},
   "outputs": [],
   "source": [
    "scaler = MinMaxScaler()\n",
    "X_train = scaler.fit_transform(X_train)\n",
    "X_val = scaler.transform(X_val)\n",
    "X_test = scaler.transform(X_test)\n",
    "X_train, y_train = np.array(X_train), np.array(y_train)\n",
    "X_val, y_val = np.array(X_val), np.array(y_val)\n",
    "X_test, y_test = np.array(X_test), np.array(y_test)"
   ]
  },
  {
   "cell_type": "markdown",
   "metadata": {},
   "source": [
    "#### Initialising the dataset"
   ]
  },
  {
   "cell_type": "code",
   "execution_count": 8,
   "metadata": {},
   "outputs": [],
   "source": [
    "class RegressionDataset(Dataset):\n",
    "    def __init__(self, X_data, y_data):\n",
    "        self.X_data = X_data\n",
    "        self.y_data = y_data\n",
    "\n",
    "    def __getitem__(self, index):\n",
    "        return self.X_data[index], self.y_data[index]\n",
    "\n",
    "    def __len__(self):\n",
    "        return len(self.X_data)   "
   ]
  },
  {
   "cell_type": "code",
   "execution_count": 9,
   "metadata": {},
   "outputs": [],
   "source": [
    "train_dataset = RegressionDataset(\n",
    "    torch.from_numpy(X_train).float(), torch.from_numpy(y_train).float()\n",
    ")\n",
    "val_dataset = RegressionDataset(\n",
    "    torch.from_numpy(X_val).float(), torch.from_numpy(y_val).float()\n",
    ")\n",
    "test_dataset = RegressionDataset(\n",
    "    torch.from_numpy(X_test).float(), torch.from_numpy(y_test).float()\n",
    ")"
   ]
  },
  {
   "cell_type": "markdown",
   "metadata": {},
   "source": [
    "#### Setting hyper parameters"
   ]
  },
  {
   "cell_type": "code",
   "execution_count": 10,
   "metadata": {},
   "outputs": [],
   "source": [
    "EPOCHS = 2000\n",
    "BATCH_SIZE = 64\n",
    "LEARNING_RATE = 0.001\n",
    "NUM_FEATURES = len(X.columns)"
   ]
  },
  {
   "cell_type": "code",
   "execution_count": 11,
   "metadata": {},
   "outputs": [],
   "source": [
    "train_loader = DataLoader(dataset=train_dataset, batch_size=BATCH_SIZE,shuffle=True)\n",
    "val_loader = DataLoader(dataset=val_dataset, batch_size=BATCH_SIZE,)\n",
    "test_loader = DataLoader(dataset=test_dataset, batch_size=BATCH_SIZE)"
   ]
  },
  {
   "cell_type": "code",
   "execution_count": 12,
   "metadata": {},
   "outputs": [],
   "source": [
    "class MultipleRegression(nn.Module):\n",
    "    def __init__(self, num_features):\n",
    "        super(MultipleRegression, self).__init__()\n",
    "\n",
    "        self.layer_1 = nn.Linear(num_features, 16)\n",
    "        self.layer_2 = nn.Linear(16, 32)\n",
    "        self.layer_3 = nn.Linear(32, 16)\n",
    "        self.layer_out = nn.Linear(16, 1)\n",
    "\n",
    "        self.relu = nn.ReLU()\n",
    "\n",
    "    def forward(self, inputs):\n",
    "        x = self.relu(self.layer_1(inputs))\n",
    "        x = self.relu(self.layer_2(x))\n",
    "        x = self.relu(self.layer_3(x))\n",
    "        x = self.layer_out(x)\n",
    "        return x\n",
    "\n",
    "    def predict(self, test_inputs):\n",
    "        x = self.relu(self.layer_1(test_inputs))\n",
    "        x = self.relu(self.layer_2(x))\n",
    "        x = self.relu(self.layer_3(x))\n",
    "        x = self.layer_out(x)\n",
    "        return x\n",
    "# torch.cuda.set_device(\"cuda:0\")\n",
    "# print(torch.cuda.get_device_name())"
   ]
  },
  {
   "cell_type": "code",
   "execution_count": 13,
   "metadata": {},
   "outputs": [
    {
     "name": "stdout",
     "output_type": "stream",
     "text": [
      "MultipleRegression(\n",
      "  (layer_1): Linear(in_features=8, out_features=16, bias=True)\n",
      "  (layer_2): Linear(in_features=16, out_features=32, bias=True)\n",
      "  (layer_3): Linear(in_features=32, out_features=16, bias=True)\n",
      "  (layer_out): Linear(in_features=16, out_features=1, bias=True)\n",
      "  (relu): ReLU()\n",
      ")\n"
     ]
    }
   ],
   "source": [
    "# device = torch.device(\"cuda:0\" if torch.cuda.is_available() else \"cpu\")\n",
    "device = \"cpu\"\n",
    "model = MultipleRegression(NUM_FEATURES)\n",
    "model.to(device)\n",
    "print(model)\n",
    "criterion = nn.MSELoss()\n",
    "optimizer = optim.Adam(model.parameters(), lr=LEARNING_RATE)"
   ]
  },
  {
   "cell_type": "code",
   "execution_count": 14,
   "metadata": {},
   "outputs": [],
   "source": [
    "loss_stats = {\n",
    "    'train': [],\n",
    "    \"val\": []\n",
    "}"
   ]
  },
  {
   "cell_type": "code",
   "execution_count": 15,
   "metadata": {},
   "outputs": [
    {
     "name": "stderr",
     "output_type": "stream",
     "text": [
      "  4%|▍         | 85/2000 [00:05<00:41, 46.02it/s] "
     ]
    },
    {
     "name": "stdout",
     "output_type": "stream",
     "text": [
      "Epoch 050: | Train Loss: 2863237.25000 | Val Loss: 2671920.12500\n"
     ]
    },
    {
     "name": "stderr",
     "output_type": "stream",
     "text": [
      "  6%|▌         | 120/2000 [00:05<00:24, 77.42it/s]"
     ]
    },
    {
     "name": "stdout",
     "output_type": "stream",
     "text": [
      "Epoch 100: | Train Loss: 256293.10268 | Val Loss: 172598.14062\n"
     ]
    },
    {
     "name": "stderr",
     "output_type": "stream",
     "text": [
      "  9%|▊         | 172/2000 [00:05<00:15, 121.71it/s]"
     ]
    },
    {
     "name": "stdout",
     "output_type": "stream",
     "text": [
      "Epoch 150: | Train Loss: 176520.11607 | Val Loss: 144966.27344\n"
     ]
    },
    {
     "name": "stderr",
     "output_type": "stream",
     "text": [
      " 11%|█▏        | 225/2000 [00:05<00:11, 152.04it/s]"
     ]
    },
    {
     "name": "stdout",
     "output_type": "stream",
     "text": [
      "Epoch 200: | Train Loss: 143506.60407 | Val Loss: 117257.39062\n"
     ]
    },
    {
     "name": "stderr",
     "output_type": "stream",
     "text": [
      " 14%|█▍        | 279/2000 [00:06<00:10, 165.52it/s]"
     ]
    },
    {
     "name": "stdout",
     "output_type": "stream",
     "text": [
      "Epoch 250: | Train Loss: 136561.62165 | Val Loss: 89661.42188\n"
     ]
    },
    {
     "name": "stderr",
     "output_type": "stream",
     "text": [
      " 17%|█▋        | 334/2000 [00:06<00:09, 172.73it/s]"
     ]
    },
    {
     "name": "stdout",
     "output_type": "stream",
     "text": [
      "Epoch 300: | Train Loss: 90431.78850 | Val Loss: 63036.29688\n"
     ]
    },
    {
     "name": "stderr",
     "output_type": "stream",
     "text": [
      " 18%|█▊        | 370/2000 [00:06<00:09, 171.36it/s]"
     ]
    },
    {
     "name": "stdout",
     "output_type": "stream",
     "text": [
      "Epoch 350: | Train Loss: 52200.05455 | Val Loss: 39580.88672\n"
     ]
    },
    {
     "name": "stderr",
     "output_type": "stream",
     "text": [
      " 21%|██        | 424/2000 [00:07<00:09, 173.42it/s]"
     ]
    },
    {
     "name": "stdout",
     "output_type": "stream",
     "text": [
      "Epoch 400: | Train Loss: 31606.37193 | Val Loss: 20190.06543\n"
     ]
    },
    {
     "name": "stderr",
     "output_type": "stream",
     "text": [
      " 24%|██▍       | 478/2000 [00:07<00:08, 171.75it/s]"
     ]
    },
    {
     "name": "stdout",
     "output_type": "stream",
     "text": [
      "Epoch 450: | Train Loss: 11253.43066 | Val Loss: 8316.14990\n"
     ]
    },
    {
     "name": "stderr",
     "output_type": "stream",
     "text": [
      " 27%|██▋       | 532/2000 [00:07<00:08, 170.24it/s]"
     ]
    },
    {
     "name": "stdout",
     "output_type": "stream",
     "text": [
      "Epoch 500: | Train Loss: 8002.38874 | Val Loss: 3511.54785\n"
     ]
    },
    {
     "name": "stderr",
     "output_type": "stream",
     "text": [
      " 28%|██▊       | 567/2000 [00:07<00:08, 167.50it/s]"
     ]
    },
    {
     "name": "stdout",
     "output_type": "stream",
     "text": [
      "Epoch 550: | Train Loss: 2181.54075 | Val Loss: 1794.93494\n"
     ]
    },
    {
     "name": "stderr",
     "output_type": "stream",
     "text": [
      " 31%|███       | 617/2000 [00:08<00:09, 152.83it/s]"
     ]
    },
    {
     "name": "stdout",
     "output_type": "stream",
     "text": [
      "Epoch 600: | Train Loss: 1272.52568 | Val Loss: 1057.03546\n"
     ]
    },
    {
     "name": "stderr",
     "output_type": "stream",
     "text": [
      " 34%|███▍      | 683/2000 [00:08<00:08, 158.00it/s]"
     ]
    },
    {
     "name": "stdout",
     "output_type": "stream",
     "text": [
      "Epoch 650: | Train Loss: 757.38455 | Val Loss: 596.30988\n"
     ]
    },
    {
     "name": "stderr",
     "output_type": "stream",
     "text": [
      " 36%|███▌      | 717/2000 [00:08<00:07, 161.73it/s]"
     ]
    },
    {
     "name": "stdout",
     "output_type": "stream",
     "text": [
      "Epoch 700: | Train Loss: 401.92386 | Val Loss: 347.05936\n"
     ]
    },
    {
     "name": "stderr",
     "output_type": "stream",
     "text": [
      " 38%|███▊      | 769/2000 [00:09<00:07, 161.46it/s]"
     ]
    },
    {
     "name": "stdout",
     "output_type": "stream",
     "text": [
      "Epoch 750: | Train Loss: 242.37517 | Val Loss: 216.46193\n"
     ]
    },
    {
     "name": "stderr",
     "output_type": "stream",
     "text": [
      " 41%|████      | 821/2000 [00:09<00:07, 165.54it/s]"
     ]
    },
    {
     "name": "stdout",
     "output_type": "stream",
     "text": [
      "Epoch 800: | Train Loss: 205.67436 | Val Loss: 174.56089\n"
     ]
    },
    {
     "name": "stderr",
     "output_type": "stream",
     "text": [
      " 44%|████▎     | 873/2000 [00:09<00:06, 167.86it/s]"
     ]
    },
    {
     "name": "stdout",
     "output_type": "stream",
     "text": [
      "Epoch 850: | Train Loss: 187.89380 | Val Loss: 153.73215\n"
     ]
    },
    {
     "name": "stderr",
     "output_type": "stream",
     "text": [
      " 46%|████▋     | 925/2000 [00:10<00:06, 169.62it/s]"
     ]
    },
    {
     "name": "stdout",
     "output_type": "stream",
     "text": [
      "Epoch 900: | Train Loss: 159.93546 | Val Loss: 147.05818\n"
     ]
    },
    {
     "name": "stderr",
     "output_type": "stream",
     "text": [
      " 49%|████▉     | 976/2000 [00:10<00:06, 155.09it/s]"
     ]
    },
    {
     "name": "stdout",
     "output_type": "stream",
     "text": [
      "Epoch 950: | Train Loss: 150.45138 | Val Loss: 143.28182\n"
     ]
    },
    {
     "name": "stderr",
     "output_type": "stream",
     "text": [
      " 51%|█████     | 1024/2000 [00:10<00:06, 149.65it/s]"
     ]
    },
    {
     "name": "stdout",
     "output_type": "stream",
     "text": [
      "Epoch 1000: | Train Loss: 124.42232 | Val Loss: 129.76227\n"
     ]
    },
    {
     "name": "stderr",
     "output_type": "stream",
     "text": [
      " 54%|█████▍    | 1075/2000 [00:11<00:05, 160.84it/s]"
     ]
    },
    {
     "name": "stdout",
     "output_type": "stream",
     "text": [
      "Epoch 1050: | Train Loss: 109.87418 | Val Loss: 116.77217\n"
     ]
    },
    {
     "name": "stderr",
     "output_type": "stream",
     "text": [
      " 56%|█████▋    | 1126/2000 [00:11<00:05, 164.30it/s]"
     ]
    },
    {
     "name": "stdout",
     "output_type": "stream",
     "text": [
      "Epoch 1100: | Train Loss: 112.38886 | Val Loss: 106.78032\n"
     ]
    },
    {
     "name": "stderr",
     "output_type": "stream",
     "text": [
      " 59%|█████▉    | 1178/2000 [00:11<00:04, 166.30it/s]"
     ]
    },
    {
     "name": "stdout",
     "output_type": "stream",
     "text": [
      "Epoch 1150: | Train Loss: 101.08694 | Val Loss: 93.25408\n"
     ]
    },
    {
     "name": "stderr",
     "output_type": "stream",
     "text": [
      " 62%|██████▏   | 1230/2000 [00:12<00:04, 168.15it/s]"
     ]
    },
    {
     "name": "stdout",
     "output_type": "stream",
     "text": [
      "Epoch 1200: | Train Loss: 73.01679 | Val Loss: 82.94454\n"
     ]
    },
    {
     "name": "stderr",
     "output_type": "stream",
     "text": [
      " 64%|██████▍   | 1282/2000 [00:12<00:04, 166.68it/s]"
     ]
    },
    {
     "name": "stdout",
     "output_type": "stream",
     "text": [
      "Epoch 1250: | Train Loss: 66.66509 | Val Loss: 76.07519\n"
     ]
    },
    {
     "name": "stderr",
     "output_type": "stream",
     "text": [
      " 66%|██████▌   | 1315/2000 [00:12<00:04, 152.63it/s]"
     ]
    },
    {
     "name": "stdout",
     "output_type": "stream",
     "text": [
      "Epoch 1300: | Train Loss: 60.15201 | Val Loss: 63.76283\n"
     ]
    },
    {
     "name": "stderr",
     "output_type": "stream",
     "text": [
      " 69%|██████▉   | 1382/2000 [00:13<00:03, 160.79it/s]"
     ]
    },
    {
     "name": "stdout",
     "output_type": "stream",
     "text": [
      "Epoch 1350: | Train Loss: 73.05342 | Val Loss: 64.26309\n"
     ]
    },
    {
     "name": "stderr",
     "output_type": "stream",
     "text": [
      " 71%|███████   | 1416/2000 [00:13<00:03, 162.25it/s]"
     ]
    },
    {
     "name": "stdout",
     "output_type": "stream",
     "text": [
      "Epoch 1400: | Train Loss: 45.66311 | Val Loss: 46.37478\n"
     ]
    },
    {
     "name": "stderr",
     "output_type": "stream",
     "text": [
      " 73%|███████▎  | 1469/2000 [00:13<00:03, 167.41it/s]"
     ]
    },
    {
     "name": "stdout",
     "output_type": "stream",
     "text": [
      "Epoch 1450: | Train Loss: 43.26384 | Val Loss: 41.21899\n"
     ]
    },
    {
     "name": "stderr",
     "output_type": "stream",
     "text": [
      " 76%|███████▌  | 1521/2000 [00:13<00:02, 165.49it/s]"
     ]
    },
    {
     "name": "stdout",
     "output_type": "stream",
     "text": [
      "Epoch 1500: | Train Loss: 28.93625 | Val Loss: 34.31229\n"
     ]
    },
    {
     "name": "stderr",
     "output_type": "stream",
     "text": [
      " 79%|███████▊  | 1572/2000 [00:14<00:02, 164.50it/s]"
     ]
    },
    {
     "name": "stdout",
     "output_type": "stream",
     "text": [
      "Epoch 1550: | Train Loss: 27.65900 | Val Loss: 28.87959\n"
     ]
    },
    {
     "name": "stderr",
     "output_type": "stream",
     "text": [
      " 81%|████████  | 1622/2000 [00:14<00:02, 154.30it/s]"
     ]
    },
    {
     "name": "stdout",
     "output_type": "stream",
     "text": [
      "Epoch 1600: | Train Loss: 30.00799 | Val Loss: 25.99624\n"
     ]
    },
    {
     "name": "stderr",
     "output_type": "stream",
     "text": [
      " 83%|████████▎ | 1669/2000 [00:14<00:02, 146.26it/s]"
     ]
    },
    {
     "name": "stdout",
     "output_type": "stream",
     "text": [
      "Epoch 1650: | Train Loss: 22.99690 | Val Loss: 21.30382\n"
     ]
    },
    {
     "name": "stderr",
     "output_type": "stream",
     "text": [
      " 86%|████████▌ | 1714/2000 [00:15<00:01, 143.45it/s]"
     ]
    },
    {
     "name": "stdout",
     "output_type": "stream",
     "text": [
      "Epoch 1700: | Train Loss: 21.96302 | Val Loss: 34.85356\n"
     ]
    },
    {
     "name": "stderr",
     "output_type": "stream",
     "text": [
      " 89%|████████▊ | 1774/2000 [00:15<00:01, 143.64it/s]"
     ]
    },
    {
     "name": "stdout",
     "output_type": "stream",
     "text": [
      "Epoch 1750: | Train Loss: 13.96003 | Val Loss: 15.92108\n"
     ]
    },
    {
     "name": "stderr",
     "output_type": "stream",
     "text": [
      " 91%|█████████▏| 1825/2000 [00:15<00:01, 159.34it/s]"
     ]
    },
    {
     "name": "stdout",
     "output_type": "stream",
     "text": [
      "Epoch 1800: | Train Loss: 11.00411 | Val Loss: 12.20661\n"
     ]
    },
    {
     "name": "stderr",
     "output_type": "stream",
     "text": [
      " 94%|█████████▍| 1877/2000 [00:16<00:00, 165.87it/s]"
     ]
    },
    {
     "name": "stdout",
     "output_type": "stream",
     "text": [
      "Epoch 1850: | Train Loss: 9.55052 | Val Loss: 14.98095\n"
     ]
    },
    {
     "name": "stderr",
     "output_type": "stream",
     "text": [
      " 96%|█████████▋| 1929/2000 [00:16<00:00, 168.35it/s]"
     ]
    },
    {
     "name": "stdout",
     "output_type": "stream",
     "text": [
      "Epoch 1900: | Train Loss: 16.82034 | Val Loss: 22.85179\n"
     ]
    },
    {
     "name": "stderr",
     "output_type": "stream",
     "text": [
      " 99%|█████████▉| 1980/2000 [00:16<00:00, 168.08it/s]"
     ]
    },
    {
     "name": "stdout",
     "output_type": "stream",
     "text": [
      "Epoch 1950: | Train Loss: 8.57077 | Val Loss: 7.55617\n"
     ]
    },
    {
     "name": "stderr",
     "output_type": "stream",
     "text": [
      "100%|██████████| 2000/2000 [00:16<00:00, 118.25it/s]"
     ]
    },
    {
     "name": "stdout",
     "output_type": "stream",
     "text": [
      "Epoch 2000: | Train Loss: 7.20485 | Val Loss: 6.87162\n"
     ]
    },
    {
     "name": "stderr",
     "output_type": "stream",
     "text": [
      "\n"
     ]
    }
   ],
   "source": [
    "for e in tqdm(range(1, EPOCHS + 1)):\n",
    "    # TRAINING\n",
    "    train_epoch_loss = 0\n",
    "    model.train()\n",
    "    for X_train_batch, y_train_batch in train_loader:\n",
    "        X_train_batch, y_train_batch = X_train_batch.to(device), y_train_batch.to(\n",
    "            device\n",
    "        )\n",
    "        optimizer.zero_grad()\n",
    "\n",
    "        y_train_pred = model(X_train_batch)\n",
    "\n",
    "        train_loss = criterion(y_train_pred, y_train_batch.unsqueeze(1))\n",
    "\n",
    "        train_loss.backward()\n",
    "        optimizer.step()\n",
    "\n",
    "        train_epoch_loss += train_loss.item()\n",
    "\n",
    "    # VALIDATION\n",
    "    with torch.no_grad():\n",
    "        val_epoch_loss = 0\n",
    "\n",
    "        model.eval()\n",
    "        for X_val_batch, y_val_batch in val_loader:\n",
    "            X_val_batch, y_val_batch = X_val_batch.to(device), y_val_batch.to(device)\n",
    "\n",
    "            y_val_pred = model(X_val_batch)\n",
    "\n",
    "            val_loss = criterion(y_val_pred, y_val_batch.unsqueeze(1))\n",
    "\n",
    "            val_epoch_loss += val_loss.item()\n",
    "        # print(torch.cuda.get_device_name())\n",
    "\n",
    "        loss_stats[\"train\"].append(train_epoch_loss / len(train_loader))\n",
    "        loss_stats[\"val\"].append(val_epoch_loss / len(val_loader))\n",
    "\n",
    "    if e % 50 == 0:\n",
    "        print(\n",
    "            f\"Epoch {e+0:03}: | Train Loss: {train_epoch_loss/len(train_loader):.5f} | Val Loss: {val_epoch_loss/len(val_loader):.5f}\"\n",
    "        )\n",
    "# torch.cuda.set_device(\"cuda:0\")\n",
    "# print(torch.cuda.get_device_name())"
   ]
  },
  {
   "cell_type": "code",
   "execution_count": 16,
   "metadata": {},
   "outputs": [
    {
     "name": "stdout",
     "output_type": "stream",
     "text": [
      "2000\n",
      "2000\n"
     ]
    }
   ],
   "source": [
    "print(len(loss_stats['train']))\n",
    "print(len(loss_stats['val']))"
   ]
  },
  {
   "cell_type": "code",
   "execution_count": 17,
   "metadata": {},
   "outputs": [
    {
     "data": {
      "text/plain": [
       "Text(0.5, 1.0, 'Train-Val Loss/Epoch')"
      ]
     },
     "execution_count": 17,
     "metadata": {},
     "output_type": "execute_result"
    },
    {
     "data": {
      "image/png": "[encoded data removed]",
      "text/plain": [
       "<Figure size 1500x800 with 1 Axes>"
      ]
     },
     "metadata": {},
     "output_type": "display_data"
    }
   ],
   "source": [
    "train_val_loss_df = (\n",
    "    pd.DataFrame.from_dict(loss_stats)\n",
    "    .reset_index()\n",
    "    .melt(id_vars=[\"index\"])\n",
    "    .rename(columns={\"index\": \"epochs\"})\n",
    ")\n",
    "plt.figure(figsize=(15, 8))\n",
    "sns.lineplot(data=train_val_loss_df, x=\"epochs\", y=\"value\", hue=\"variable\").set_title(\n",
    "    \"Train-Val Loss/Epoch\"\n",
    ")"
   ]
  },
  {
   "cell_type": "code",
   "execution_count": 18,
   "metadata": {},
   "outputs": [
    {
     "name": "stderr",
     "output_type": "stream",
     "text": [
      "100%|██████████| 2/2 [00:00<00:00, 13005.59it/s]"
     ]
    },
    {
     "name": "stdout",
     "output_type": "stream",
     "text": [
      "[2672.94, 2517.9832, 2452.2175, 2767.086, 2565.8713, 2974.0579, 2843.7083, 2739.8508, 2841.118, 2797.362, 2578.3953, 2449.1516, 2719.158, 2655.494, 2446.4502, 2800.3691, 2605.7695, 2754.911, 2926.675, 2465.9958, 3049.2778, 2463.6243, 2685.0344, 2626.1638, 2766.196, 2802.9177, 2831.132, 2821.9539, 3069.4114, 2725.5454, 2643.0564, 2684.723, 2791.0273, 2457.6028, 2628.3203, 2691.7817, 2973.8237, 2790.5754, 2997.1628, 2688.8865, 2795.78, 2832.741, 2788.1433, 2708.254, 2977.7903, 2733.1023, 2728.7573, 2550.8757, 2423.5986, 2550.0842, 2948.0798, 2543.0532, 2627.4646, 2676.2517, 3303.365, 3054.057, 2469.0486, 2656.3298, 2738.493, 2439.2817, 2720.4988, 2695.4246, 2677.9119, 2791.6462, 2670.632, 2962.6384, 2636.4802, 2951.0059, 2966.4119, 2532.361, 2732.5603, 2515.9866, 2425.8516, 2837.8708, 2413.4272, 2364.5583, 2476.0247, 2723.978, 2964.4631, 2606.2405, 2456.6404, 2354.361, 2816.282, 2836.637, 2671.9744, 2760.474, 2519.638, 2667.1755, 2665.8992, 2841.1184, 2316.3713, 2567.4446, 2621.0657, 2454.3, 2751.4102, 3077.1196, 2375.5972, 2759.8884, 2943.815, 2514.916, 2905.3577, 2800.3433, 2798.8364, 2792.2532, 2850.8284, 2739.8972, 2670.6309, 2551.568, 2749.2966, 2872.9143, 3063.6584, 2883.419, 2735.1406, 2939.3252, 2936.102, 2632.3342, 2781.2017, 2465.534, 2740.5044, 2458.9595, 2377.9148]\n",
      "[2672.9920592697076, 2514.5933725335085, 2453.679832116231, 2767.1444807454805, 2565.529833962467, 2976.8380452577762, 2844.460017218452, 2744.1193722944745, 2843.0753129521236, 2796.9472339864956, 2577.3954906558365, 2448.529410958695, 2717.4138354825827, 2656.6315914707807, 2447.9678335845742, 2801.5509607184076, 2605.423257808273, 2756.4337163101386, 2928.1420091048935, 2468.0425816708885, 3051.1290618742305, 2464.947323856543, 2685.295703847639, 2625.340969378976, 2769.2800093303294, 2802.3282261205604, 2832.1726645923172, 2820.0464318723334, 3071.06109453983, 2727.590248463666, 2643.090843697361, 2683.6693789890614, 2791.1458624756033, 2458.2809370939713, 2628.6744306721994, 2687.150058094835, 2975.3294076209086, 2788.8704034886537, 2994.0817917106433, 2691.6041674467965, 2797.455933515734, 2830.6813556772236, 2789.479364045111, 2704.940986235692, 2980.1954147637216, 2730.3517002598633, 2730.348375258371, 2551.8931114373186, 2425.4614306439485, 2548.979861641227, 2942.8079269734035, 2546.6039256538606, 2630.986029593078, 2677.0063484973766, 3298.0635231768874, 3053.4055263981263, 2471.5033137037994, 2658.4963568963485, 2740.1305309990203, 2438.1953922693037, 2720.147605662125, 2696.0953316369914, 2678.5778631427415, 2789.4967590390615, 2674.1709374918983, 2960.719705284834, 2635.2788657544174, 2951.845087131922, 2967.682360082496, 2529.807706549394, 2731.862041797663, 2512.9060263412193, 2428.013797654788, 2837.883537481104, 2415.6682687096145, 2359.171069087408, 2474.3516065179733, 2724.3689603145367, 2966.93131404435, 2602.024661099598, 2452.13676533992, 2351.67994956472, 2815.0821141050988, 2837.3523312353477, 2673.1078490774535, 2758.2951345181546, 2518.7468625350293, 2663.725374314611, 2666.776824060217, 2843.1240494079857, 2315.129814977993, 2569.464341763982, 2623.6679450481793, 2448.7030937058607, 2752.3840065285785, 3078.790561851281, 2376.4739570574475, 2758.0046325380385, 2944.3758311304828, 2518.453266712293, 2904.7682216978787, 2799.0215092827284, 2800.4614325406, 2795.1676984619266, 2851.679005730539, 2739.1935342334405, 2672.4141318541956, 2553.46647129163, 2746.507367332921, 2876.2812639643653, 3065.0249686004495, 2883.649254260604, 2733.807813332262, 2940.198222996033, 2936.163312938144, 2632.3447244653876, 2784.8898277328103, 2461.485129242192, 2739.9191759100963, 2455.4834769357694, 2372.395643208231]\n",
      "[-0.05211786  3.38978176 -1.46230282 -0.05854325  0.34150393 -2.78018393\n",
      " -0.75176527 -4.26854222 -1.95739303  0.41482656  0.99977302  0.62220037\n",
      "  1.7441235  -1.13769499 -1.51763827 -1.18182009  0.34627344 -1.52282764\n",
      " -1.46696028 -2.04673206 -1.85122984 -1.32305628 -0.26128002  0.82284898\n",
      " -3.08396441  0.58949849 -1.04058451  1.90742555 -1.64971759 -2.04483831\n",
      " -0.03444721  1.0535214  -0.11851873 -0.67815389 -0.35411817  4.63168019\n",
      " -1.50567715  1.70503596  3.08105009 -2.71769284 -1.67590422  2.05961112\n",
      " -1.3360535   3.31292001 -2.40513156  2.75059466 -1.59105104 -1.01737902\n",
      " -1.86279783  1.10436687  5.27190701 -3.550703   -3.52142998 -0.75463951\n",
      "  5.30146706  0.65135837 -2.45472972 -2.16652291 -1.63761108  1.08634601\n",
      "  0.35117363 -0.67077109 -0.66599791  2.1494812  -3.53885741  1.91872245\n",
      "  1.20135885 -0.83922776 -1.27049485  2.55337743  0.69826094  3.08054592\n",
      " -2.16223515 -0.01268787 -2.24102262  5.38728052  1.67305169 -0.39093297\n",
      " -2.46817928  4.21581742  4.50361552  2.68113442  1.19986832 -0.71536834\n",
      " -1.13348384  2.17898658  0.89107692  3.45016279 -0.87765414 -2.0056412\n",
      "  1.24152291 -2.01976169 -2.60227122  5.59695512 -0.97385028 -1.67093295\n",
      " -0.87678909  1.8837952  -0.56088972 -3.53725109  0.58944432  1.32175244\n",
      " -1.62500676 -2.91452463 -0.85063659  0.70368256 -1.78327248 -1.89835606\n",
      "  2.78926353 -3.36695732 -1.36652133 -0.23030895  1.33281167 -0.87302768\n",
      " -0.06126216 -0.01049595 -3.68816758  4.0488063   0.58521862  3.47599572\n",
      "  5.51915171]\n"
     ]
    },
    {
     "name": "stderr",
     "output_type": "stream",
     "text": [
      "\n"
     ]
    }
   ],
   "source": [
    "y_pred_list = []\n",
    "with torch.no_grad():\n",
    "    model.eval()\n",
    "    for X_batch, _ in test_loader:\n",
    "        X_batch = X_batch.to(device)\n",
    "        y_test_pred = model(X_batch)\n",
    "        y_pred_list.append(y_test_pred.cpu().numpy())\n",
    "        y_pred_list = [a for a in y_pred_list]\n",
    "        \n",
    "y_pred = []\n",
    "for i in tqdm(range(len(y_pred_list))):\n",
    "    for j in range(len(y_pred_list[i])):\n",
    "        for k in range(len(y_pred_list[i][j])):\n",
    "            y_pred.append(y_pred_list[i][j][k])\n",
    "\n",
    "print(y_pred)  \n",
    "print(y_test.tolist())\n",
    "y_pred_np = np.array(y_pred)\n",
    "difference = np.subtract(y_pred_np, y_test)\n",
    "print(difference)\n"
   ]
  },
  {
   "cell_type": "code",
   "execution_count": 19,
   "metadata": {},
   "outputs": [
    {
     "name": "stdout",
     "output_type": "stream",
     "text": [
      "Mean Squared Error : 5.089864289176946\n",
      "R^2 : 0.9998563346172763\n",
      "Accuracy (using MSE): 94.91013571082306%\n",
      "Mean absolute percentage error: 99.99931617696947%\n"
     ]
    }
   ],
   "source": [
    "mse = mean_squared_error(y_test, y_pred)\n",
    "r_square = r2_score(y_test, y_pred)\n",
    "mean_abs_err = mean_absolute_percentage_error(y_test, y_pred)\n",
    "print(\"Mean Squared Error :\",mse)\n",
    "print(\"R^2 :\",r_square)\n",
    "print(f\"Accuracy (using MSE): {(100 - mse)}%\")\n",
    "print(f\"Mean absolute percentage error: {100 - mean_abs_err}%\")"
   ]
  },
  {
   "cell_type": "markdown",
   "metadata": {},
   "source": [
    "#### Visualising the data"
   ]
  },
  {
   "cell_type": "code",
   "execution_count": 20,
   "metadata": {},
   "outputs": [],
   "source": [
    "import plotly as py\n",
    "import plotly.io as pio    \n",
    "import plotly.graph_objects as go\n",
    "from plotly.subplots import make_subplots\n",
    "from plotly.offline import download_plotlyjs, init_notebook_mode, plot, iplot"
   ]
  },
  {
   "cell_type": "code",
   "execution_count": 21,
   "metadata": {},
   "outputs": [
    {
     "ename": "SyntaxError",
     "evalue": "unmatched ')' (350408744.py, line 2)",
     "output_type": "error",
     "traceback": [
      "\u001b[0;36m  Cell \u001b[0;32mIn[21], line 2\u001b[0;36m\u001b[0m\n\u001b[0;31m    temp.index // 15)),\u001b[0m\n\u001b[0m                    ^\u001b[0m\n\u001b[0;31mSyntaxError\u001b[0m\u001b[0;31m:\u001b[0m unmatched ')'\n"
     ]
    }
   ],
   "source": [
    "                         bor\n",
    "temp.index // 15)),\n",
    "                         y=y_pred,\n",
    "                         name='Prediction',\n",
    "                         marker_color='MediumPurple'), row=2, col=1,\n",
    "              )\n",
    "\n",
    "fig.add_trace(go.Scatter(x=(len(temp) // 15 + (temp.index // 15)),\n",
    "                         y=y_test,\n",
    "                         name='Truth',\n",
    "                         marker_color='LightSkyBlue',\n",
    "                         showlegend=False), row=3, col=1)\n",
    "\n",
    "\n",
    "\n",
    "fig.show()"
   ]
  }
 ],
 "metadata": {
  "kernelspec": {
   "display_name": ".venv",
   "language": "python",
   "name": "python3"
  },
  "language_info": {
   "codemirror_mode": {
    "name": "ipython",
    "version": 3
   },
   "file_extension": ".py",
   "mimetype": "text/x-python",
   "name": "python",
   "nbconvert_exporter": "python",
   "pygments_lexer": "ipython3",
   "version": "3.11.3"
  },
  "orig_nbformat": 4
 },
 "nbformat": 4,
 "nbformat_minor": 2
}
