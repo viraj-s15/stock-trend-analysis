{
 "cells": [
  {
   "cell_type": "markdown",
   "metadata": {},
   "source": [
    "### This is for the reliance_data_set_large.csv"
   ]
  },
  {
   "cell_type": "code",
   "execution_count": null,
   "metadata": {},
   "outputs": [
    {
     "ename": "",
     "evalue": "",
     "output_type": "error",
     "traceback": [
      "\u001b[1;31mThe kernel failed to start as the Python Environment '.venv' is no longer available. Consider selecting another kernel or refreshing the list of Python Environments."
     ]
    }
   ],
   "source": [
    "import os\n",
    "import numpy as np\n",
    "import pandas as pd\n",
    "import xgboost as xgb\n",
    "import matplotlib.pyplot as plt\n",
    "from xgboost import plot_importance, plot_tree\n",
    "from sklearn.metrics import mean_squared_error\n",
    "from sklearn.preprocessing import MinMaxScaler\n",
    "from sklearn.model_selection import train_test_split, GridSearchCV\n",
    "\n",
    "# Chart drawing\n",
    "import plotly as py\n",
    "import plotly.io as pio    \n",
    "import plotly.graph_objects as go\n",
    "from plotly.subplots import make_subplots\n",
    "from plotly.offline import download_plotlyjs, init_notebook_mode, plot, iplot\n",
    "\n",
    "# Mute sklearn warnings\n",
    "from warnings import simplefilter\n",
    "simplefilter(action='ignore', category=FutureWarning)\n",
    "simplefilter(action='ignore', category=DeprecationWarning)\n",
    "\n",
    "# Show charts when running kernel\n",
    "init_notebook_mode(connected=True)\n",
    "\n",
    "layout=go.Layout(paper_bgcolor='rgba(0,0,0,0)', plot_bgcolor='rgba(250,250,250,0.8)')\n",
    "fig = go.Figure(layout=layout)\n",
    "templated_fig = pio.to_templated(fig)\n",
    "pio.templates['my_template'] = templated_fig.layout.template\n",
    "pio.templates.default = 'my_template'"
   ]
  },
  {
   "cell_type": "code",
   "execution_count": null,
   "metadata": {},
   "outputs": [],
   "source": [
    "df = pd.read_csv(\"../data/tcs/tcs.csv\")\n",
    "\n",
    "df['Date'] = pd.to_datetime(df['Date'])\n",
    "df = df[(df['Date'].dt.year >= 2010)].copy()\n",
    "df.index = range(len(df))\n",
    "df.rename(columns={\"Open Price\":\"Open\",\"High Price\":\"High\",\"Low Price\":\"Low\",\"Close Price\":\"Close\",\"Total Traded Quantity\":\"Volume\"},inplace=True)\n",
    "# cols = [\"Symbol\",\"Ser verbose=Falseies\",\"Prev Close\",\"Last Price\",\"Average Price\",\"Turnover\",\"No. of Trades\", \"Deliverable Qty\",'% Dly Qt to Traded Qty']\n",
    "cols = \"Adj Close\"\n",
    "df.drop(columns=cols,inplace=True)   \n",
    "df.dropna(inplace=True)\n",
    "df.head()"
   ]
  },
  {
   "cell_type": "code",
   "execution_count": null,
   "metadata": {},
   "outputs": [],
   "source": [
    "fig = make_subplots(rows=2, cols=1)\n",
    "27,2119.949951,2119.949951,2086.199951,2105.500000,2020.358887,2349001\n",
    "\n",
    "fig.add_trace(go.Ohlc(x=df.Date,\n",
    "                      open=df.Open,\n",
    "                      high=df.High,\n",
    "                      low=df.Low,\n",
    "                      close=df.Close,\n",
    "                      name='Price'), row=1, col=1)\n",
    "\n",
    "fig.add_trace(go.Scatter(x=df.Date, y=df.Volume, name='Volume'), row=2, col=1)\n",
    "\n",
    "fig.update(layout_xaxis_rangeslider_visible=False)\n",
    "fig.show()"
   ]
  },
  {
   "cell_type": "code",
   "execution_count": null,
   "metadata": {},
   "outputs": [],
   "source": [
    "df['EMA_9'] = df['Close'].ewm(9).mean().shift()\n",
    "df['SMA_5'] = df['Close'].rolling(5).mean().shift()\n",
    "df['SMA_10'] = df['Close'].rolling(10).mean().shift()\n",
    "df['SMA_15'] = df['Close'].rolling(15).mean().shift()\n",
    "df['SMA_30'] = df['Close'].rolling(30).mean().shift()\n",
    "\n",
    "fig = go.Figure()\n",
    "fig.add_trace(go.Scatter(x=df.Date, y=df.EMA_9, name='EMA 9'))\n",
    "fig.add_trace(go.Scatter(x=df.Date, y=df.SMA_5, name='SMA 5'))\n",
    "fig.add_trace(go.Scatter(x=df.Date, y=df.SMA_10, name='SMA 10'))\n",
    "fig.add_trace(go.Scatter(x=df.Date, y=df.SMA_15, name='SMA 15'))\n",
    "fig.add_trace(go.Scatter(x=df.Date, y=df.SMA_30, name='SMA 30'))\n",
    "fig.add_trace(go.Scatter(x=df.Date, y=df.Close, name='Close', opacity=0.2))\n",
    "fig.show()"
   ]
  },
  {
   "cell_type": "code",
   "execution_count": null,
   "metadata": {},
   "outputs": [],
   "source": [
    "def relative_strength_idx(df, n=14):\n",
    "    close = df['Close']\n",
    "    delta = close.diff()\n",
    "    delta = delta[1:]\n",
    "    pricesUp = delta.copy()\n",
    "    pricesDown = delta.copy()\n",
    "    pricesUp[pricesUp < 0] = 0\n",
    "    pricesDown[pricesDown > 0] = 0    \n",
    "    rollUp = pricesUp.rolling(n).mean()\n",
    "    rollDown = pricesDown.abs().rolling(n).mean()\n",
    "    rs = rollUp / rollDown\n",
    "    rsi = 100.0 - (100.0 / (1.0 + rs))\n",
    "    return rsi\n",
    "\n",
    "df['RSI'] = relative_strength_idx(df).fillna(0)\n",
    "\n",
    "fig = go.Figure(go.Scatter(x=df.Date, y=df.RSI, name='RSI'))\n",
    "fig.show()"
   ]
  },
  {
   "cell_type": "code",
   "execution_count": null,
   "metadata": {},
   "outputs": [],
   "source": [
    "EMA_12 = pd.Series(df['Close'].ewm(span=12, min_periods=12).mean())\n",
    "EMA_26 = pd.Series(df['Close'].ewm(span=26, min_periods=26).mean())\n",
    "df['MACD'] = pd.Series(EMA_12 - EMA_26)\n",
    "df['MACD_signal'] = pd.Series(df.MACD.ewm(span=9, min_periods=9).mean())\n",
    "\n",
    "fig = make_subplots(rows=2, cols=1)\n",
    "fig.add_trace(go.Scatter(x=df.Date, y=df.Close, name='Close'), row=1, col=1)\n",
    "fig.add_trace(go.Scatter(x=df.Date, y=EMA_12, name='EMA 12'), row=1, col=1)\n",
    "fig.add_trace(go.Scatter(x=df.Date, y=EMA_26, name='EMA 26'), row=1, col=1)\n",
    "fig.add_trace(go.Scatter(x=df.Date, y=df['MACD'], name='MACD'), row=2, col=1)\n",
    "fig.add_trace(go.Scatter(x=df.Date, y=df['MACD_signal'], name='Signal line'), row=2, col=1)\n",
    "fig.show()"
   ]
  },
  {
   "cell_type": "code",
   "execution_count": null,
   "metadata": {},
   "outputs": [],
   "source": [
    "df['Close'] = df['Close'].shift(-1)"
   ]
  },
  {
   "cell_type": "code",
   "execution_count": null,
   "metadata": {},
   "outputs": [],
   "source": [
    "df = df.iloc[33:] # Because of moving averag    If the version of a package is being increased, please remember to return the build/number back to 0.\n",
    "df = df[:-1]      # Because of shifting close price\n",
    "\n",
    "df.index = range(len(df))"
   ]
  },
  {
   "cell_type": "code",
   "execution_count": null,
   "metadata": {},
   "outputs": [],
   "source": [
    "test_size  = 0.15\n",
    "valid_size = 0.15\n",
    "   \n",
    "test_split_idx  = int(df.shape[0] * (1-test_size))\n",
    "valid_split_idx = int(df.shape[0] * (1-(valid_size+test_size)))\n",
    "\n",
    "train_df  = df.loc[:valid_split_idx].copy()\n",
    "valid_df  = df.loc[valid_split_idx+1:test_split_idx].copy()\n",
    "test_df   = df.loc[test_split_idx+1:].copy()\n",
    "\n",
    "fig = go.Figure()\n",
    "fig.add_trace(go.Scatter(x=train_df.Date, y=train_df.Close, name='Training'))\n",
    "fig.add_trace(go.Scatter(x=valid_df.Date, y=valid_df.Close, name='Validation'))\n",
    "fig.add_trace(go.Scatter(x=test_df.Date,  y=test_df.Close,  name='Test'))\n",
    "fig.show()"
   ]
  },
  {
   "cell_type": "code",
   "execution_count": null,
   "metadata": {},
   "outputs": [],
   "source": [
    "drop_cols = ['Date', 'Volume', 'Open', 'Low', 'High']\n",
    "\n",
    "train_df = train_df.drop(columns=drop_cols)\n",
    "valid_df = valid_df.drop(columns=drop_cols)\n",
    "test_df  = test_df.drop(columns=drop_cols)"
   ]
  },
  {
   "cell_type": "code",
   "execution_count": null,
   "metadata": {},
   "outputs": [],
   "source": [
    "y_train = train_df['Close'].copy()\n",
    "X_train = train_df.drop(columns=['Close'])\n",
    "\n",
    "y_valid = valid_df['Close'].copy()\n",
    "X_valid = valid_df.drop(columns=['Close'])\n",
    "\n",
    "y_test  = test_df['Close'].copy()\n",
    "X_test  = test_df.drop(columns=['Close'])\n",
    "\n",
    "X_train.info()"
   ]
  },
  {
   "cell_type": "code",
   "execution_count": null,
   "metadata": {},
   "outputs": [],
   "source": [
    "%%time\n",
    "\n",
    "parameters = {\n",
    "    'n_estimators': [100, 200, 300, 400],\n",
    "    'learning_rate': [0.001, 0.005, 0.01, 0.05],\n",
    "    'max_depth': [8, 10, 12, 15],\n",
    "    'gamma': [0.001, 0.005, 0.01, 0.02],\n",
    "    'random_state': [42]\n",
    "}\n",
    "\n",
    "eval_set = [(X_train, y_train), (X_valid, y_valid)]\n",
    "model = xgb.XGBRegressor(eval_set=eval_set, objective='reg:squarederror')\n",
    "clf = GridSearchCV(model, parameters)\n",
    "\n",
    "clf.fit(X_train, y_train)\n",
    "\n",
    "print(f'Best params: {clf.best_params_}')\n",
    "print(f'Best validation score = {clf.best_score_}')"
   ]
  },
  {
   "cell_type": "code",
   "execution_count": null,
   "metadata": {},
   "outputs": [],
   "source": [
    "%%time\n",
    "\n",
    "parameters = {\n",
    "    'n_estimators': 800,\n",
    "    'learning_rate': 0.01,\n",
    "    'max_depth': 64,\n",
    "    # 'gamma': 0.001,\n",
    "    'random_state': [42]\n",
    "}\n",
    "\n",
    "model = xgb.XGBRegressor(**clf.best_params_, objective='reg:squarederror')"
   ]
  },
  {
   "cell_type": "code",
   "execution_count": null,
   "metadata": {},
   "outputs": [],
   "source": [
    "model.fit(X_train, y_train, eval_set=eval_set, verbose=False)"
   ]
  },
  {
   "cell_type": "code",
   "execution_count": null,
   "metadata": {},
   "outputs": [],
   "source": [
    "plot_importance(model)"
   ]
  },
  {
   "cell_type": "code",
   "execution_count": null,
   "metadata": {},
   "outputs": [],
   "source": [
    "y_pred = model.predict(X_test)\n",
    "print(f'y_true = {np.array(y_test)[:5]}')\n",
    "print(f'y_pred = {y_pred[:5]}')"
   ]
  },
  {
   "cell_type": "code",
   "execution_count": null,
   "metadata": {},
   "outputs": [],
   "source": [
    "predicted_prices = df.loc[test_split_idx+1:].copy()\n",
    "predicted_prices['Close'] = y_pred\n",
    "\n",
    "fig = make_subplots(rows=2, cols=1)\n",
    "fig.add_trace(go.Scatter(x=df.Date, y=df.Close,\n",
    "                         name='Truth',\n",
    "                         marker_color='LightSkyBlue'), row=1, col=1)\n",
    "\n",
    "fig.add_trace(go.Scatter(x=predicted_prices.Date,\n",
    "                         y=predicted_prices.Close,\n",
    "                         name='Prediction',\n",
    "                         marker_color='MediumPurple'), row=1, col=1)\n",
    "\n",
    "fig.add_trace(go.Scatter(x=predicted_prices.Date,\n",
    "                         y=y_test,\n",
    "                         name='Truth',\n",
    "                         marker_color='LightSkyBlue',\n",
    "                         showlegend=False), row=2, col=1)\n",
    "\n",
    "fig.add_trace(go.Scatter(x=predicted_prices.Date,\n",
    "                         y=y_pred,\n",
    "                         name='Prediction',\n",
    "                         marker_color='MediumPurple',\n",
    "                         showlegend=False), row=2, col=1)\n",
    "\n",
    "fig.show()"
   ]
  },
  {
   "cell_type": "markdown",
   "metadata": {},
   "source": [
    "<!-- 1st MAy 2020 - 31st december 2022 -->"
   ]
  },
  {
   "cell_type": "markdown",
   "metadata": {},
   "source": []
  }
 ],
 "metadata": {
  "kernelspec": {
   "display_name": "Python 3 (ipykernel)",
   "language": "python",
   "name": "python3"
  },
  "language_info": {
   "codemirror_mode": {
    "name": "ipython",
    "version": 3
   },
   "file_extension": ".py",
   "mimetype": "text/x-python",
   "name": "python",
   "nbconvert_exporter": "python",
   "pygments_lexer": "ipython3",
   "version": "3.11.3"
  }
 },
 "nbformat": 4,
 "nbformat_minor": 4
}
