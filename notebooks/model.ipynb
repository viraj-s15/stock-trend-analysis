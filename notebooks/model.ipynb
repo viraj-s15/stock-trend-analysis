{
 "cells": [
  {
   "cell_type": "code",
   "execution_count": 13,
   "metadata": {},
   "outputs": [
    {
     "data": {
      "text/html": [
       "        <script type=\"text/javascript\">\n",
       "        window.PlotlyConfig = {MathJaxConfig: 'local'};\n",
       "        if (window.MathJax && window.MathJax.Hub && window.MathJax.Hub.Config) {window.MathJax.Hub.Config({SVG: {font: \"STIX-Web\"}});}\n",
       "        if (typeof require !== 'undefined') {\n",
       "        require.undef(\"plotly\");\n",
       "        requirejs.config({\n",
       "            paths: {\n",
       "                'plotly': ['https://cdn.plot.ly/plotly-2.24.1.min']\n",
       "            }\n",
       "        });\n",
       "        require(['plotly'], function(Plotly) {\n",
       "            window._Plotly = Plotly;\n",
       "        });\n",
       "        }\n",
       "        </script>\n",
       "        "
      ]
     },
     "metadata": {},
     "output_type": "display_data"
    }
   ],
   "source": [
    "import pandas as pd\n",
    "import numpy as np\n",
    "import matplotlib.pyplot as plt\n",
    "import os\n",
    "import numpy as np\n",
    "import pandas as pd\n",
    "import xgboost as xgb\n",
    "import matplotlib.pyplot as plt\n",
    "from xgboost import plot_importance, plot_tree\n",
    "from sklearn.metrics import mean_squared_error\n",
    "from sklearn.preprocessing import MinMaxScaler\n",
    "from sklearn.model_selection import train_test_split, GridSearchCV\n",
    "\n",
    "\n",
    "import plotly as py\n",
    "import plotly.io as pio\n",
    "import plotly.graph_objects as go\n",
    "from plotly.subplots import make_subplots\n",
    "from plotly.offline import download_plotlyjs, init_notebook_mode, plot, iplot\n",
    "\n",
    "# Mute sklearn warnings\n",
    "from warnings import simplefilter\n",
    "simplefilter(action='ignore', category=FutureWarning)\n",
    "simplefilter(action='ignore', category=DeprecationWarning)\n",
    "\n",
    "# Show charts when running kernel\n",
    "init_notebook_mode(connected=True)\n",
    "\n",
    "# Change default background color for all visualizations\n",
    "layout=go.Layout(paper_bgcolor='rgba(0,0,0,0)', plot_bgcolor='rgba(250,250,250,0.8)')\n",
    "fig = go.Figure(layout=layout)\n",
    "templated_fig = pio.to_templated(fig)\n",
    "pio.templates['my_template'] = templated_fig.layout.template\n",
    "pio.templates.default = 'my_template'\n"
   ]
  },
  {
   "cell_type": "code",
   "execution_count": 14,
   "metadata": {},
   "outputs": [
    {
     "data": {
      "text/html": [
       "<div>\n",
       "<style scoped>\n",
       "    .dataframe tbody tr th:only-of-type {\n",
       "        vertical-align: middle;\n",
       "    }\n",
       "\n",
       "    .dataframe tbody tr th {\n",
       "        vertical-align: top;\n",
       "    }\n",
       "\n",
       "    .dataframe thead th {\n",
       "        text-align: right;\n",
       "    }\n",
       "</style>\n",
       "<table border=\"1\" class=\"dataframe\">\n",
       "  <thead>\n",
       "    <tr style=\"text-align: right;\">\n",
       "      <th></th>\n",
       "      <th>Symbol</th>\n",
       "      <th>Open Price</th>\n",
       "      <th>High</th>\n",
       "      <th>Low</th>\n",
       "      <th>Close Price</th>\n",
       "      <th>Total Traded Quantity</th>\n",
       "      <th>Total Traded Value</th>\n",
       "      <th>Date</th>\n",
       "      <th>Average Trading Price</th>\n",
       "      <th>SMA</th>\n",
       "      <th>EWMA5</th>\n",
       "      <th>MiddleBand</th>\n",
       "      <th>UpperBand</th>\n",
       "      <th>LowerBand</th>\n",
       "      <th>RSI</th>\n",
       "      <th>MFI</th>\n",
       "      <th>ForceIndex</th>\n",
       "      <th>ATR</th>\n",
       "      <th>EMV</th>\n",
       "    </tr>\n",
       "  </thead>\n",
       "  <tbody>\n",
       "    <tr>\n",
       "      <th>0</th>\n",
       "      <td>HDFC</td>\n",
       "      <td>2418.00</td>\n",
       "      <td>2438.50</td>\n",
       "      <td>2409.0</td>\n",
       "      <td>2433.95</td>\n",
       "      <td>945874</td>\n",
       "      <td>2.294534e+09</td>\n",
       "      <td>01-Jan-20</td>\n",
       "      <td>2425.834653</td>\n",
       "      <td>NaN</td>\n",
       "      <td>NaN</td>\n",
       "      <td>NaN</td>\n",
       "      <td>NaN</td>\n",
       "      <td>NaN</td>\n",
       "      <td>NaN</td>\n",
       "      <td>NaN</td>\n",
       "      <td>NaN</td>\n",
       "      <td>NaN</td>\n",
       "      <td>NaN</td>\n",
       "    </tr>\n",
       "    <tr>\n",
       "      <th>1</th>\n",
       "      <td>HDFC</td>\n",
       "      <td>2430.00</td>\n",
       "      <td>2472.75</td>\n",
       "      <td>2422.0</td>\n",
       "      <td>2466.40</td>\n",
       "      <td>1701396</td>\n",
       "      <td>4.169605e+09</td>\n",
       "      <td>02-Jan-20</td>\n",
       "      <td>2450.696553</td>\n",
       "      <td>NaN</td>\n",
       "      <td>NaN</td>\n",
       "      <td>NaN</td>\n",
       "      <td>NaN</td>\n",
       "      <td>NaN</td>\n",
       "      <td>NaN</td>\n",
       "      <td>NaN</td>\n",
       "      <td>5.521030e+07</td>\n",
       "      <td>40.125</td>\n",
       "      <td>NaN</td>\n",
       "    </tr>\n",
       "    <tr>\n",
       "      <th>2</th>\n",
       "      <td>HDFC</td>\n",
       "      <td>2455.00</td>\n",
       "      <td>2466.40</td>\n",
       "      <td>2441.8</td>\n",
       "      <td>2454.45</td>\n",
       "      <td>1963923</td>\n",
       "      <td>4.815298e+09</td>\n",
       "      <td>03-Jan-20</td>\n",
       "      <td>2451.877371</td>\n",
       "      <td>NaN</td>\n",
       "      <td>NaN</td>\n",
       "      <td>NaN</td>\n",
       "      <td>NaN</td>\n",
       "      <td>NaN</td>\n",
       "      <td>57.586513</td>\n",
       "      <td>NaN</td>\n",
       "      <td>-2.346888e+07</td>\n",
       "      <td>37.675</td>\n",
       "      <td>39446.703197</td>\n",
       "    </tr>\n",
       "    <tr>\n",
       "      <th>3</th>\n",
       "      <td>HDFC</td>\n",
       "      <td>2428.00</td>\n",
       "      <td>2445.00</td>\n",
       "      <td>2371.4</td>\n",
       "      <td>2384.10</td>\n",
       "      <td>2656731</td>\n",
       "      <td>6.365761e+09</td>\n",
       "      <td>06-Jan-20</td>\n",
       "      <td>2396.087914</td>\n",
       "      <td>NaN</td>\n",
       "      <td>2424.910769</td>\n",
       "      <td>NaN</td>\n",
       "      <td>NaN</td>\n",
       "      <td>NaN</td>\n",
       "      <td>9.607698</td>\n",
       "      <td>NaN</td>\n",
       "      <td>-1.869010e+08</td>\n",
       "      <td>49.100</td>\n",
       "      <td>-59367.036521</td>\n",
       "    </tr>\n",
       "    <tr>\n",
       "      <th>4</th>\n",
       "      <td>HDFC</td>\n",
       "      <td>2401.25</td>\n",
       "      <td>2428.80</td>\n",
       "      <td>2380.2</td>\n",
       "      <td>2415.05</td>\n",
       "      <td>3771992</td>\n",
       "      <td>9.078865e+09</td>\n",
       "      <td>07-Jan-20</td>\n",
       "      <td>2406.915132</td>\n",
       "      <td>2430.79</td>\n",
       "      <td>2421.125355</td>\n",
       "      <td>2430.79</td>\n",
       "      <td>2496.101232</td>\n",
       "      <td>2365.478768</td>\n",
       "      <td>47.843171</td>\n",
       "      <td>NaN</td>\n",
       "      <td>1.167432e+08</td>\n",
       "      <td>61.100</td>\n",
       "      <td>-65962.508160</td>\n",
       "    </tr>\n",
       "  </tbody>\n",
       "</table>\n",
       "</div>"
      ],
      "text/plain": [
       "  Symbol  Open Price     High     Low  Close Price  Total Traded Quantity  \\\n",
       "0   HDFC     2418.00  2438.50  2409.0      2433.95                 945874   \n",
       "1   HDFC     2430.00  2472.75  2422.0      2466.40                1701396   \n",
       "2   HDFC     2455.00  2466.40  2441.8      2454.45                1963923   \n",
       "3   HDFC     2428.00  2445.00  2371.4      2384.10                2656731   \n",
       "4   HDFC     2401.25  2428.80  2380.2      2415.05                3771992   \n",
       "\n",
       "   Total Traded Value       Date  Average Trading Price      SMA        EWMA5  \\\n",
       "0        2.294534e+09  01-Jan-20            2425.834653      NaN          NaN   \n",
       "1        4.169605e+09  02-Jan-20            2450.696553      NaN          NaN   \n",
       "2        4.815298e+09  03-Jan-20            2451.877371      NaN          NaN   \n",
       "3        6.365761e+09  06-Jan-20            2396.087914      NaN  2424.910769   \n",
       "4        9.078865e+09  07-Jan-20            2406.915132  2430.79  2421.125355   \n",
       "\n",
       "   MiddleBand    UpperBand    LowerBand        RSI  MFI    ForceIndex     ATR  \\\n",
       "0         NaN          NaN          NaN        NaN  NaN           NaN     NaN   \n",
       "1         NaN          NaN          NaN        NaN  NaN  5.521030e+07  40.125   \n",
       "2         NaN          NaN          NaN  57.586513  NaN -2.346888e+07  37.675   \n",
       "3         NaN          NaN          NaN   9.607698  NaN -1.869010e+08  49.100   \n",
       "4     2430.79  2496.101232  2365.478768  47.843171  NaN  1.167432e+08  61.100   \n",
       "\n",
       "            EMV  \n",
       "0           NaN  \n",
       "1           NaN  \n",
       "2  39446.703197  \n",
       "3 -59367.036521  \n",
       "4 -65962.508160  "
      ]
     },
     "execution_count": 14,
     "metadata": {},
     "output_type": "execute_result"
    }
   ],
   "source": [
    "df = pd.read_csv(\"../data/hdfc_data_indicators.csv\")\n",
    "df.head()"
   ]
  },
  {
   "cell_type": "code",
   "execution_count": 15,
   "metadata": {},
   "outputs": [],
   "source": [
    "test_size  = 0.15\n",
    "valid_size = 0.15\n",
    "\n",
    "test_split_idx  = int(df.shape[0] * (1-test_size))\n",
    "valid_split_idx = int(df.shape[0] * (1-(valid_size+test_size)))\n",
    "\n",
    "train_df  = df.loc[:valid_split_idx].copy()\n",
    "valid_df  = df.loc[valid_split_idx+1:test_split_idx].copy()\n",
    "test_df   = df.loc[test_split_idx+1:].copy()"
   ]
  },
  {
   "cell_type": "code",
   "execution_count": 16,
   "metadata": {},
   "outputs": [],
   "source": [
    "# drop_cols = ['Symbol', 'Total Traded Quantity', 'Open Price', 'Low', 'High',\"Average Trading Price\",'52 Week Low','52 Week High','MiddleBand','LowerBand','UpperBand']\n",
    "temp = df\n",
    "drop_cols = ['Symbol', 'Total Traded Quantity', 'Open Price', 'Low', 'High',\"Average Trading Price\",'MiddleBand','LowerBand','UpperBand','Date']\n",
    "\n",
    "train_df = train_df.drop(columns=drop_cols)\n",
    "valid_df = valid_df.drop(columns=drop_cols)\n",
    "test_df  = test_df.drop(columns=drop_cols)"
   ]
  },
  {
   "cell_type": "code",
   "execution_count": 17,
   "metadata": {},
   "outputs": [
    {
     "name": "stdout",
     "output_type": "stream",
     "text": [
      "<class 'pandas.core.frame.DataFrame'>\n",
      "RangeIndex: 548 entries, 0 to 547\n",
      "Data columns (total 8 columns):\n",
      " #   Column              Non-Null Count  Dtype  \n",
      "---  ------              --------------  -----  \n",
      " 0   Total Traded Value  548 non-null    float64\n",
      " 1   SMA                 544 non-null    float64\n",
      " 2   EWMA5               545 non-null    float64\n",
      " 3   RSI                 546 non-null    float64\n",
      " 4   MFI                 535 non-null    float64\n",
      " 5   ForceIndex          547 non-null    float64\n",
      " 6   ATR                 547 non-null    float64\n",
      " 7   EMV                 546 non-null    float64\n",
      "dtypes: float64(8)\n",
      "memory usage: 34.4 KB\n"
     ]
    }
   ],
   "source": [
    "\n",
    "cols = [\"Close Price\"]\n",
    "y_train = train_df['Close Price'].copy()\n",
    "X_train = train_df.drop(columns=cols)\n",
    "\n",
    "y_valid = valid_df['Close Price'].copy()\n",
    "X_valid = valid_df.drop(columns=cols)\n",
    "\n",
    "y_test  = test_df['Close Price'].copy()\n",
    "X_test  = test_df.drop(columns=cols)\n",
    "\n",
    "X_train.info()"
   ]
  },
  {
   "cell_type": "code",
   "execution_count": 18,
   "metadata": {},
   "outputs": [
    {
     "name": "stdout",
     "output_type": "stream",
     "text": [
      "[10:07:32] WARNING: ../src/learner.cc:767: \n",
      "Parameters: { \"eval_set\", \"verbose\" } are not used.\n",
      "\n",
      "[10:07:32] WARNING: ../src/learner.cc:767: \n",
      "Parameters: { \"eval_set\", \"verbose\" } are not used.\n",
      "\n",
      "[10:07:32] WARNING: ../src/learner.cc:767: \n",
      "Parameters: { \"eval_set\", \"verbose\" } are not used.\n",
      "\n",
      "[10:07:32] WARNING: ../src/learner.cc:767: \n",
      "Parameters: { \"eval_set\", \"verbose\" } are not used.\n",
      "\n",
      "[10:07:32] WARNING: ../src/learner.cc:767: \n",
      "Parameters: { \"eval_set\", \"verbose\" } are not used.\n",
      "\n",
      "[10:07:32] WARNING: ../src/learner.cc:767: \n",
      "Parameters: { \"eval_set\", \"verbose\" } are not used.\n",
      "\n",
      "[10:07:32] WARNING: ../src/learner.cc:767: \n",
      "Parameters: { \"eval_set\", \"verbose\" } are not used.\n",
      "\n",
      "[10:07:32] WARNING: ../src/learner.cc:767: \n",
      "Parameters: { \"eval_set\", \"verbose\" } are not used.\n",
      "\n",
      "[10:07:33] WARNING: ../src/learner.cc:767: \n",
      "Parameters: { \"eval_set\", \"verbose\" } are not used.\n",
      "\n",
      "[10:07:33] WARNING: ../src/learner.cc:767: \n",
      "Parameters: { \"eval_set\", \"verbose\" } are not used.\n",
      "\n",
      "[10:07:33] WARNING: ../src/learner.cc:767: \n",
      "Parameters: { \"eval_set\", \"verbose\" } are not used.\n",
      "\n",
      "[10:07:33] WARNING: ../src/learner.cc:767: \n",
      "Parameters: { \"eval_set\", \"verbose\" } are not used.\n",
      "\n",
      "[10:07:33] WARNING: ../src/learner.cc:767: \n",
      "Parameters: { \"eval_set\", \"verbose\" } are not used.\n",
      "\n",
      "[10:07:33] WARNING: ../src/learner.cc:767: \n",
      "Parameters: { \"eval_set\", \"verbose\" } are not used.\n",
      "\n",
      "[10:07:33] WARNING: ../src/learner.cc:767: \n",
      "Parameters: { \"eval_set\", \"verbose\" } are not used.\n",
      "\n",
      "[10:07:33] WARNING: ../src/learner.cc:767: \n",
      "Parameters: { \"eval_set\", \"verbose\" } are not used.\n",
      "\n",
      "[10:07:33] WARNING: ../src/learner.cc:767: \n",
      "Parameters: { \"eval_set\", \"verbose\" } are not used.\n",
      "\n",
      "[10:07:33] WARNING: ../src/learner.cc:767: \n",
      "Parameters: { \"eval_set\", \"verbose\" } are not used.\n",
      "\n",
      "[10:07:34] WARNING: ../src/learner.cc:767: \n",
      "Parameters: { \"eval_set\", \"verbose\" } are not used.\n",
      "\n",
      "[10:07:34] WARNING: ../src/learner.cc:767: \n",
      "Parameters: { \"eval_set\", \"verbose\" } are not used.\n",
      "\n",
      "[10:07:34] WARNING: ../src/learner.cc:767: \n",
      "Parameters: { \"eval_set\", \"verbose\" } are not used.\n",
      "\n",
      "[10:07:34] WARNING: ../src/learner.cc:767: \n",
      "Parameters: { \"eval_set\", \"verbose\" } are not used.\n",
      "\n",
      "[10:07:34] WARNING: ../src/learner.cc:767: \n",
      "Parameters: { \"eval_set\", \"verbose\" } are not used.\n",
      "\n",
      "[10:07:35] WARNING: ../src/learner.cc:767: \n",
      "Parameters: { \"eval_set\", \"verbose\" } are not used.\n",
      "\n",
      "[10:07:35] WARNING: ../src/learner.cc:767: \n",
      "Parameters: { \"eval_set\", \"verbose\" } are not used.\n",
      "\n",
      "[10:07:35] WARNING: ../src/learner.cc:767: \n",
      "Parameters: { \"eval_set\", \"verbose\" } are not used.\n",
      "\n",
      "[10:07:35] WARNING: ../src/learner.cc:767: \n",
      "Parameters: { \"eval_set\", \"verbose\" } are not used.\n",
      "\n",
      "[10:07:35] WARNING: ../src/learner.cc:767: \n",
      "Parameters: { \"eval_set\", \"verbose\" } are not used.\n",
      "\n",
      "[10:07:35] WARNING: ../src/learner.cc:767: \n",
      "Parameters: { \"eval_set\", \"verbose\" } are not used.\n",
      "\n",
      "[10:07:36] WARNING: ../src/learner.cc:767: \n",
      "Parameters: { \"eval_set\", \"verbose\" } are not used.\n",
      "\n",
      "[10:07:36] WARNING: ../src/learner.cc:767: \n",
      "Parameters: { \"eval_set\", \"verbose\" } are not used.\n",
      "\n",
      "[10:07:36] WARNING: ../src/learner.cc:767: \n",
      "Parameters: { \"eval_set\", \"verbose\" } are not used.\n",
      "\n",
      "[10:07:36] WARNING: ../src/learner.cc:767: \n",
      "Parameters: { \"eval_set\", \"verbose\" } are not used.\n",
      "\n",
      "[10:07:36] WARNING: ../src/learner.cc:767: \n",
      "Parameters: { \"eval_set\", \"verbose\" } are not used.\n",
      "\n",
      "[10:07:37] WARNING: ../src/learner.cc:767: \n",
      "Parameters: { \"eval_set\", \"verbose\" } are not used.\n",
      "\n",
      "[10:07:37] WARNING: ../src/learner.cc:767: \n",
      "Parameters: { \"eval_set\", \"verbose\" } are not used.\n",
      "\n",
      "[10:07:37] WARNING: ../src/learner.cc:767: \n",
      "Parameters: { \"eval_set\", \"verbose\" } are not used.\n",
      "\n",
      "[10:07:37] WARNING: ../src/learner.cc:767: \n",
      "Parameters: { \"eval_set\", \"verbose\" } are not used.\n",
      "\n",
      "[10:07:38] WARNING: ../src/learner.cc:767: \n",
      "Parameters: { \"eval_set\", \"verbose\" } are not used.\n",
      "\n",
      "[10:07:38] WARNING: ../src/learner.cc:767: \n",
      "Parameters: { \"eval_set\", \"verbose\" } are not used.\n",
      "\n",
      "[10:07:38] WARNING: ../src/learner.cc:767: \n",
      "Parameters: { \"eval_set\", \"verbose\" } are not used.\n",
      "\n",
      "[10:07:38] WARNING: ../src/learner.cc:767: \n",
      "Parameters: { \"eval_set\", \"verbose\" } are not used.\n",
      "\n",
      "[10:07:39] WARNING: ../src/learner.cc:767: \n",
      "Parameters: { \"eval_set\", \"verbose\" } are not used.\n",
      "\n",
      "[10:07:39] WARNING: ../src/learner.cc:767: \n",
      "Parameters: { \"eval_set\", \"verbose\" } are not used.\n",
      "\n",
      "[10:07:39] WARNING: ../src/learner.cc:767: \n",
      "Parameters: { \"eval_set\", \"verbose\" } are not used.\n",
      "\n",
      "[10:07:40] WARNING: ../src/learner.cc:767: \n",
      "Parameters: { \"eval_set\", \"verbose\" } are not used.\n",
      "\n",
      "[10:07:40] WARNING: ../src/learner.cc:767: \n",
      "Parameters: { \"eval_set\", \"verbose\" } are not used.\n",
      "\n",
      "[10:07:40] WARNING: ../src/learner.cc:767: \n",
      "Parameters: { \"eval_set\", \"verbose\" } are not used.\n",
      "\n",
      "[10:07:40] WARNING: ../src/learner.cc:767: \n",
      "Parameters: { \"eval_set\", \"verbose\" } are not used.\n",
      "\n",
      "[10:07:40] WARNING: ../src/learner.cc:767: \n",
      "Parameters: { \"eval_set\", \"verbose\" } are not used.\n",
      "\n",
      "[10:07:40] WARNING: ../src/learner.cc:767: \n",
      "Parameters: { \"eval_set\", \"verbose\" } are not used.\n",
      "\n",
      "[10:07:40] WARNING: ../src/learner.cc:767: \n",
      "Parameters: { \"eval_set\", \"verbose\" } are not used.\n",
      "\n",
      "[10:07:40] WARNING: ../src/learner.cc:767: \n",
      "Parameters: { \"eval_set\", \"verbose\" } are not used.\n",
      "\n",
      "[10:07:40] WARNING: ../src/learner.cc:767: \n",
      "Parameters: { \"eval_set\", \"verbose\" } are not used.\n",
      "\n",
      "[10:07:40] WARNING: ../src/learner.cc:767: \n",
      "Parameters: { \"eval_set\", \"verbose\" } are not used.\n",
      "\n",
      "[10:07:40] WARNING: ../src/learner.cc:767: \n",
      "Parameters: { \"eval_set\", \"verbose\" } are not used.\n",
      "\n",
      "[10:07:41] WARNING: ../src/learner.cc:767: \n",
      "Parameters: { \"eval_set\", \"verbose\" } are not used.\n",
      "\n",
      "[10:07:41] WARNING: ../src/learner.cc:767: \n",
      "Parameters: { \"eval_set\", \"verbose\" } are not used.\n",
      "\n",
      "[10:07:41] WARNING: ../src/learner.cc:767: \n",
      "Parameters: { \"eval_set\", \"verbose\" } are not used.\n",
      "\n",
      "[10:07:41] WARNING: ../src/learner.cc:767: \n",
      "Parameters: { \"eval_set\", \"verbose\" } are not used.\n",
      "\n",
      "[10:07:41] WARNING: ../src/learner.cc:767: \n",
      "Parameters: { \"eval_set\", \"verbose\" } are not used.\n",
      "\n",
      "[10:07:41] WARNING: ../src/learner.cc:767: \n",
      "Parameters: { \"eval_set\", \"verbose\" } are not used.\n",
      "\n",
      "[10:07:41] WARNING: ../src/learner.cc:767: \n",
      "Parameters: { \"eval_set\", \"verbose\" } are not used.\n",
      "\n",
      "[10:07:41] WARNING: ../src/learner.cc:767: \n",
      "Parameters: { \"eval_set\", \"verbose\" } are not used.\n",
      "\n",
      "[10:07:41] WARNING: ../src/learner.cc:767: \n",
      "Parameters: { \"eval_set\", \"verbose\" } are not used.\n",
      "\n",
      "[10:07:42] WARNING: ../src/learner.cc:767: \n",
      "Parameters: { \"eval_set\", \"verbose\" } are not used.\n",
      "\n",
      "[10:07:42] WARNING: ../src/learner.cc:767: \n",
      "Parameters: { \"eval_set\", \"verbose\" } are not used.\n",
      "\n",
      "[10:07:42] WARNING: ../src/learner.cc:767: \n",
      "Parameters: { \"eval_set\", \"verbose\" } are not used.\n",
      "\n",
      "[10:07:42] WARNING: ../src/learner.cc:767: \n",
      "Parameters: { \"eval_set\", \"verbose\" } are not used.\n",
      "\n",
      "[10:07:42] WARNING: ../src/learner.cc:767: \n",
      "Parameters: { \"eval_set\", \"verbose\" } are not used.\n",
      "\n",
      "[10:07:42] WARNING: ../src/learner.cc:767: \n",
      "Parameters: { \"eval_set\", \"verbose\" } are not used.\n",
      "\n",
      "[10:07:42] WARNING: ../src/learner.cc:767: \n",
      "Parameters: { \"eval_set\", \"verbose\" } are not used.\n",
      "\n",
      "[10:07:43] WARNING: ../src/learner.cc:767: \n",
      "Parameters: { \"eval_set\", \"verbose\" } are not used.\n",
      "\n",
      "[10:07:43] WARNING: ../src/learner.cc:767: \n",
      "Parameters: { \"eval_set\", \"verbose\" } are not used.\n",
      "\n",
      "[10:07:43] WARNING: ../src/learner.cc:767: \n",
      "Parameters: { \"eval_set\", \"verbose\" } are not used.\n",
      "\n",
      "[10:07:43] WARNING: ../src/learner.cc:767: \n",
      "Parameters: { \"eval_set\", \"verbose\" } are not used.\n",
      "\n",
      "[10:07:43] WARNING: ../src/learner.cc:767: \n",
      "Parameters: { \"eval_set\", \"verbose\" } are not used.\n",
      "\n",
      "[10:07:44] WARNING: ../src/learner.cc:767: \n",
      "Parameters: { \"eval_set\", \"verbose\" } are not used.\n",
      "\n",
      "[10:07:44] WARNING: ../src/learner.cc:767: \n",
      "Parameters: { \"eval_set\", \"verbose\" } are not used.\n",
      "\n",
      "[10:07:44] WARNING: ../src/learner.cc:767: \n",
      "Parameters: { \"eval_set\", \"verbose\" } are not used.\n",
      "\n",
      "[10:07:44] WARNING: ../src/learner.cc:767: \n",
      "Parameters: { \"eval_set\", \"verbose\" } are not used.\n",
      "\n",
      "[10:07:44] WARNING: ../src/learner.cc:767: \n",
      "Parameters: { \"eval_set\", \"verbose\" } are not used.\n",
      "\n",
      "[10:07:45] WARNING: ../src/learner.cc:767: \n",
      "Parameters: { \"eval_set\", \"verbose\" } are not used.\n",
      "\n",
      "[10:07:45] WARNING: ../src/learner.cc:767: \n",
      "Parameters: { \"eval_set\", \"verbose\" } are not used.\n",
      "\n",
      "[10:07:45] WARNING: ../src/learner.cc:767: \n",
      "Parameters: { \"eval_set\", \"verbose\" } are not used.\n",
      "\n",
      "[10:07:45] WARNING: ../src/learner.cc:767: \n",
      "Parameters: { \"eval_set\", \"verbose\" } are not used.\n",
      "\n",
      "[10:07:45] WARNING: ../src/learner.cc:767: \n",
      "Parameters: { \"eval_set\", \"verbose\" } are not used.\n",
      "\n",
      "[10:07:46] WARNING: ../src/learner.cc:767: \n",
      "Parameters: { \"eval_set\", \"verbose\" } are not used.\n",
      "\n",
      "[10:07:46] WARNING: ../src/learner.cc:767: \n",
      "Parameters: { \"eval_set\", \"verbose\" } are not used.\n",
      "\n",
      "[10:07:46] WARNING: ../src/learner.cc:767: \n",
      "Parameters: { \"eval_set\", \"verbose\" } are not used.\n",
      "\n",
      "[10:07:46] WARNING: ../src/learner.cc:767: \n",
      "Parameters: { \"eval_set\", \"verbose\" } are not used.\n",
      "\n",
      "[10:07:46] WARNING: ../src/learner.cc:767: \n",
      "Parameters: { \"eval_set\", \"verbose\" } are not used.\n",
      "\n",
      "[10:07:46] WARNING: ../src/learner.cc:767: \n",
      "Parameters: { \"eval_set\", \"verbose\" } are not used.\n",
      "\n",
      "[10:07:47] WARNING: ../src/learner.cc:767: \n",
      "Parameters: { \"eval_set\", \"verbose\" } are not used.\n",
      "\n",
      "[10:07:47] WARNING: ../src/learner.cc:767: \n",
      "Parameters: { \"eval_set\", \"verbose\" } are not used.\n",
      "\n",
      "[10:07:47] WARNING: ../src/learner.cc:767: \n",
      "Parameters: { \"eval_set\", \"verbose\" } are not used.\n",
      "\n",
      "[10:07:47] WARNING: ../src/learner.cc:767: \n",
      "Parameters: { \"eval_set\", \"verbose\" } are not used.\n",
      "\n",
      "[10:07:47] WARNING: ../src/learner.cc:767: \n",
      "Parameters: { \"eval_set\", \"verbose\" } are not used.\n",
      "\n",
      "[10:07:47] WARNING: ../src/learner.cc:767: \n",
      "Parameters: { \"eval_set\", \"verbose\" } are not used.\n",
      "\n",
      "[10:07:47] WARNING: ../src/learner.cc:767: \n",
      "Parameters: { \"eval_set\", \"verbose\" } are not used.\n",
      "\n",
      "[10:07:47] WARNING: ../src/learner.cc:767: \n",
      "Parameters: { \"eval_set\", \"verbose\" } are not used.\n",
      "\n",
      "[10:07:47] WARNING: ../src/learner.cc:767: \n",
      "Parameters: { \"eval_set\", \"verbose\" } are not used.\n",
      "\n",
      "[10:07:47] WARNING: ../src/learner.cc:767: \n",
      "Parameters: { \"eval_set\", \"verbose\" } are not used.\n",
      "\n",
      "[10:07:48] WARNING: ../src/learner.cc:767: \n",
      "Parameters: { \"eval_set\", \"verbose\" } are not used.\n",
      "\n",
      "[10:07:48] WARNING: ../src/learner.cc:767: \n",
      "Parameters: { \"eval_set\", \"verbose\" } are not used.\n",
      "\n",
      "[10:07:48] WARNING: ../src/learner.cc:767: \n",
      "Parameters: { \"eval_set\", \"verbose\" } are not used.\n",
      "\n",
      "[10:07:48] WARNING: ../src/learner.cc:767: \n",
      "Parameters: { \"eval_set\", \"verbose\" } are not used.\n",
      "\n",
      "[10:07:49] WARNING: ../src/learner.cc:767: \n",
      "Parameters: { \"eval_set\", \"verbose\" } are not used.\n",
      "\n",
      "[10:07:49] WARNING: ../src/learner.cc:767: \n",
      "Parameters: { \"eval_set\", \"verbose\" } are not used.\n",
      "\n",
      "[10:07:49] WARNING: ../src/learner.cc:767: \n",
      "Parameters: { \"eval_set\", \"verbose\" } are not used.\n",
      "\n",
      "[10:07:49] WARNING: ../src/learner.cc:767: \n",
      "Parameters: { \"eval_set\", \"verbose\" } are not used.\n",
      "\n",
      "[10:07:49] WARNING: ../src/learner.cc:767: \n",
      "Parameters: { \"eval_set\", \"verbose\" } are not used.\n",
      "\n",
      "[10:07:50] WARNING: ../src/learner.cc:767: \n",
      "Parameters: { \"eval_set\", \"verbose\" } are not used.\n",
      "\n",
      "[10:07:51] WARNING: ../src/learner.cc:767: \n",
      "Parameters: { \"eval_set\", \"verbose\" } are not used.\n",
      "\n",
      "[10:07:51] WARNING: ../src/learner.cc:767: \n",
      "Parameters: { \"eval_set\", \"verbose\" } are not used.\n",
      "\n",
      "[10:07:51] WARNING: ../src/learner.cc:767: \n",
      "Parameters: { \"eval_set\", \"verbose\" } are not used.\n",
      "\n",
      "[10:07:52] WARNING: ../src/learner.cc:767: \n",
      "Parameters: { \"eval_set\", \"verbose\" } are not used.\n",
      "\n",
      "[10:07:52] WARNING: ../src/learner.cc:767: \n",
      "Parameters: { \"eval_set\", \"verbose\" } are not used.\n",
      "\n",
      "[10:07:52] WARNING: ../src/learner.cc:767: \n",
      "Parameters: { \"eval_set\", \"verbose\" } are not used.\n",
      "\n",
      "[10:07:52] WARNING: ../src/learner.cc:767: \n",
      "Parameters: { \"eval_set\", \"verbose\" } are not used.\n",
      "\n",
      "[10:07:53] WARNING: ../src/learner.cc:767: \n",
      "Parameters: { \"eval_set\", \"verbose\" } are not used.\n",
      "\n",
      "[10:07:53] WARNING: ../src/learner.cc:767: \n",
      "Parameters: { \"eval_set\", \"verbose\" } are not used.\n",
      "\n",
      "[10:07:53] WARNING: ../src/learner.cc:767: \n",
      "Parameters: { \"eval_set\", \"verbose\" } are not used.\n",
      "\n",
      "[10:07:53] WARNING: ../src/learner.cc:767: \n",
      "Parameters: { \"eval_set\", \"verbose\" } are not used.\n",
      "\n",
      "[10:07:53] WARNING: ../src/learner.cc:767: \n",
      "Parameters: { \"eval_set\", \"verbose\" } are not used.\n",
      "\n",
      "[10:07:54] WARNING: ../src/learner.cc:767: \n",
      "Parameters: { \"eval_set\", \"verbose\" } are not used.\n",
      "\n",
      "[10:07:54] WARNING: ../src/learner.cc:767: \n",
      "Parameters: { \"eval_set\", \"verbose\" } are not used.\n",
      "\n",
      "[10:07:54] WARNING: ../src/learner.cc:767: \n",
      "Parameters: { \"eval_set\", \"verbose\" } are not used.\n",
      "\n",
      "[10:07:54] WARNING: ../src/learner.cc:767: \n",
      "Parameters: { \"eval_set\", \"verbose\" } are not used.\n",
      "\n",
      "[10:07:54] WARNING: ../src/learner.cc:767: \n",
      "Parameters: { \"eval_set\", \"verbose\" } are not used.\n",
      "\n",
      "[10:07:55] WARNING: ../src/learner.cc:767: \n",
      "Parameters: { \"eval_set\", \"verbose\" } are not used.\n",
      "\n",
      "[10:07:55] WARNING: ../src/learner.cc:767: \n",
      "Parameters: { \"eval_set\", \"verbose\" } are not used.\n",
      "\n",
      "[10:07:55] WARNING: ../src/learner.cc:767: \n",
      "Parameters: { \"eval_set\", \"verbose\" } are not used.\n",
      "\n",
      "[10:07:55] WARNING: ../src/learner.cc:767: \n",
      "Parameters: { \"eval_set\", \"verbose\" } are not used.\n",
      "\n",
      "[10:07:56] WARNING: ../src/learner.cc:767: \n",
      "Parameters: { \"eval_set\", \"verbose\" } are not used.\n",
      "\n",
      "[10:07:56] WARNING: ../src/learner.cc:767: \n",
      "Parameters: { \"eval_set\", \"verbose\" } are not used.\n",
      "\n",
      "[10:07:56] WARNING: ../src/learner.cc:767: \n",
      "Parameters: { \"eval_set\", \"verbose\" } are not used.\n",
      "\n",
      "[10:07:56] WARNING: ../src/learner.cc:767: \n",
      "Parameters: { \"eval_set\", \"verbose\" } are not used.\n",
      "\n",
      "[10:07:56] WARNING: ../src/learner.cc:767: \n",
      "Parameters: { \"eval_set\", \"verbose\" } are not used.\n",
      "\n",
      "[10:07:56] WARNING: ../src/learner.cc:767: \n",
      "Parameters: { \"eval_set\", \"verbose\" } are not used.\n",
      "\n",
      "[10:07:56] WARNING: ../src/learner.cc:767: \n",
      "Parameters: { \"eval_set\", \"verbose\" } are not used.\n",
      "\n",
      "[10:07:56] WARNING: ../src/learner.cc:767: \n",
      "Parameters: { \"eval_set\", \"verbose\" } are not used.\n",
      "\n",
      "[10:07:56] WARNING: ../src/learner.cc:767: \n",
      "Parameters: { \"eval_set\", \"verbose\" } are not used.\n",
      "\n",
      "[10:07:56] WARNING: ../src/learner.cc:767: \n",
      "Parameters: { \"eval_set\", \"verbose\" } are not used.\n",
      "\n",
      "[10:07:56] WARNING: ../src/learner.cc:767: \n",
      "Parameters: { \"eval_set\", \"verbose\" } are not used.\n",
      "\n",
      "[10:07:56] WARNING: ../src/learner.cc:767: \n",
      "Parameters: { \"eval_set\", \"verbose\" } are not used.\n",
      "\n",
      "[10:07:56] WARNING: ../src/learner.cc:767: \n",
      "Parameters: { \"eval_set\", \"verbose\" } are not used.\n",
      "\n",
      "[10:07:56] WARNING: ../src/learner.cc:767: \n",
      "Parameters: { \"eval_set\", \"verbose\" } are not used.\n",
      "\n",
      "[10:07:56] WARNING: ../src/learner.cc:767: \n",
      "Parameters: { \"eval_set\", \"verbose\" } are not used.\n",
      "\n",
      "[10:07:56] WARNING: ../src/learner.cc:767: \n",
      "Parameters: { \"eval_set\", \"verbose\" } are not used.\n",
      "\n",
      "[10:07:57] WARNING: ../src/learner.cc:767: \n",
      "Parameters: { \"eval_set\", \"verbose\" } are not used.\n",
      "\n",
      "[10:07:57] WARNING: ../src/learner.cc:767: \n",
      "Parameters: { \"eval_set\", \"verbose\" } are not used.\n",
      "\n",
      "[10:07:57] WARNING: ../src/learner.cc:767: \n",
      "Parameters: { \"eval_set\", \"verbose\" } are not used.\n",
      "\n",
      "[10:07:57] WARNING: ../src/learner.cc:767: \n",
      "Parameters: { \"eval_set\", \"verbose\" } are not used.\n",
      "\n",
      "[10:07:57] WARNING: ../src/learner.cc:767: \n",
      "Parameters: { \"eval_set\", \"verbose\" } are not used.\n",
      "\n",
      "[10:07:57] WARNING: ../src/learner.cc:767: \n",
      "Parameters: { \"eval_set\", \"verbose\" } are not used.\n",
      "\n",
      "[10:07:57] WARNING: ../src/learner.cc:767: \n",
      "Parameters: { \"eval_set\", \"verbose\" } are not used.\n",
      "\n",
      "[10:07:57] WARNING: ../src/learner.cc:767: \n",
      "Parameters: { \"eval_set\", \"verbose\" } are not used.\n",
      "\n",
      "[10:07:57] WARNING: ../src/learner.cc:767: \n",
      "Parameters: { \"eval_set\", \"verbose\" } are not used.\n",
      "\n",
      "[10:07:58] WARNING: ../src/learner.cc:767: \n",
      "Parameters: { \"eval_set\", \"verbose\" } are not used.\n",
      "\n",
      "[10:07:58] WARNING: ../src/learner.cc:767: \n",
      "Parameters: { \"eval_set\", \"verbose\" } are not used.\n",
      "\n",
      "[10:07:58] WARNING: ../src/learner.cc:767: \n",
      "Parameters: { \"eval_set\", \"verbose\" } are not used.\n",
      "\n",
      "[10:07:58] WARNING: ../src/learner.cc:767: \n",
      "Parameters: { \"eval_set\", \"verbose\" } are not used.\n",
      "\n",
      "[10:07:58] WARNING: ../src/learner.cc:767: \n",
      "Parameters: { \"eval_set\", \"verbose\" } are not used.\n",
      "\n",
      "[10:07:58] WARNING: ../src/learner.cc:767: \n",
      "Parameters: { \"eval_set\", \"verbose\" } are not used.\n",
      "\n",
      "[10:07:58] WARNING: ../src/learner.cc:767: \n",
      "Parameters: { \"eval_set\", \"verbose\" } are not used.\n",
      "\n",
      "[10:07:59] WARNING: ../src/learner.cc:767: \n",
      "Parameters: { \"eval_set\", \"verbose\" } are not used.\n",
      "\n",
      "[10:07:59] WARNING: ../src/learner.cc:767: \n",
      "Parameters: { \"eval_set\", \"verbose\" } are not used.\n",
      "\n",
      "[10:07:59] WARNING: ../src/learner.cc:767: \n",
      "Parameters: { \"eval_set\", \"verbose\" } are not used.\n",
      "\n",
      "[10:07:59] WARNING: ../src/learner.cc:767: \n",
      "Parameters: { \"eval_set\", \"verbose\" } are not used.\n",
      "\n",
      "[10:07:59] WARNING: ../src/learner.cc:767: \n",
      "Parameters: { \"eval_set\", \"verbose\" } are not used.\n",
      "\n",
      "[10:08:00] WARNING: ../src/learner.cc:767: \n",
      "Parameters: { \"eval_set\", \"verbose\" } are not used.\n",
      "\n",
      "[10:08:00] WARNING: ../src/learner.cc:767: \n",
      "Parameters: { \"eval_set\", \"verbose\" } are not used.\n",
      "\n",
      "[10:08:00] WARNING: ../src/learner.cc:767: \n",
      "Parameters: { \"eval_set\", \"verbose\" } are not used.\n",
      "\n",
      "[10:08:00] WARNING: ../src/learner.cc:767: \n",
      "Parameters: { \"eval_set\", \"verbose\" } are not used.\n",
      "\n",
      "[10:08:00] WARNING: ../src/learner.cc:767: \n",
      "Parameters: { \"eval_set\", \"verbose\" } are not used.\n",
      "\n",
      "[10:08:01] WARNING: ../src/learner.cc:767: \n",
      "Parameters: { \"eval_set\", \"verbose\" } are not used.\n",
      "\n",
      "[10:08:01] WARNING: ../src/learner.cc:767: \n",
      "Parameters: { \"eval_set\", \"verbose\" } are not used.\n",
      "\n",
      "[10:08:01] WARNING: ../src/learner.cc:767: \n",
      "Parameters: { \"eval_set\", \"verbose\" } are not used.\n",
      "\n",
      "[10:08:01] WARNING: ../src/learner.cc:767: \n",
      "Parameters: { \"eval_set\", \"verbose\" } are not used.\n",
      "\n",
      "[10:08:02] WARNING: ../src/learner.cc:767: \n",
      "Parameters: { \"eval_set\", \"verbose\" } are not used.\n",
      "\n",
      "[10:08:02] WARNING: ../src/learner.cc:767: \n",
      "Parameters: { \"eval_set\", \"verbose\" } are not used.\n",
      "\n",
      "[10:08:02] WARNING: ../src/learner.cc:767: \n",
      "Parameters: { \"eval_set\", \"verbose\" } are not used.\n",
      "\n",
      "[10:08:02] WARNING: ../src/learner.cc:767: \n",
      "Parameters: { \"eval_set\", \"verbose\" } are not used.\n",
      "\n",
      "[10:08:02] WARNING: ../src/learner.cc:767: \n",
      "Parameters: { \"eval_set\", \"verbose\" } are not used.\n",
      "\n",
      "[10:08:02] WARNING: ../src/learner.cc:767: \n",
      "Parameters: { \"eval_set\", \"verbose\" } are not used.\n",
      "\n",
      "[10:08:02] WARNING: ../src/learner.cc:767: \n",
      "Parameters: { \"eval_set\", \"verbose\" } are not used.\n",
      "\n",
      "[10:08:02] WARNING: ../src/learner.cc:767: \n",
      "Parameters: { \"eval_set\", \"verbose\" } are not used.\n",
      "\n",
      "[10:08:02] WARNING: ../src/learner.cc:767: \n",
      "Parameters: { \"eval_set\", \"verbose\" } are not used.\n",
      "\n",
      "[10:08:02] WARNING: ../src/learner.cc:767: \n",
      "Parameters: { \"eval_set\", \"verbose\" } are not used.\n",
      "\n",
      "[10:08:02] WARNING: ../src/learner.cc:767: \n",
      "Parameters: { \"eval_set\", \"verbose\" } are not used.\n",
      "\n",
      "[10:08:02] WARNING: ../src/learner.cc:767: \n",
      "Parameters: { \"eval_set\", \"verbose\" } are not used.\n",
      "\n",
      "[10:08:02] WARNING: ../src/learner.cc:767: \n",
      "Parameters: { \"eval_set\", \"verbose\" } are not used.\n",
      "\n",
      "[10:08:02] WARNING: ../src/learner.cc:767: \n",
      "Parameters: { \"eval_set\", \"verbose\" } are not used.\n",
      "\n",
      "[10:08:02] WARNING: ../src/learner.cc:767: \n",
      "Parameters: { \"eval_set\", \"verbose\" } are not used.\n",
      "\n",
      "[10:08:02] WARNING: ../src/learner.cc:767: \n",
      "Parameters: { \"eval_set\", \"verbose\" } are not used.\n",
      "\n",
      "[10:08:02] WARNING: ../src/learner.cc:767: \n",
      "Parameters: { \"eval_set\", \"verbose\" } are not used.\n",
      "\n",
      "[10:08:03] WARNING: ../src/learner.cc:767: \n",
      "Parameters: { \"eval_set\", \"verbose\" } are not used.\n",
      "\n",
      "[10:08:03] WARNING: ../src/learner.cc:767: \n",
      "Parameters: { \"eval_set\", \"verbose\" } are not used.\n",
      "\n",
      "[10:08:03] WARNING: ../src/learner.cc:767: \n",
      "Parameters: { \"eval_set\", \"verbose\" } are not used.\n",
      "\n",
      "[10:08:03] WARNING: ../src/learner.cc:767: \n",
      "Parameters: { \"eval_set\", \"verbose\" } are not used.\n",
      "\n",
      "[10:08:03] WARNING: ../src/learner.cc:767: \n",
      "Parameters: { \"eval_set\", \"verbose\" } are not used.\n",
      "\n",
      "[10:08:03] WARNING: ../src/learner.cc:767: \n",
      "Parameters: { \"eval_set\", \"verbose\" } are not used.\n",
      "\n"
     ]
    }
   ],
   "source": [
    "# TODO: FIX THE WARNINGS\n",
    "\n",
    "parameters = {\n",
    "    'n_estimators': range(100,1000,100),#500\n",
    "    'learning_rate': [0.001, 0.005, 0.01, 0.05] ,#0.05\n",
    "    'max_depth': [8, 10, 12, 15,20,32,64,50], #8\n",
    "    'gamma': [0.001, 0.005, 0.01, 0.02],#0.001\n",
    "    'random_state': [42]\n",
    "}\n",
    "\n",
    "eval_set = [(X_train, y_train), (X_valid, y_valid)]\n",
    "model = xgb.XGBRegressor(eval_set=eval_set, objective='reg:squarederror', verbose=True)\n",
    "clf = GridSearchCV(model, parameters)\n",
    "\n",
    "clf.fit(X_train, y_train)\n",
    "\n",
    "print(f'Best params: {clf.best_params_}')\n",
    "print(f'Best validation score = {clf.best_score_}')\n"
   ]
  },
  {
   "cell_type": "code",
   "execution_count": null,
   "metadata": {},
   "outputs": [
    {
     "data": {
      "text/html": [
       "<style>#sk-container-id-2 {color: black;}#sk-container-id-2 pre{padding: 0;}#sk-container-id-2 div.sk-toggleable {background-color: white;}#sk-container-id-2 label.sk-toggleable__label {cursor: pointer;display: block;width: 100%;margin-bottom: 0;padding: 0.3em;box-sizing: border-box;text-align: center;}#sk-container-id-2 label.sk-toggleable__label-arrow:before {content: \"▸\";float: left;margin-right: 0.25em;color: #696969;}#sk-container-id-2 label.sk-toggleable__label-arrow:hover:before {color: black;}#sk-container-id-2 div.sk-estimator:hover label.sk-toggleable__label-arrow:before {color: black;}#sk-container-id-2 div.sk-toggleable__content {max-height: 0;max-width: 0;overflow: hidden;text-align: left;background-color: #f0f8ff;}#sk-container-id-2 div.sk-toggleable__content pre {margin: 0.2em;color: black;border-radius: 0.25em;background-color: #f0f8ff;}#sk-container-id-2 input.sk-toggleable__control:checked~div.sk-toggleable__content {max-height: 200px;max-width: 100%;overflow: auto;}#sk-container-id-2 input.sk-toggleable__control:checked~label.sk-toggleable__label-arrow:before {content: \"▾\";}#sk-container-id-2 div.sk-estimator input.sk-toggleable__control:checked~label.sk-toggleable__label {background-color: #d4ebff;}#sk-container-id-2 div.sk-label input.sk-toggleable__control:checked~label.sk-toggleable__label {background-color: #d4ebff;}#sk-container-id-2 input.sk-hidden--visually {border: 0;clip: rect(1px 1px 1px 1px);clip: rect(1px, 1px, 1px, 1px);height: 1px;margin: -1px;overflow: hidden;padding: 0;position: absolute;width: 1px;}#sk-container-id-2 div.sk-estimator {font-family: monospace;background-color: #f0f8ff;border: 1px dotted black;border-radius: 0.25em;box-sizing: border-box;margin-bottom: 0.5em;}#sk-container-id-2 div.sk-estimator:hover {background-color: #d4ebff;}#sk-container-id-2 div.sk-parallel-item::after {content: \"\";width: 100%;border-bottom: 1px solid gray;flex-grow: 1;}#sk-container-id-2 div.sk-label:hover label.sk-toggleable__label {background-color: #d4ebff;}#sk-container-id-2 div.sk-serial::before {content: \"\";position: absolute;border-left: 1px solid gray;box-sizing: border-box;top: 0;bottom: 0;left: 50%;z-index: 0;}#sk-container-id-2 div.sk-serial {display: flex;flex-direction: column;align-items: center;background-color: white;padding-right: 0.2em;padding-left: 0.2em;position: relative;}#sk-container-id-2 div.sk-item {position: relative;z-index: 1;}#sk-container-id-2 div.sk-parallel {display: flex;align-items: stretch;justify-content: center;background-color: white;position: relative;}#sk-container-id-2 div.sk-item::before, #sk-container-id-2 div.sk-parallel-item::before {content: \"\";position: absolute;border-left: 1px solid gray;box-sizing: border-box;top: 0;bottom: 0;left: 50%;z-index: -1;}#sk-container-id-2 div.sk-parallel-item {display: flex;flex-direction: column;z-index: 1;position: relative;background-color: white;}#sk-container-id-2 div.sk-parallel-item:first-child::after {align-self: flex-end;width: 50%;}#sk-container-id-2 div.sk-parallel-item:last-child::after {align-self: flex-start;width: 50%;}#sk-container-id-2 div.sk-parallel-item:only-child::after {width: 0;}#sk-container-id-2 div.sk-dashed-wrapped {border: 1px dashed gray;margin: 0 0.4em 0.5em 0.4em;box-sizing: border-box;padding-bottom: 0.4em;background-color: white;}#sk-container-id-2 div.sk-label label {font-family: monospace;font-weight: bold;display: inline-block;line-height: 1.2em;}#sk-container-id-2 div.sk-label-container {text-align: center;}#sk-container-id-2 div.sk-container {/* jupyter's `normalize.less` sets `[hidden] { display: none; }` but bootstrap.min.css set `[hidden] { display: none !important; }` so we also need the `!important` here to be able to override the default hidden behavior on the sphinx rendered scikit-learn.org. See: https://github.com/scikit-learn/scikit-learn/issues/21755 */display: inline-block !important;position: relative;}#sk-container-id-2 div.sk-text-repr-fallback {display: none;}</style><div id=\"sk-container-id-2\" class=\"sk-top-container\"><div class=\"sk-text-repr-fallback\"><pre>XGBRegressor(base_score=None, booster=None, callbacks=None,\n",
       "             colsample_bylevel=None, colsample_bynode=None,\n",
       "             colsample_bytree=None, early_stopping_rounds=None,\n",
       "             enable_categorical=False, eval_metric=None, feature_types=None,\n",
       "             gamma=0.001, gpu_id=None, grow_policy=None, importance_type=None,\n",
       "             interaction_constraints=None, learning_rate=0.05, max_bin=None,\n",
       "             max_cat_threshold=None, max_cat_to_onehot=None,\n",
       "             max_delta_step=None, max_depth=8, max_leaves=None,\n",
       "             min_child_weight=None, missing=nan, monotone_constraints=None,\n",
       "             n_estimators=500, n_jobs=None, num_parallel_tree=None,\n",
       "             predictor=None, random_state=42, ...)</pre><b>In a Jupyter environment, please rerun this cell to show the HTML representation or trust the notebook. <br />On GitHub, the HTML representation is unable to render, please try loading this page with nbviewer.org.</b></div><div class=\"sk-container\" hidden><div class=\"sk-item\"><div class=\"sk-estimator sk-toggleable\"><input class=\"sk-toggleable__control sk-hidden--visually\" id=\"sk-estimator-id-2\" type=\"checkbox\" checked><label for=\"sk-estimator-id-2\" class=\"sk-toggleable__label sk-toggleable__label-arrow\">XGBRegressor</label><div class=\"sk-toggleable__content\"><pre>XGBRegressor(base_score=None, booster=None, callbacks=None,\n",
       "             colsample_bylevel=None, colsample_bynode=None,\n",
       "             colsample_bytree=None, early_stopping_rounds=None,\n",
       "             enable_categorical=False, eval_metric=None, feature_types=None,\n",
       "             gamma=0.001, gpu_id=None, grow_policy=None, importance_type=None,\n",
       "             interaction_constraints=None, learning_rate=0.05, max_bin=None,\n",
       "             max_cat_threshold=None, max_cat_to_onehot=None,\n",
       "             max_delta_step=None, max_depth=8, max_leaves=None,\n",
       "             min_child_weight=None, missing=nan, monotone_constraints=None,\n",
       "             n_estimators=500, n_jobs=None, num_parallel_tree=None,\n",
       "             predictor=None, random_state=42, ...)</pre></div></div></div></div></div>"
      ],
      "text/plain": [
       "XGBRegressor(base_score=None, booster=None, callbacks=None,\n",
       "             colsample_bylevel=None, colsample_bynode=None,\n",
       "             colsample_bytree=None, early_stopping_rounds=None,\n",
       "             enable_categorical=False, eval_metric=None, feature_types=None,\n",
       "             gamma=0.001, gpu_id=None, grow_policy=None, importance_type=None,\n",
       "             interaction_constraints=None, learning_rate=0.05, max_bin=None,\n",
       "             max_cat_threshold=None, max_cat_to_onehot=None,\n",
       "             max_delta_step=None, max_depth=8, max_leaves=None,\n",
       "             min_child_weight=None, missing=nan, monotone_constraints=None,\n",
       "             n_estimators=500, n_jobs=None, num_parallel_tree=None,\n",
       "             predictor=None, random_state=42, ...)"
      ]
     },
     "execution_count": 15,
     "metadata": {},
     "output_type": "execute_result"
    }
   ],
   "source": [
    "parameters = {\n",
    "    'n_estimators': 500,\n",
    "    'learning_rate': 0.05,\n",
    "    'max_depth': 8,\n",
    "    'gamma':0.001,\n",
    "    'random_state': 42\n",
    "}\n",
    "\n",
    "model = xgb.XGBRegressor(**parameters, objective='reg:squarederror')\n",
    "model.fit(X_train, y_train, eval_set=eval_set, verbose=False)"
   ]
  },
  {
   "cell_type": "code",
   "execution_count": null,
   "metadata": {},
   "outputs": [
    {
     "data": {
      "image/png": "[encoded data removed]",
      "text/plain": [
       "<Figure size 640x480 with 1 Axes>"
      ]
     },
     "metadata": {},
     "output_type": "display_data"
    }
   ],
   "source": [
    "plot_importance(model);"
   ]
  },
  {
   "cell_type": "code",
   "execution_count": null,
   "metadata": {},
   "outputs": [
    {
     "ename": "NotFittedError",
     "evalue": "need to call fit or load_model beforehand",
     "output_type": "error",
     "traceback": [
      "\u001b[0;31m---------------------------------------------------------------------------\u001b[0m",
      "\u001b[0;31mNotFittedError\u001b[0m                            Traceback (most recent call last)",
      "Cell \u001b[0;32mIn[7], line 1\u001b[0m\n\u001b[0;32m----> 1\u001b[0m y_pred \u001b[39m=\u001b[39m model\u001b[39m.\u001b[39;49mpredict(X_test)\n\u001b[1;32m      2\u001b[0m \u001b[39mprint\u001b[39m(\u001b[39mf\u001b[39m\u001b[39m'\u001b[39m\u001b[39my_true = \u001b[39m\u001b[39m{\u001b[39;00mnp\u001b[39m.\u001b[39marray(y_test)[:\u001b[39m5\u001b[39m]\u001b[39m}\u001b[39;00m\u001b[39m'\u001b[39m)\n\u001b[1;32m      3\u001b[0m \u001b[39mprint\u001b[39m(\u001b[39mf\u001b[39m\u001b[39m'\u001b[39m\u001b[39my_pred = \u001b[39m\u001b[39m{\u001b[39;00my_pred[:\u001b[39m5\u001b[39m]\u001b[39m}\u001b[39;00m\u001b[39m'\u001b[39m)\n",
      "File \u001b[0;32m~/Documents/mojo/stock-trend/.venv/lib/python3.11/site-packages/xgboost/sklearn.py:1109\u001b[0m, in \u001b[0;36mXGBModel.predict\u001b[0;34m(self, X, output_margin, ntree_limit, validate_features, base_margin, iteration_range)\u001b[0m\n\u001b[1;32m   1074\u001b[0m \u001b[39m\u001b[39m\u001b[39m\"\"\"Predict with `X`.  If the model is trained with early stopping, then `best_iteration`\u001b[39;00m\n\u001b[1;32m   1075\u001b[0m \u001b[39mis used automatically.  For tree models, when data is on GPU, like cupy array or\u001b[39;00m\n\u001b[1;32m   1076\u001b[0m \u001b[39mcuDF dataframe and `predictor` is not specified, the prediction is run on GPU\u001b[39;00m\n\u001b[0;32m   (...)\u001b[0m\n\u001b[1;32m   1105\u001b[0m \n\u001b[1;32m   1106\u001b[0m \u001b[39m\"\"\"\u001b[39;00m\n\u001b[1;32m   1107\u001b[0m \u001b[39mwith\u001b[39;00m config_context(verbosity\u001b[39m=\u001b[39m\u001b[39mself\u001b[39m\u001b[39m.\u001b[39mverbosity):\n\u001b[1;32m   1108\u001b[0m     iteration_range \u001b[39m=\u001b[39m _convert_ntree_limit(\n\u001b[0;32m-> 1109\u001b[0m         \u001b[39mself\u001b[39;49m\u001b[39m.\u001b[39;49mget_booster(), ntree_limit, iteration_range\n\u001b[1;32m   1110\u001b[0m     )\n\u001b[1;32m   1111\u001b[0m     iteration_range \u001b[39m=\u001b[39m \u001b[39mself\u001b[39m\u001b[39m.\u001b[39m_get_iteration_range(iteration_range)\n\u001b[1;32m   1112\u001b[0m     \u001b[39mif\u001b[39;00m \u001b[39mself\u001b[39m\u001b[39m.\u001b[39m_can_use_inplace_predict():\n",
      "File \u001b[0;32m~/Documents/mojo/stock-trend/.venv/lib/python3.11/site-packages/xgboost/sklearn.py:649\u001b[0m, in \u001b[0;36mXGBModel.get_booster\u001b[0;34m(self)\u001b[0m\n\u001b[1;32m    646\u001b[0m \u001b[39mif\u001b[39;00m \u001b[39mnot\u001b[39;00m \u001b[39mself\u001b[39m\u001b[39m.\u001b[39m__sklearn_is_fitted__():\n\u001b[1;32m    647\u001b[0m     \u001b[39mfrom\u001b[39;00m \u001b[39msklearn\u001b[39;00m\u001b[39m.\u001b[39;00m\u001b[39mexceptions\u001b[39;00m \u001b[39mimport\u001b[39;00m NotFittedError\n\u001b[0;32m--> 649\u001b[0m     \u001b[39mraise\u001b[39;00m NotFittedError(\u001b[39m\"\u001b[39m\u001b[39mneed to call fit or load_model beforehand\u001b[39m\u001b[39m\"\u001b[39m)\n\u001b[1;32m    650\u001b[0m \u001b[39mreturn\u001b[39;00m \u001b[39mself\u001b[39m\u001b[39m.\u001b[39m_Booster\n",
      "\u001b[0;31mNotFittedError\u001b[0m: need to call fit or load_model beforehand"
     ]
    }
   ],
   "source": [
    "y_pred = model.predict(X_test)\n",
    "print(f'y_true = {np.array(y_test)[:5]}')\n",
    "print(f'y_pred = {y_pred[:5]}')\n"
   ]
  },
  {
   "cell_type": "code",
   "execution_count": null,
   "metadata": {},
   "outputs": [
    {
     "name": "stdout",
     "output_type": "stream",
     "text": [
      "mean_squared_error = 81992.3371923159\n"
     ]
    }
   ],
   "source": [
    "print(f'mean_squared_error = {mean_squared_error(y_test, y_pred)}')"
   ]
  },
  {
   "cell_type": "code",
   "execution_count": null,
   "metadata": {},
   "outputs": [
    {
     "data": {
      "application/vnd.plotly.v1+json": {
       "config": {
        "plotlyServerURL": "https://plot.ly"
       },
       "data": [
        {
         "marker": {
          "color": "LightSkyBlue"
         },
         "name": "Truth",
         "type": "scatter",
         "x": [
          0,
          1,
          2,
          3,
          4,
          5,
          6,
          7,
          8,
          9,
          10,
          11,
          12,
          13,
          14,
          15,
          16,
          17,
          18,
          19,
          20,
          21,
          22,
          23,
          24,
          25,
          26,
          27,
          28,
          29,
          30,
          31,
          32,
          33,
          34,
          35
         ],
         "xaxis": "x",
         "y": [
          2906.95,
          1542.35,
          1489.95,
          1517.3,
          1450.1,
          1509.45,
          1494.2,
          1425.55,
          1406.9,
          1474.2,
          1482.5,
          1465.45,
          1505.85,
          1514.1,
          1530.6,
          1522.9,
          1508.85,
          1446.5,
          1455.85,
          1538.35,
          1577,
          1685.1,
          1734.8,
          1742.85,
          1728.05,
          1727.25,
          1710.35,
          1671.4,
          1723.55,
          1787.75,
          1837.9,
          1876.8,
          1822.55,
          2033.9,
          2055.7,
          2085.85
         ],
         "yaxis": "y"
        },
        {
         "marker": {
          "color": "MediumPurple"
         },
         "name": "Prediction",
         "type": "scatter",
         "x": [
          31,
          32,
          33,
          34,
          35
         ],
         "xaxis": "x",
         "y": [
          1679.2666015625,
          1656.1817626953125,
          1724.557373046875,
          1719.2664794921875,
          1719.2664794921875
         ],
         "yaxis": "y"
        },
        {
         "marker": {
          "color": "MediumPurple"
         },
         "showlegend": false,
         "type": "scatter",
         "x": [
          31,
          32,
          33,
          34,
          35
         ],
         "xaxis": "x2",
         "y": [
          1679.2666015625,
          1656.1817626953125,
          1724.557373046875,
          1719.2664794921875,
          1719.2664794921875
         ],
         "yaxis": "y2"
        }
       ],
       "layout": {
        "template": {
         "data": {
          "bar": [
           {
            "error_x": {
             "color": "#2a3f5f"
            },
            "error_y": {
             "color": "#2a3f5f"
            },
            "marker": {
             "line": {
              "color": "#E5ECF6",
              "width": 0.5
             },
             "pattern": {
              "fillmode": "overlay",
              "size": 10,
              "solidity": 0.2
             }
            },
            "type": "bar"
           }
          ],
          "barpolar": [
           {
            "marker": {
             "line": {
              "color": "#E5ECF6",
              "width": 0.5
             },
             "pattern": {
              "fillmode": "overlay",
              "size": 10,
              "solidity": 0.2
             }
            },
            "type": "barpolar"
           }
          ],
          "carpet": [
           {
            "aaxis": {
             "endlinecolor": "#2a3f5f",
             "gridcolor": "white",
             "linecolor": "white",
             "minorgridcolor": "white",
             "startlinecolor": "#2a3f5f"
            },
            "baxis": {
             "endlinecolor": "#2a3f5f",
             "gridcolor": "white",
             "linecolor": "white",
             "minorgridcolor": "white",
             "startlinecolor": "#2a3f5f"
            },
            "type": "carpet"
           }
          ],
          "choropleth": [
           {
            "colorbar": {
             "outlinewidth": 0,
             "ticks": ""
            },
            "type": "choropleth"
           }
          ],
          "contour": [
           {
            "colorbar": {
             "outlinewidth": 0,
             "ticks": ""
            },
            "colorscale": [
             [
              0,
              "#0d0887"
             ],
             [
              0.1111111111111111,
              "#46039f"
             ],
             [
              0.2222222222222222,
              "#7201a8"
             ],
             [
              0.3333333333333333,
              "#9c179e"
             ],
             [
              0.4444444444444444,
              "#bd3786"
             ],
             [
              0.5555555555555556,
              "#d8576b"
             ],
             [
              0.6666666666666666,
              "#ed7953"
             ],
             [
              0.7777777777777778,
              "#fb9f3a"
             ],
             [
              0.8888888888888888,
              "#fdca26"
             ],
             [
              1,
              "#f0f921"
             ]
            ],
            "type": "contour"
           }
          ],
          "contourcarpet": [
           {
            "colorbar": {
             "outlinewidth": 0,
             "ticks": ""
            },
            "type": "contourcarpet"
           }
          ],
          "heatmap": [
           {
            "colorbar": {
             "outlinewidth": 0,
             "ticks": ""
            },
            "colorscale": [
             [
              0,
              "#0d0887"
             ],
             [
              0.1111111111111111,
              "#46039f"
             ],
             [
              0.2222222222222222,
              "#7201a8"
             ],
             [
              0.3333333333333333,
              "#9c179e"
             ],
             [
              0.4444444444444444,
              "#bd3786"
             ],
             [
              0.5555555555555556,
              "#d8576b"
             ],
             [
              0.6666666666666666,
              "#ed7953"
             ],
             [
              0.7777777777777778,
              "#fb9f3a"
             ],
             [
              0.8888888888888888,
              "#fdca26"
             ],
             [
              1,
              "#f0f921"
             ]
            ],
            "type": "heatmap"
           }
          ],
          "heatmapgl": [
           {
            "colorbar": {
             "outlinewidth": 0,
             "ticks": ""
            },
            "colorscale": [
             [
              0,
              "#0d0887"
             ],
             [
              0.1111111111111111,
              "#46039f"
             ],
             [
              0.2222222222222222,
              "#7201a8"
             ],
             [
              0.3333333333333333,
              "#9c179e"
             ],
             [
              0.4444444444444444,
              "#bd3786"
             ],
             [
              0.5555555555555556,
              "#d8576b"
             ],
             [
              0.6666666666666666,
              "#ed7953"
             ],
             [
              0.7777777777777778,
              "#fb9f3a"
             ],
             [
              0.8888888888888888,
              "#fdca26"
             ],
             [
              1,
              "#f0f921"
             ]
            ],
            "type": "heatmapgl"
           }
          ],
          "histogram": [
           {
            "marker": {
             "pattern": {
              "fillmode": "overlay",
              "size": 10,
              "solidity": 0.2
             }
            },
            "type": "histogram"
           }
          ],
          "histogram2d": [
           {
            "colorbar": {
             "outlinewidth": 0,
             "ticks": ""
            },
            "colorscale": [
             [
              0,
              "#0d0887"
             ],
             [
              0.1111111111111111,
              "#46039f"
             ],
             [
              0.2222222222222222,
              "#7201a8"
             ],
             [
              0.3333333333333333,
              "#9c179e"
             ],
             [
              0.4444444444444444,
              "#bd3786"
             ],
             [
              0.5555555555555556,
              "#d8576b"
             ],
             [
              0.6666666666666666,
              "#ed7953"
             ],
             [
              0.7777777777777778,
              "#fb9f3a"
             ],
             [
              0.8888888888888888,
              "#fdca26"
             ],
             [
              1,
              "#f0f921"
             ]
            ],
            "type": "histogram2d"
           }
          ],
          "histogram2dcontour": [
           {
            "colorbar": {
             "outlinewidth": 0,
             "ticks": ""
            },
            "colorscale": [
             [
              0,
              "#0d0887"
             ],
             [
              0.1111111111111111,
              "#46039f"
             ],
             [
              0.2222222222222222,
              "#7201a8"
             ],
             [
              0.3333333333333333,
              "#9c179e"
             ],
             [
              0.4444444444444444,
              "#bd3786"
             ],
             [
              0.5555555555555556,
              "#d8576b"
             ],
             [
              0.6666666666666666,
              "#ed7953"
             ],
             [
              0.7777777777777778,
              "#fb9f3a"
             ],
             [
              0.8888888888888888,
              "#fdca26"
             ],
             [
              1,
              "#f0f921"
             ]
            ],
            "type": "histogram2dcontour"
           }
          ],
          "mesh3d": [
           {
            "colorbar": {
             "outlinewidth": 0,
             "ticks": ""
            },
            "type": "mesh3d"
           }
          ],
          "parcoords": [
           {
            "line": {
             "colorbar": {
              "outlinewidth": 0,
              "ticks": ""
             }
            },
            "type": "parcoords"
           }
          ],
          "pie": [
           {
            "automargin": true,
            "type": "pie"
           }
          ],
          "scatter": [
           {
            "fillpattern": {
             "fillmode": "overlay",
             "size": 10,
             "solidity": 0.2
            },
            "type": "scatter"
           }
          ],
          "scatter3d": [
           {
            "line": {
             "colorbar": {
              "outlinewidth": 0,
              "ticks": ""
             }
            },
            "marker": {
             "colorbar": {
              "outlinewidth": 0,
              "ticks": ""
             }
            },
            "type": "scatter3d"
           }
          ],
          "scattercarpet": [
           {
            "marker": {
             "colorbar": {
              "outlinewidth": 0,
              "ticks": ""
             }
            },
            "type": "scattercarpet"
           }
          ],
          "scattergeo": [
           {
            "marker": {
             "colorbar": {
              "outlinewidth": 0,
              "ticks": ""
             }
            },
            "type": "scattergeo"
           }
          ],
          "scattergl": [
           {
            "marker": {
             "colorbar": {
              "outlinewidth": 0,
              "ticks": ""
             }
            },
            "type": "scattergl"
           }
          ],
          "scattermapbox": [
           {
            "marker": {
             "colorbar": {
              "outlinewidth": 0,
              "ticks": ""
             }
            },
            "type": "scattermapbox"
           }
          ],
          "scatterpolar": [
           {
            "marker": {
             "colorbar": {
              "outlinewidth": 0,
              "ticks": ""
             }
            },
            "type": "scatterpolar"
           }
          ],
          "scatterpolargl": [
           {
            "marker": {
             "colorbar": {
              "outlinewidth": 0,
              "ticks": ""
             }
            },
            "type": "scatterpolargl"
           }
          ],
          "scatterternary": [
           {
            "marker": {
             "colorbar": {
              "outlinewidth": 0,
              "ticks": ""
             }
            },
            "type": "scatterternary"
           }
          ],
          "surface": [
           {
            "colorbar": {
             "outlinewidth": 0,
             "ticks": ""
            },
            "colorscale": [
             [
              0,
              "#0d0887"
             ],
             [
              0.1111111111111111,
              "#46039f"
             ],
             [
              0.2222222222222222,
              "#7201a8"
             ],
             [
              0.3333333333333333,
              "#9c179e"
             ],
             [
              0.4444444444444444,
              "#bd3786"
             ],
             [
              0.5555555555555556,
              "#d8576b"
             ],
             [
              0.6666666666666666,
              "#ed7953"
             ],
             [
              0.7777777777777778,
              "#fb9f3a"
             ],
             [
              0.8888888888888888,
              "#fdca26"
             ],
             [
              1,
              "#f0f921"
             ]
            ],
            "type": "surface"
           }
          ],
          "table": [
           {
            "cells": {
             "fill": {
              "color": "#EBF0F8"
             },
             "line": {
              "color": "white"
             }
            },
            "header": {
             "fill": {
              "color": "#C8D4E3"
             },
             "line": {
              "color": "white"
             }
            },
            "type": "table"
           }
          ]
         },
         "layout": {
          "annotationdefaults": {
           "arrowcolor": "#2a3f5f",
           "arrowhead": 0,
           "arrowwidth": 1
          },
          "autotypenumbers": "strict",
          "coloraxis": {
           "colorbar": {
            "outlinewidth": 0,
            "ticks": ""
           }
          },
          "colorscale": {
           "diverging": [
            [
             0,
             "#8e0152"
            ],
            [
             0.1,
             "#c51b7d"
            ],
            [
             0.2,
             "#de77ae"
            ],
            [
             0.3,
             "#f1b6da"
            ],
            [
             0.4,
             "#fde0ef"
            ],
            [
             0.5,
             "#f7f7f7"
            ],
            [
             0.6,
             "#e6f5d0"
            ],
            [
             0.7,
             "#b8e186"
            ],
            [
             0.8,
             "#7fbc41"
            ],
            [
             0.9,
             "#4d9221"
            ],
            [
             1,
             "#276419"
            ]
           ],
           "sequential": [
            [
             0,
             "#0d0887"
            ],
            [
             0.1111111111111111,
             "#46039f"
            ],
            [
             0.2222222222222222,
             "#7201a8"
            ],
            [
             0.3333333333333333,
             "#9c179e"
            ],
            [
             0.4444444444444444,
             "#bd3786"
            ],
            [
             0.5555555555555556,
             "#d8576b"
            ],
            [
             0.6666666666666666,
             "#ed7953"
            ],
            [
             0.7777777777777778,
             "#fb9f3a"
            ],
            [
             0.8888888888888888,
             "#fdca26"
            ],
            [
             1,
             "#f0f921"
            ]
           ],
           "sequentialminus": [
            [
             0,
             "#0d0887"
            ],
            [
             0.1111111111111111,
             "#46039f"
            ],
            [
             0.2222222222222222,
             "#7201a8"
            ],
            [
             0.3333333333333333,
             "#9c179e"
            ],
            [
             0.4444444444444444,
             "#bd3786"
            ],
            [
             0.5555555555555556,
             "#d8576b"
            ],
            [
             0.6666666666666666,
             "#ed7953"
            ],
            [
             0.7777777777777778,
             "#fb9f3a"
            ],
            [
             0.8888888888888888,
             "#fdca26"
            ],
            [
             1,
             "#f0f921"
            ]
           ]
          },
          "colorway": [
           "#636efa",
           "#EF553B",
           "#00cc96",
           "#ab63fa",
           "#FFA15A",
           "#19d3f3",
           "#FF6692",
           "#B6E880",
           "#FF97FF",
           "#FECB52"
          ],
          "font": {
           "color": "#2a3f5f"
          },
          "geo": {
           "bgcolor": "white",
           "lakecolor": "white",
           "landcolor": "#E5ECF6",
           "showlakes": true,
           "showland": true,
           "subunitcolor": "white"
          },
          "hoverlabel": {
           "align": "left"
          },
          "hovermode": "closest",
          "mapbox": {
           "style": "light"
          },
          "paper_bgcolor": "rgba(0,0,0,0)",
          "plot_bgcolor": "rgba(250,250,250,0.8)",
          "polar": {
           "angularaxis": {
            "gridcolor": "white",
            "linecolor": "white",
            "ticks": ""
           },
           "bgcolor": "#E5ECF6",
           "radialaxis": {
            "gridcolor": "white",
            "linecolor": "white",
            "ticks": ""
           }
          },
          "scene": {
           "xaxis": {
            "backgroundcolor": "#E5ECF6",
            "gridcolor": "white",
            "gridwidth": 2,
            "linecolor": "white",
            "showbackground": true,
            "ticks": "",
            "zerolinecolor": "white"
           },
           "yaxis": {
            "backgroundcolor": "#E5ECF6",
            "gridcolor": "white",
            "gridwidth": 2,
            "linecolor": "white",
            "showbackground": true,
            "ticks": "",
            "zerolinecolor": "white"
           },
           "zaxis": {
            "backgroundcolor": "#E5ECF6",
            "gridcolor": "white",
            "gridwidth": 2,
            "linecolor": "white",
            "showbackground": true,
            "ticks": "",
            "zerolinecolor": "white"
           }
          },
          "shapedefaults": {
           "line": {
            "color": "#2a3f5f"
           }
          },
          "ternary": {
           "aaxis": {
            "gridcolor": "white",
            "linecolor": "white",
            "ticks": ""
           },
           "baxis": {
            "gridcolor": "white",
            "linecolor": "white",
            "ticks": ""
           },
           "bgcolor": "#E5ECF6",
           "caxis": {
            "gridcolor": "white",
            "linecolor": "white",
            "ticks": ""
           }
          },
          "title": {
           "x": 0.05
          },
          "xaxis": {
           "automargin": true,
           "gridcolor": "white",
           "linecolor": "white",
           "ticks": "",
           "title": {
            "standoff": 15
           },
           "zerolinecolor": "white",
           "zerolinewidth": 2
          },
          "yaxis": {
           "automargin": true,
           "gridcolor": "white",
           "linecolor": "white",
           "ticks": "",
           "title": {
            "standoff": 15
           },
           "zerolinecolor": "white",
           "zerolinewidth": 2
          }
         }
        },
        "xaxis": {
         "anchor": "y",
         "domain": [
          0,
          1
         ]
        },
        "xaxis2": {
         "anchor": "y2",
         "domain": [
          0,
          1
         ]
        },
        "yaxis": {
         "anchor": "x",
         "domain": [
          0.575,
          1
         ]
        },
        "yaxis2": {
         "anchor": "x2",
         "domain": [
          0,
          0.425
         ]
        }
       }
      },
      "text/html": [
       "<div>                            <div id=\"dfa2f5f0-4137-4ea2-bf45-817a8189a849\" class=\"plotly-graph-div\" style=\"height:525px; width:100%;\"></div>            <script type=\"text/javascript\">                require([\"plotly\"], function(Plotly) {                    window.PLOTLYENV=window.PLOTLYENV || {};                                    if (document.getElementById(\"dfa2f5f0-4137-4ea2-bf45-817a8189a849\")) {                    Plotly.newPlot(                        \"dfa2f5f0-4137-4ea2-bf45-817a8189a849\",                        [{\"marker\":{\"color\":\"LightSkyBlue\"},\"name\":\"Truth\",\"x\":[0,1,2,3,4,5,6,7,8,9,10,11,12,13,14,15,16,17,18,19,20,21,22,23,24,25,26,27,28,29,30,31,32,33,34,35],\"y\":[2906.95,1542.35,1489.95,1517.3,1450.1,1509.45,1494.2,1425.55,1406.9,1474.2,1482.5,1465.45,1505.85,1514.1,1530.6,1522.9,1508.85,1446.5,1455.85,1538.35,1577.0,1685.1,1734.8,1742.85,1728.05,1727.25,1710.35,1671.4,1723.55,1787.75,1837.9,1876.8,1822.55,2033.9,2055.7,2085.85],\"type\":\"scatter\",\"xaxis\":\"x\",\"yaxis\":\"y\"},{\"marker\":{\"color\":\"MediumPurple\"},\"name\":\"Prediction\",\"x\":[31,32,33,34,35],\"y\":[1679.2666015625,1656.1817626953125,1724.557373046875,1719.2664794921875,1719.2664794921875],\"type\":\"scatter\",\"xaxis\":\"x\",\"yaxis\":\"y\"},{\"marker\":{\"color\":\"MediumPurple\"},\"showlegend\":false,\"x\":[31,32,33,34,35],\"y\":[1679.2666015625,1656.1817626953125,1724.557373046875,1719.2664794921875,1719.2664794921875],\"type\":\"scatter\",\"xaxis\":\"x2\",\"yaxis\":\"y2\"}],                        {\"template\":{\"data\":{\"barpolar\":[{\"marker\":{\"line\":{\"color\":\"#E5ECF6\",\"width\":0.5},\"pattern\":{\"fillmode\":\"overlay\",\"size\":10,\"solidity\":0.2}},\"type\":\"barpolar\"}],\"bar\":[{\"error_x\":{\"color\":\"#2a3f5f\"},\"error_y\":{\"color\":\"#2a3f5f\"},\"marker\":{\"line\":{\"color\":\"#E5ECF6\",\"width\":0.5},\"pattern\":{\"fillmode\":\"overlay\",\"size\":10,\"solidity\":0.2}},\"type\":\"bar\"}],\"carpet\":[{\"aaxis\":{\"endlinecolor\":\"#2a3f5f\",\"gridcolor\":\"white\",\"linecolor\":\"white\",\"minorgridcolor\":\"white\",\"startlinecolor\":\"#2a3f5f\"},\"baxis\":{\"endlinecolor\":\"#2a3f5f\",\"gridcolor\":\"white\",\"linecolor\":\"white\",\"minorgridcolor\":\"white\",\"startlinecolor\":\"#2a3f5f\"},\"type\":\"carpet\"}],\"choropleth\":[{\"colorbar\":{\"outlinewidth\":0,\"ticks\":\"\"},\"type\":\"choropleth\"}],\"contourcarpet\":[{\"colorbar\":{\"outlinewidth\":0,\"ticks\":\"\"},\"type\":\"contourcarpet\"}],\"contour\":[{\"colorbar\":{\"outlinewidth\":0,\"ticks\":\"\"},\"colorscale\":[[0.0,\"#0d0887\"],[0.1111111111111111,\"#46039f\"],[0.2222222222222222,\"#7201a8\"],[0.3333333333333333,\"#9c179e\"],[0.4444444444444444,\"#bd3786\"],[0.5555555555555556,\"#d8576b\"],[0.6666666666666666,\"#ed7953\"],[0.7777777777777778,\"#fb9f3a\"],[0.8888888888888888,\"#fdca26\"],[1.0,\"#f0f921\"]],\"type\":\"contour\"}],\"heatmapgl\":[{\"colorbar\":{\"outlinewidth\":0,\"ticks\":\"\"},\"colorscale\":[[0.0,\"#0d0887\"],[0.1111111111111111,\"#46039f\"],[0.2222222222222222,\"#7201a8\"],[0.3333333333333333,\"#9c179e\"],[0.4444444444444444,\"#bd3786\"],[0.5555555555555556,\"#d8576b\"],[0.6666666666666666,\"#ed7953\"],[0.7777777777777778,\"#fb9f3a\"],[0.8888888888888888,\"#fdca26\"],[1.0,\"#f0f921\"]],\"type\":\"heatmapgl\"}],\"heatmap\":[{\"colorbar\":{\"outlinewidth\":0,\"ticks\":\"\"},\"colorscale\":[[0.0,\"#0d0887\"],[0.1111111111111111,\"#46039f\"],[0.2222222222222222,\"#7201a8\"],[0.3333333333333333,\"#9c179e\"],[0.4444444444444444,\"#bd3786\"],[0.5555555555555556,\"#d8576b\"],[0.6666666666666666,\"#ed7953\"],[0.7777777777777778,\"#fb9f3a\"],[0.8888888888888888,\"#fdca26\"],[1.0,\"#f0f921\"]],\"type\":\"heatmap\"}],\"histogram2dcontour\":[{\"colorbar\":{\"outlinewidth\":0,\"ticks\":\"\"},\"colorscale\":[[0.0,\"#0d0887\"],[0.1111111111111111,\"#46039f\"],[0.2222222222222222,\"#7201a8\"],[0.3333333333333333,\"#9c179e\"],[0.4444444444444444,\"#bd3786\"],[0.5555555555555556,\"#d8576b\"],[0.6666666666666666,\"#ed7953\"],[0.7777777777777778,\"#fb9f3a\"],[0.8888888888888888,\"#fdca26\"],[1.0,\"#f0f921\"]],\"type\":\"histogram2dcontour\"}],\"histogram2d\":[{\"colorbar\":{\"outlinewidth\":0,\"ticks\":\"\"},\"colorscale\":[[0.0,\"#0d0887\"],[0.1111111111111111,\"#46039f\"],[0.2222222222222222,\"#7201a8\"],[0.3333333333333333,\"#9c179e\"],[0.4444444444444444,\"#bd3786\"],[0.5555555555555556,\"#d8576b\"],[0.6666666666666666,\"#ed7953\"],[0.7777777777777778,\"#fb9f3a\"],[0.8888888888888888,\"#fdca26\"],[1.0,\"#f0f921\"]],\"type\":\"histogram2d\"}],\"histogram\":[{\"marker\":{\"pattern\":{\"fillmode\":\"overlay\",\"size\":10,\"solidity\":0.2}},\"type\":\"histogram\"}],\"mesh3d\":[{\"colorbar\":{\"outlinewidth\":0,\"ticks\":\"\"},\"type\":\"mesh3d\"}],\"parcoords\":[{\"line\":{\"colorbar\":{\"outlinewidth\":0,\"ticks\":\"\"}},\"type\":\"parcoords\"}],\"pie\":[{\"automargin\":true,\"type\":\"pie\"}],\"scatter3d\":[{\"line\":{\"colorbar\":{\"outlinewidth\":0,\"ticks\":\"\"}},\"marker\":{\"colorbar\":{\"outlinewidth\":0,\"ticks\":\"\"}},\"type\":\"scatter3d\"}],\"scattercarpet\":[{\"marker\":{\"colorbar\":{\"outlinewidth\":0,\"ticks\":\"\"}},\"type\":\"scattercarpet\"}],\"scattergeo\":[{\"marker\":{\"colorbar\":{\"outlinewidth\":0,\"ticks\":\"\"}},\"type\":\"scattergeo\"}],\"scattergl\":[{\"marker\":{\"colorbar\":{\"outlinewidth\":0,\"ticks\":\"\"}},\"type\":\"scattergl\"}],\"scattermapbox\":[{\"marker\":{\"colorbar\":{\"outlinewidth\":0,\"ticks\":\"\"}},\"type\":\"scattermapbox\"}],\"scatterpolargl\":[{\"marker\":{\"colorbar\":{\"outlinewidth\":0,\"ticks\":\"\"}},\"type\":\"scatterpolargl\"}],\"scatterpolar\":[{\"marker\":{\"colorbar\":{\"outlinewidth\":0,\"ticks\":\"\"}},\"type\":\"scatterpolar\"}],\"scatter\":[{\"fillpattern\":{\"fillmode\":\"overlay\",\"size\":10,\"solidity\":0.2},\"type\":\"scatter\"}],\"scatterternary\":[{\"marker\":{\"colorbar\":{\"outlinewidth\":0,\"ticks\":\"\"}},\"type\":\"scatterternary\"}],\"surface\":[{\"colorbar\":{\"outlinewidth\":0,\"ticks\":\"\"},\"colorscale\":[[0.0,\"#0d0887\"],[0.1111111111111111,\"#46039f\"],[0.2222222222222222,\"#7201a8\"],[0.3333333333333333,\"#9c179e\"],[0.4444444444444444,\"#bd3786\"],[0.5555555555555556,\"#d8576b\"],[0.6666666666666666,\"#ed7953\"],[0.7777777777777778,\"#fb9f3a\"],[0.8888888888888888,\"#fdca26\"],[1.0,\"#f0f921\"]],\"type\":\"surface\"}],\"table\":[{\"cells\":{\"fill\":{\"color\":\"#EBF0F8\"},\"line\":{\"color\":\"white\"}},\"header\":{\"fill\":{\"color\":\"#C8D4E3\"},\"line\":{\"color\":\"white\"}},\"type\":\"table\"}]},\"layout\":{\"annotationdefaults\":{\"arrowcolor\":\"#2a3f5f\",\"arrowhead\":0,\"arrowwidth\":1},\"autotypenumbers\":\"strict\",\"coloraxis\":{\"colorbar\":{\"outlinewidth\":0,\"ticks\":\"\"}},\"colorscale\":{\"diverging\":[[0,\"#8e0152\"],[0.1,\"#c51b7d\"],[0.2,\"#de77ae\"],[0.3,\"#f1b6da\"],[0.4,\"#fde0ef\"],[0.5,\"#f7f7f7\"],[0.6,\"#e6f5d0\"],[0.7,\"#b8e186\"],[0.8,\"#7fbc41\"],[0.9,\"#4d9221\"],[1,\"#276419\"]],\"sequential\":[[0.0,\"#0d0887\"],[0.1111111111111111,\"#46039f\"],[0.2222222222222222,\"#7201a8\"],[0.3333333333333333,\"#9c179e\"],[0.4444444444444444,\"#bd3786\"],[0.5555555555555556,\"#d8576b\"],[0.6666666666666666,\"#ed7953\"],[0.7777777777777778,\"#fb9f3a\"],[0.8888888888888888,\"#fdca26\"],[1.0,\"#f0f921\"]],\"sequentialminus\":[[0.0,\"#0d0887\"],[0.1111111111111111,\"#46039f\"],[0.2222222222222222,\"#7201a8\"],[0.3333333333333333,\"#9c179e\"],[0.4444444444444444,\"#bd3786\"],[0.5555555555555556,\"#d8576b\"],[0.6666666666666666,\"#ed7953\"],[0.7777777777777778,\"#fb9f3a\"],[0.8888888888888888,\"#fdca26\"],[1.0,\"#f0f921\"]]},\"colorway\":[\"#636efa\",\"#EF553B\",\"#00cc96\",\"#ab63fa\",\"#FFA15A\",\"#19d3f3\",\"#FF6692\",\"#B6E880\",\"#FF97FF\",\"#FECB52\"],\"font\":{\"color\":\"#2a3f5f\"},\"geo\":{\"bgcolor\":\"white\",\"lakecolor\":\"white\",\"landcolor\":\"#E5ECF6\",\"showlakes\":true,\"showland\":true,\"subunitcolor\":\"white\"},\"hoverlabel\":{\"align\":\"left\"},\"hovermode\":\"closest\",\"mapbox\":{\"style\":\"light\"},\"paper_bgcolor\":\"rgba(0,0,0,0)\",\"plot_bgcolor\":\"rgba(250,250,250,0.8)\",\"polar\":{\"angularaxis\":{\"gridcolor\":\"white\",\"linecolor\":\"white\",\"ticks\":\"\"},\"bgcolor\":\"#E5ECF6\",\"radialaxis\":{\"gridcolor\":\"white\",\"linecolor\":\"white\",\"ticks\":\"\"}},\"scene\":{\"xaxis\":{\"backgroundcolor\":\"#E5ECF6\",\"gridcolor\":\"white\",\"gridwidth\":2,\"linecolor\":\"white\",\"showbackground\":true,\"ticks\":\"\",\"zerolinecolor\":\"white\"},\"yaxis\":{\"backgroundcolor\":\"#E5ECF6\",\"gridcolor\":\"white\",\"gridwidth\":2,\"linecolor\":\"white\",\"showbackground\":true,\"ticks\":\"\",\"zerolinecolor\":\"white\"},\"zaxis\":{\"backgroundcolor\":\"#E5ECF6\",\"gridcolor\":\"white\",\"gridwidth\":2,\"linecolor\":\"white\",\"showbackground\":true,\"ticks\":\"\",\"zerolinecolor\":\"white\"}},\"shapedefaults\":{\"line\":{\"color\":\"#2a3f5f\"}},\"ternary\":{\"aaxis\":{\"gridcolor\":\"white\",\"linecolor\":\"white\",\"ticks\":\"\"},\"baxis\":{\"gridcolor\":\"white\",\"linecolor\":\"white\",\"ticks\":\"\"},\"bgcolor\":\"#E5ECF6\",\"caxis\":{\"gridcolor\":\"white\",\"linecolor\":\"white\",\"ticks\":\"\"}},\"title\":{\"x\":0.05},\"xaxis\":{\"automargin\":true,\"gridcolor\":\"white\",\"linecolor\":\"white\",\"ticks\":\"\",\"title\":{\"standoff\":15},\"zerolinecolor\":\"white\",\"zerolinewidth\":2},\"yaxis\":{\"automargin\":true,\"gridcolor\":\"white\",\"linecolor\":\"white\",\"ticks\":\"\",\"title\":{\"standoff\":15},\"zerolinecolor\":\"white\",\"zerolinewidth\":2}}},\"xaxis\":{\"anchor\":\"y\",\"domain\":[0.0,1.0]},\"yaxis\":{\"anchor\":\"x\",\"domain\":[0.575,1.0]},\"xaxis2\":{\"anchor\":\"y2\",\"domain\":[0.0,1.0]},\"yaxis2\":{\"anchor\":\"x2\",\"domain\":[0.0,0.425]}},                        {\"responsive\": true}                    ).then(function(){\n",
       "                            \n",
       "var gd = document.getElementById('dfa2f5f0-4137-4ea2-bf45-817a8189a849');\n",
       "var x = new MutationObserver(function (mutations, observer) {{\n",
       "        var display = window.getComputedStyle(gd).display;\n",
       "        if (!display || display === 'none') {{\n",
       "            console.log([gd, 'removed!']);\n",
       "            Plotly.purge(gd);\n",
       "            observer.disconnect();\n",
       "        }}\n",
       "}});\n",
       "\n",
       "// Listen for the removal of the full notebook cells\n",
       "var notebookContainer = gd.closest('#notebook-container');\n",
       "if (notebookContainer) {{\n",
       "    x.observe(notebookContainer, {childList: true});\n",
       "}}\n",
       "\n",
       "// Listen for the clearing of the current output cell\n",
       "var outputEl = gd.closest('.output');\n",
       "if (outputEl) {{\n",
       "    x.observe(outputEl, {childList: true});\n",
       "}}\n",
       "\n",
       "                        })                };                });            </script>        </div>"
      ]
     },
     "metadata": {},
     "output_type": "display_data"
    }
   ],
   "source": [
    "predicted_prices = df.loc[test_split_idx+1:].copy()\n",
    "predicted_prices['Close Price'] = y_pred\n",
    "predicted_prices.head()\n",
    "\n",
    "fig = make_subplots(rows=2, cols=1)\n",
    "fig.add_trace(go.Scatter(x=temp.Date, y=df['Close Price'],\n",
    "                         name='Truth',\n",
    "                         marker_color='LightSkyBlue'), row=1, col=1)\n",
    "\n",
    "fig.add_trace(go.Scatter(x=predicted_prices.index,\n",
    "                         y=predicted_prices['Close Price'],\n",
    "                         name='Prediction',\n",
    "                         marker_color='MediumPurple'), row=1, col=1)\n",
    "\n",
    "fig.add_trace(go.Scatter(x=predicted_prices.index,\n",
    "                         y=y_pred,\n",
    "                         marker_color='MediumPurple',\n",
    "                         showlegend=False), row=2, col=1)\n",
    "\n",
    "fig.show()"
   ]
  },
  {
   "cell_type": "code",
   "execution_count": null,
   "metadata": {},
   "outputs": [],
   "source": []
  },
  {
   "cell_type": "code",
   "execution_count": null,
   "metadata": {},
   "outputs": [],
   "source": []
  }
 ],
 "metadata": {
  "kernelspec": {
   "display_name": ".venv",
   "language": "python",
   "name": "python3"
  },
  "language_info": {
   "codemirror_mode": {
    "name": "ipython",
    "version": 3
   },
   "file_extension": ".py",
   "mimetype": "text/x-python",
   "name": "python",
   "nbconvert_exporter": "python",
   "pygments_lexer": "ipython3",
   "version": "3.11.3"
  },
  "orig_nbformat": 4
 },
 "nbformat": 4,
 "nbformat_minor": 2
}
