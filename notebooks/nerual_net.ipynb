{
 "cells": [
  {
   "cell_type": "markdown",
   "metadata": {},
   "source": [
    "##  A neural Network replacing the simple xgboost regression algorithm"
   ]
  },
  {
   "cell_type": "markdown",
   "metadata": {},
   "source": [
    "#### Importing all libraries and setting the device to gpu"
   ]
  },
  {
   "cell_type": "code",
   "execution_count": 81,
   "metadata": {},
   "outputs": [],
   "source": [
    "\n",
    "import pandas as pd\n",
    "import numpy as np\n",
    "import matplotlib.pyplot as plt\n",
    "from tqdm import tqdm\n",
    "import torch\n",
    "import torch.nn as nn\n",
    "import torch.optim as optim\n",
    "from sklearn.preprocessing import MinMaxScaler    \n",
    "from sklearn.model_selection import train_test_split\n",
    "from sklearn.metrics import mean_squared_error, r2_score,mean_absolute_percentage_error\n",
    "from torch.utils.data import Dataset, DataLoader\n",
    "\n",
    "import seaborn as sns\n",
    "import random\n",
    "\n",
    "# torch.cuda.set_device(\"cuda:0\")\n",
    "# print(torch.cuda.get_device_name())"
   ]
  },
  {
   "cell_type": "code",
   "execution_count": 82,
   "metadata": {},
   "outputs": [],
   "source": [
    "import random\n",
    "def set_seeds(seed=1234):\n",
    "    \"\"\"Set seeds for reproducibility.\"\"\"\n",
    "    np.random.seed(seed)\n",
    "    random.seed(seed)\n",
    "    torch.manual_seed(seed)\n",
    "    torch.cuda.manual_seed(seed)\n",
    "    torch.cuda.manual_seed_all(seed) # multi-GPU\n",
    "    \n",
    "set_seeds()"
   ]
  },
  {
   "cell_type": "markdown",
   "metadata": {},
   "source": [
    "#### Pre processing the data and adding data indicators to the data"
   ]
  },
  {
   "cell_type": "code",
   "execution_count": 83,
   "metadata": {},
   "outputs": [
    {
     "name": "stderr",
     "output_type": "stream",
     "text": [
      "/tmp/ipykernel_1969/758248141.py:4: UserWarning:\n",
      "\n",
      "Parsing dates in %Y-%m-%d format when dayfirst=True was specified. Pass `dayfirst=False` or specify a format to silence this warning.\n",
      "\n"
     ]
    },
    {
     "data": {
      "text/html": [
       "<div>\n",
       "<style scoped>\n",
       "    .dataframe tbody tr th:only-of-type {\n",
       "        vertical-align: middle;\n",
       "    }\n",
       "\n",
       "    .dataframe tbody tr th {\n",
       "        vertical-align: top;\n",
       "    }\n",
       "\n",
       "    .dataframe thead th {\n",
       "        text-align: right;\n",
       "    }\n",
       "</style>\n",
       "<table border=\"1\" class=\"dataframe\">\n",
       "  <thead>\n",
       "    <tr style=\"text-align: right;\">\n",
       "      <th></th>\n",
       "      <th>Date</th>\n",
       "      <th>Open</th>\n",
       "      <th>High</th>\n",
       "      <th>Low</th>\n",
       "      <th>Close</th>\n",
       "      <th>Volume</th>\n",
       "    </tr>\n",
       "  </thead>\n",
       "  <tbody>\n",
       "    <tr>\n",
       "      <th>0</th>\n",
       "      <td>2020-01-17</td>\n",
       "      <td>47.750000</td>\n",
       "      <td>47.750000</td>\n",
       "      <td>46.549999</td>\n",
       "      <td>46.700001</td>\n",
       "      <td>74331.0</td>\n",
       "    </tr>\n",
       "    <tr>\n",
       "      <th>1</th>\n",
       "      <td>2020-01-20</td>\n",
       "      <td>46.950001</td>\n",
       "      <td>46.950001</td>\n",
       "      <td>45.750000</td>\n",
       "      <td>45.849998</td>\n",
       "      <td>72887.0</td>\n",
       "    </tr>\n",
       "    <tr>\n",
       "      <th>2</th>\n",
       "      <td>2020-01-21</td>\n",
       "      <td>45.599998</td>\n",
       "      <td>45.700001</td>\n",
       "      <td>44.950001</td>\n",
       "      <td>45.000000</td>\n",
       "      <td>45188.0</td>\n",
       "    </tr>\n",
       "    <tr>\n",
       "      <th>3</th>\n",
       "      <td>2020-01-22</td>\n",
       "      <td>45.299999</td>\n",
       "      <td>45.650002</td>\n",
       "      <td>44.450001</td>\n",
       "      <td>44.599998</td>\n",
       "      <td>79445.0</td>\n",
       "    </tr>\n",
       "    <tr>\n",
       "      <th>4</th>\n",
       "      <td>2020-01-23</td>\n",
       "      <td>44.650002</td>\n",
       "      <td>45.650002</td>\n",
       "      <td>44.599998</td>\n",
       "      <td>45.000000</td>\n",
       "      <td>53742.0</td>\n",
       "    </tr>\n",
       "  </tbody>\n",
       "</table>\n",
       "</div>"
      ],
      "text/plain": [
       "        Date       Open       High        Low      Close   Volume\n",
       "0 2020-01-17  47.750000  47.750000  46.549999  46.700001  74331.0\n",
       "1 2020-01-20  46.950001  46.950001  45.750000  45.849998  72887.0\n",
       "2 2020-01-21  45.599998  45.700001  44.950001  45.000000  45188.0\n",
       "3 2020-01-22  45.299999  45.650002  44.450001  44.599998  79445.0\n",
       "4 2020-01-23  44.650002  45.650002  44.599998  45.000000  53742.0"
      ]
     },
     "execution_count": 83,
     "metadata": {},
     "output_type": "execute_result"
    }
   ],
   "source": [
    "df = pd.read_csv(\"../data/hind-copper/hind_copper.csv\")\n",
    "# Need to reverse the db\n",
    "# df = df.loc[::-1]\n",
    "df['Date'] = pd.to_datetime(df['Date'],dayfirst=True)\n",
    "df = df[(df['Date'].dt.year >= 2020)].copy()\n",
    "df.index = range(len(df))\n",
    "temp = df.copy()\n",
    "# df['Close'] = (df['High'] + df['Low'] )/ 2\n",
    "df.rename(columns={\"Open Price\":\"Open\",\"High Price\":\"High\",\"Low Price\":\"Low\",\"Close Price\":\"Close\",\"Total Traded Quantity\":\"Volume\",\"No.of Shares\":\"Volume\"},inplace=True)\n",
    "# cols = [\"Symbol\",\"Ser verbose=Falseies\",\"Prev Close\",\"Last Price\",\"Average Price\",\"Turnover\",\"No. of Trades\", \"Deliverable Qty\",'% Dly Qt to Traded Qty']\n",
    "# cols = [\"WAP\",\"No. of Trades\"\t,\"Total Turnover (Rs.)\"\t,\"Deliverable Quantity\"\t,\"% Deli. Qty to Traded Qty\"\t,\"Spread High-Low\"\t,\"Spread Close-Open\"]\n",
    "cols = \"Adj Close\"\n",
    "df.drop(columns=cols,inplace=True)   \n",
    "df.dropna(inplace=True)\n",
    "df.head()"
   ]
  },
  {
   "cell_type": "code",
   "execution_count": 84,
   "metadata": {},
   "outputs": [
    {
     "data": {
      "text/html": [
       "<div>\n",
       "<style scoped>\n",
       "    .dataframe tbody tr th:only-of-type {\n",
       "        vertical-align: middle;\n",
       "    }\n",
       "\n",
       "    .dataframe tbody tr th {\n",
       "        vertical-align: top;\n",
       "    }\n",
       "\n",
       "    .dataframe thead th {\n",
       "        text-align: right;\n",
       "    }\n",
       "</style>\n",
       "<table border=\"1\" class=\"dataframe\">\n",
       "  <thead>\n",
       "    <tr style=\"text-align: right;\">\n",
       "      <th></th>\n",
       "      <th>Date</th>\n",
       "      <th>Open</th>\n",
       "      <th>High</th>\n",
       "      <th>Low</th>\n",
       "      <th>Close</th>\n",
       "      <th>Volume</th>\n",
       "      <th>EMA_9</th>\n",
       "      <th>SMA_5</th>\n",
       "      <th>SMA_10</th>\n",
       "      <th>SMA_15</th>\n",
       "      <th>SMA_30</th>\n",
       "      <th>RSI</th>\n",
       "      <th>MACD</th>\n",
       "      <th>MACD_signal</th>\n",
       "    </tr>\n",
       "  </thead>\n",
       "  <tbody>\n",
       "    <tr>\n",
       "      <th>0</th>\n",
       "      <td>2020-03-05</td>\n",
       "      <td>30.000000</td>\n",
       "      <td>30.700001</td>\n",
       "      <td>29.700001</td>\n",
       "      <td>29.049999</td>\n",
       "      <td>132113.0</td>\n",
       "      <td>35.177351</td>\n",
       "      <td>31.04</td>\n",
       "      <td>33.190</td>\n",
       "      <td>34.933333</td>\n",
       "      <td>39.086667</td>\n",
       "      <td>18.550730</td>\n",
       "      <td>-2.715583</td>\n",
       "      <td>-2.420919</td>\n",
       "    </tr>\n",
       "    <tr>\n",
       "      <th>1</th>\n",
       "      <td>2020-03-06</td>\n",
       "      <td>29.799999</td>\n",
       "      <td>29.799999</td>\n",
       "      <td>28.299999</td>\n",
       "      <td>27.750000</td>\n",
       "      <td>209963.0</td>\n",
       "      <td>34.691091</td>\n",
       "      <td>30.41</td>\n",
       "      <td>32.620</td>\n",
       "      <td>34.173333</td>\n",
       "      <td>38.615000</td>\n",
       "      <td>20.846908</td>\n",
       "      <td>-2.798598</td>\n",
       "      <td>-2.505541</td>\n",
       "    </tr>\n",
       "    <tr>\n",
       "      <th>2</th>\n",
       "      <td>2020-03-09</td>\n",
       "      <td>28.450001</td>\n",
       "      <td>28.500000</td>\n",
       "      <td>26.850000</td>\n",
       "      <td>28.100000</td>\n",
       "      <td>165035.0</td>\n",
       "      <td>34.112499</td>\n",
       "      <td>29.94</td>\n",
       "      <td>31.870</td>\n",
       "      <td>33.356667</td>\n",
       "      <td>38.083333</td>\n",
       "      <td>22.145334</td>\n",
       "      <td>-2.929072</td>\n",
       "      <td>-2.598207</td>\n",
       "    </tr>\n",
       "    <tr>\n",
       "      <th>3</th>\n",
       "      <td>2020-03-11</td>\n",
       "      <td>27.950001</td>\n",
       "      <td>28.400000</td>\n",
       "      <td>26.900000</td>\n",
       "      <td>24.450001</td>\n",
       "      <td>108019.0</td>\n",
       "      <td>33.461585</td>\n",
       "      <td>29.49</td>\n",
       "      <td>31.165</td>\n",
       "      <td>32.673333</td>\n",
       "      <td>37.453333</td>\n",
       "      <td>25.088339</td>\n",
       "      <td>-2.971019</td>\n",
       "      <td>-2.678272</td>\n",
       "    </tr>\n",
       "    <tr>\n",
       "      <th>4</th>\n",
       "      <td>2020-03-12</td>\n",
       "      <td>27.000000</td>\n",
       "      <td>27.000000</td>\n",
       "      <td>23.400000</td>\n",
       "      <td>26.000000</td>\n",
       "      <td>226738.0</td>\n",
       "      <td>32.914331</td>\n",
       "      <td>28.97</td>\n",
       "      <td>30.480</td>\n",
       "      <td>32.160000</td>\n",
       "      <td>36.891667</td>\n",
       "      <td>15.178575</td>\n",
       "      <td>-3.246505</td>\n",
       "      <td>-2.798530</td>\n",
       "    </tr>\n",
       "  </tbody>\n",
       "</table>\n",
       "</div>"
      ],
      "text/plain": [
       "        Date       Open       High        Low      Close    Volume      EMA_9  \\\n",
       "0 2020-03-05  30.000000  30.700001  29.700001  29.049999  132113.0  35.177351   \n",
       "1 2020-03-06  29.799999  29.799999  28.299999  27.750000  209963.0  34.691091   \n",
       "2 2020-03-09  28.450001  28.500000  26.850000  28.100000  165035.0  34.112499   \n",
       "3 2020-03-11  27.950001  28.400000  26.900000  24.450001  108019.0  33.461585   \n",
       "4 2020-03-12  27.000000  27.000000  23.400000  26.000000  226738.0  32.914331   \n",
       "\n",
       "   SMA_5  SMA_10     SMA_15     SMA_30        RSI      MACD  MACD_signal  \n",
       "0  31.04  33.190  34.933333  39.086667  18.550730 -2.715583    -2.420919  \n",
       "1  30.41  32.620  34.173333  38.615000  20.846908 -2.798598    -2.505541  \n",
       "2  29.94  31.870  33.356667  38.083333  22.145334 -2.929072    -2.598207  \n",
       "3  29.49  31.165  32.673333  37.453333  25.088339 -2.971019    -2.678272  \n",
       "4  28.97  30.480  32.160000  36.891667  15.178575 -3.246505    -2.798530  "
      ]
     },
     "execution_count": 84,
     "metadata": {},
     "output_type": "execute_result"
    }
   ],
   "source": [
    "df['EMA_9'] = df['Close'].ewm(9).mean().shift()\n",
    "df['SMA_5'] = df['Close'].rolling(5).mean().shift()\n",
    "df['SMA_10'] = df['Close'].rolling(10).mean().shift()\n",
    "df['SMA_15'] = df['Close'].rolling(15).mean().shift()\n",
    "df['SMA_30'] = df['Close'].rolling(30).mean().shift()\n",
    "\n",
    "def relative_strength_idx(df, n=14):\n",
    "    close = df['Close']\n",
    "    delta = close.diff()\n",
    "    delta = delta[1:]\n",
    "    pricesUp = delta.copy()\n",
    "    pricesDown = delta.copy()\n",
    "    pricesUp[pricesUp < 0] = 0\n",
    "    pricesDown[pricesDown > 0] = 0    \n",
    "    rollUp = pricesUp.rolling(n).mean()\n",
    "    rollDown = pricesDown.abs().rolling(n).mean()\n",
    "    rs = rollUp / rollDown\n",
    "    rsi = 100.0 - (100.0 / (1.0 + rs))\n",
    "    return rsi\n",
    "\n",
    "df['RSI'] = relative_strength_idx(df).fillna(0)\n",
    "\n",
    "EMA_12 = pd.Series(df['Close'].ewm(span=12, min_periods=12).mean())\n",
    "EMA_26 = pd.Series(df['Close'].ewm(span=26, min_periods=26).mean())\n",
    "df['MACD'] = pd.Series(EMA_12 - EMA_26)\n",
    "df['MACD_signal'] = pd.Series(df.MACD.ewm(span=9, min_periods=9).mean())\n",
    "\n",
    "df['Close'] = df['Close'].shift(-1)\n",
    "\n",
    "df = df.iloc[33:] # Because of moving average\n",
    "df = df[:-1]      # Because of shifting close price\n",
    "\n",
    "df.index = range(len(df))\n",
    "\n",
    "df.head()"
   ]
  },
  {
   "cell_type": "code",
   "execution_count": 85,
   "metadata": {},
   "outputs": [
    {
     "data": {
      "text/html": [
       "<div>\n",
       "<style scoped>\n",
       "    .dataframe tbody tr th:only-of-type {\n",
       "        vertical-align: middle;\n",
       "    }\n",
       "\n",
       "    .dataframe tbody tr th {\n",
       "        vertical-align: top;\n",
       "    }\n",
       "\n",
       "    .dataframe thead th {\n",
       "        text-align: right;\n",
       "    }\n",
       "</style>\n",
       "<table border=\"1\" class=\"dataframe\">\n",
       "  <thead>\n",
       "    <tr style=\"text-align: right;\">\n",
       "      <th></th>\n",
       "      <th>Close</th>\n",
       "      <th>EMA_9</th>\n",
       "      <th>SMA_5</th>\n",
       "      <th>SMA_10</th>\n",
       "      <th>SMA_15</th>\n",
       "      <th>SMA_30</th>\n",
       "      <th>RSI</th>\n",
       "      <th>MACD</th>\n",
       "      <th>MACD_signal</th>\n",
       "    </tr>\n",
       "  </thead>\n",
       "  <tbody>\n",
       "    <tr>\n",
       "      <th>0</th>\n",
       "      <td>29.049999</td>\n",
       "      <td>35.177351</td>\n",
       "      <td>31.04</td>\n",
       "      <td>33.190</td>\n",
       "      <td>34.933333</td>\n",
       "      <td>39.086667</td>\n",
       "      <td>18.550730</td>\n",
       "      <td>-2.715583</td>\n",
       "      <td>-2.420919</td>\n",
       "    </tr>\n",
       "    <tr>\n",
       "      <th>1</th>\n",
       "      <td>27.750000</td>\n",
       "      <td>34.691091</td>\n",
       "      <td>30.41</td>\n",
       "      <td>32.620</td>\n",
       "      <td>34.173333</td>\n",
       "      <td>38.615000</td>\n",
       "      <td>20.846908</td>\n",
       "      <td>-2.798598</td>\n",
       "      <td>-2.505541</td>\n",
       "    </tr>\n",
       "    <tr>\n",
       "      <th>2</th>\n",
       "      <td>28.100000</td>\n",
       "      <td>34.112499</td>\n",
       "      <td>29.94</td>\n",
       "      <td>31.870</td>\n",
       "      <td>33.356667</td>\n",
       "      <td>38.083333</td>\n",
       "      <td>22.145334</td>\n",
       "      <td>-2.929072</td>\n",
       "      <td>-2.598207</td>\n",
       "    </tr>\n",
       "    <tr>\n",
       "      <th>3</th>\n",
       "      <td>24.450001</td>\n",
       "      <td>33.461585</td>\n",
       "      <td>29.49</td>\n",
       "      <td>31.165</td>\n",
       "      <td>32.673333</td>\n",
       "      <td>37.453333</td>\n",
       "      <td>25.088339</td>\n",
       "      <td>-2.971019</td>\n",
       "      <td>-2.678272</td>\n",
       "    </tr>\n",
       "    <tr>\n",
       "      <th>4</th>\n",
       "      <td>26.000000</td>\n",
       "      <td>32.914331</td>\n",
       "      <td>28.97</td>\n",
       "      <td>30.480</td>\n",
       "      <td>32.160000</td>\n",
       "      <td>36.891667</td>\n",
       "      <td>15.178575</td>\n",
       "      <td>-3.246505</td>\n",
       "      <td>-2.798530</td>\n",
       "    </tr>\n",
       "  </tbody>\n",
       "</table>\n",
       "</div>"
      ],
      "text/plain": [
       "       Close      EMA_9  SMA_5  SMA_10     SMA_15     SMA_30        RSI  \\\n",
       "0  29.049999  35.177351  31.04  33.190  34.933333  39.086667  18.550730   \n",
       "1  27.750000  34.691091  30.41  32.620  34.173333  38.615000  20.846908   \n",
       "2  28.100000  34.112499  29.94  31.870  33.356667  38.083333  22.145334   \n",
       "3  24.450001  33.461585  29.49  31.165  32.673333  37.453333  25.088339   \n",
       "4  26.000000  32.914331  28.97  30.480  32.160000  36.891667  15.178575   \n",
       "\n",
       "       MACD  MACD_signal  \n",
       "0 -2.715583    -2.420919  \n",
       "1 -2.798598    -2.505541  \n",
       "2 -2.929072    -2.598207  \n",
       "3 -2.971019    -2.678272  \n",
       "4 -3.246505    -2.798530  "
      ]
     },
     "execution_count": 85,
     "metadata": {},
     "output_type": "execute_result"
    }
   ],
   "source": [
    "drop_cols = ['Date', 'Volume', 'Open', 'Low', 'High']\n",
    "df.drop(columns=drop_cols,inplace=True)\n",
    "df.head()"
   ]
  },
  {
   "cell_type": "markdown",
   "metadata": {},
   "source": [
    "#### Separating the data into train and test splits. Then splitting into validation split"
   ]
  },
  {
   "cell_type": "code",
   "execution_count": 86,
   "metadata": {},
   "outputs": [],
   "source": [
    "X = df.iloc[:, 1:]\n",
    "y = df.Close\n",
    "\n",
    "x_len = int(0.8 * len(X))\n",
    "y_len = int(0.8 * len(y))\n",
    "X_trainval = X[:x_len]\n",
    "X_test = X[x_len:]\n",
    "y_trainval = y[:y_len]\n",
    "y_test = y[y_len:]\n",
    "\n",
    "X_train, X_val, y_train, y_val = train_test_split(\n",
    "    X_trainval, y_trainval, test_size=0.2\n",
    ")"
   ]
  },
  {
   "cell_type": "markdown",
   "metadata": {},
   "source": [
    "#### Normalising the data"
   ]
  },
  {
   "cell_type": "code",
   "execution_count": 87,
   "metadata": {},
   "outputs": [],
   "source": [
    "scaler = MinMaxScaler()\n",
    "X_train = scaler.fit_transform(X_train)\n",
    "X_val = scaler.transform(X_val)\n",
    "X_test = scaler.transform(X_test)\n",
    "X_train, y_train = np.array(X_train), np.array(y_train)\n",
    "X_val, y_val = np.array(X_val), np.array(y_val)\n",
    "X_test, y_test = np.array(X_test), np.array(y_test)"
   ]
  },
  {
   "cell_type": "markdown",
   "metadata": {},
   "source": [
    "#### Initialising the dataset"
   ]
  },
  {
   "cell_type": "code",
   "execution_count": 88,
   "metadata": {},
   "outputs": [],
   "source": [
    "class RegressionDataset(Dataset):\n",
    "    def __init__(self, X_data, y_data):\n",
    "        self.X_data = X_data\n",
    "        self.y_data = y_data\n",
    "\n",
    "    def __getitem__(self, index):\n",
    "        return self.X_data[index], self.y_data[index]\n",
    "\n",
    "    def __len__(self):\n",
    "        return len(self.X_data)   "
   ]
  },
  {
   "cell_type": "code",
   "execution_count": 89,
   "metadata": {},
   "outputs": [],
   "source": [
    "train_dataset = RegressionDataset(\n",
    "    torch.from_numpy(X_train).float(), torch.from_numpy(y_train).float()\n",
    ")\n",
    "val_dataset = RegressionDataset(\n",
    "    torch.from_numpy(X_val).float(), torch.from_numpy(y_val).float()\n",
    ")\n",
    "test_dataset = RegressionDataset(\n",
    "    torch.from_numpy(X_test).float(), torch.from_numpy(y_test).float()\n",
    ")"
   ]
  },
  {
   "cell_type": "markdown",
   "metadata": {},
   "source": [
    "#### Setting hyper parameters"
   ]
  },
  {
   "cell_type": "code",
   "execution_count": 90,
   "metadata": {},
   "outputs": [],
   "source": [
    "EPOCHS = 2000\n",
    "BATCH_SIZE = 64\n",
    "LEARNING_RATE = 0.001\n",
    "NUM_FEATURES = len(X.columns)"
   ]
  },
  {
   "cell_type": "code",
   "execution_count": 91,
   "metadata": {},
   "outputs": [],
   "source": [
    "train_loader = DataLoader(dataset=train_dataset, batch_size=BATCH_SIZE,shuffle=True)\n",
    "val_loader = DataLoader(dataset=val_dataset, batch_size=BATCH_SIZE,)\n",
    "test_loader = DataLoader(dataset=test_dataset, batch_size=BATCH_SIZE)"
   ]
  },
  {
   "cell_type": "code",
   "execution_count": 92,
   "metadata": {},
   "outputs": [],
   "source": [
    "class MultipleRegression(nn.Module):\n",
    "    def __init__(self, num_features):\n",
    "        super(MultipleRegression, self).__init__()\n",
    "\n",
    "        self.layer_1 = nn.Linear(num_features, 16)\n",
    "        self.layer_2 = nn.Linear(16, 32)\n",
    "        self.layer_3 = nn.Linear(32, 16)\n",
    "        self.layer_out = nn.Linear(16, 1)\n",
    "\n",
    "        self.relu = nn.ReLU()\n",
    "\n",
    "    def forward(self, inputs):\n",
    "        x = self.relu(self.layer_1(inputs))\n",
    "        x = self.relu(self.layer_2(x))\n",
    "        x = self.relu(self.layer_3(x))\n",
    "        x = self.layer_out(x)\n",
    "        return x\n",
    "\n",
    "    def predict(self, test_inputs):\n",
    "        x = self.relu(self.layer_1(test_inputs))\n",
    "        x = self.relu(self.layer_2(x))\n",
    "        x = self.relu(self.layer_3(x))\n",
    "        x = self.layer_out(x)\n",
    "        return x\n",
    "# torch.cuda.set_device(\"cuda:0\")\n",
    "# print(torch.cuda.get_device_name())"
   ]
  },
  {
   "cell_type": "code",
   "execution_count": 93,
   "metadata": {},
   "outputs": [
    {
     "name": "stdout",
     "output_type": "stream",
     "text": [
      "MultipleRegression(\n",
      "  (layer_1): Linear(in_features=8, out_features=16, bias=True)\n",
      "  (layer_2): Linear(in_features=16, out_features=32, bias=True)\n",
      "  (layer_3): Linear(in_features=32, out_features=16, bias=True)\n",
      "  (layer_out): Linear(in_features=16, out_features=1, bias=True)\n",
      "  (relu): ReLU()\n",
      ")\n"
     ]
    }
   ],
   "source": [
    "# device = torch.device(\"cuda:0\" if torch.cuda.is_available() else \"cpu\")\n",
    "device = \"cpu\"\n",
    "model = MultipleRegression(NUM_FEATURES)\n",
    "model.to(device)\n",
    "print(model)\n",
    "criterion = nn.MSELoss()\n",
    "optimizer = optim.Adam(model.parameters(), lr=LEARNING_RATE)"
   ]
  },
  {
   "cell_type": "code",
   "execution_count": 94,
   "metadata": {},
   "outputs": [],
   "source": [
    "loss_stats = {\n",
    "    'train': [],\n",
    "    \"val\": []\n",
    "}"
   ]
  },
  {
   "cell_type": "code",
   "execution_count": 95,
   "metadata": {},
   "outputs": [
    {
     "name": "stderr",
     "output_type": "stream",
     "text": [
      "  0%|          | 0/2000 [00:00<?, ?it/s]"
     ]
    },
    {
     "name": "stderr",
     "output_type": "stream",
     "text": [
      "  3%|▎         | 67/2000 [00:00<00:14, 135.71it/s]"
     ]
    },
    {
     "name": "stdout",
     "output_type": "stream",
     "text": [
      "Epoch 050: | Train Loss: 125.42182 | Val Loss: 142.73997\n"
     ]
    },
    {
     "name": "stderr",
     "output_type": "stream",
     "text": [
      "  6%|▌         | 122/2000 [00:00<00:14, 128.00it/s]"
     ]
    },
    {
     "name": "stdout",
     "output_type": "stream",
     "text": [
      "Epoch 100: | Train Loss: 44.97812 | Val Loss: 77.90033\n"
     ]
    },
    {
     "name": "stderr",
     "output_type": "stream",
     "text": [
      "  8%|▊         | 167/2000 [00:01<00:13, 138.62it/s]"
     ]
    },
    {
     "name": "stdout",
     "output_type": "stream",
     "text": [
      "Epoch 150: | Train Loss: 35.27962 | Val Loss: 71.95045\n"
     ]
    },
    {
     "name": "stderr",
     "output_type": "stream",
     "text": [
      " 11%|█         | 224/2000 [00:01<00:13, 136.49it/s]"
     ]
    },
    {
     "name": "stdout",
     "output_type": "stream",
     "text": [
      "Epoch 200: | Train Loss: 32.40106 | Val Loss: 68.23838\n"
     ]
    },
    {
     "name": "stderr",
     "output_type": "stream",
     "text": [
      " 13%|█▎        | 267/2000 [00:02<00:12, 139.19it/s]"
     ]
    },
    {
     "name": "stdout",
     "output_type": "stream",
     "text": [
      "Epoch 250: | Train Loss: 37.16948 | Val Loss: 65.28194\n"
     ]
    },
    {
     "name": "stderr",
     "output_type": "stream",
     "text": [
      " 16%|█▋        | 326/2000 [00:02<00:12, 139.32it/s]"
     ]
    },
    {
     "name": "stdout",
     "output_type": "stream",
     "text": [
      "Epoch 300: | Train Loss: 29.99917 | Val Loss: 62.39311\n"
     ]
    },
    {
     "name": "stderr",
     "output_type": "stream",
     "text": [
      " 18%|█▊        | 368/2000 [00:02<00:12, 130.17it/s]"
     ]
    },
    {
     "name": "stdout",
     "output_type": "stream",
     "text": [
      "Epoch 350: | Train Loss: 29.54753 | Val Loss: 60.95986\n"
     ]
    },
    {
     "name": "stderr",
     "output_type": "stream",
     "text": [
      " 21%|██▏       | 427/2000 [00:03<00:11, 139.01it/s]"
     ]
    },
    {
     "name": "stdout",
     "output_type": "stream",
     "text": [
      "Epoch 400: | Train Loss: 28.11809 | Val Loss: 58.31907\n"
     ]
    },
    {
     "name": "stderr",
     "output_type": "stream",
     "text": [
      " 24%|██▎       | 472/2000 [00:03<00:11, 137.29it/s]"
     ]
    },
    {
     "name": "stdout",
     "output_type": "stream",
     "text": [
      "Epoch 450: | Train Loss: 28.50532 | Val Loss: 57.32241\n"
     ]
    },
    {
     "name": "stderr",
     "output_type": "stream",
     "text": [
      " 26%|██▌       | 514/2000 [00:03<00:10, 137.92it/s]"
     ]
    },
    {
     "name": "stdout",
     "output_type": "stream",
     "text": [
      "Epoch 500: | Train Loss: 26.41703 | Val Loss: 56.22422\n"
     ]
    },
    {
     "name": "stderr",
     "output_type": "stream",
     "text": [
      " 29%|██▊       | 571/2000 [00:04<00:10, 138.89it/s]"
     ]
    },
    {
     "name": "stdout",
     "output_type": "stream",
     "text": [
      "Epoch 550: | Train Loss: 26.83699 | Val Loss: 54.73622\n"
     ]
    },
    {
     "name": "stderr",
     "output_type": "stream",
     "text": [
      " 31%|███       | 616/2000 [00:04<00:09, 142.50it/s]"
     ]
    },
    {
     "name": "stdout",
     "output_type": "stream",
     "text": [
      "Epoch 600: | Train Loss: 25.57481 | Val Loss: 53.05321\n"
     ]
    },
    {
     "name": "stderr",
     "output_type": "stream",
     "text": [
      " 34%|███▍      | 676/2000 [00:04<00:09, 140.85it/s]"
     ]
    },
    {
     "name": "stdout",
     "output_type": "stream",
     "text": [
      "Epoch 650: | Train Loss: 26.28542 | Val Loss: 53.03171\n"
     ]
    },
    {
     "name": "stderr",
     "output_type": "stream",
     "text": [
      " 36%|███▌      | 721/2000 [00:05<00:08, 143.86it/s]"
     ]
    },
    {
     "name": "stdout",
     "output_type": "stream",
     "text": [
      "Epoch 700: | Train Loss: 24.77039 | Val Loss: 51.92031\n"
     ]
    },
    {
     "name": "stderr",
     "output_type": "stream",
     "text": [
      " 38%|███▊      | 766/2000 [00:05<00:08, 140.61it/s]"
     ]
    },
    {
     "name": "stdout",
     "output_type": "stream",
     "text": [
      "Epoch 750: | Train Loss: 25.02427 | Val Loss: 51.91622\n"
     ]
    },
    {
     "name": "stderr",
     "output_type": "stream",
     "text": [
      " 41%|████▏     | 826/2000 [00:06<00:08, 140.22it/s]"
     ]
    },
    {
     "name": "stdout",
     "output_type": "stream",
     "text": [
      "Epoch 800: | Train Loss: 23.81315 | Val Loss: 49.41441\n"
     ]
    },
    {
     "name": "stderr",
     "output_type": "stream",
     "text": [
      " 43%|████▎     | 869/2000 [00:06<00:08, 139.66it/s]"
     ]
    },
    {
     "name": "stdout",
     "output_type": "stream",
     "text": [
      "Epoch 850: | Train Loss: 23.81488 | Val Loss: 48.27969\n"
     ]
    },
    {
     "name": "stderr",
     "output_type": "stream",
     "text": [
      " 46%|████▌     | 914/2000 [00:06<00:07, 139.93it/s]"
     ]
    },
    {
     "name": "stdout",
     "output_type": "stream",
     "text": [
      "Epoch 900: | Train Loss: 23.64329 | Val Loss: 47.88400\n"
     ]
    },
    {
     "name": "stderr",
     "output_type": "stream",
     "text": [
      " 49%|████▊     | 974/2000 [00:07<00:07, 136.56it/s]"
     ]
    },
    {
     "name": "stdout",
     "output_type": "stream",
     "text": [
      "Epoch 950: | Train Loss: 23.59658 | Val Loss: 47.50536\n"
     ]
    },
    {
     "name": "stderr",
     "output_type": "stream",
     "text": [
      " 51%|█████     | 1017/2000 [00:07<00:07, 132.23it/s]"
     ]
    },
    {
     "name": "stdout",
     "output_type": "stream",
     "text": [
      "Epoch 1000: | Train Loss: 25.99171 | Val Loss: 45.72821\n"
     ]
    },
    {
     "name": "stderr",
     "output_type": "stream",
     "text": [
      " 54%|█████▍    | 1075/2000 [00:07<00:06, 133.99it/s]"
     ]
    },
    {
     "name": "stdout",
     "output_type": "stream",
     "text": [
      "Epoch 1050: | Train Loss: 21.88162 | Val Loss: 45.62785\n"
     ]
    },
    {
     "name": "stderr",
     "output_type": "stream",
     "text": [
      " 56%|█████▌    | 1119/2000 [00:08<00:06, 140.33it/s]"
     ]
    },
    {
     "name": "stdout",
     "output_type": "stream",
     "text": [
      "Epoch 1100: | Train Loss: 21.77146 | Val Loss: 45.02366\n"
     ]
    },
    {
     "name": "stderr",
     "output_type": "stream",
     "text": [
      " 59%|█████▉    | 1179/2000 [00:08<00:05, 144.16it/s]"
     ]
    },
    {
     "name": "stdout",
     "output_type": "stream",
     "text": [
      "Epoch 1150: | Train Loss: 22.21534 | Val Loss: 43.25261\n"
     ]
    },
    {
     "name": "stderr",
     "output_type": "stream",
     "text": [
      " 61%|██████▏   | 1225/2000 [00:08<00:05, 143.29it/s]"
     ]
    },
    {
     "name": "stdout",
     "output_type": "stream",
     "text": [
      "Epoch 1200: | Train Loss: 21.23239 | Val Loss: 44.76441\n"
     ]
    },
    {
     "name": "stderr",
     "output_type": "stream",
     "text": [
      " 63%|██████▎   | 1269/2000 [00:09<00:05, 130.32it/s]"
     ]
    },
    {
     "name": "stdout",
     "output_type": "stream",
     "text": [
      "Epoch 1250: | Train Loss: 21.52306 | Val Loss: 42.26529\n"
     ]
    },
    {
     "name": "stderr",
     "output_type": "stream",
     "text": [
      " 66%|██████▋   | 1327/2000 [00:09<00:04, 140.88it/s]"
     ]
    },
    {
     "name": "stdout",
     "output_type": "stream",
     "text": [
      "Epoch 1300: | Train Loss: 22.75705 | Val Loss: 41.47627\n"
     ]
    },
    {
     "name": "stderr",
     "output_type": "stream",
     "text": [
      " 69%|██████▊   | 1371/2000 [00:10<00:04, 140.04it/s]"
     ]
    },
    {
     "name": "stdout",
     "output_type": "stream",
     "text": [
      "Epoch 1350: | Train Loss: 20.46806 | Val Loss: 41.90859\n"
     ]
    },
    {
     "name": "stderr",
     "output_type": "stream",
     "text": [
      " 71%|███████   | 1416/2000 [00:10<00:04, 143.16it/s]"
     ]
    },
    {
     "name": "stdout",
     "output_type": "stream",
     "text": [
      "Epoch 1400: | Train Loss: 22.19933 | Val Loss: 41.13247\n"
     ]
    },
    {
     "name": "stderr",
     "output_type": "stream",
     "text": [
      " 74%|███████▍  | 1476/2000 [00:10<00:03, 146.00it/s]"
     ]
    },
    {
     "name": "stdout",
     "output_type": "stream",
     "text": [
      "Epoch 1450: | Train Loss: 21.25756 | Val Loss: 43.94655\n"
     ]
    },
    {
     "name": "stderr",
     "output_type": "stream",
     "text": [
      " 76%|███████▌  | 1521/2000 [00:11<00:03, 145.93it/s]"
     ]
    },
    {
     "name": "stdout",
     "output_type": "stream",
     "text": [
      "Epoch 1500: | Train Loss: 20.76956 | Val Loss: 43.14936\n"
     ]
    },
    {
     "name": "stderr",
     "output_type": "stream",
     "text": [
      " 78%|███████▊  | 1566/2000 [00:11<00:03, 143.60it/s]"
     ]
    },
    {
     "name": "stdout",
     "output_type": "stream",
     "text": [
      "Epoch 1550: | Train Loss: 20.66501 | Val Loss: 40.58694\n"
     ]
    },
    {
     "name": "stderr",
     "output_type": "stream",
     "text": [
      " 81%|████████▏ | 1626/2000 [00:11<00:02, 136.63it/s]"
     ]
    },
    {
     "name": "stdout",
     "output_type": "stream",
     "text": [
      "Epoch 1600: | Train Loss: 20.54851 | Val Loss: 38.20915\n"
     ]
    },
    {
     "name": "stderr",
     "output_type": "stream",
     "text": [
      " 84%|████████▎ | 1671/2000 [00:12<00:02, 141.56it/s]"
     ]
    },
    {
     "name": "stdout",
     "output_type": "stream",
     "text": [
      "Epoch 1650: | Train Loss: 23.10295 | Val Loss: 36.76704\n"
     ]
    },
    {
     "name": "stderr",
     "output_type": "stream",
     "text": [
      " 86%|████████▌ | 1716/2000 [00:12<00:01, 144.40it/s]"
     ]
    },
    {
     "name": "stdout",
     "output_type": "stream",
     "text": [
      "Epoch 1700: | Train Loss: 19.29752 | Val Loss: 38.28372\n"
     ]
    },
    {
     "name": "stderr",
     "output_type": "stream",
     "text": [
      " 89%|████████▉ | 1776/2000 [00:12<00:01, 141.59it/s]"
     ]
    },
    {
     "name": "stdout",
     "output_type": "stream",
     "text": [
      "Epoch 1750: | Train Loss: 18.65945 | Val Loss: 37.40394\n"
     ]
    },
    {
     "name": "stderr",
     "output_type": "stream",
     "text": [
      " 91%|█████████ | 1821/2000 [00:13<00:01, 145.41it/s]"
     ]
    },
    {
     "name": "stdout",
     "output_type": "stream",
     "text": [
      "Epoch 1800: | Train Loss: 19.17653 | Val Loss: 38.46542\n"
     ]
    },
    {
     "name": "stderr",
     "output_type": "stream",
     "text": [
      " 93%|█████████▎| 1865/2000 [00:13<00:00, 137.05it/s]"
     ]
    },
    {
     "name": "stdout",
     "output_type": "stream",
     "text": [
      "Epoch 1850: | Train Loss: 19.00133 | Val Loss: 36.16673\n"
     ]
    },
    {
     "name": "stderr",
     "output_type": "stream",
     "text": [
      " 96%|█████████▌| 1921/2000 [00:13<00:00, 126.78it/s]"
     ]
    },
    {
     "name": "stdout",
     "output_type": "stream",
     "text": [
      "Epoch 1900: | Train Loss: 18.42751 | Val Loss: 35.54984\n"
     ]
    },
    {
     "name": "stderr",
     "output_type": "stream",
     "text": [
      " 98%|█████████▊| 1965/2000 [00:14<00:00, 137.66it/s]"
     ]
    },
    {
     "name": "stdout",
     "output_type": "stream",
     "text": [
      "Epoch 1950: | Train Loss: 18.62849 | Val Loss: 34.65260\n"
     ]
    },
    {
     "name": "stderr",
     "output_type": "stream",
     "text": [
      "100%|██████████| 2000/2000 [00:14<00:00, 137.98it/s]"
     ]
    },
    {
     "name": "stdout",
     "output_type": "stream",
     "text": [
      "Epoch 2000: | Train Loss: 18.02845 | Val Loss: 34.36138\n"
     ]
    },
    {
     "name": "stderr",
     "output_type": "stream",
     "text": [
      "\n"
     ]
    }
   ],
   "source": [
    "for e in tqdm(range(1, EPOCHS + 1)):\n",
    "    # TRAINING\n",
    "    train_epoch_loss = 0\n",
    "    model.train()\n",
    "    for X_train_batch, y_train_batch in train_loader:\n",
    "        X_train_batch, y_train_batch = X_train_batch.to(device), y_train_batch.to(\n",
    "            device\n",
    "        )\n",
    "        optimizer.zero_grad()\n",
    "\n",
    "        y_train_pred = model(X_train_batch)\n",
    "\n",
    "        train_loss = criterion(y_train_pred, y_train_batch.unsqueeze(1))\n",
    "\n",
    "        train_loss.backward()\n",
    "        optimizer.step()\n",
    "\n",
    "        train_epoch_loss += train_loss.item()\n",
    "\n",
    "    # VALIDATION\n",
    "    with torch.no_grad():\n",
    "        val_epoch_loss = 0\n",
    "\n",
    "        model.eval()\n",
    "        for X_val_batch, y_val_batch in val_loader:\n",
    "            X_val_batch, y_val_batch = X_val_batch.to(device), y_val_batch.to(device)\n",
    "\n",
    "            y_val_pred = model(X_val_batch)\n",
    "\n",
    "            val_loss = criterion(y_val_pred, y_val_batch.unsqueeze(1))\n",
    "\n",
    "            val_epoch_loss += val_loss.item()\n",
    "        # print(torch.cuda.get_device_name())\n",
    "\n",
    "        loss_stats[\"train\"].append(train_epoch_loss / len(train_loader))\n",
    "        loss_stats[\"val\"].append(val_epoch_loss / len(val_loader))\n",
    "\n",
    "    if e % 50 == 0:\n",
    "        print(\n",
    "            f\"Epoch {e+0:03}: | Train Loss: {train_epoch_loss/len(train_loader):.5f} | Val Loss: {val_epoch_loss/len(val_loader):.5f}\"\n",
    "        )\n",
    "# torch.cuda.set_device(\"cuda:0\")\n",
    "# print(torch.cuda.get_device_name())"
   ]
  },
  {
   "cell_type": "code",
   "execution_count": 96,
   "metadata": {},
   "outputs": [
    {
     "name": "stdout",
     "output_type": "stream",
     "text": [
      "2000\n",
      "2000\n"
     ]
    }
   ],
   "source": [
    "print(len(loss_stats['train']))\n",
    "print(len(loss_stats['val']))"
   ]
  },
  {
   "cell_type": "code",
   "execution_count": 97,
   "metadata": {},
   "outputs": [
    {
     "data": {
      "text/plain": [
       "Text(0.5, 1.0, 'Train-Val Loss/Epoch')"
      ]
     },
     "execution_count": 97,
     "metadata": {},
     "output_type": "execute_result"
    },
    {
     "data": {
      "image/png": "[encoded data removed]",
      "text/plain": [
       "<Figure size 1500x800 with 1 Axes>"
      ]
     },
     "metadata": {},
     "output_type": "display_data"
    }
   ],
   "source": [
    "train_val_loss_df = (\n",
    "    pd.DataFrame.from_dict(loss_stats)\n",
    "    .reset_index()\n",
    "    .melt(id_vars=[\"index\"])\n",
    "    .rename(columns={\"index\": \"epochs\"})\n",
    ")\n",
    "plt.figure(figsize=(15, 8))\n",
    "sns.lineplot(data=train_val_loss_df, x=\"epochs\", y=\"value\", hue=\"variable\").set_title(\n",
    "    \"Train-Val Loss/Epoch\"\n",
    ")"
   ]
  },
  {
   "cell_type": "code",
   "execution_count": 111,
   "metadata": {},
   "outputs": [
    {
     "name": "stderr",
     "output_type": "stream",
     "text": [
      "100%|██████████| 3/3 [00:00<00:00, 11737.79it/s]"
     ]
    },
    {
     "name": "stdout",
     "output_type": "stream",
     "text": [
      "[113.24677, 113.11915, 113.32054, 114.13026, 114.42866, 114.06608, 114.53108, 116.47425, 117.808365, 118.00374, 119.38576, 119.92911, 119.98274, 120.61176, 119.51406, 117.70791, 116.40805, 117.4081, 115.841965, 113.87611, 113.69896, 112.64685, 110.90941, 109.09929, 104.4231, 104.305374, 105.989136, 106.42914, 107.18071, 108.149925, 111.96265, 113.70907, 114.899185, 116.17876, 116.52315, 118.54576, 121.353195, 124.28742, 127.54578, 128.84607, 130.09842, 131.26355, 132.50621, 133.3661, 132.93867, 132.5648, 132.64377, 130.98796, 127.76388, 123.98093, 122.96663, 119.50451, 117.256, 111.95178, 108.05526, 105.729324, 105.02716, 104.36597, 104.136284, 103.76453, 103.99631, 104.31542, 105.54114, 105.614685, 104.087616, 103.70842, 102.20178, 102.73461, 101.683685, 99.65311, 97.85205, 100.81469, 101.170204, 102.551956, 102.63201, 102.386925, 102.25863, 101.813324, 100.666855, 99.64548, 99.57376, 98.41205, 99.71945, 99.07537, 99.07505, 97.768364, 98.46212, 96.64262, 96.188034, 95.24391, 95.56937, 97.13167, 98.66291, 98.80287, 99.27707, 100.641754, 100.66164, 102.38724, 102.09083, 103.24975, 102.82077, 104.04362, 103.86569, 102.47075, 101.67932, 100.63833, 99.82168, 100.66551, 101.562485, 103.38678, 104.954834, 107.09001, 106.5208, 107.317566, 107.55643, 107.496765, 107.04607, 105.76779, 105.8429, 105.81995, 104.94564, 103.86483, 104.115845, 103.323074, 102.795, 102.20382, 105.27005, 107.94275, 110.96733, 111.77159, 113.66368, 115.607544, 115.669266, 116.595764, 116.591736, 116.2638, 115.95396, 116.168304, 117.18407, 116.94223, 116.878365, 115.95594, 116.79958, 117.008644, 116.04075, 114.91573, 115.845856, 115.1844, 116.104065, 116.58704, 118.36982, 118.532166, 119.62517, 121.9276, 121.24165, 121.485664, 121.16803, 120.54624, 123.73913, 126.34862, 136.01843, 144.0235, 146.66699, 148.09628, 150.5459, 150.77257, 154.14914, 153.91885]\n",
      "[112.050003, 113.0, 114.099998, 114.550003, 114.300003, 114.699997, 117.25, 119.349998, 118.599998, 121.5, 119.849998, 117.599998, 118.050003, 116.5, 115.25, 114.449997, 117.949997, 114.199997, 111.099998, 113.050003, 112.199997, 110.099998, 107.449997, 100.0, 104.650002, 109.25, 108.75, 108.849998, 109.599998, 116.699997, 116.300003, 114.550003, 115.5, 115.75, 119.599998, 123.150002, 125.449997, 125.349998, 126.849998, 127.900002, 128.25, 130.5, 130.800003, 130.0, 129.199997, 128.75, 127.150002, 123.349998, 120.449997, 123.150002, 118.25, 116.599998, 107.550003, 105.849998, 105.849998, 108.150002, 107.099998, 107.050003, 105.900002, 106.550003, 106.699997, 108.099998, 106.099998, 104.25, 103.599998, 100.849998, 101.599998, 99.949997, 96.900002, 97.300003, 102.57, 101.449997, 102.980003, 102.300003, 101.449997, 102.150002, 100.669998, 98.699997, 98.220001, 98.57, 97.790001, 100.279999, 97.190002, 98.07, 98.260002, 98.68, 96.07, 96.059998, 94.709999, 96.5, 98.440002, 99.360001, 98.370003, 99.080002, 100.57, 100.690002, 100.860001, 100.480003, 102.389999, 101.150002, 101.230003, 101.07, 98.489998, 99.230003, 99.120003, 98.860001, 99.730003, 101.389999, 104.300003, 105.150002, 107.550003, 104.650002, 106.900002, 105.75, 105.699997, 105.0, 102.099998, 104.400002, 104.300003, 102.550003, 101.550003, 103.599998, 102.900002, 102.25, 102.75, 106.949997, 111.150002, 113.199997, 111.599998, 113.900002, 114.25, 113.699997, 115.099998, 113.449997, 112.699997, 113.349998, 113.349998, 115.300003, 114.199997, 115.150002, 114.5, 117.050003, 115.650002, 115.199997, 113.849998, 116.0, 115.25, 115.900002, 116.0, 119.400002, 118.050003, 120.199997, 122.5, 119.75, 119.650002, 120.0, 118.150002, 126.099998, 127.800003, 151.149994, 154.0, 148.149994, 146.699997, 151.899994, 148.25, 159.0, 152.850006, 142.800003]\n",
      "The average deviation in error is: 2.615342276695615\n"
     ]
    },
    {
     "name": "stderr",
     "output_type": "stream",
     "text": [
      "\n"
     ]
    },
    {
     "data": {
      "text/plain": [
       "[Text(0.5, 1.0, 'Deviation of Error')]"
      ]
     },
     "execution_count": 111,
     "metadata": {},
     "output_type": "execute_result"
    },
    {
     "data": {
      "image/png": "[encoded data removed]",
      "text/plain": [
       "<Figure size 640x480 with 1 Axes>"
      ]
     },
     "metadata": {},
     "output_type": "display_data"
    }
   ],
   "source": [
    "y_pred_list = []\n",
    "with torch.no_grad():\n",
    "    model.eval()\n",
    "    for X_batch, _ in test_loader:\n",
    "        X_batch = X_batch.to(device)\n",
    "        y_test_pred = model(X_batch)\n",
    "        y_pred_list.append(y_test_pred.cpu().numpy())\n",
    "        y_pred_list = [a for a in y_pred_list]\n",
    "        \n",
    "y_pred = []\n",
    "for i in tqdm(range(len(y_pred_list))):\n",
    "    for j in range(len(y_pred_list[i])):\n",
    "        for k in range(len(y_pred_list[i][j])):\n",
    "            y_pred.append(y_pred_list[i][j][k])\n",
    "\n",
    "print(y_pred)  \n",
    "print(y_test.tolist())\n",
    "y_pred_np = np.array(y_pred)\n",
    "difference = np.subtract(y_pred_np, y_test)\n",
    "difference = abs(difference)\n",
    "mean_difference = np.mean(difference)\n",
    "print(f\"The average deviation in error is: {mean_difference}\")\n",
    "sns.lineplot(difference).set(title=\"Deviation of Error\")"
   ]
  },
  {
   "cell_type": "code",
   "execution_count": 112,
   "metadata": {},
   "outputs": [
    {
     "name": "stdout",
     "output_type": "stream",
     "text": [
      "Mean Squared Error : 15.061378406149933\n",
      "R^2 : 0.9073104069023548\n",
      "Accuracy (using MSE): 84.93862159385007%\n",
      "Mean absolute percentage error: 99.97737264049515%\n"
     ]
    }
   ],
   "source": [
    "mse = mean_squared_error(y_test, y_pred)\n",
    "r_square = r2_score(y_test, y_pred)\n",
    "mean_abs_err = mean_absolute_percentage_error(y_test, y_pred)\n",
    "print(\"Mean Squared Error :\",mse)\n",
    "print(\"R^2 :\",r_square)\n",
    "print(f\"Accuracy (using MSE): {(100 - mse)}%\")\n",
    "print(f\"Mean absolute percentage error: {100 - mean_abs_err}%\")"
   ]
  },
  {
   "cell_type": "markdown",
   "metadata": {},
   "source": [
    "#### Visualising the data"
   ]
  },
  {
   "cell_type": "code",
   "execution_count": 113,
   "metadata": {},
   "outputs": [],
   "source": [
    "import plotly as py\n",
    "import plotly.io as pio    \n",
    "import plotly.graph_objects as go\n",
    "from plotly.subplots import make_subplots\n",
    "from plotly.offline import download_plotlyjs, init_notebook_mode, plot, iplot"
   ]
  },
  {
   "cell_type": "code",
   "execution_count": 114,
   "metadata": {},
   "outputs": [
    {
     "data": {
      "application/vnd.plotly.v1+json": {
       "config": {
        "plotlyServerURL": "https://plot.ly"
       },
       "data": [
        {
         "marker": {
          "color": "LightSkyBlue"
         },
         "name": "Truth",
         "type": "scatter",
         "x": [
          721,
          722,
          723,
          724,
          725,
          726,
          727,
          728,
          729,
          730,
          731,
          732,
          733,
          734,
          735,
          736,
          737,
          738,
          739,
          740,
          741,
          742,
          743,
          744,
          745,
          746,
          747,
          748,
          749,
          750,
          751,
          752,
          753,
          754,
          755,
          756,
          757,
          758,
          759,
          760,
          761,
          762,
          763,
          764,
          765,
          766,
          767,
          768,
          769,
          770,
          771,
          772,
          773,
          774,
          775,
          776,
          777,
          778,
          779,
          780,
          781,
          782,
          783,
          784,
          785,
          786,
          787,
          788,
          789,
          790,
          791,
          792,
          793,
          794,
          795,
          796,
          797,
          798,
          799,
          800,
          801,
          802,
          803,
          804,
          805,
          806,
          807,
          808,
          809,
          810,
          811,
          812,
          813,
          814,
          815,
          816,
          817,
          818,
          819,
          820,
          821,
          822,
          823,
          824,
          825,
          826,
          827,
          828,
          829,
          830,
          831,
          832,
          833,
          834,
          835,
          836,
          837,
          838,
          839,
          840,
          841,
          842,
          843,
          844,
          845,
          846,
          847,
          848,
          849,
          850,
          851,
          852,
          853,
          854,
          855,
          856,
          857,
          858,
          859,
          860,
          861,
          862,
          863,
          864,
          865,
          866,
          867,
          868,
          869,
          870,
          871,
          872,
          873,
          874,
          875,
          876,
          877,
          878,
          879,
          880,
          881,
          882,
          883,
          884,
          885,
          886,
          887,
          888
         ],
         "xaxis": "x",
         "y": [
          29.049999,
          27.75,
          28.1,
          24.450001,
          26,
          23.65,
          23.15,
          22.299999,
          21.25,
          22.799999,
          20.1,
          18.65,
          20.049999,
          20.200001,
          20.9,
          20.200001,
          21.299999,
          21.65,
          21.6,
          23.299999,
          23.9,
          24.75,
          25.200001,
          25.75,
          26.450001,
          27.4,
          27.15,
          25.5,
          25.5,
          26.15,
          25.65,
          25.25,
          25,
          25.549999,
          26.049999,
          24.5,
          24,
          23.85,
          24.25,
          23.799999,
          23.799999,
          23.799999,
          25.950001,
          25.75,
          25.75,
          26,
          25.25,
          25.1,
          25.35,
          24.549999,
          24.65,
          25.4,
          25.9,
          26.049999,
          27.75,
          28.85,
          28.700001,
          28.049999,
          31.1,
          32,
          30.6,
          30.549999,
          29.799999,
          29.549999,
          29.049999,
          28.85,
          28.700001,
          31.9,
          31.799999,
          32.900002,
          32.099998,
          33.150002,
          33.200001,
          32.049999,
          31.700001,
          31.6,
          32.700001,
          37.099998,
          36,
          39.799999,
          40.099998,
          38.950001,
          39.450001,
          36.900002,
          36.450001,
          36.950001,
          39.299999,
          37.799999,
          37.700001,
          36.799999,
          37.049999,
          36.150002,
          35.200001,
          37.400002,
          36.549999,
          35.799999,
          35.450001,
          36,
          36.099998,
          36.799999,
          37,
          36.900002,
          36.950001,
          38.25,
          37.75,
          38.700001,
          37.849998,
          37.349998,
          39.049999,
          40,
          40.700001,
          40,
          38.799999,
          38.049999,
          38.599998,
          38,
          38.049999,
          36.400002,
          36.700001,
          37.200001,
          37.150002,
          36.349998,
          35.950001,
          35.200001,
          34.549999,
          35.349998,
          37.349998,
          37.200001,
          36.900002,
          36.349998,
          37.25,
          36.5,
          35,
          33.849998,
          33.900002,
          32.599998,
          33.849998,
          34.200001,
          33.799999,
          33.25,
          33.299999,
          33.200001,
          33.549999,
          33.150002,
          32.900002,
          32.950001,
          32.700001,
          32.25,
          32.099998,
          31.65,
          32,
          32.799999,
          36.400002,
          35.200001,
          34,
          34.700001,
          34.700001,
          34.650002,
          33.650002,
          33,
          33,
          32.5,
          33.099998,
          33.049999,
          34.450001,
          34.25,
          34.900002,
          35.200001,
          34.549999,
          35.049999,
          34.450001,
          34.650002,
          36.700001,
          38.049999,
          37.099998,
          36.900002,
          36.700001,
          38.650002,
          39.349998,
          40,
          41.450001,
          41.049999,
          43.549999,
          43.5,
          44.5,
          45,
          43.200001,
          46.549999,
          44.650002,
          44.349998,
          53.099998,
          51.349998,
          58.200001,
          63.299999,
          63.849998,
          57.5,
          58.299999,
          61.25,
          60.400002,
          60.450001,
          62.650002,
          62.299999,
          61.150002,
          62.049999,
          62.349998,
          61.75,
          62,
          66.699997,
          67.550003,
          64.25,
          64.75,
          65.699997,
          65.449997,
          63.700001,
          59.950001,
          62.900002,
          61.700001,
          60.049999,
          57.25,
          54.75,
          58.599998,
          56.400002,
          59.950001,
          64.199997,
          64.300003,
          62.900002,
          69.150002,
          70.949997,
          76.550003,
          74.550003,
          73.900002,
          74.099998,
          72.699997,
          75.300003,
          76.400002,
          78.550003,
          88.300003,
          85.900002,
          98.349998,
          116.400002,
          128,
          140.800003,
          149.800003,
          157.25,
          150.5,
          143,
          135.850006,
          142.199997,
          140.649994,
          137.699997,
          134.949997,
          133.5,
          134.350006,
          131.850006,
          125.300003,
          119.849998,
          125.800003,
          124.25,
          130.050003,
          123.800003,
          122.349998,
          123.050003,
          121.550003,
          119.5,
          125.449997,
          131.699997,
          138.25,
          145.149994,
          142.75,
          143.649994,
          131.300003,
          139.300003,
          137.100006,
          149.300003,
          139.899994,
          140.300003,
          136.699997,
          138.25,
          138.600006,
          152.449997,
          157.949997,
          158.149994,
          154.850006,
          154.649994,
          151.800003,
          151.300003,
          156.399994,
          172,
          189.199997,
          185.649994,
          175.75,
          171.050003,
          170.149994,
          178.800003,
          174.899994,
          171,
          168.949997,
          170.699997,
          169.199997,
          168.75,
          171.449997,
          173.899994,
          170.149994,
          162.5,
          162.649994,
          161.850006,
          159.050003,
          161.25,
          157.899994,
          159.5,
          160.050003,
          169.350006,
          166.949997,
          162.550003,
          157.149994,
          152.75,
          143.899994,
          149.199997,
          152.600006,
          152.5,
          149.100006,
          154.149994,
          148.25,
          146.25,
          144.149994,
          142.949997,
          140.800003,
          147.75,
          145.25,
          148.149994,
          145.899994,
          146.199997,
          145,
          144.600006,
          143.149994,
          143.350006,
          142.350006,
          140.25,
          136.800003,
          138,
          144.399994,
          148.550003,
          152.75,
          149.149994,
          152.649994,
          153.699997,
          153,
          149.449997,
          146.050003,
          144.050003,
          144.5,
          137.850006,
          129.100006,
          128.800003,
          133.350006,
          132.300003,
          135.300003,
          130.300003,
          128.5,
          119.699997,
          110.599998,
          114.349998,
          116.949997,
          115.199997,
          115.699997,
          119.849998,
          119,
          117.25,
          119.449997,
          119.050003,
          119.150002,
          117.449997,
          116.949997,
          115.949997,
          124.599998,
          126.099998,
          124.5,
          117.050003,
          116.800003,
          110.849998,
          109.099998,
          111.400002,
          113.099998,
          110.300003,
          109.849998,
          109.900002,
          112.849998,
          110,
          109.849998,
          121.449997,
          119.949997,
          124.949997,
          126.900002,
          127,
          125.599998,
          126.25,
          125.949997,
          132.25,
          149.300003,
          148.949997,
          143,
          136.600006,
          129.649994,
          130,
          136.25,
          134.399994,
          129,
          126.949997,
          128.449997,
          128.899994,
          127.849998,
          130.300003,
          130.600006,
          133.149994,
          130.100006,
          128.050003,
          127.099998,
          125.099998,
          125,
          121.449997,
          118.050003,
          115.550003,
          119.949997,
          119.400002,
          120.550003,
          115.900002,
          110.699997,
          111.25,
          115.199997,
          118.150002,
          117.650002,
          114.349998,
          125.949997,
          126.050003,
          124.25,
          131,
          129.699997,
          126.849998,
          126.5,
          123.900002,
          118.75,
          112.25,
          115.300003,
          118.050003,
          119.75,
          117.650002,
          116.949997,
          124.449997,
          125.849998,
          122.849998,
          124.650002,
          127.599998,
          133.350006,
          134.800003,
          131.850006,
          131.449997,
          131.75,
          130.199997,
          133.949997,
          136,
          136.600006,
          137.449997,
          131.100006,
          129.600006,
          133.850006,
          131.350006,
          120.75,
          124.550003,
          122.099998,
          123.800003,
          123.599998,
          126.599998,
          127.599998,
          129.5,
          137.5,
          141.399994,
          137.199997,
          139.350006,
          142.199997,
          138.850006,
          131.649994,
          129.600006,
          125.449997,
          123.050003,
          117.25,
          115.050003,
          116,
          105.699997,
          113.5,
          117.599998,
          119.800003,
          123.550003,
          121,
          124.599998,
          126.599998,
          123.25,
          122.599998,
          123.550003,
          119.599998,
          114.349998,
          115.199997,
          117.5,
          117,
          118.150002,
          118.150002,
          117.349998,
          115.550003,
          113.5,
          112.599998,
          111.400002,
          113.650002,
          116.699997,
          119.300003,
          122.650002,
          124.800003,
          121.400002,
          122.550003,
          124.400002,
          120.800003,
          121.25,
          121.150002,
          124.150002,
          121.099998,
          121.75,
          117.050003,
          113.849998,
          114.800003,
          114,
          113.949997,
          113.300003,
          109.949997,
          109.949997,
          104.699997,
          94.449997,
          93.550003,
          94.900002,
          92.150002,
          92.099998,
          91.5,
          100.400002,
          100.599998,
          96.900002,
          101.699997,
          96.400002,
          97.300003,
          94.5,
          96.449997,
          97.949997,
          102.900002,
          105.199997,
          103.699997,
          106.400002,
          106.650002,
          106.25,
          103.949997,
          104.300003,
          102.949997,
          101.800003,
          96.900002,
          96.199997,
          97.25,
          91.949997,
          93.050003,
          84.550003,
          90.599998,
          83.949997,
          85.25,
          85.349998,
          87.199997,
          90.150002,
          89.199997,
          87.150002,
          88.400002,
          87.300003,
          86.800003,
          88,
          91.449997,
          90.25,
          91.199997,
          90,
          91.099998,
          89.25,
          87.599998,
          92.400002,
          93.150002,
          94.150002,
          94.949997,
          95.75,
          94.900002,
          98.650002,
          99.199997,
          99.75,
          103.050003,
          104.650002,
          104.650002,
          104.599998,
          104.099998,
          104.150002,
          111.050003,
          112.699997,
          111.75,
          112.800003,
          113.900002,
          115.25,
          115.5,
          112.800003,
          110.75,
          114.349998,
          116.849998,
          114.75,
          117.849998,
          118.900002,
          118.699997,
          117,
          115.449997,
          116.699997,
          118,
          118.650002,
          117.849998,
          119.300003,
          120.050003,
          122.599998,
          122.25,
          121.900002,
          117.199997,
          114.949997,
          116.449997,
          114.949997,
          116.650002,
          113.5,
          105.900002,
          104.150002,
          100.650002,
          103.050003,
          106.900002,
          104.550003,
          108.150002,
          111.300003,
          111.300003,
          110.550003,
          107.75,
          109.050003,
          109.050003,
          108,
          107.25,
          106.949997,
          105.75,
          106.699997,
          104.300003,
          105,
          106.449997,
          108.25,
          104.699997,
          103.050003,
          104.150002,
          105.550003,
          104.900002,
          108,
          113,
          113.150002,
          110.800003,
          113.699997,
          116.550003,
          119.150002,
          116.900002,
          112.400002,
          109.599998,
          109.25,
          112.050003,
          113,
          114.099998,
          114.550003,
          114.300003,
          114.699997,
          117.25,
          119.349998,
          118.599998,
          121.5,
          119.849998,
          117.599998,
          118.050003,
          116.5,
          115.25,
          114.449997,
          117.949997,
          114.199997,
          111.099998,
          113.050003,
          112.199997,
          110.099998,
          107.449997,
          100,
          104.650002,
          109.25,
          108.75,
          108.849998,
          109.599998,
          116.699997,
          116.300003,
          114.550003,
          115.5,
          115.75,
          119.599998,
          123.150002,
          125.449997,
          125.349998,
          126.849998,
          127.900002,
          128.25,
          130.5,
          130.800003,
          130,
          129.199997,
          128.75,
          127.150002,
          123.349998,
          120.449997,
          123.150002,
          118.25,
          116.599998,
          107.550003,
          105.849998,
          105.849998,
          108.150002,
          107.099998,
          107.050003,
          105.900002,
          106.550003,
          106.699997,
          108.099998,
          106.099998,
          104.25,
          103.599998,
          100.849998,
          101.599998,
          99.949997,
          96.900002,
          97.300003,
          102.57,
          101.449997,
          102.980003,
          102.300003,
          101.449997,
          102.150002,
          100.669998,
          98.699997,
          98.220001,
          98.57,
          97.790001,
          100.279999,
          97.190002,
          98.07,
          98.260002,
          98.68,
          96.07,
          96.059998,
          94.709999,
          96.5,
          98.440002,
          99.360001,
          98.370003,
          99.080002,
          100.57,
          100.690002,
          100.860001,
          100.480003,
          102.389999,
          101.150002,
          101.230003,
          101.07,
          98.489998,
          99.230003,
          99.120003,
          98.860001,
          99.730003,
          101.389999,
          104.300003,
          105.150002,
          107.550003,
          104.650002,
          106.900002,
          105.75,
          105.699997,
          105,
          102.099998,
          104.400002,
          104.300003,
          102.550003,
          101.550003,
          103.599998,
          102.900002,
          102.25,
          102.75,
          106.949997,
          111.150002,
          113.199997,
          111.599998,
          113.900002,
          114.25,
          113.699997,
          115.099998,
          113.449997,
          112.699997,
          113.349998,
          113.349998,
          115.300003,
          114.199997,
          115.150002,
          114.5,
          117.050003,
          115.650002,
          115.199997,
          113.849998,
          116,
          115.25,
          115.900002,
          116,
          119.400002,
          118.050003,
          120.199997,
          122.5,
          119.75,
          119.650002,
          120,
          118.150002,
          126.099998,
          127.800003,
          151.149994,
          154,
          148.149994,
          146.699997,
          151.899994,
          148.25,
          159,
          152.850006,
          142.800003
         ],
         "yaxis": "y"
        },
        {
         "marker": {
          "color": "MediumPurple"
         },
         "name": "Prediction",
         "type": "scatter",
         "x": [],
         "xaxis": "x",
         "y": [
          113.24677276611328,
          113.11914825439453,
          113.32054138183594,
          114.13025665283203,
          114.42865753173828,
          114.06607818603516,
          114.53108215332031,
          116.47425079345703,
          117.80836486816406,
          118.00373840332031,
          119.38575744628906,
          119.92910766601562,
          119.98274230957031,
          120.61176300048828,
          119.5140609741211,
          117.7079086303711,
          116.40805053710938,
          117.40809631347656,
          115.84196472167969,
          113.87610626220703,
          113.69895935058594,
          112.6468505859375,
          110.90940856933594,
          109.09928894042969,
          104.42310333251953,
          104.30537414550781,
          105.9891357421875,
          106.42913818359375,
          107.18070983886719,
          108.1499252319336,
          111.962646484375,
          113.70906829833984,
          114.89918518066406,
          116.17875671386719,
          116.52314758300781,
          118.54576110839844,
          121.35319519042969,
          124.28742218017578,
          127.5457763671875,
          128.8460693359375,
          130.09841918945312,
          131.2635498046875,
          132.50621032714844,
          133.36610412597656,
          132.9386749267578,
          132.56480407714844,
          132.64376831054688,
          130.9879608154297,
          127.76387786865234,
          123.98092651367188,
          122.96662902832031,
          119.50450897216797,
          117.25599670410156,
          111.9517822265625,
          108.05525970458984,
          105.72932434082031,
          105.02716064453125,
          104.365966796875,
          104.13628387451172,
          103.7645263671875,
          103.99630737304688,
          104.31542205810547,
          105.5411376953125,
          105.61468505859375,
          104.08761596679688,
          103.70841979980469,
          102.2017822265625,
          102.73461151123047,
          101.68368530273438,
          99.65310668945312,
          97.85205078125,
          100.81468963623047,
          101.17020416259766,
          102.55195617675781,
          102.63201141357422,
          102.38692474365234,
          102.25862884521484,
          101.81332397460938,
          100.66685485839844,
          99.64547729492188,
          99.57376098632812,
          98.41204833984375,
          99.71945190429688,
          99.07537078857422,
          99.0750503540039,
          97.76836395263672,
          98.46212005615234,
          96.64261627197266,
          96.18803405761719,
          95.24391174316406,
          95.56936645507812,
          97.13166809082031,
          98.66291046142578,
          98.80287170410156,
          99.27706909179688,
          100.64175415039062,
          100.66163635253906,
          102.38723754882812,
          102.09082794189453,
          103.24974822998047,
          102.82077026367188,
          104.04361724853516,
          103.86569213867188,
          102.47074890136719,
          101.6793212890625,
          100.6383285522461,
          99.8216781616211,
          100.66551208496094,
          101.56248474121094,
          103.38677978515625,
          104.954833984375,
          107.09001159667969,
          106.52079772949219,
          107.31756591796875,
          107.55642700195312,
          107.49676513671875,
          107.04606628417969,
          105.76779174804688,
          105.84290313720703,
          105.8199462890625,
          104.94564056396484,
          103.86483001708984,
          104.1158447265625,
          103.32307434082031,
          102.79499816894531,
          102.20381927490234,
          105.27005004882812,
          107.9427490234375,
          110.96733093261719,
          111.77159118652344,
          113.66368103027344,
          115.6075439453125,
          115.66926574707031,
          116.59576416015625,
          116.59173583984375,
          116.26380157470703,
          115.9539566040039,
          116.16830444335938,
          117.18406677246094,
          116.94223022460938,
          116.87836456298828,
          115.95594024658203,
          116.7995834350586,
          117.0086441040039,
          116.0407485961914,
          114.91573333740234,
          115.84585571289062,
          115.18440246582031,
          116.10406494140625,
          116.58704376220703,
          118.36981964111328,
          118.53216552734375,
          119.62516784667969,
          121.92759704589844,
          121.24165344238281,
          121.48566436767578,
          121.16802978515625,
          120.5462417602539,
          123.73912811279297,
          126.34861755371094,
          136.0184326171875,
          144.02349853515625,
          146.6669921875,
          148.09628295898438,
          150.5458984375,
          150.77256774902344,
          154.14913940429688,
          153.91885375976562
         ],
         "yaxis": "y"
        },
        {
         "marker": {
          "color": "MediumPurple"
         },
         "name": "Prediction",
         "type": "scatter",
         "x": [],
         "xaxis": "x2",
         "y": [
          113.24677276611328,
          113.11914825439453,
          113.32054138183594,
          114.13025665283203,
          114.42865753173828,
          114.06607818603516,
          114.53108215332031,
          116.47425079345703,
          117.80836486816406,
          118.00373840332031,
          119.38575744628906,
          119.92910766601562,
          119.98274230957031,
          120.61176300048828,
          119.5140609741211,
          117.7079086303711,
          116.40805053710938,
          117.40809631347656,
          115.84196472167969,
          113.87610626220703,
          113.69895935058594,
          112.6468505859375,
          110.90940856933594,
          109.09928894042969,
          104.42310333251953,
          104.30537414550781,
          105.9891357421875,
          106.42913818359375,
          107.18070983886719,
          108.1499252319336,
          111.962646484375,
          113.70906829833984,
          114.89918518066406,
          116.17875671386719,
          116.52314758300781,
          118.54576110839844,
          121.35319519042969,
          124.28742218017578,
          127.5457763671875,
          128.8460693359375,
          130.09841918945312,
          131.2635498046875,
          132.50621032714844,
          133.36610412597656,
          132.9386749267578,
          132.56480407714844,
          132.64376831054688,
          130.9879608154297,
          127.76387786865234,
          123.98092651367188,
          122.96662902832031,
          119.50450897216797,
          117.25599670410156,
          111.9517822265625,
          108.05525970458984,
          105.72932434082031,
          105.02716064453125,
          104.365966796875,
          104.13628387451172,
          103.7645263671875,
          103.99630737304688,
          104.31542205810547,
          105.5411376953125,
          105.61468505859375,
          104.08761596679688,
          103.70841979980469,
          102.2017822265625,
          102.73461151123047,
          101.68368530273438,
          99.65310668945312,
          97.85205078125,
          100.81468963623047,
          101.17020416259766,
          102.55195617675781,
          102.63201141357422,
          102.38692474365234,
          102.25862884521484,
          101.81332397460938,
          100.66685485839844,
          99.64547729492188,
          99.57376098632812,
          98.41204833984375,
          99.71945190429688,
          99.07537078857422,
          99.0750503540039,
          97.76836395263672,
          98.46212005615234,
          96.64261627197266,
          96.18803405761719,
          95.24391174316406,
          95.56936645507812,
          97.13166809082031,
          98.66291046142578,
          98.80287170410156,
          99.27706909179688,
          100.64175415039062,
          100.66163635253906,
          102.38723754882812,
          102.09082794189453,
          103.24974822998047,
          102.82077026367188,
          104.04361724853516,
          103.86569213867188,
          102.47074890136719,
          101.6793212890625,
          100.6383285522461,
          99.8216781616211,
          100.66551208496094,
          101.56248474121094,
          103.38677978515625,
          104.954833984375,
          107.09001159667969,
          106.52079772949219,
          107.31756591796875,
          107.55642700195312,
          107.49676513671875,
          107.04606628417969,
          105.76779174804688,
          105.84290313720703,
          105.8199462890625,
          104.94564056396484,
          103.86483001708984,
          104.1158447265625,
          103.32307434082031,
          102.79499816894531,
          102.20381927490234,
          105.27005004882812,
          107.9427490234375,
          110.96733093261719,
          111.77159118652344,
          113.66368103027344,
          115.6075439453125,
          115.66926574707031,
          116.59576416015625,
          116.59173583984375,
          116.26380157470703,
          115.9539566040039,
          116.16830444335938,
          117.18406677246094,
          116.94223022460938,
          116.87836456298828,
          115.95594024658203,
          116.7995834350586,
          117.0086441040039,
          116.0407485961914,
          114.91573333740234,
          115.84585571289062,
          115.18440246582031,
          116.10406494140625,
          116.58704376220703,
          118.36981964111328,
          118.53216552734375,
          119.62516784667969,
          121.92759704589844,
          121.24165344238281,
          121.48566436767578,
          121.16802978515625,
          120.5462417602539,
          123.73912811279297,
          126.34861755371094,
          136.0184326171875,
          144.02349853515625,
          146.6669921875,
          148.09628295898438,
          150.5458984375,
          150.77256774902344,
          154.14913940429688,
          153.91885375976562
         ],
         "yaxis": "y2"
        },
        {
         "marker": {
          "color": "LightSkyBlue"
         },
         "name": "Truth",
         "showlegend": false,
         "type": "scatter",
         "x": [],
         "xaxis": "x3",
         "y": [
          112.050003,
          113,
          114.099998,
          114.550003,
          114.300003,
          114.699997,
          117.25,
          119.349998,
          118.599998,
          121.5,
          119.849998,
          117.599998,
          118.050003,
          116.5,
          115.25,
          114.449997,
          117.949997,
          114.199997,
          111.099998,
          113.050003,
          112.199997,
          110.099998,
          107.449997,
          100,
          104.650002,
          109.25,
          108.75,
          108.849998,
          109.599998,
          116.699997,
          116.300003,
          114.550003,
          115.5,
          115.75,
          119.599998,
          123.150002,
          125.449997,
          125.349998,
          126.849998,
          127.900002,
          128.25,
          130.5,
          130.800003,
          130,
          129.199997,
          128.75,
          127.150002,
          123.349998,
          120.449997,
          123.150002,
          118.25,
          116.599998,
          107.550003,
          105.849998,
          105.849998,
          108.150002,
          107.099998,
          107.050003,
          105.900002,
          106.550003,
          106.699997,
          108.099998,
          106.099998,
          104.25,
          103.599998,
          100.849998,
          101.599998,
          99.949997,
          96.900002,
          97.300003,
          102.57,
          101.449997,
          102.980003,
          102.300003,
          101.449997,
          102.150002,
          100.669998,
          98.699997,
          98.220001,
          98.57,
          97.790001,
          100.279999,
          97.190002,
          98.07,
          98.260002,
          98.68,
          96.07,
          96.059998,
          94.709999,
          96.5,
          98.440002,
          99.360001,
          98.370003,
          99.080002,
          100.57,
          100.690002,
          100.860001,
          100.480003,
          102.389999,
          101.150002,
          101.230003,
          101.07,
          98.489998,
          99.230003,
          99.120003,
          98.860001,
          99.730003,
          101.389999,
          104.300003,
          105.150002,
          107.550003,
          104.650002,
          106.900002,
          105.75,
          105.699997,
          105,
          102.099998,
          104.400002,
          104.300003,
          102.550003,
          101.550003,
          103.599998,
          102.900002,
          102.25,
          102.75,
          106.949997,
          111.150002,
          113.199997,
          111.599998,
          113.900002,
          114.25,
          113.699997,
          115.099998,
          113.449997,
          112.699997,
          113.349998,
          113.349998,
          115.300003,
          114.199997,
          115.150002,
          114.5,
          117.050003,
          115.650002,
          115.199997,
          113.849998,
          116,
          115.25,
          115.900002,
          116,
          119.400002,
          118.050003,
          120.199997,
          122.5,
          119.75,
          119.650002,
          120,
          118.150002,
          126.099998,
          127.800003,
          151.149994,
          154,
          148.149994,
          146.699997,
          151.899994,
          148.25,
          159,
          152.850006,
          142.800003
         ],
         "yaxis": "y3"
        }
       ],
       "layout": {
        "template": {
         "data": {
          "bar": [
           {
            "error_x": {
             "color": "#2a3f5f"
            },
            "error_y": {
             "color": "#2a3f5f"
            },
            "marker": {
             "line": {
              "color": "#E5ECF6",
              "width": 0.5
             },
             "pattern": {
              "fillmode": "overlay",
              "size": 10,
              "solidity": 0.2
             }
            },
            "type": "bar"
           }
          ],
          "barpolar": [
           {
            "marker": {
             "line": {
              "color": "#E5ECF6",
              "width": 0.5
             },
             "pattern": {
              "fillmode": "overlay",
              "size": 10,
              "solidity": 0.2
             }
            },
            "type": "barpolar"
           }
          ],
          "carpet": [
           {
            "aaxis": {
             "endlinecolor": "#2a3f5f",
             "gridcolor": "white",
             "linecolor": "white",
             "minorgridcolor": "white",
             "startlinecolor": "#2a3f5f"
            },
            "baxis": {
             "endlinecolor": "#2a3f5f",
             "gridcolor": "white",
             "linecolor": "white",
             "minorgridcolor": "white",
             "startlinecolor": "#2a3f5f"
            },
            "type": "carpet"
           }
          ],
          "choropleth": [
           {
            "colorbar": {
             "outlinewidth": 0,
             "ticks": ""
            },
            "type": "choropleth"
           }
          ],
          "contour": [
           {
            "colorbar": {
             "outlinewidth": 0,
             "ticks": ""
            },
            "colorscale": [
             [
              0,
              "#0d0887"
             ],
             [
              0.1111111111111111,
              "#46039f"
             ],
             [
              0.2222222222222222,
              "#7201a8"
             ],
             [
              0.3333333333333333,
              "#9c179e"
             ],
             [
              0.4444444444444444,
              "#bd3786"
             ],
             [
              0.5555555555555556,
              "#d8576b"
             ],
             [
              0.6666666666666666,
              "#ed7953"
             ],
             [
              0.7777777777777778,
              "#fb9f3a"
             ],
             [
              0.8888888888888888,
              "#fdca26"
             ],
             [
              1,
              "#f0f921"
             ]
            ],
            "type": "contour"
           }
          ],
          "contourcarpet": [
           {
            "colorbar": {
             "outlinewidth": 0,
             "ticks": ""
            },
            "type": "contourcarpet"
           }
          ],
          "heatmap": [
           {
            "colorbar": {
             "outlinewidth": 0,
             "ticks": ""
            },
            "colorscale": [
             [
              0,
              "#0d0887"
             ],
             [
              0.1111111111111111,
              "#46039f"
             ],
             [
              0.2222222222222222,
              "#7201a8"
             ],
             [
              0.3333333333333333,
              "#9c179e"
             ],
             [
              0.4444444444444444,
              "#bd3786"
             ],
             [
              0.5555555555555556,
              "#d8576b"
             ],
             [
              0.6666666666666666,
              "#ed7953"
             ],
             [
              0.7777777777777778,
              "#fb9f3a"
             ],
             [
              0.8888888888888888,
              "#fdca26"
             ],
             [
              1,
              "#f0f921"
             ]
            ],
            "type": "heatmap"
           }
          ],
          "heatmapgl": [
           {
            "colorbar": {
             "outlinewidth": 0,
             "ticks": ""
            },
            "colorscale": [
             [
              0,
              "#0d0887"
             ],
             [
              0.1111111111111111,
              "#46039f"
             ],
             [
              0.2222222222222222,
              "#7201a8"
             ],
             [
              0.3333333333333333,
              "#9c179e"
             ],
             [
              0.4444444444444444,
              "#bd3786"
             ],
             [
              0.5555555555555556,
              "#d8576b"
             ],
             [
              0.6666666666666666,
              "#ed7953"
             ],
             [
              0.7777777777777778,
              "#fb9f3a"
             ],
             [
              0.8888888888888888,
              "#fdca26"
             ],
             [
              1,
              "#f0f921"
             ]
            ],
            "type": "heatmapgl"
           }
          ],
          "histogram": [
           {
            "marker": {
             "pattern": {
              "fillmode": "overlay",
              "size": 10,
              "solidity": 0.2
             }
            },
            "type": "histogram"
           }
          ],
          "histogram2d": [
           {
            "colorbar": {
             "outlinewidth": 0,
             "ticks": ""
            },
            "colorscale": [
             [
              0,
              "#0d0887"
             ],
             [
              0.1111111111111111,
              "#46039f"
             ],
             [
              0.2222222222222222,
              "#7201a8"
             ],
             [
              0.3333333333333333,
              "#9c179e"
             ],
             [
              0.4444444444444444,
              "#bd3786"
             ],
             [
              0.5555555555555556,
              "#d8576b"
             ],
             [
              0.6666666666666666,
              "#ed7953"
             ],
             [
              0.7777777777777778,
              "#fb9f3a"
             ],
             [
              0.8888888888888888,
              "#fdca26"
             ],
             [
              1,
              "#f0f921"
             ]
            ],
            "type": "histogram2d"
           }
          ],
          "histogram2dcontour": [
           {
            "colorbar": {
             "outlinewidth": 0,
             "ticks": ""
            },
            "colorscale": [
             [
              0,
              "#0d0887"
             ],
             [
              0.1111111111111111,
              "#46039f"
             ],
             [
              0.2222222222222222,
              "#7201a8"
             ],
             [
              0.3333333333333333,
              "#9c179e"
             ],
             [
              0.4444444444444444,
              "#bd3786"
             ],
             [
              0.5555555555555556,
              "#d8576b"
             ],
             [
              0.6666666666666666,
              "#ed7953"
             ],
             [
              0.7777777777777778,
              "#fb9f3a"
             ],
             [
              0.8888888888888888,
              "#fdca26"
             ],
             [
              1,
              "#f0f921"
             ]
            ],
            "type": "histogram2dcontour"
           }
          ],
          "mesh3d": [
           {
            "colorbar": {
             "outlinewidth": 0,
             "ticks": ""
            },
            "type": "mesh3d"
           }
          ],
          "parcoords": [
           {
            "line": {
             "colorbar": {
              "outlinewidth": 0,
              "ticks": ""
             }
            },
            "type": "parcoords"
           }
          ],
          "pie": [
           {
            "automargin": true,
            "type": "pie"
           }
          ],
          "scatter": [
           {
            "fillpattern": {
             "fillmode": "overlay",
             "size": 10,
             "solidity": 0.2
            },
            "type": "scatter"
           }
          ],
          "scatter3d": [
           {
            "line": {
             "colorbar": {
              "outlinewidth": 0,
              "ticks": ""
             }
            },
            "marker": {
             "colorbar": {
              "outlinewidth": 0,
              "ticks": ""
             }
            },
            "type": "scatter3d"
           }
          ],
          "scattercarpet": [
           {
            "marker": {
             "colorbar": {
              "outlinewidth": 0,
              "ticks": ""
             }
            },
            "type": "scattercarpet"
           }
          ],
          "scattergeo": [
           {
            "marker": {
             "colorbar": {
              "outlinewidth": 0,
              "ticks": ""
             }
            },
            "type": "scattergeo"
           }
          ],
          "scattergl": [
           {
            "marker": {
             "colorbar": {
              "outlinewidth": 0,
              "ticks": ""
             }
            },
            "type": "scattergl"
           }
          ],
          "scattermapbox": [
           {
            "marker": {
             "colorbar": {
              "outlinewidth": 0,
              "ticks": ""
             }
            },
            "type": "scattermapbox"
           }
          ],
          "scatterpolar": [
           {
            "marker": {
             "colorbar": {
              "outlinewidth": 0,
              "ticks": ""
             }
            },
            "type": "scatterpolar"
           }
          ],
          "scatterpolargl": [
           {
            "marker": {
             "colorbar": {
              "outlinewidth": 0,
              "ticks": ""
             }
            },
            "type": "scatterpolargl"
           }
          ],
          "scatterternary": [
           {
            "marker": {
             "colorbar": {
              "outlinewidth": 0,
              "ticks": ""
             }
            },
            "type": "scatterternary"
           }
          ],
          "surface": [
           {
            "colorbar": {
             "outlinewidth": 0,
             "ticks": ""
            },
            "colorscale": [
             [
              0,
              "#0d0887"
             ],
             [
              0.1111111111111111,
              "#46039f"
             ],
             [
              0.2222222222222222,
              "#7201a8"
             ],
             [
              0.3333333333333333,
              "#9c179e"
             ],
             [
              0.4444444444444444,
              "#bd3786"
             ],
             [
              0.5555555555555556,
              "#d8576b"
             ],
             [
              0.6666666666666666,
              "#ed7953"
             ],
             [
              0.7777777777777778,
              "#fb9f3a"
             ],
             [
              0.8888888888888888,
              "#fdca26"
             ],
             [
              1,
              "#f0f921"
             ]
            ],
            "type": "surface"
           }
          ],
          "table": [
           {
            "cells": {
             "fill": {
              "color": "#EBF0F8"
             },
             "line": {
              "color": "white"
             }
            },
            "header": {
             "fill": {
              "color": "#C8D4E3"
             },
             "line": {
              "color": "white"
             }
            },
            "type": "table"
           }
          ]
         },
         "layout": {
          "annotationdefaults": {
           "arrowcolor": "#2a3f5f",
           "arrowhead": 0,
           "arrowwidth": 1
          },
          "autotypenumbers": "strict",
          "coloraxis": {
           "colorbar": {
            "outlinewidth": 0,
            "ticks": ""
           }
          },
          "colorscale": {
           "diverging": [
            [
             0,
             "#8e0152"
            ],
            [
             0.1,
             "#c51b7d"
            ],
            [
             0.2,
             "#de77ae"
            ],
            [
             0.3,
             "#f1b6da"
            ],
            [
             0.4,
             "#fde0ef"
            ],
            [
             0.5,
             "#f7f7f7"
            ],
            [
             0.6,
             "#e6f5d0"
            ],
            [
             0.7,
             "#b8e186"
            ],
            [
             0.8,
             "#7fbc41"
            ],
            [
             0.9,
             "#4d9221"
            ],
            [
             1,
             "#276419"
            ]
           ],
           "sequential": [
            [
             0,
             "#0d0887"
            ],
            [
             0.1111111111111111,
             "#46039f"
            ],
            [
             0.2222222222222222,
             "#7201a8"
            ],
            [
             0.3333333333333333,
             "#9c179e"
            ],
            [
             0.4444444444444444,
             "#bd3786"
            ],
            [
             0.5555555555555556,
             "#d8576b"
            ],
            [
             0.6666666666666666,
             "#ed7953"
            ],
            [
             0.7777777777777778,
             "#fb9f3a"
            ],
            [
             0.8888888888888888,
             "#fdca26"
            ],
            [
             1,
             "#f0f921"
            ]
           ],
           "sequentialminus": [
            [
             0,
             "#0d0887"
            ],
            [
             0.1111111111111111,
             "#46039f"
            ],
            [
             0.2222222222222222,
             "#7201a8"
            ],
            [
             0.3333333333333333,
             "#9c179e"
            ],
            [
             0.4444444444444444,
             "#bd3786"
            ],
            [
             0.5555555555555556,
             "#d8576b"
            ],
            [
             0.6666666666666666,
             "#ed7953"
            ],
            [
             0.7777777777777778,
             "#fb9f3a"
            ],
            [
             0.8888888888888888,
             "#fdca26"
            ],
            [
             1,
             "#f0f921"
            ]
           ]
          },
          "colorway": [
           "#636efa",
           "#EF553B",
           "#00cc96",
           "#ab63fa",
           "#FFA15A",
           "#19d3f3",
           "#FF6692",
           "#B6E880",
           "#FF97FF",
           "#FECB52"
          ],
          "font": {
           "color": "#2a3f5f"
          },
          "geo": {
           "bgcolor": "white",
           "lakecolor": "white",
           "landcolor": "#E5ECF6",
           "showlakes": true,
           "showland": true,
           "subunitcolor": "white"
          },
          "hoverlabel": {
           "align": "left"
          },
          "hovermode": "closest",
          "mapbox": {
           "style": "light"
          },
          "paper_bgcolor": "white",
          "plot_bgcolor": "#E5ECF6",
          "polar": {
           "angularaxis": {
            "gridcolor": "white",
            "linecolor": "white",
            "ticks": ""
           },
           "bgcolor": "#E5ECF6",
           "radialaxis": {
            "gridcolor": "white",
            "linecolor": "white",
            "ticks": ""
           }
          },
          "scene": {
           "xaxis": {
            "backgroundcolor": "#E5ECF6",
            "gridcolor": "white",
            "gridwidth": 2,
            "linecolor": "white",
            "showbackground": true,
            "ticks": "",
            "zerolinecolor": "white"
           },
           "yaxis": {
            "backgroundcolor": "#E5ECF6",
            "gridcolor": "white",
            "gridwidth": 2,
            "linecolor": "white",
            "showbackground": true,
            "ticks": "",
            "zerolinecolor": "white"
           },
           "zaxis": {
            "backgroundcolor": "#E5ECF6",
            "gridcolor": "white",
            "gridwidth": 2,
            "linecolor": "white",
            "showbackground": true,
            "ticks": "",
            "zerolinecolor": "white"
           }
          },
          "shapedefaults": {
           "line": {
            "color": "#2a3f5f"
           }
          },
          "ternary": {
           "aaxis": {
            "gridcolor": "white",
            "linecolor": "white",
            "ticks": ""
           },
           "baxis": {
            "gridcolor": "white",
            "linecolor": "white",
            "ticks": ""
           },
           "bgcolor": "#E5ECF6",
           "caxis": {
            "gridcolor": "white",
            "linecolor": "white",
            "ticks": ""
           }
          },
          "title": {
           "x": 0.05
          },
          "xaxis": {
           "automargin": true,
           "gridcolor": "white",
           "linecolor": "white",
           "ticks": "",
           "title": {
            "standoff": 15
           },
           "zerolinecolor": "white",
           "zerolinewidth": 2
          },
          "yaxis": {
           "automargin": true,
           "gridcolor": "white",
           "linecolor": "white",
           "ticks": "",
           "title": {
            "standoff": 15
           },
           "zerolinecolor": "white",
           "zerolinewidth": 2
          }
         }
        },
        "xaxis": {
         "anchor": "y",
         "domain": [
          0,
          1
         ]
        },
        "xaxis2": {
         "anchor": "y2",
         "domain": [
          0,
          1
         ]
        },
        "xaxis3": {
         "anchor": "y3",
         "domain": [
          0,
          1
         ]
        },
        "xaxis4": {
         "anchor": "y4",
         "domain": [
          0,
          1
         ]
        },
        "yaxis": {
         "anchor": "x",
         "domain": [
          0.80625,
          1
         ]
        },
        "yaxis2": {
         "anchor": "x2",
         "domain": [
          0.5375,
          0.73125
         ]
        },
        "yaxis3": {
         "anchor": "x3",
         "domain": [
          0.26875,
          0.4625
         ]
        },
        "yaxis4": {
         "anchor": "x4",
         "domain": [
          0,
          0.19375
         ]
        }
       }
      }
     },
     "metadata": {},
     "output_type": "display_data"
    }
   ],
   "source": [
    "test_vals = temp.index[y_len:]\n",
    "fig = make_subplots(rows=4, cols=1)\n",
    "fig.add_trace(go.Scatter(x=temp.index, y=df.Close,\n",
    "                         name='Truth',\n",
    "                         marker_color='LightSkyBlue'), row=1, col=1)\n",
    "\n",
    "\n",
    "fig.add_trace(go.Scatter(x=test_vals,\n",
    "                         y=y_pred,\n",
    "                         name='Prediction',\n",
    "                         marker_color='MediumPurple'), row=1, col=1)\n",
    "\n",
    "\n",
    "fig.add_trace(go.Scatter(x=test_vals,\n",
    "                         y=y_pred,\n",
    "                         name='Prediction',\n",
    "                         marker_color='MediumPurple'), row=2, col=1)\n",
    "\n",
    "\n",
    "fig.add_trace(go.Scatter(x=test_vals,\n",
    "                         y=y_test,\n",
    "                         name='Truth',\n",
    "                         marker_color='LightSkyBlue',\n",
    "                         showlegend=False), row=3, col=1)\n",
    "\n",
    "# )\n",
    "\n",
    "\n",
    "fig.show()"
   ]
  },
  {
   "cell_type": "code",
   "execution_count": 123,
   "metadata": {},
   "outputs": [],
   "source": [
    "temp_len = len(y_pred)\n",
    "final_len = len(temp) - temp_len\n",
    "temp = temp[final_len:].copy()\n",
    "temp['Close'] = y_test\n",
    "close = temp.Close.to_list()\n",
    "weekly_change = []\n",
    "for i in range(len(close)-7):\n",
    "    weekly_change.append(close[i] - close[i+7])\n",
    "for i in range(len(close) -7,len(close)):\n",
    "    weekly_change.append(weekly_change[i-7])\n",
    "\n",
    "weekly_trend = []\n",
    "for i in weekly_change:\n",
    "    if i > 0:\n",
    "        weekly_trend.append(\"Up\")\n",
    "    elif i < 0:\n",
    "        weekly_trend.append(\"Down\")\n",
    "    else:\n",
    "        weekly_trend.append(\"Flat\")\n",
    "temp['Weekly Trend'] = weekly_trend\n",
    "\n",
    "monthly_change = []\n",
    "for i in range(len(close)-30):\n",
    "    monthly_change.append(close[i] - close[i+30])\n",
    "for i in range(len(close) -30,len(close)):\n",
    "    monthly_change.append(weekly_change[i-30])\n",
    "\n",
    "monthly_trend = []\n",
    "for i in monthly_change:\n",
    "    if i > 0:\n",
    "        monthly_trend.append(\"Up\")\n",
    "    elif i < 0:\n",
    "        monthly_trend.append(\"Down\")\n",
    "    else:\n",
    "        monthly_trend.append(\"Flat\")\n",
    "temp['Monthly Trend'] = monthly_trend\n"
   ]
  },
  {
   "cell_type": "code",
   "execution_count": 103,
   "metadata": {},
   "outputs": [
    {
     "data": {
      "text/plain": [
       "1"
      ]
     },
     "execution_count": 103,
     "metadata": {},
     "output_type": "execute_result"
    }
   ],
   "source": [
    "len(y_pred_list[0][0])"
   ]
  },
  {
   "cell_type": "code",
   "execution_count": 124,
   "metadata": {},
   "outputs": [],
   "source": [
    "preds = y_pred\n",
    "weekly_preds_change = []\n",
    "for i in range(len(preds)-7):\n",
    "    weekly_preds_change.append(preds[i] - preds[i+7])\n",
    "for i in range(len(preds) -7,len(preds)):\n",
    "    weekly_preds_change.append(weekly_preds_change[i-7])\n",
    "\n",
    "weekly_preds_trend = []\n",
    "for i in weekly_preds_change:\n",
    "    if i > 0:\n",
    "        weekly_preds_trend.append(\"Up\")\n",
    "    elif i < 0:\n",
    "        weekly_preds_trend.append(\"Down\")\n",
    "    else:\n",
    "        weekly_preds_trend.append(\"Flat\")\n",
    "temp['Weekly Predictions Trend'] = weekly_preds_trend\n",
    "\n",
    "monthly_preds_change = []\n",
    "for i in range(len(preds)-30):\n",
    "    monthly_preds_change.append(preds[i] - preds[i+30])\n",
    "for i in range(len(preds) -30,len(preds)):\n",
    "    monthly_preds_change.append(monthly_preds_change[i-30])\n",
    "\n",
    "monthly_preds_trend = []\n",
    "for i in monthly_preds_change:\n",
    "    if i > 0:\n",
    "        monthly_preds_trend.append(\"Up\")\n",
    "    elif i < 0:\n",
    "        monthly_preds_trend.append(\"Down\")\n",
    "    else:\n",
    "        monthly_preds_trend.append(\"Flat\")\n",
    "temp['Monthly Preds Trend'] = monthly_preds_trend"
   ]
  },
  {
   "cell_type": "code",
   "execution_count": 125,
   "metadata": {},
   "outputs": [
    {
     "name": "stdout",
     "output_type": "stream",
     "text": [
      "0.785714285714284\n"
     ]
    }
   ],
   "source": [
    "weekly_accuracy = 0\n",
    "weekly = temp['Weekly Trend'].to_list()\n",
    "weekly_preds = temp['Weekly Predictions Trend'].to_list()\n",
    "for i in range(len(weekly)):\n",
    "    if weekly[i] == weekly_preds[i]:\n",
    "        weekly_accuracy += 1/len(weekly)\n",
    "print(weekly_accuracy)"
   ]
  },
  {
   "cell_type": "code",
   "execution_count": 126,
   "metadata": {},
   "outputs": [
    {
     "name": "stdout",
     "output_type": "stream",
     "text": [
      "0.8928571428571408\n"
     ]
    }
   ],
   "source": [
    "monthly_accuracy = 0\n",
    "monthly = temp['Monthly Trend'].to_list()\n",
    "monthly_preds = temp['Monthly Preds Trend'].to_list()\n",
    "for i in range(len(monthly)):\n",
    "    if monthly[i] == monthly_preds[i]:\n",
    "        monthly_accuracy += 1/len(weekly) \n",
    "print(monthly_accuracy)"
   ]
  },
  {
   "cell_type": "code",
   "execution_count": 127,
   "metadata": {},
   "outputs": [],
   "source": [
    "temp['Weekly Accuracy'] = weekly_accuracy\n",
    "temp['Monthly Accuracy'] = monthly_accuracy"
   ]
  },
  {
   "cell_type": "code",
   "execution_count": 128,
   "metadata": {},
   "outputs": [],
   "source": [
    "temp[\"Total Acc\"] = (weekly_accuracy + monthly_accuracy) / 2"
   ]
  },
  {
   "cell_type": "code",
   "execution_count": 129,
   "metadata": {},
   "outputs": [],
   "source": [
    "temp.to_csv(\"../preds/hind_copper_trend_preds.csv\")"
   ]
  },
  {
   "cell_type": "code",
   "execution_count": null,
   "metadata": {},
   "outputs": [],
   "source": []
  }
 ],
 "metadata": {
  "kernelspec": {
   "display_name": ".venv",
   "language": "python",
   "name": "python3"
  },
  "language_info": {
   "codemirror_mode": {
    "name": "ipython",
    "version": 3
   },
   "file_extension": ".py",
   "mimetype": "text/x-python",
   "name": "python",
   "nbconvert_exporter": "python",
   "pygments_lexer": "ipython3",
   "version": "3.11.3"
  },
  "orig_nbformat": 4
 },
 "nbformat": 4,
 "nbformat_minor": 2
}
