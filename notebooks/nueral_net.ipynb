{
 "cells": [
  {
   "cell_type": "markdown",
   "metadata": {},
   "source": [
    "##  A neural Network replacing the simple xgboost regression algorithm"
   ]
  },
  {
   "cell_type": "markdown",
   "metadata": {},
   "source": [
    "#### Importing all libraries and setting the device to gpu"
   ]
  },
  {
   "cell_type": "code",
   "execution_count": 1,
   "metadata": {},
   "outputs": [],
   "source": [
    "\n",
    "import pandas as pd\n",
    "import numpy as np\n",
    "import matplotlib.pyplot as plt\n",
    "from tqdm import tqdm\n",
    "import torch\n",
    "import torch.nn as nn\n",
    "import torch.optim as optim\n",
    "from sklearn.preprocessing import MinMaxScaler    \n",
    "from sklearn.model_selection import train_test_split\n",
    "from sklearn.metrics import mean_squared_error, r2_score,mean_absolute_percentage_error\n",
    "from torch.utils.data import Dataset, DataLoader\n",
    "\n",
    "import seaborn as sns\n",
    "import random\n",
    "\n",
    "# torch.cuda.set_device(\"cuda:0\")\n",
    "# print(torch.cuda.get_device_name())"
   ]
  },
  {
   "cell_type": "code",
   "execution_count": 2,
   "metadata": {},
   "outputs": [],
   "source": [
    "import random\n",
    "def set_seeds(seed=1234):\n",
    "    \"\"\"Set seeds for reproducibility.\"\"\"\n",
    "    np.random.seed(seed)\n",
    "    random.seed(seed)\n",
    "    torch.manual_seed(seed)\n",
    "    torch.cuda.manual_seed(seed)\n",
    "    torch.cuda.manual_seed_all(seed) # multi-GPU\n",
    "    \n",
    "set_seeds()"
   ]
  },
  {
   "cell_type": "markdown",
   "metadata": {},
   "source": [
    "#### Pre processing the data and adding data indicators to the data"
   ]
  },
  {
   "cell_type": "code",
   "execution_count": 3,
   "metadata": {},
   "outputs": [
    {
     "data": {
      "text/html": [
       "<div>\n",
       "<style scoped>\n",
       "    .dataframe tbody tr th:only-of-type {\n",
       "        vertical-align: middle;\n",
       "    }\n",
       "\n",
       "    .dataframe tbody tr th {\n",
       "        vertical-align: top;\n",
       "    }\n",
       "\n",
       "    .dataframe thead th {\n",
       "        text-align: right;\n",
       "    }\n",
       "</style>\n",
       "<table border=\"1\" class=\"dataframe\">\n",
       "  <thead>\n",
       "    <tr style=\"text-align: right;\">\n",
       "      <th></th>\n",
       "      <th>Date</th>\n",
       "      <th>Open</th>\n",
       "      <th>High</th>\n",
       "      <th>Low</th>\n",
       "      <th>Close</th>\n",
       "      <th>Volume</th>\n",
       "    </tr>\n",
       "  </thead>\n",
       "  <tbody>\n",
       "    <tr>\n",
       "      <th>0</th>\n",
       "      <td>2021-01-18</td>\n",
       "      <td>3200.000000</td>\n",
       "      <td>3217.550049</td>\n",
       "      <td>3082.250000</td>\n",
       "      <td>3163.149902</td>\n",
       "      <td>1280163</td>\n",
       "    </tr>\n",
       "    <tr>\n",
       "      <th>1</th>\n",
       "      <td>2021-01-19</td>\n",
       "      <td>3170.500000</td>\n",
       "      <td>3240.750000</td>\n",
       "      <td>3170.500000</td>\n",
       "      <td>3232.899902</td>\n",
       "      <td>770832</td>\n",
       "    </tr>\n",
       "    <tr>\n",
       "      <th>2</th>\n",
       "      <td>2021-01-20</td>\n",
       "      <td>3239.000000</td>\n",
       "      <td>3292.500000</td>\n",
       "      <td>3230.300049</td>\n",
       "      <td>3275.600098</td>\n",
       "      <td>841752</td>\n",
       "    </tr>\n",
       "    <tr>\n",
       "      <th>3</th>\n",
       "      <td>2021-01-21</td>\n",
       "      <td>3275.600098</td>\n",
       "      <td>3346.000000</td>\n",
       "      <td>3219.699951</td>\n",
       "      <td>3247.300049</td>\n",
       "      <td>1300181</td>\n",
       "    </tr>\n",
       "    <tr>\n",
       "      <th>4</th>\n",
       "      <td>2021-01-22</td>\n",
       "      <td>3265.000000</td>\n",
       "      <td>3483.949951</td>\n",
       "      <td>3258.899902</td>\n",
       "      <td>3374.899902</td>\n",
       "      <td>3813020</td>\n",
       "    </tr>\n",
       "  </tbody>\n",
       "</table>\n",
       "</div>"
      ],
      "text/plain": [
       "        Date         Open         High          Low        Close   Volume\n",
       "0 2021-01-18  3200.000000  3217.550049  3082.250000  3163.149902  1280163\n",
       "1 2021-01-19  3170.500000  3240.750000  3170.500000  3232.899902   770832\n",
       "2 2021-01-20  3239.000000  3292.500000  3230.300049  3275.600098   841752\n",
       "3 2021-01-21  3275.600098  3346.000000  3219.699951  3247.300049  1300181\n",
       "4 2021-01-22  3265.000000  3483.949951  3258.899902  3374.899902  3813020"
      ]
     },
     "execution_count": 3,
     "metadata": {},
     "output_type": "execute_result"
    }
   ],
   "source": [
    "df = pd.read_csv(\"../data/hero/hero.csv\")\n",
    "# Need to reverse the db\n",
    "# df = df.loc[::-1]\n",
    "df['Date'] = pd.to_datetime(df['Date'])\n",
    "df = df[(df['Date'].dt.year >= 2020)].copy()\n",
    "df.index = range(len(df))\n",
    "temp = df\n",
    "# df['Close'] = (df['High'] + df['Low'] )/ 2\n",
    "df.rename(columns={\"Open Price\":\"Open\",\"High Price\":\"High\",\"Low Price\":\"Low\",\"Close Price\":\"Close\",\"Total Traded Quantity\":\"Volume\",\"No.of Shares\":\"Volume\"},inplace=True)\n",
    "# cols = [\"Symbol\",\"Ser verbose=Falseies\",\"Prev Close\",\"Last Price\",\"Average Price\",\"Turnover\",\"No. of Trades\", \"Deliverable Qty\",'% Dly Qt to Traded Qty']\n",
    "# cols = [\"WAP\",\"No. of Trades\"\t,\"Total Turnover (Rs.)\"\t,\"Deliverable Quantity\"\t,\"% Deli. Qty to Traded Qty\"\t,\"Spread High-Low\"\t,\"Spread Close-Open\"]\n",
    "cols = \"Adj Close\"\n",
    "df.drop(columns=cols,inplace=True)   \n",
    "df.dropna(inplace=True)\n",
    "df.head()"
   ]
  },
  {
   "cell_type": "code",
   "execution_count": 4,
   "metadata": {},
   "outputs": [
    {
     "data": {
      "text/html": [
       "<div>\n",
       "<style scoped>\n",
       "    .dataframe tbody tr th:only-of-type {\n",
       "        vertical-align: middle;\n",
       "    }\n",
       "\n",
       "    .dataframe tbody tr th {\n",
       "        vertical-align: top;\n",
       "    }\n",
       "\n",
       "    .dataframe thead th {\n",
       "        text-align: right;\n",
       "    }\n",
       "</style>\n",
       "<table border=\"1\" class=\"dataframe\">\n",
       "  <thead>\n",
       "    <tr style=\"text-align: right;\">\n",
       "      <th></th>\n",
       "      <th>Date</th>\n",
       "      <th>Open</th>\n",
       "      <th>High</th>\n",
       "      <th>Low</th>\n",
       "      <th>Close</th>\n",
       "      <th>Volume</th>\n",
       "      <th>EMA_9</th>\n",
       "      <th>SMA_5</th>\n",
       "      <th>SMA_10</th>\n",
       "      <th>SMA_15</th>\n",
       "      <th>SMA_30</th>\n",
       "      <th>RSI</th>\n",
       "      <th>MACD</th>\n",
       "      <th>MACD_signal</th>\n",
       "    </tr>\n",
       "  </thead>\n",
       "  <tbody>\n",
       "    <tr>\n",
       "      <th>0</th>\n",
       "      <td>2021-03-05</td>\n",
       "      <td>3415.000000</td>\n",
       "      <td>3491.5</td>\n",
       "      <td>3394.000000</td>\n",
       "      <td>3463.949951</td>\n",
       "      <td>1017875</td>\n",
       "      <td>3420.492361</td>\n",
       "      <td>3378.960010</td>\n",
       "      <td>3398.009985</td>\n",
       "      <td>3435.309993</td>\n",
       "      <td>3419.963322</td>\n",
       "      <td>49.806952</td>\n",
       "      <td>0.572395</td>\n",
       "      <td>-1.193284</td>\n",
       "    </tr>\n",
       "    <tr>\n",
       "      <th>1</th>\n",
       "      <td>2021-03-08</td>\n",
       "      <td>3461.649902</td>\n",
       "      <td>3489.5</td>\n",
       "      <td>3422.699951</td>\n",
       "      <td>3448.850098</td>\n",
       "      <td>749107</td>\n",
       "      <td>3424.731009</td>\n",
       "      <td>3426.500000</td>\n",
       "      <td>3405.209985</td>\n",
       "      <td>3431.706657</td>\n",
       "      <td>3427.109985</td>\n",
       "      <td>50.125426</td>\n",
       "      <td>3.520412</td>\n",
       "      <td>-0.137143</td>\n",
       "    </tr>\n",
       "    <tr>\n",
       "      <th>2</th>\n",
       "      <td>2021-03-09</td>\n",
       "      <td>3465.050049</td>\n",
       "      <td>3490.0</td>\n",
       "      <td>3416.500000</td>\n",
       "      <td>3419.350098</td>\n",
       "      <td>564852</td>\n",
       "      <td>3428.753595</td>\n",
       "      <td>3449.250000</td>\n",
       "      <td>3410.189990</td>\n",
       "      <td>3431.609993</td>\n",
       "      <td>3430.078320</td>\n",
       "      <td>42.043918</td>\n",
       "      <td>4.650364</td>\n",
       "      <td>0.910336</td>\n",
       "    </tr>\n",
       "    <tr>\n",
       "      <th>3</th>\n",
       "      <td>2021-03-10</td>\n",
       "      <td>3449.000000</td>\n",
       "      <td>3475.0</td>\n",
       "      <td>3407.850098</td>\n",
       "      <td>3350.550049</td>\n",
       "      <td>787897</td>\n",
       "      <td>3430.809563</td>\n",
       "      <td>3443.740039</td>\n",
       "      <td>3414.530005</td>\n",
       "      <td>3430.763330</td>\n",
       "      <td>3429.208325</td>\n",
       "      <td>43.671271</td>\n",
       "      <td>3.252733</td>\n",
       "      <td>1.413385</td>\n",
       "    </tr>\n",
       "    <tr>\n",
       "      <th>4</th>\n",
       "      <td>2021-03-12</td>\n",
       "      <td>3355.000000</td>\n",
       "      <td>3419.0</td>\n",
       "      <td>3310.000000</td>\n",
       "      <td>3264.149902</td>\n",
       "      <td>1098158</td>\n",
       "      <td>3429.639901</td>\n",
       "      <td>3442.740039</td>\n",
       "      <td>3412.305005</td>\n",
       "      <td>3419.786670</td>\n",
       "      <td>3431.234993</td>\n",
       "      <td>47.401611</td>\n",
       "      <td>-3.096033</td>\n",
       "      <td>0.459035</td>\n",
       "    </tr>\n",
       "  </tbody>\n",
       "</table>\n",
       "</div>"
      ],
      "text/plain": [
       "        Date         Open    High          Low        Close   Volume  \\\n",
       "0 2021-03-05  3415.000000  3491.5  3394.000000  3463.949951  1017875   \n",
       "1 2021-03-08  3461.649902  3489.5  3422.699951  3448.850098   749107   \n",
       "2 2021-03-09  3465.050049  3490.0  3416.500000  3419.350098   564852   \n",
       "3 2021-03-10  3449.000000  3475.0  3407.850098  3350.550049   787897   \n",
       "4 2021-03-12  3355.000000  3419.0  3310.000000  3264.149902  1098158   \n",
       "\n",
       "         EMA_9        SMA_5       SMA_10       SMA_15       SMA_30        RSI  \\\n",
       "0  3420.492361  3378.960010  3398.009985  3435.309993  3419.963322  49.806952   \n",
       "1  3424.731009  3426.500000  3405.209985  3431.706657  3427.109985  50.125426   \n",
       "2  3428.753595  3449.250000  3410.189990  3431.609993  3430.078320  42.043918   \n",
       "3  3430.809563  3443.740039  3414.530005  3430.763330  3429.208325  43.671271   \n",
       "4  3429.639901  3442.740039  3412.305005  3419.786670  3431.234993  47.401611   \n",
       "\n",
       "       MACD  MACD_signal  \n",
       "0  0.572395    -1.193284  \n",
       "1  3.520412    -0.137143  \n",
       "2  4.650364     0.910336  \n",
       "3  3.252733     1.413385  \n",
       "4 -3.096033     0.459035  "
      ]
     },
     "execution_count": 4,
     "metadata": {},
     "output_type": "execute_result"
    }
   ],
   "source": [
    "df['EMA_9'] = df['Close'].ewm(9).mean().shift()\n",
    "df['SMA_5'] = df['Close'].rolling(5).mean().shift()\n",
    "df['SMA_10'] = df['Close'].rolling(10).mean().shift()\n",
    "df['SMA_15'] = df['Close'].rolling(15).mean().shift()\n",
    "df['SMA_30'] = df['Close'].rolling(30).mean().shift()\n",
    "\n",
    "def relative_strength_idx(df, n=14):\n",
    "    close = df['Close']\n",
    "    delta = close.diff()\n",
    "    delta = delta[1:]\n",
    "    pricesUp = delta.copy()\n",
    "    pricesDown = delta.copy()\n",
    "    pricesUp[pricesUp < 0] = 0\n",
    "    pricesDown[pricesDown > 0] = 0    \n",
    "    rollUp = pricesUp.rolling(n).mean()\n",
    "    rollDown = pricesDown.abs().rolling(n).mean()\n",
    "    rs = rollUp / rollDown\n",
    "    rsi = 100.0 - (100.0 / (1.0 + rs))\n",
    "    return rsi\n",
    "\n",
    "df['RSI'] = relative_strength_idx(df).fillna(0)\n",
    "\n",
    "EMA_12 = pd.Series(df['Close'].ewm(span=12, min_periods=12).mean())\n",
    "EMA_26 = pd.Series(df['Close'].ewm(span=26, min_periods=26).mean())\n",
    "df['MACD'] = pd.Series(EMA_12 - EMA_26)\n",
    "df['MACD_signal'] = pd.Series(df.MACD.ewm(span=9, min_periods=9).mean())\n",
    "\n",
    "df['Close'] = df['Close'].shift(-1)\n",
    "\n",
    "df = df.iloc[33:] # Because of moving average\n",
    "df = df[:-1]      # Because of shifting close price\n",
    "\n",
    "df.index = range(len(df))\n",
    "\n",
    "df.head()"
   ]
  },
  {
   "cell_type": "code",
   "execution_count": 5,
   "metadata": {},
   "outputs": [
    {
     "data": {
      "text/html": [
       "<div>\n",
       "<style scoped>\n",
       "    .dataframe tbody tr th:only-of-type {\n",
       "        vertical-align: middle;\n",
       "    }\n",
       "\n",
       "    .dataframe tbody tr th {\n",
       "        vertical-align: top;\n",
       "    }\n",
       "\n",
       "    .dataframe thead th {\n",
       "        text-align: right;\n",
       "    }\n",
       "</style>\n",
       "<table border=\"1\" class=\"dataframe\">\n",
       "  <thead>\n",
       "    <tr style=\"text-align: right;\">\n",
       "      <th></th>\n",
       "      <th>Close</th>\n",
       "      <th>EMA_9</th>\n",
       "      <th>SMA_5</th>\n",
       "      <th>SMA_10</th>\n",
       "      <th>SMA_15</th>\n",
       "      <th>SMA_30</th>\n",
       "      <th>RSI</th>\n",
       "      <th>MACD</th>\n",
       "      <th>MACD_signal</th>\n",
       "    </tr>\n",
       "  </thead>\n",
       "  <tbody>\n",
       "    <tr>\n",
       "      <th>0</th>\n",
       "      <td>3463.949951</td>\n",
       "      <td>3420.492361</td>\n",
       "      <td>3378.960010</td>\n",
       "      <td>3398.009985</td>\n",
       "      <td>3435.309993</td>\n",
       "      <td>3419.963322</td>\n",
       "      <td>49.806952</td>\n",
       "      <td>0.572395</td>\n",
       "      <td>-1.193284</td>\n",
       "    </tr>\n",
       "    <tr>\n",
       "      <th>1</th>\n",
       "      <td>3448.850098</td>\n",
       "      <td>3424.731009</td>\n",
       "      <td>3426.500000</td>\n",
       "      <td>3405.209985</td>\n",
       "      <td>3431.706657</td>\n",
       "      <td>3427.109985</td>\n",
       "      <td>50.125426</td>\n",
       "      <td>3.520412</td>\n",
       "      <td>-0.137143</td>\n",
       "    </tr>\n",
       "    <tr>\n",
       "      <th>2</th>\n",
       "      <td>3419.350098</td>\n",
       "      <td>3428.753595</td>\n",
       "      <td>3449.250000</td>\n",
       "      <td>3410.189990</td>\n",
       "      <td>3431.609993</td>\n",
       "      <td>3430.078320</td>\n",
       "      <td>42.043918</td>\n",
       "      <td>4.650364</td>\n",
       "      <td>0.910336</td>\n",
       "    </tr>\n",
       "    <tr>\n",
       "      <th>3</th>\n",
       "      <td>3350.550049</td>\n",
       "      <td>3430.809563</td>\n",
       "      <td>3443.740039</td>\n",
       "      <td>3414.530005</td>\n",
       "      <td>3430.763330</td>\n",
       "      <td>3429.208325</td>\n",
       "      <td>43.671271</td>\n",
       "      <td>3.252733</td>\n",
       "      <td>1.413385</td>\n",
       "    </tr>\n",
       "    <tr>\n",
       "      <th>4</th>\n",
       "      <td>3264.149902</td>\n",
       "      <td>3429.639901</td>\n",
       "      <td>3442.740039</td>\n",
       "      <td>3412.305005</td>\n",
       "      <td>3419.786670</td>\n",
       "      <td>3431.234993</td>\n",
       "      <td>47.401611</td>\n",
       "      <td>-3.096033</td>\n",
       "      <td>0.459035</td>\n",
       "    </tr>\n",
       "  </tbody>\n",
       "</table>\n",
       "</div>"
      ],
      "text/plain": [
       "         Close        EMA_9        SMA_5       SMA_10       SMA_15  \\\n",
       "0  3463.949951  3420.492361  3378.960010  3398.009985  3435.309993   \n",
       "1  3448.850098  3424.731009  3426.500000  3405.209985  3431.706657   \n",
       "2  3419.350098  3428.753595  3449.250000  3410.189990  3431.609993   \n",
       "3  3350.550049  3430.809563  3443.740039  3414.530005  3430.763330   \n",
       "4  3264.149902  3429.639901  3442.740039  3412.305005  3419.786670   \n",
       "\n",
       "        SMA_30        RSI      MACD  MACD_signal  \n",
       "0  3419.963322  49.806952  0.572395    -1.193284  \n",
       "1  3427.109985  50.125426  3.520412    -0.137143  \n",
       "2  3430.078320  42.043918  4.650364     0.910336  \n",
       "3  3429.208325  43.671271  3.252733     1.413385  \n",
       "4  3431.234993  47.401611 -3.096033     0.459035  "
      ]
     },
     "execution_count": 5,
     "metadata": {},
     "output_type": "execute_result"
    }
   ],
   "source": [
    "drop_cols = ['Date', 'Volume', 'Open', 'Low', 'High']\n",
    "df.drop(columns=drop_cols,inplace=True)\n",
    "df.head()"
   ]
  },
  {
   "cell_type": "markdown",
   "metadata": {},
   "source": [
    "#### Separating the data into train and test splits. Then splitting into validation split"
   ]
  },
  {
   "cell_type": "code",
   "execution_count": 6,
   "metadata": {},
   "outputs": [],
   "source": [
    "X = df.iloc[:, 1:]\n",
    "y = df.iloc[:, 1]\n",
    "\n",
    "X_trainval, X_test, y_trainval, y_test = train_test_split(\n",
    "    X, y, test_size=0.2\n",
    ")\n",
    "X_train, X_val, y_train, y_val = train_test_split(\n",
    "    X_trainval, y_trainval, test_size=0.2\n",
    ")"
   ]
  },
  {
   "cell_type": "markdown",
   "metadata": {},
   "source": [
    "#### Normalising the data"
   ]
  },
  {
   "cell_type": "code",
   "execution_count": 7,
   "metadata": {},
   "outputs": [],
   "source": [
    "scaler = MinMaxScaler()\n",
    "X_train = scaler.fit_transform(X_train)\n",
    "X_val = scaler.transform(X_val)\n",
    "X_test = scaler.transform(X_test)\n",
    "X_train, y_train = np.array(X_train), np.array(y_train)\n",
    "X_val, y_val = np.array(X_val), np.array(y_val)\n",
    "X_test, y_test = np.array(X_test), np.array(y_test)"
   ]
  },
  {
   "cell_type": "markdown",
   "metadata": {},
   "source": [
    "#### Initialising the dataset"
   ]
  },
  {
   "cell_type": "code",
   "execution_count": 8,
   "metadata": {},
   "outputs": [],
   "source": [
    "class RegressionDataset(Dataset):\n",
    "    def __init__(self, X_data, y_data):\n",
    "        self.X_data = X_data\n",
    "        self.y_data = y_data\n",
    "\n",
    "    def __getitem__(self, index):\n",
    "        return self.X_data[index], self.y_data[index]\n",
    "\n",
    "    def __len__(self):\n",
    "        return len(self.X_data)   "
   ]
  },
  {
   "cell_type": "code",
   "execution_count": 9,
   "metadata": {},
   "outputs": [],
   "source": [
    "train_dataset = RegressionDataset(\n",
    "    torch.from_numpy(X_train).float(), torch.from_numpy(y_train).float()\n",
    ")\n",
    "val_dataset = RegressionDataset(\n",
    "    torch.from_numpy(X_val).float(), torch.from_numpy(y_val).float()\n",
    ")\n",
    "test_dataset = RegressionDataset(\n",
    "    torch.from_numpy(X_test).float(), torch.from_numpy(y_test).float()\n",
    ")"
   ]
  },
  {
   "cell_type": "markdown",
   "metadata": {},
   "source": [
    "#### Setting hyper parameters"
   ]
  },
  {
   "cell_type": "code",
   "execution_count": 10,
   "metadata": {},
   "outputs": [],
   "source": [
    "EPOCHS = 2000\n",
    "BATCH_SIZE = 64\n",
    "LEARNING_RATE = 0.001\n",
    "NUM_FEATURES = len(X.columns)"
   ]
  },
  {
   "cell_type": "code",
   "execution_count": 11,
   "metadata": {},
   "outputs": [],
   "source": [
    "train_loader = DataLoader(dataset=train_dataset, batch_size=BATCH_SIZE,shuffle=True)\n",
    "val_loader = DataLoader(dataset=val_dataset, batch_size=BATCH_SIZE,)\n",
    "test_loader = DataLoader(dataset=test_dataset, batch_size=BATCH_SIZE)"
   ]
  },
  {
   "cell_type": "code",
   "execution_count": 12,
   "metadata": {},
   "outputs": [],
   "source": [
    "class MultipleRegression(nn.Module):\n",
    "    def __init__(self, num_features):\n",
    "        super(MultipleRegression, self).__init__()\n",
    "\n",
    "        self.layer_1 = nn.Linear(num_features, 16)\n",
    "        self.layer_2 = nn.Linear(16, 32)\n",
    "        self.layer_3 = nn.Linear(32, 16)\n",
    "        self.layer_out = nn.Linear(16, 1)\n",
    "\n",
    "        self.relu = nn.ReLU()\n",
    "\n",
    "    def forward(self, inputs):\n",
    "        x = self.relu(self.layer_1(inputs))\n",
    "        x = self.relu(self.layer_2(x))\n",
    "        x = self.relu(self.layer_3(x))\n",
    "        x = self.layer_out(x)\n",
    "        return x\n",
    "\n",
    "    def predict(self, test_inputs):\n",
    "        x = self.relu(self.layer_1(test_inputs))\n",
    "        x = self.relu(self.layer_2(x))\n",
    "        x = self.relu(self.layer_3(x))\n",
    "        x = self.layer_out(x)\n",
    "        return x\n",
    "# torch.cuda.set_device(\"cuda:0\")\n",
    "# print(torch.cuda.get_device_name())"
   ]
  },
  {
   "cell_type": "code",
   "execution_count": 13,
   "metadata": {},
   "outputs": [
    {
     "name": "stdout",
     "output_type": "stream",
     "text": [
      "MultipleRegression(\n",
      "  (layer_1): Linear(in_features=8, out_features=16, bias=True)\n",
      "  (layer_2): Linear(in_features=16, out_features=32, bias=True)\n",
      "  (layer_3): Linear(in_features=32, out_features=16, bias=True)\n",
      "  (layer_out): Linear(in_features=16, out_features=1, bias=True)\n",
      "  (relu): ReLU()\n",
      ")\n"
     ]
    }
   ],
   "source": [
    "# device = torch.device(\"cuda:0\" if torch.cuda.is_available() else \"cpu\")\n",
    "device = \"cpu\"\n",
    "model = MultipleRegression(NUM_FEATURES)\n",
    "model.to(device)\n",
    "print(model)\n",
    "criterion = nn.MSELoss()\n",
    "optimizer = optim.Adam(model.parameters(), lr=LEARNING_RATE)"
   ]
  },
  {
   "cell_type": "code",
   "execution_count": 14,
   "metadata": {},
   "outputs": [],
   "source": [
    "loss_stats = {\n",
    "    'train': [],\n",
    "    \"val\": []\n",
    "}"
   ]
  },
  {
   "cell_type": "code",
   "execution_count": 15,
   "metadata": {},
   "outputs": [
    {
     "name": "stderr",
     "output_type": "stream",
     "text": [
      "  4%|▍         | 75/2000 [00:05<00:55, 34.55it/s] "
     ]
    },
    {
     "name": "stdout",
     "output_type": "stream",
     "text": [
      "Epoch 050: | Train Loss: 2863237.25000 | Val Loss: 2671920.12500\n"
     ]
    },
    {
     "name": "stderr",
     "output_type": "stream",
     "text": [
      "  6%|▋         | 126/2000 [00:05<00:24, 76.68it/s]"
     ]
    },
    {
     "name": "stdout",
     "output_type": "stream",
     "text": [
      "Epoch 100: | Train Loss: 256293.10268 | Val Loss: 172598.14062\n"
     ]
    },
    {
     "name": "stderr",
     "output_type": "stream",
     "text": [
      "  9%|▉         | 178/2000 [00:05<00:14, 122.04it/s]"
     ]
    },
    {
     "name": "stdout",
     "output_type": "stream",
     "text": [
      "Epoch 150: | Train Loss: 176520.11607 | Val Loss: 144966.27344\n"
     ]
    },
    {
     "name": "stderr",
     "output_type": "stream",
     "text": [
      " 12%|█▏        | 230/2000 [00:05<00:11, 149.76it/s]"
     ]
    },
    {
     "name": "stdout",
     "output_type": "stream",
     "text": [
      "Epoch 200: | Train Loss: 143506.60407 | Val Loss: 117257.39062\n"
     ]
    },
    {
     "name": "stderr",
     "output_type": "stream",
     "text": [
      " 14%|█▍        | 281/2000 [00:06<00:11, 155.52it/s]"
     ]
    },
    {
     "name": "stdout",
     "output_type": "stream",
     "text": [
      "Epoch 250: | Train Loss: 136561.62165 | Val Loss: 89661.42188\n"
     ]
    },
    {
     "name": "stderr",
     "output_type": "stream",
     "text": [
      " 17%|█▋        | 333/2000 [00:06<00:10, 163.56it/s]"
     ]
    },
    {
     "name": "stdout",
     "output_type": "stream",
     "text": [
      "Epoch 300: | Train Loss: 90431.78850 | Val Loss: 63036.29688\n"
     ]
    },
    {
     "name": "stderr",
     "output_type": "stream",
     "text": [
      " 18%|█▊        | 367/2000 [00:06<00:10, 157.32it/s]"
     ]
    },
    {
     "name": "stdout",
     "output_type": "stream",
     "text": [
      "Epoch 350: | Train Loss: 52200.05455 | Val Loss: 39580.88672\n"
     ]
    },
    {
     "name": "stderr",
     "output_type": "stream",
     "text": [
      " 21%|██        | 417/2000 [00:07<00:10, 155.79it/s]"
     ]
    },
    {
     "name": "stdout",
     "output_type": "stream",
     "text": [
      "Epoch 400: | Train Loss: 31606.37193 | Val Loss: 20190.06543\n"
     ]
    },
    {
     "name": "stderr",
     "output_type": "stream",
     "text": [
      " 23%|██▎       | 466/2000 [00:07<00:10, 150.79it/s]"
     ]
    },
    {
     "name": "stdout",
     "output_type": "stream",
     "text": [
      "Epoch 450: | Train Loss: 11253.43066 | Val Loss: 8316.14990\n"
     ]
    },
    {
     "name": "stderr",
     "output_type": "stream",
     "text": [
      " 27%|██▋       | 532/2000 [00:07<00:09, 156.87it/s]"
     ]
    },
    {
     "name": "stdout",
     "output_type": "stream",
     "text": [
      "Epoch 500: | Train Loss: 8002.38874 | Val Loss: 3511.54785\n"
     ]
    },
    {
     "name": "stderr",
     "output_type": "stream",
     "text": [
      " 29%|██▉       | 583/2000 [00:08<00:08, 163.24it/s]"
     ]
    },
    {
     "name": "stdout",
     "output_type": "stream",
     "text": [
      "Epoch 550: | Train Loss: 2181.54075 | Val Loss: 1794.93494\n"
     ]
    },
    {
     "name": "stderr",
     "output_type": "stream",
     "text": [
      " 31%|███       | 617/2000 [00:08<00:08, 164.42it/s]"
     ]
    },
    {
     "name": "stdout",
     "output_type": "stream",
     "text": [
      "Epoch 600: | Train Loss: 1272.52568 | Val Loss: 1057.03546\n"
     ]
    },
    {
     "name": "stderr",
     "output_type": "stream",
     "text": [
      " 34%|███▎      | 671/2000 [00:08<00:07, 169.63it/s]"
     ]
    },
    {
     "name": "stdout",
     "output_type": "stream",
     "text": [
      "Epoch 650: | Train Loss: 757.38455 | Val Loss: 596.30988\n"
     ]
    },
    {
     "name": "stderr",
     "output_type": "stream",
     "text": [
      " 36%|███▌      | 722/2000 [00:09<00:07, 165.47it/s]"
     ]
    },
    {
     "name": "stdout",
     "output_type": "stream",
     "text": [
      "Epoch 700: | Train Loss: 401.92386 | Val Loss: 347.05936\n"
     ]
    },
    {
     "name": "stderr",
     "output_type": "stream",
     "text": [
      " 39%|███▊      | 774/2000 [00:09<00:07, 166.98it/s]"
     ]
    },
    {
     "name": "stdout",
     "output_type": "stream",
     "text": [
      "Epoch 750: | Train Loss: 242.37517 | Val Loss: 216.46193\n"
     ]
    },
    {
     "name": "stderr",
     "output_type": "stream",
     "text": [
      " 41%|████▏     | 825/2000 [00:09<00:07, 164.11it/s]"
     ]
    },
    {
     "name": "stdout",
     "output_type": "stream",
     "text": [
      "Epoch 800: | Train Loss: 205.67436 | Val Loss: 174.56089\n"
     ]
    },
    {
     "name": "stderr",
     "output_type": "stream",
     "text": [
      " 44%|████▍     | 876/2000 [00:09<00:06, 161.38it/s]"
     ]
    },
    {
     "name": "stdout",
     "output_type": "stream",
     "text": [
      "Epoch 850: | Train Loss: 187.89380 | Val Loss: 153.73215\n"
     ]
    },
    {
     "name": "stderr",
     "output_type": "stream",
     "text": [
      " 46%|████▋     | 925/2000 [00:10<00:07, 149.79it/s]"
     ]
    },
    {
     "name": "stdout",
     "output_type": "stream",
     "text": [
      "Epoch 900: | Train Loss: 159.93546 | Val Loss: 147.05818\n"
     ]
    },
    {
     "name": "stderr",
     "output_type": "stream",
     "text": [
      " 49%|████▉     | 975/2000 [00:10<00:06, 155.52it/s]"
     ]
    },
    {
     "name": "stdout",
     "output_type": "stream",
     "text": [
      "Epoch 950: | Train Loss: 150.45138 | Val Loss: 143.28182\n"
     ]
    },
    {
     "name": "stderr",
     "output_type": "stream",
     "text": [
      " 51%|█████     | 1024/2000 [00:10<00:06, 159.58it/s]"
     ]
    },
    {
     "name": "stdout",
     "output_type": "stream",
     "text": [
      "Epoch 1000: | Train Loss: 124.42232 | Val Loss: 129.76227\n"
     ]
    },
    {
     "name": "stderr",
     "output_type": "stream",
     "text": [
      " 54%|█████▎    | 1074/2000 [00:11<00:05, 160.39it/s]"
     ]
    },
    {
     "name": "stdout",
     "output_type": "stream",
     "text": [
      "Epoch 1050: | Train Loss: 109.87418 | Val Loss: 116.77217\n"
     ]
    },
    {
     "name": "stderr",
     "output_type": "stream",
     "text": [
      " 56%|█████▌    | 1124/2000 [00:11<00:05, 158.30it/s]"
     ]
    },
    {
     "name": "stdout",
     "output_type": "stream",
     "text": [
      "Epoch 1100: | Train Loss: 112.38886 | Val Loss: 106.78032\n"
     ]
    },
    {
     "name": "stderr",
     "output_type": "stream",
     "text": [
      " 59%|█████▊    | 1174/2000 [00:11<00:05, 159.78it/s]"
     ]
    },
    {
     "name": "stdout",
     "output_type": "stream",
     "text": [
      "Epoch 1150: | Train Loss: 101.08694 | Val Loss: 93.25408\n"
     ]
    },
    {
     "name": "stderr",
     "output_type": "stream",
     "text": [
      " 61%|██████    | 1224/2000 [00:12<00:04, 159.40it/s]"
     ]
    },
    {
     "name": "stdout",
     "output_type": "stream",
     "text": [
      "Epoch 1200: | Train Loss: 73.01679 | Val Loss: 82.94454\n"
     ]
    },
    {
     "name": "stderr",
     "output_type": "stream",
     "text": [
      " 64%|██████▍   | 1276/2000 [00:12<00:04, 165.20it/s]"
     ]
    },
    {
     "name": "stdout",
     "output_type": "stream",
     "text": [
      "Epoch 1250: | Train Loss: 66.66509 | Val Loss: 76.07519\n"
     ]
    },
    {
     "name": "stderr",
     "output_type": "stream",
     "text": [
      " 66%|██████▋   | 1327/2000 [00:12<00:04, 163.66it/s]"
     ]
    },
    {
     "name": "stdout",
     "output_type": "stream",
     "text": [
      "Epoch 1300: | Train Loss: 60.15201 | Val Loss: 63.76283\n"
     ]
    },
    {
     "name": "stderr",
     "output_type": "stream",
     "text": [
      " 69%|██████▉   | 1379/2000 [00:13<00:03, 161.31it/s]"
     ]
    },
    {
     "name": "stdout",
     "output_type": "stream",
     "text": [
      "Epoch 1350: | Train Loss: 73.05342 | Val Loss: 64.26309\n"
     ]
    },
    {
     "name": "stderr",
     "output_type": "stream",
     "text": [
      " 72%|███████▏  | 1430/2000 [00:13<00:03, 158.97it/s]"
     ]
    },
    {
     "name": "stdout",
     "output_type": "stream",
     "text": [
      "Epoch 1400: | Train Loss: 45.66311 | Val Loss: 46.37478\n"
     ]
    },
    {
     "name": "stderr",
     "output_type": "stream",
     "text": [
      " 74%|███████▍  | 1478/2000 [00:13<00:03, 150.53it/s]"
     ]
    },
    {
     "name": "stdout",
     "output_type": "stream",
     "text": [
      "Epoch 1450: | Train Loss: 43.26384 | Val Loss: 41.21899\n"
     ]
    },
    {
     "name": "stderr",
     "output_type": "stream",
     "text": [
      " 77%|███████▋  | 1531/2000 [00:14<00:02, 163.95it/s]"
     ]
    },
    {
     "name": "stdout",
     "output_type": "stream",
     "text": [
      "Epoch 1500: | Train Loss: 28.93625 | Val Loss: 34.31229\n"
     ]
    },
    {
     "name": "stderr",
     "output_type": "stream",
     "text": [
      " 78%|███████▊  | 1565/2000 [00:14<00:02, 157.99it/s]"
     ]
    },
    {
     "name": "stdout",
     "output_type": "stream",
     "text": [
      "Epoch 1550: | Train Loss: 27.65900 | Val Loss: 28.87959\n"
     ]
    },
    {
     "name": "stderr",
     "output_type": "stream",
     "text": [
      " 81%|████████  | 1618/2000 [00:14<00:02, 165.85it/s]"
     ]
    },
    {
     "name": "stdout",
     "output_type": "stream",
     "text": [
      "Epoch 1600: | Train Loss: 30.00799 | Val Loss: 25.99624\n"
     ]
    },
    {
     "name": "stderr",
     "output_type": "stream",
     "text": [
      " 84%|████████▎ | 1670/2000 [00:14<00:01, 168.11it/s]"
     ]
    },
    {
     "name": "stdout",
     "output_type": "stream",
     "text": [
      "Epoch 1650: | Train Loss: 22.99690 | Val Loss: 21.30382\n"
     ]
    },
    {
     "name": "stderr",
     "output_type": "stream",
     "text": [
      " 86%|████████▌ | 1722/2000 [00:15<00:01, 169.01it/s]"
     ]
    },
    {
     "name": "stdout",
     "output_type": "stream",
     "text": [
      "Epoch 1700: | Train Loss: 21.96302 | Val Loss: 34.85356\n"
     ]
    },
    {
     "name": "stderr",
     "output_type": "stream",
     "text": [
      " 89%|████████▊ | 1774/2000 [00:15<00:01, 169.89it/s]"
     ]
    },
    {
     "name": "stdout",
     "output_type": "stream",
     "text": [
      "Epoch 1750: | Train Loss: 13.96003 | Val Loss: 15.92108\n"
     ]
    },
    {
     "name": "stderr",
     "output_type": "stream",
     "text": [
      " 91%|█████████▏| 1828/2000 [00:15<00:01, 171.04it/s]"
     ]
    },
    {
     "name": "stdout",
     "output_type": "stream",
     "text": [
      "Epoch 1800: | Train Loss: 11.00411 | Val Loss: 12.20661\n"
     ]
    },
    {
     "name": "stderr",
     "output_type": "stream",
     "text": [
      " 94%|█████████▍| 1881/2000 [00:16<00:00, 163.78it/s]"
     ]
    },
    {
     "name": "stdout",
     "output_type": "stream",
     "text": [
      "Epoch 1850: | Train Loss: 9.55052 | Val Loss: 14.98095\n"
     ]
    },
    {
     "name": "stderr",
     "output_type": "stream",
     "text": [
      " 97%|█████████▋| 1932/2000 [00:16<00:00, 164.08it/s]"
     ]
    },
    {
     "name": "stdout",
     "output_type": "stream",
     "text": [
      "Epoch 1900: | Train Loss: 16.82034 | Val Loss: 22.85179\n"
     ]
    },
    {
     "name": "stderr",
     "output_type": "stream",
     "text": [
      " 98%|█████████▊| 1966/2000 [00:16<00:00, 164.02it/s]"
     ]
    },
    {
     "name": "stdout",
     "output_type": "stream",
     "text": [
      "Epoch 1950: | Train Loss: 8.57077 | Val Loss: 7.55617\n"
     ]
    },
    {
     "name": "stderr",
     "output_type": "stream",
     "text": [
      "100%|██████████| 2000/2000 [00:16<00:00, 117.98it/s]"
     ]
    },
    {
     "name": "stdout",
     "output_type": "stream",
     "text": [
      "Epoch 2000: | Train Loss: 7.20485 | Val Loss: 6.87162\n"
     ]
    },
    {
     "name": "stderr",
     "output_type": "stream",
     "text": [
      "\n"
     ]
    }
   ],
   "source": [
    "for e in tqdm(range(1, EPOCHS + 1)):\n",
    "    # TRAINING\n",
    "    train_epoch_loss = 0\n",
    "    model.train()\n",
    "    for X_train_batch, y_train_batch in train_loader:\n",
    "        X_train_batch, y_train_batch = X_train_batch.to(device), y_train_batch.to(\n",
    "            device\n",
    "        )\n",
    "        optimizer.zero_grad()\n",
    "\n",
    "        y_train_pred = model(X_train_batch)\n",
    "\n",
    "        train_loss = criterion(y_train_pred, y_train_batch.unsqueeze(1))\n",
    "\n",
    "        train_loss.backward()\n",
    "        optimizer.step()\n",
    "\n",
    "        train_epoch_loss += train_loss.item()\n",
    "\n",
    "    # VALIDATION\n",
    "    with torch.no_grad():\n",
    "        val_epoch_loss = 0\n",
    "\n",
    "        model.eval()\n",
    "        for X_val_batch, y_val_batch in val_loader:\n",
    "            X_val_batch, y_val_batch = X_val_batch.to(device), y_val_batch.to(device)\n",
    "\n",
    "            y_val_pred = model(X_val_batch)\n",
    "\n",
    "            val_loss = criterion(y_val_pred, y_val_batch.unsqueeze(1))\n",
    "\n",
    "            val_epoch_loss += val_loss.item()\n",
    "        # print(torch.cuda.get_device_name())\n",
    "\n",
    "        loss_stats[\"train\"].append(train_epoch_loss / len(train_loader))\n",
    "        loss_stats[\"val\"].append(val_epoch_loss / len(val_loader))\n",
    "\n",
    "    if e % 50 == 0:\n",
    "        print(\n",
    "            f\"Epoch {e+0:03}: | Train Loss: {train_epoch_loss/len(train_loader):.5f} | Val Loss: {val_epoch_loss/len(val_loader):.5f}\"\n",
    "        )\n",
    "# torch.cuda.set_device(\"cuda:0\")\n",
    "# print(torch.cuda.get_device_name())"
   ]
  },
  {
   "cell_type": "code",
   "execution_count": 16,
   "metadata": {},
   "outputs": [
    {
     "name": "stdout",
     "output_type": "stream",
     "text": [
      "2000\n",
      "2000\n"
     ]
    }
   ],
   "source": [
    "print(len(loss_stats['train']))\n",
    "print(len(loss_stats['val']))"
   ]
  },
  {
   "cell_type": "code",
   "execution_count": 17,
   "metadata": {},
   "outputs": [
    {
     "data": {
      "text/plain": [
       "Text(0.5, 1.0, 'Train-Val Loss/Epoch')"
      ]
     },
     "execution_count": 17,
     "metadata": {},
     "output_type": "execute_result"
    },
    {
     "data": {
      "image/png": "[encoded data removed]",
      "text/plain": [
       "<Figure size 1500x800 with 1 Axes>"
      ]
     },
     "metadata": {},
     "output_type": "display_data"
    }
   ],
   "source": [
    "train_val_loss_df = (\n",
    "    pd.DataFrame.from_dict(loss_stats)\n",
    "    .reset_index()\n",
    "    .melt(id_vars=[\"index\"])\n",
    "    .rename(columns={\"index\": \"epochs\"})\n",
    ")\n",
    "plt.figure(figsize=(15, 8))\n",
    "sns.lineplot(data=train_val_loss_df, x=\"epochs\", y=\"value\", hue=\"variable\").set_title(\n",
    "    \"Train-Val Loss/Epoch\"\n",
    ")"
   ]
  },
  {
   "cell_type": "code",
   "execution_count": 29,
   "metadata": {},
   "outputs": [
    {
     "name": "stderr",
     "output_type": "stream",
     "text": [
      "100%|██████████| 2/2 [00:00<00:00, 24105.20it/s]"
     ]
    },
    {
     "name": "stdout",
     "output_type": "stream",
     "text": [
      "[2672.94, 2517.9832, 2452.2175, 2767.086, 2565.8713, 2974.0579, 2843.7083, 2739.8508, 2841.118, 2797.362, 2578.3953, 2449.1516, 2719.158, 2655.494, 2446.4502, 2800.3691, 2605.7695, 2754.911, 2926.675, 2465.9958, 3049.2778, 2463.6243, 2685.0344, 2626.1638, 2766.196, 2802.9177, 2831.132, 2821.9539, 3069.4114, 2725.5454, 2643.0564, 2684.723, 2791.0273, 2457.6028, 2628.3203, 2691.7817, 2973.8237, 2790.5754, 2997.1628, 2688.8865, 2795.78, 2832.741, 2788.1433, 2708.254, 2977.7903, 2733.1023, 2728.7573, 2550.8757, 2423.5986, 2550.0842, 2948.0798, 2543.0532, 2627.4646, 2676.2517, 3303.365, 3054.057, 2469.0486, 2656.3298, 2738.493, 2439.2817, 2720.4988, 2695.4246, 2677.9119, 2791.6462, 2670.632, 2962.6384, 2636.4802, 2951.0059, 2966.4119, 2532.361, 2732.5603, 2515.9866, 2425.8516, 2837.8708, 2413.4272, 2364.5583, 2476.0247, 2723.978, 2964.4631, 2606.2405, 2456.6404, 2354.361, 2816.282, 2836.637, 2671.9744, 2760.474, 2519.638, 2667.1755, 2665.8992, 2841.1184, 2316.3713, 2567.4446, 2621.0657, 2454.3, 2751.4102, 3077.1196, 2375.5972, 2759.8884, 2943.815, 2514.916, 2905.3577, 2800.3433, 2798.8364, 2792.2532, 2850.8284, 2739.8972, 2670.6309, 2551.568, 2749.2966, 2872.9143, 3063.6584, 2883.419, 2735.1406, 2939.3252, 2936.102, 2632.3342, 2781.2017, 2465.534, 2740.5044, 2458.9595, 2377.9148]\n",
      "[2672.9920592697076, 2514.5933725335085, 2453.679832116231, 2767.1444807454805, 2565.529833962467, 2976.8380452577762, 2844.460017218452, 2744.1193722944745, 2843.0753129521236, 2796.9472339864956, 2577.3954906558365, 2448.529410958695, 2717.4138354825827, 2656.6315914707807, 2447.9678335845742, 2801.5509607184076, 2605.423257808273, 2756.4337163101386, 2928.1420091048935, 2468.0425816708885, 3051.1290618742305, 2464.947323856543, 2685.295703847639, 2625.340969378976, 2769.2800093303294, 2802.3282261205604, 2832.1726645923172, 2820.0464318723334, 3071.06109453983, 2727.590248463666, 2643.090843697361, 2683.6693789890614, 2791.1458624756033, 2458.2809370939713, 2628.6744306721994, 2687.150058094835, 2975.3294076209086, 2788.8704034886537, 2994.0817917106433, 2691.6041674467965, 2797.455933515734, 2830.6813556772236, 2789.479364045111, 2704.940986235692, 2980.1954147637216, 2730.3517002598633, 2730.348375258371, 2551.8931114373186, 2425.4614306439485, 2548.979861641227, 2942.8079269734035, 2546.6039256538606, 2630.986029593078, 2677.0063484973766, 3298.0635231768874, 3053.4055263981263, 2471.5033137037994, 2658.4963568963485, 2740.1305309990203, 2438.1953922693037, 2720.147605662125, 2696.0953316369914, 2678.5778631427415, 2789.4967590390615, 2674.1709374918983, 2960.719705284834, 2635.2788657544174, 2951.845087131922, 2967.682360082496, 2529.807706549394, 2731.862041797663, 2512.9060263412193, 2428.013797654788, 2837.883537481104, 2415.6682687096145, 2359.171069087408, 2474.3516065179733, 2724.3689603145367, 2966.93131404435, 2602.024661099598, 2452.13676533992, 2351.67994956472, 2815.0821141050988, 2837.3523312353477, 2673.1078490774535, 2758.2951345181546, 2518.7468625350293, 2663.725374314611, 2666.776824060217, 2843.1240494079857, 2315.129814977993, 2569.464341763982, 2623.6679450481793, 2448.7030937058607, 2752.3840065285785, 3078.790561851281, 2376.4739570574475, 2758.0046325380385, 2944.3758311304828, 2518.453266712293, 2904.7682216978787, 2799.0215092827284, 2800.4614325406, 2795.1676984619266, 2851.679005730539, 2739.1935342334405, 2672.4141318541956, 2553.46647129163, 2746.507367332921, 2876.2812639643653, 3065.0249686004495, 2883.649254260604, 2733.807813332262, 2940.198222996033, 2936.163312938144, 2632.3447244653876, 2784.8898277328103, 2461.485129242192, 2739.9191759100963, 2455.4834769357694, 2372.395643208231]\n",
      "The average error is: -0.27616770231353927\n"
     ]
    },
    {
     "name": "stderr",
     "output_type": "stream",
     "text": [
      "\n"
     ]
    },
    {
     "data": {
      "text/plain": [
       "[Text(0.5, 1.0, 'Deviation of Error')]"
      ]
     },
     "execution_count": 29,
     "metadata": {},
     "output_type": "execute_result"
    },
    {
     "data": {
      "image/png": "[encoded data removed]",
      "text/plain": [
       "<Figure size 640x480 with 1 Axes>"
      ]
     },
     "metadata": {},
     "output_type": "display_data"
    }
   ],
   "source": [
    "y_pred_list = []\n",
    "with torch.no_grad():\n",
    "    model.eval()\n",
    "    for X_batch, _ in test_loader:\n",
    "        X_batch = X_batch.to(device)\n",
    "        y_test_pred = model(X_batch)\n",
    "        y_pred_list.append(y_test_pred.cpu().numpy())\n",
    "        y_pred_list = [a for a in y_pred_list]\n",
    "        \n",
    "y_pred = []\n",
    "for i in tqdm(range(len(y_pred_list))):\n",
    "    for j in range(len(y_pred_list[i])):\n",
    "        for k in range(len(y_pred_list[i][j])):\n",
    "            y_pred.append(y_pred_list[i][j][k])\n",
    "\n",
    "print(y_pred)  \n",
    "print(y_test.tolist())\n",
    "y_pred_np = np.array(y_pred)\n",
    "difference = np.subtract(y_pred_np, y_test)\n",
    "mean_difference = np.mean(difference)\n",
    "print(f\"The average deviation in error is: {mean_difference * 100}\")\n",
    "sns.lineplot(difference).set(title=\"Deviation of Error\")"
   ]
  },
  {
   "cell_type": "code",
   "execution_count": 19,
   "metadata": {},
   "outputs": [
    {
     "name": "stdout",
     "output_type": "stream",
     "text": [
      "Mean Squared Error : 5.089864289176946\n",
      "R^2 : 0.9998563346172763\n",
      "Accuracy (using MSE): 94.91013571082306%\n",
      "Mean absolute percentage error: 99.99931617696947%\n"
     ]
    }
   ],
   "source": [
    "mse = mean_squared_error(y_test, y_pred)\n",
    "r_square = r2_score(y_test, y_pred)\n",
    "mean_abs_err = mean_absolute_percentage_error(y_test, y_pred)\n",
    "print(\"Mean Squared Error :\",mse)\n",
    "print(\"R^2 :\",r_square)\n",
    "print(f\"Accuracy (using MSE): {(100 - mse)}%\")\n",
    "print(f\"Mean absolute percentage error: {100 - mean_abs_err}%\")"
   ]
  },
  {
   "cell_type": "markdown",
   "metadata": {},
   "source": [
    "#### Visualising the data"
   ]
  },
  {
   "cell_type": "code",
   "execution_count": 20,
   "metadata": {},
   "outputs": [],
   "source": [
    "import plotly as py\n",
    "import plotly.io as pio    \n",
    "import plotly.graph_objects as go\n",
    "from plotly.subplots import make_subplots\n",
    "from plotly.offline import download_plotlyjs, init_notebook_mode, plot, iplot"
   ]
  },
  {
   "cell_type": "code",
   "execution_count": 21,
   "metadata": {},
   "outputs": [
    {
     "data": {
      "application/vnd.plotly.v1+json": {
       "config": {
        "plotlyServerURL": "https://plot.ly"
       },
       "data": [
        {
         "marker": {
          "color": "LightSkyBlue"
         },
         "name": "Truth",
         "type": "scatter",
         "x": [
          0,
          0,
          0,
          0,
          0,
          0,
          0,
          0,
          0,
          0,
          0,
          0,
          0,
          0,
          0,
          1,
          1,
          1,
          1,
          1,
          1,
          1,
          1,
          1,
          1,
          1,
          1,
          1,
          1,
          1,
          2,
          2,
          2,
          2,
          2,
          2,
          2,
          2,
          2,
          2,
          2,
          2,
          2,
          2,
          2,
          3,
          3,
          3,
          3,
          3,
          3,
          3,
          3,
          3,
          3,
          3,
          3,
          3,
          3,
          3,
          4,
          4,
          4,
          4,
          4,
          4,
          4,
          4,
          4,
          4,
          4,
          4,
          4,
          4,
          4,
          5,
          5,
          5,
          5,
          5,
          5,
          5,
          5,
          5,
          5,
          5,
          5,
          5,
          5,
          5,
          6,
          6,
          6,
          6,
          6,
          6,
          6,
          6,
          6,
          6,
          6,
          6,
          6,
          6,
          6,
          7,
          7,
          7,
          7,
          7,
          7,
          7,
          7,
          7,
          7,
          7,
          7,
          7,
          7,
          7,
          8,
          8,
          8,
          8,
          8,
          8,
          8,
          8,
          8,
          8,
          8,
          8,
          8,
          8,
          8,
          9,
          9,
          9,
          9,
          9,
          9,
          9,
          9,
          9,
          9,
          9,
          9,
          9,
          9,
          9,
          10,
          10,
          10,
          10,
          10,
          10,
          10,
          10,
          10,
          10,
          10,
          10,
          10,
          10,
          10,
          11,
          11,
          11,
          11,
          11,
          11,
          11,
          11,
          11,
          11,
          11,
          11,
          11,
          11,
          11,
          12,
          12,
          12,
          12,
          12,
          12,
          12,
          12,
          12,
          12,
          12,
          12,
          12,
          12,
          12,
          13,
          13,
          13,
          13,
          13,
          13,
          13,
          13,
          13,
          13,
          13,
          13,
          13,
          13,
          13,
          14,
          14,
          14,
          14,
          14,
          14,
          14,
          14,
          14,
          14,
          14,
          14,
          14,
          14,
          14,
          15,
          15,
          15,
          15,
          15,
          15,
          15,
          15,
          15,
          15,
          15,
          15,
          15,
          15,
          15,
          16,
          16,
          16,
          16,
          16,
          16,
          16,
          16,
          16,
          16,
          16,
          16,
          16,
          16,
          16,
          17,
          17,
          17,
          17,
          17,
          17,
          17,
          17,
          17,
          17,
          17,
          17,
          17,
          17,
          17,
          18,
          18,
          18,
          18,
          18,
          18,
          18,
          18,
          18,
          18,
          18,
          18,
          18,
          18,
          18,
          19,
          19,
          19,
          19,
          19,
          19,
          19,
          19,
          19,
          19,
          19,
          19,
          19,
          19,
          19,
          20,
          20,
          20,
          20,
          20,
          20,
          20,
          20,
          20,
          20,
          20,
          20,
          20,
          20,
          20,
          21,
          21,
          21,
          21,
          21,
          21,
          21,
          21,
          21,
          21,
          21,
          21,
          21,
          21,
          21,
          22,
          22,
          22,
          22,
          22,
          22,
          22,
          22,
          22,
          22,
          22,
          22,
          22,
          22,
          22,
          23,
          23,
          23,
          23,
          23,
          23,
          23,
          23,
          23,
          23,
          23,
          23,
          23,
          23,
          23,
          24,
          24,
          24,
          24,
          24,
          24,
          24,
          24,
          24,
          24,
          24,
          24,
          24,
          24,
          24,
          25,
          25,
          25,
          25,
          25,
          25,
          25,
          25,
          25,
          25,
          25,
          25,
          25,
          25,
          25,
          26,
          26,
          26,
          26,
          26,
          26,
          26,
          26,
          26,
          26,
          26,
          26,
          26,
          26,
          26,
          27,
          27,
          27,
          27,
          27,
          27,
          27,
          27,
          27,
          27,
          27,
          27,
          27,
          27,
          27,
          28,
          28,
          28,
          28,
          28,
          28,
          28,
          28,
          28,
          28,
          28,
          28,
          28,
          28,
          28,
          29,
          29,
          29,
          29,
          29,
          29,
          29,
          29,
          29,
          29,
          29,
          29,
          29,
          29,
          29,
          30,
          30,
          30,
          30,
          30,
          30,
          30,
          30,
          30,
          30,
          30,
          30,
          30,
          30,
          30,
          31,
          31,
          31,
          31,
          31,
          31,
          31,
          31,
          31,
          31,
          31,
          31,
          31,
          31,
          31,
          32,
          32,
          32,
          32,
          32,
          32,
          32,
          32,
          32,
          32,
          32,
          32,
          32,
          32,
          32,
          33,
          33,
          33,
          33,
          33,
          33,
          33,
          33,
          33,
          33,
          33,
          33,
          33,
          33,
          33,
          34,
          34,
          34,
          34,
          34,
          34,
          34,
          34,
          34,
          34,
          34,
          34,
          34,
          34,
          34,
          35,
          35,
          35,
          35,
          35,
          35,
          35,
          35,
          35,
          35,
          35,
          35,
          35,
          35,
          35,
          36,
          36,
          36,
          36,
          36,
          36,
          36,
          36,
          36,
          36,
          36,
          36,
          36,
          36,
          36,
          37,
          37,
          37,
          37,
          37,
          37,
          37,
          37,
          37,
          37,
          37,
          37,
          37,
          37,
          37,
          38,
          38,
          38,
          38,
          38,
          38,
          38,
          38,
          38,
          38,
          38,
          38,
          38,
          38,
          38,
          39,
          39,
          39,
          39,
          39,
          39,
          39,
          39,
          39,
          39,
          39,
          39,
          39,
          39,
          39,
          40,
          40,
          40,
          40,
          40,
          40,
          40,
          40,
          40,
          40,
          40,
          40,
          40,
          40,
          40,
          41,
          41,
          41,
          41,
          41,
          41,
          41,
          41,
          41,
          41,
          41,
          41,
          41,
          41,
          41,
          42,
          42,
          42,
          42,
          42,
          42,
          42,
          42,
          42
         ],
         "xaxis": "x",
         "y": [
          3463.949951,
          3448.850098,
          3419.350098,
          3350.550049,
          3264.149902,
          3255.050049,
          3190.550049,
          3107.199951,
          3119.149902,
          3095.850098,
          3067.449951,
          3033.850098,
          2941.649902,
          2937.800049,
          2963.850098,
          2913.600098,
          2956.100098,
          2886.899902,
          2887.949951,
          2941.600098,
          2928,
          2912.899902,
          2786.100098,
          2865.350098,
          2862.550049,
          2894.850098,
          2785.550049,
          2823.699951,
          2851.149902,
          2864.050049,
          2864.550049,
          2905.5,
          2926.25,
          2860.100098,
          2819.149902,
          2793.25,
          2776.75,
          2788.199951,
          2913.300049,
          2860.800049,
          2836.300049,
          2838.350098,
          2840.149902,
          2812.350098,
          2854.75,
          2906.949951,
          2915,
          2865.100098,
          2884.399902,
          2900.449951,
          2929.699951,
          2964.699951,
          2991.300049,
          2991.550049,
          3007.5,
          2976.75,
          2972.600098,
          3008.350098,
          3048.399902,
          3052.25,
          3055.949951,
          3023.5,
          3009,
          3004.350098,
          2985.649902,
          3007.050049,
          2975.399902,
          2914.100098,
          2891.350098,
          2894.850098,
          2907.050049,
          2928.350098,
          2906.949951,
          2939.199951,
          2943.649902,
          2927.5,
          2902.600098,
          2922.5,
          2919.850098,
          2938.050049,
          2919.25,
          2913.350098,
          2900.399902,
          2896.800049,
          2898.199951,
          2904.100098,
          2900.699951,
          2884.649902,
          2904.699951,
          2887.100098,
          2839,
          2838.25,
          2835,
          2810.25,
          2793.850098,
          2777.699951,
          2745.699951,
          2763.300049,
          2782.199951,
          2819.100098,
          2805.5,
          2818.800049,
          2833.800049,
          2836.300049,
          2797.050049,
          2781.600098,
          2782.949951,
          2772.199951,
          2747.350098,
          2782.600098,
          2763.600098,
          2697.5,
          2680.600098,
          2675.850098,
          2673.949951,
          2647.550049,
          2674.050049,
          2726.25,
          2741.850098,
          2740.850098,
          2730.350098,
          2799.449951,
          2817.199951,
          2797.75,
          2798.350098,
          2796.699951,
          2789.800049,
          2851.699951,
          2874.949951,
          2920.399902,
          2932.100098,
          2889.5,
          2850.449951,
          2847.199951,
          2853.050049,
          2833.449951,
          2912.949951,
          2920.550049,
          2886.149902,
          2832.5,
          2847.949951,
          2855.550049,
          2844.550049,
          2798.149902,
          2841.649902,
          2842.100098,
          2857.800049,
          2916.649902,
          2925.199951,
          2927.800049,
          2904.100098,
          2876.050049,
          2816,
          2756.899902,
          2744.149902,
          2686.800049,
          2700.5,
          2690.149902,
          2667.75,
          2657.100098,
          2680.699951,
          2684.300049,
          2641.449951,
          2677.5,
          2682.899902,
          2714.350098,
          2718.800049,
          2700.899902,
          2683.050049,
          2693.25,
          2750.899902,
          2749.350098,
          2684.850098,
          2634.600098,
          2632.199951,
          2621.050049,
          2594.699951,
          2529.399902,
          2490.800049,
          2449.300049,
          2448.199951,
          2472.699951,
          2462.449951,
          2420,
          2461.800049,
          2490.649902,
          2520.949951,
          2526.850098,
          2495,
          2483.800049,
          2507.149902,
          2471.100098,
          2444.649902,
          2356.649902,
          2347.399902,
          2348.800049,
          2392.699951,
          2392.449951,
          2402,
          2417.800049,
          2433.25,
          2431.899902,
          2462.100098,
          2476.600098,
          2484.899902,
          2506,
          2496,
          2499.100098,
          2578.100098,
          2568.25,
          2590.5,
          2593.600098,
          2569.699951,
          2701.5,
          2692.850098,
          2699.800049,
          2709.449951,
          2750.100098,
          2706.199951,
          2782.050049,
          2715,
          2672.149902,
          2724.300049,
          2726.75,
          2702.399902,
          2781.5,
          2721.75,
          2648.050049,
          2671.949951,
          2728.850098,
          2734.100098,
          2718.600098,
          2648.5,
          2778.649902,
          2786.800049,
          2793.449951,
          2774.050049,
          2713.350098,
          2731,
          2670.649902,
          2490.399902,
          2558.399902,
          2535.449951,
          2426.300049,
          2417.399902,
          2311.300049,
          2198.699951,
          2251.649902,
          2290.5,
          2320.75,
          2331.199951,
          2341.899902,
          2318.399902,
          2369.5,
          2419.899902,
          2391.550049,
          2423.649902,
          2394.649902,
          2412.149902,
          2378.399902,
          2377.949951,
          2210.649902,
          2271.649902,
          2294.149902,
          2240.149902,
          2311.75,
          2332.25,
          2346.899902,
          2350.600098,
          2362.449951,
          2335.399902,
          2297.899902,
          2274.399902,
          2285.399902,
          2263.25,
          2274.850098,
          2317.649902,
          2294.25,
          2288.600098,
          2407.25,
          2500,
          2517.300049,
          2506.649902,
          2487.300049,
          2409.5,
          2501.649902,
          2563.350098,
          2492.75,
          2469.75,
          2470.300049,
          2401.199951,
          2449.149902,
          2495.899902,
          2523.5,
          2539,
          2515.5,
          2590.149902,
          2624.699951,
          2637,
          2594.699951,
          2636.449951,
          2719.800049,
          2770.550049,
          2773.899902,
          2757.600098,
          2663.100098,
          2583.75,
          2540.75,
          2570.850098,
          2585.949951,
          2598.100098,
          2601.949951,
          2598.800049,
          2557.600098,
          2605.300049,
          2519.050049,
          2467.399902,
          2452.550049,
          2499.199951,
          2524.449951,
          2674.100098,
          2759.949951,
          2755.5,
          2766.699951,
          2752.399902,
          2719.699951,
          2763.800049,
          2760.449951,
          2737.25,
          2831.800049,
          2839.449951,
          2849.300049,
          2868.100098,
          2875.5,
          2843.350098,
          2792.800049,
          2800.050049,
          2817.949951,
          2801.199951,
          2826.75,
          2847.800049,
          2871.600098,
          2838.850098,
          2800.75,
          2782.550049,
          2780.699951,
          2818.050049,
          2840.800049,
          2771.449951,
          2801.899902,
          2807,
          2770.699951,
          2738.050049,
          2775.449951,
          2785.300049,
          2761.899902,
          2817,
          2913.449951,
          2908.199951,
          2838.649902,
          2780.550049,
          2803.399902,
          2806.350098,
          2799.800049,
          2826.75,
          2827.050049,
          2837.699951,
          2876.649902,
          2825.149902,
          2842.050049,
          2866.550049,
          2854.75,
          2857.300049,
          2838.449951,
          2857.899902,
          2870,
          2851.5,
          2790.300049,
          2685.199951,
          2704.399902,
          2771.550049,
          2776.649902,
          2776.949951,
          2762.050049,
          2721.350098,
          2638.25,
          2591.350098,
          2536.300049,
          2549.199951,
          2525.550049,
          2621.800049,
          2646.100098,
          2624.949951,
          2570.5,
          2548.149902,
          2550.050049,
          2546.449951,
          2535.899902,
          2553.699951,
          2562,
          2541.199951,
          2565.550049,
          2569.850098,
          2581.899902,
          2585.600098,
          2610.75,
          2649.850098,
          2676.850098,
          2673.149902,
          2643.949951,
          2646.350098,
          2588.899902,
          2621.050049,
          2651.5,
          2712.5,
          2668.5,
          2688.399902,
          2730.75,
          2739.449951,
          2744,
          2723.149902,
          2677.449951,
          2685.449951,
          2658.850098,
          2673.100098,
          2708.149902,
          2783.5,
          2828.25,
          2851.899902,
          2871.800049,
          2820.449951,
          2827.649902,
          2798.800049,
          2759.550049,
          2758.199951,
          2751.5,
          2771.449951,
          2759.449951,
          2747.350098,
          2770.850098,
          2724.850098,
          2780.600098,
          2772.550049,
          2757.449951,
          2727.699951,
          2636.850098,
          2686.300049,
          2702.350098,
          2696.600098,
          2722.199951,
          2738.850098,
          2715.899902,
          2720.399902,
          2709.300049,
          2767.149902,
          2742.550049,
          2752.350098,
          2712.050049,
          2693.75,
          2694.25,
          2728.449951,
          2758.600098,
          2766.850098,
          2769.949951,
          2769.550049,
          2746.449951,
          2774.600098,
          2771.899902,
          2785,
          2736.149902,
          2702.300049,
          2763.25,
          2727.25,
          2660.949951,
          2654.25,
          2695,
          2652.600098,
          2614.649902,
          2559.199951,
          2583.300049,
          2561.550049,
          2542.5,
          2572,
          2556.699951,
          2535.550049,
          2527.449951,
          2520.550049,
          2499.449951,
          2495.5,
          2485.649902,
          2437.550049,
          2419.100098,
          2431.100098,
          2463.350098,
          2461.550049,
          2479.699951,
          2478.050049,
          2443.800049,
          2440.300049,
          2387.050049,
          2373.449951,
          2379.449951,
          2370.949951,
          2355.149902,
          2339.350098,
          2349.050049,
          2353.199951,
          2362.5,
          2313.350098,
          2308.600098,
          2249.5,
          2304.149902,
          2347.350098,
          2431.100098,
          2432.199951,
          2426.449951,
          2460.649902,
          2469.850098,
          2477.300049,
          2447.050049,
          2465.949951,
          2439.699951,
          2445.949951,
          2448.550049,
          2459.350098,
          2501.050049,
          2497.75,
          2505.149902,
          2508.649902,
          2558.600098,
          2495.899902,
          2502.649902,
          2514.5,
          2547.25,
          2576.350098,
          2591.550049,
          2586.050049,
          2585.449951,
          2605.899902,
          2691.899902,
          2686,
          2722.949951,
          2735.149902,
          2713,
          2692.149902,
          2710.449951,
          2738.699951,
          2732.800049,
          2745.149902,
          2776.899902,
          2779.149902,
          2759.899902,
          2800.399902,
          2892.649902,
          2870.600098,
          2904.800049,
          2958,
          2964.800049,
          2899.300049,
          2930.399902,
          2952.449951,
          2931.600098,
          2843.050049,
          2832.050049,
          2782.600098,
          2800.699951,
          2823.550049,
          2825.050049,
          2776.399902,
          2851.25,
          2844.100098,
          2844.100098,
          2910.100098,
          2898.75,
          3029.800049,
          3158.199951,
          3172.100098,
          3148.199951,
          3123.699951,
          3102.600098,
          3078.850098,
          3073.100098,
          3136.300049,
          3091.600098,
          3116.399902,
          3096.649902,
          3087.149902,
          3102.050049,
          3134.050049,
          3140.300049,
          3145.699951,
          3136.949951,
          3172.5,
          3203.699951,
          3102.100098,
          2993.449951,
          2952.399902,
          2944.699951,
          2954.050049,
          3066.899902,
          3059.699951,
          3035.899902,
          2998.199951,
          3010.649902,
          2981.75
         ],
         "yaxis": "y"
        },
        {
         "marker": {
          "color": "MediumPurple"
         },
         "name": "Prediction",
         "type": "scatter",
         "x": [
          42,
          42,
          42,
          42,
          42,
          42,
          42,
          42,
          42,
          42,
          42,
          42,
          42,
          42,
          42,
          43,
          43,
          43,
          43,
          43,
          43,
          43,
          43,
          43,
          43,
          43,
          43,
          43,
          43,
          43,
          44,
          44,
          44,
          44,
          44,
          44,
          44,
          44,
          44,
          44,
          44,
          44,
          44,
          44,
          44,
          45,
          45,
          45,
          45,
          45,
          45,
          45,
          45,
          45,
          45,
          45,
          45,
          45,
          45,
          45,
          46,
          46,
          46,
          46,
          46,
          46,
          46,
          46,
          46,
          46,
          46,
          46,
          46,
          46,
          46,
          47,
          47,
          47,
          47,
          47,
          47,
          47,
          47,
          47,
          47,
          47,
          47,
          47,
          47,
          47,
          48,
          48,
          48,
          48,
          48,
          48,
          48,
          48,
          48,
          48,
          48,
          48,
          48,
          48,
          48,
          49,
          49,
          49,
          49,
          49,
          49,
          49,
          49,
          49,
          49,
          49,
          49,
          49,
          49,
          49,
          50,
          50,
          50,
          50,
          50,
          50,
          50,
          50,
          50,
          50,
          50,
          50,
          50,
          50,
          50,
          51,
          51,
          51,
          51,
          51,
          51,
          51,
          51,
          51,
          51,
          51,
          51,
          51,
          51,
          51,
          52,
          52,
          52,
          52,
          52,
          52,
          52,
          52,
          52,
          52,
          52,
          52,
          52,
          52,
          52,
          53,
          53,
          53,
          53,
          53,
          53,
          53,
          53,
          53,
          53,
          53,
          53,
          53,
          53,
          53,
          54,
          54,
          54,
          54,
          54,
          54,
          54,
          54,
          54,
          54,
          54,
          54,
          54,
          54,
          54,
          55,
          55,
          55,
          55,
          55,
          55,
          55,
          55,
          55,
          55,
          55,
          55,
          55,
          55,
          55,
          56,
          56,
          56,
          56,
          56,
          56,
          56,
          56,
          56,
          56,
          56,
          56,
          56,
          56,
          56,
          57,
          57,
          57,
          57,
          57,
          57,
          57,
          57,
          57,
          57,
          57,
          57,
          57,
          57,
          57,
          58,
          58,
          58,
          58,
          58,
          58,
          58,
          58,
          58,
          58,
          58,
          58,
          58,
          58,
          58,
          59,
          59,
          59,
          59,
          59,
          59,
          59,
          59,
          59,
          59,
          59,
          59,
          59,
          59,
          59,
          60,
          60,
          60,
          60,
          60,
          60,
          60,
          60,
          60,
          60,
          60,
          60,
          60,
          60,
          60,
          61,
          61,
          61,
          61,
          61,
          61,
          61,
          61,
          61,
          61,
          61,
          61,
          61,
          61,
          61,
          62,
          62,
          62,
          62,
          62,
          62,
          62,
          62,
          62,
          62,
          62,
          62,
          62,
          62,
          62,
          63,
          63,
          63,
          63,
          63,
          63,
          63,
          63,
          63,
          63,
          63,
          63,
          63,
          63,
          63,
          64,
          64,
          64,
          64,
          64,
          64,
          64,
          64,
          64,
          64,
          64,
          64,
          64,
          64,
          64,
          65,
          65,
          65,
          65,
          65,
          65,
          65,
          65,
          65,
          65,
          65,
          65,
          65,
          65,
          65,
          66,
          66,
          66,
          66,
          66,
          66,
          66,
          66,
          66,
          66,
          66,
          66,
          66,
          66,
          66,
          67,
          67,
          67,
          67,
          67,
          67,
          67,
          67,
          67,
          67,
          67,
          67,
          67,
          67,
          67,
          68,
          68,
          68,
          68,
          68,
          68,
          68,
          68,
          68,
          68,
          68,
          68,
          68,
          68,
          68,
          69,
          69,
          69,
          69,
          69,
          69,
          69,
          69,
          69,
          69,
          69,
          69,
          69,
          69,
          69,
          70,
          70,
          70,
          70,
          70,
          70,
          70,
          70,
          70,
          70,
          70,
          70,
          70,
          70,
          70,
          71,
          71,
          71,
          71,
          71,
          71,
          71,
          71,
          71,
          71,
          71,
          71,
          71,
          71,
          71,
          72,
          72,
          72,
          72,
          72,
          72,
          72,
          72,
          72,
          72,
          72,
          72,
          72,
          72,
          72,
          73,
          73,
          73,
          73,
          73,
          73,
          73,
          73,
          73,
          73,
          73,
          73,
          73,
          73,
          73,
          74,
          74,
          74,
          74,
          74,
          74,
          74,
          74,
          74,
          74,
          74,
          74,
          74,
          74,
          74,
          75,
          75,
          75,
          75,
          75,
          75,
          75,
          75,
          75,
          75,
          75,
          75,
          75,
          75,
          75,
          76,
          76,
          76,
          76,
          76,
          76,
          76,
          76,
          76,
          76,
          76,
          76,
          76,
          76,
          76,
          77,
          77,
          77,
          77,
          77,
          77,
          77,
          77,
          77,
          77,
          77,
          77,
          77,
          77,
          77,
          78,
          78,
          78,
          78,
          78,
          78,
          78,
          78,
          78,
          78,
          78,
          78,
          78,
          78,
          78,
          79,
          79,
          79,
          79,
          79,
          79,
          79,
          79,
          79,
          79,
          79,
          79,
          79,
          79,
          79,
          80,
          80,
          80,
          80,
          80,
          80,
          80,
          80,
          80,
          80,
          80,
          80,
          80,
          80,
          80,
          81,
          81,
          81,
          81,
          81,
          81,
          81,
          81,
          81,
          81,
          81,
          81,
          81,
          81,
          81,
          82,
          82,
          82,
          82,
          82,
          82,
          82,
          82,
          82,
          82,
          82,
          82,
          82,
          82,
          82,
          83,
          83,
          83,
          83,
          83,
          83,
          83,
          83,
          83,
          83,
          83,
          83,
          83,
          83,
          83,
          84,
          84,
          84,
          84,
          84,
          84,
          84,
          84,
          84
         ],
         "xaxis": "x2",
         "y": [
          2672.93994140625,
          2517.983154296875,
          2452.217529296875,
          2767.0859375,
          2565.871337890625,
          2974.057861328125,
          2843.708251953125,
          2739.850830078125,
          2841.117919921875,
          2797.362060546875,
          2578.395263671875,
          2449.151611328125,
          2719.157958984375,
          2655.493896484375,
          2446.4501953125,
          2800.369140625,
          2605.76953125,
          2754.910888671875,
          2926.675048828125,
          2465.995849609375,
          3049.27783203125,
          2463.624267578125,
          2685.034423828125,
          2626.163818359375,
          2766.196044921875,
          2802.917724609375,
          2831.132080078125,
          2821.953857421875,
          3069.411376953125,
          2725.54541015625,
          2643.056396484375,
          2684.722900390625,
          2791.02734375,
          2457.602783203125,
          2628.3203125,
          2691.78173828125,
          2973.82373046875,
          2790.575439453125,
          2997.162841796875,
          2688.886474609375,
          2795.780029296875,
          2832.740966796875,
          2788.143310546875,
          2708.25390625,
          2977.790283203125,
          2733.102294921875,
          2728.75732421875,
          2550.875732421875,
          2423.5986328125,
          2550.084228515625,
          2948.079833984375,
          2543.05322265625,
          2627.464599609375,
          2676.251708984375,
          3303.364990234375,
          3054.056884765625,
          2469.048583984375,
          2656.329833984375,
          2738.492919921875,
          2439.28173828125,
          2720.498779296875,
          2695.424560546875,
          2677.911865234375,
          2791.646240234375,
          2670.632080078125,
          2962.638427734375,
          2636.480224609375,
          2951.005859375,
          2966.411865234375,
          2532.361083984375,
          2732.560302734375,
          2515.986572265625,
          2425.8515625,
          2837.870849609375,
          2413.42724609375,
          2364.558349609375,
          2476.024658203125,
          2723.97802734375,
          2964.463134765625,
          2606.240478515625,
          2456.640380859375,
          2354.361083984375,
          2816.281982421875,
          2836.636962890625,
          2671.974365234375,
          2760.47412109375,
          2519.637939453125,
          2667.175537109375,
          2665.899169921875,
          2841.118408203125,
          2316.371337890625,
          2567.444580078125,
          2621.065673828125,
          2454.300048828125,
          2751.41015625,
          3077.11962890625,
          2375.59716796875,
          2759.888427734375,
          2943.81494140625,
          2514.916015625,
          2905.357666015625,
          2800.34326171875,
          2798.83642578125,
          2792.253173828125,
          2850.828369140625,
          2739.897216796875,
          2670.630859375,
          2551.568115234375,
          2749.296630859375,
          2872.914306640625,
          3063.658447265625,
          2883.4189453125,
          2735.140625,
          2939.3251953125,
          2936.10205078125,
          2632.334228515625,
          2781.20166015625,
          2465.533935546875,
          2740.50439453125,
          2458.95947265625,
          2377.914794921875
         ],
         "yaxis": "y2"
        },
        {
         "marker": {
          "color": "LightSkyBlue"
         },
         "name": "Truth",
         "showlegend": false,
         "type": "scatter",
         "x": [
          42,
          42,
          42,
          42,
          42,
          42,
          42,
          42,
          42,
          42,
          42,
          42,
          42,
          42,
          42,
          43,
          43,
          43,
          43,
          43,
          43,
          43,
          43,
          43,
          43,
          43,
          43,
          43,
          43,
          43,
          44,
          44,
          44,
          44,
          44,
          44,
          44,
          44,
          44,
          44,
          44,
          44,
          44,
          44,
          44,
          45,
          45,
          45,
          45,
          45,
          45,
          45,
          45,
          45,
          45,
          45,
          45,
          45,
          45,
          45,
          46,
          46,
          46,
          46,
          46,
          46,
          46,
          46,
          46,
          46,
          46,
          46,
          46,
          46,
          46,
          47,
          47,
          47,
          47,
          47,
          47,
          47,
          47,
          47,
          47,
          47,
          47,
          47,
          47,
          47,
          48,
          48,
          48,
          48,
          48,
          48,
          48,
          48,
          48,
          48,
          48,
          48,
          48,
          48,
          48,
          49,
          49,
          49,
          49,
          49,
          49,
          49,
          49,
          49,
          49,
          49,
          49,
          49,
          49,
          49,
          50,
          50,
          50,
          50,
          50,
          50,
          50,
          50,
          50,
          50,
          50,
          50,
          50,
          50,
          50,
          51,
          51,
          51,
          51,
          51,
          51,
          51,
          51,
          51,
          51,
          51,
          51,
          51,
          51,
          51,
          52,
          52,
          52,
          52,
          52,
          52,
          52,
          52,
          52,
          52,
          52,
          52,
          52,
          52,
          52,
          53,
          53,
          53,
          53,
          53,
          53,
          53,
          53,
          53,
          53,
          53,
          53,
          53,
          53,
          53,
          54,
          54,
          54,
          54,
          54,
          54,
          54,
          54,
          54,
          54,
          54,
          54,
          54,
          54,
          54,
          55,
          55,
          55,
          55,
          55,
          55,
          55,
          55,
          55,
          55,
          55,
          55,
          55,
          55,
          55,
          56,
          56,
          56,
          56,
          56,
          56,
          56,
          56,
          56,
          56,
          56,
          56,
          56,
          56,
          56,
          57,
          57,
          57,
          57,
          57,
          57,
          57,
          57,
          57,
          57,
          57,
          57,
          57,
          57,
          57,
          58,
          58,
          58,
          58,
          58,
          58,
          58,
          58,
          58,
          58,
          58,
          58,
          58,
          58,
          58,
          59,
          59,
          59,
          59,
          59,
          59,
          59,
          59,
          59,
          59,
          59,
          59,
          59,
          59,
          59,
          60,
          60,
          60,
          60,
          60,
          60,
          60,
          60,
          60,
          60,
          60,
          60,
          60,
          60,
          60,
          61,
          61,
          61,
          61,
          61,
          61,
          61,
          61,
          61,
          61,
          61,
          61,
          61,
          61,
          61,
          62,
          62,
          62,
          62,
          62,
          62,
          62,
          62,
          62,
          62,
          62,
          62,
          62,
          62,
          62,
          63,
          63,
          63,
          63,
          63,
          63,
          63,
          63,
          63,
          63,
          63,
          63,
          63,
          63,
          63,
          64,
          64,
          64,
          64,
          64,
          64,
          64,
          64,
          64,
          64,
          64,
          64,
          64,
          64,
          64,
          65,
          65,
          65,
          65,
          65,
          65,
          65,
          65,
          65,
          65,
          65,
          65,
          65,
          65,
          65,
          66,
          66,
          66,
          66,
          66,
          66,
          66,
          66,
          66,
          66,
          66,
          66,
          66,
          66,
          66,
          67,
          67,
          67,
          67,
          67,
          67,
          67,
          67,
          67,
          67,
          67,
          67,
          67,
          67,
          67,
          68,
          68,
          68,
          68,
          68,
          68,
          68,
          68,
          68,
          68,
          68,
          68,
          68,
          68,
          68,
          69,
          69,
          69,
          69,
          69,
          69,
          69,
          69,
          69,
          69,
          69,
          69,
          69,
          69,
          69,
          70,
          70,
          70,
          70,
          70,
          70,
          70,
          70,
          70,
          70,
          70,
          70,
          70,
          70,
          70,
          71,
          71,
          71,
          71,
          71,
          71,
          71,
          71,
          71,
          71,
          71,
          71,
          71,
          71,
          71,
          72,
          72,
          72,
          72,
          72,
          72,
          72,
          72,
          72,
          72,
          72,
          72,
          72,
          72,
          72,
          73,
          73,
          73,
          73,
          73,
          73,
          73,
          73,
          73,
          73,
          73,
          73,
          73,
          73,
          73,
          74,
          74,
          74,
          74,
          74,
          74,
          74,
          74,
          74,
          74,
          74,
          74,
          74,
          74,
          74,
          75,
          75,
          75,
          75,
          75,
          75,
          75,
          75,
          75,
          75,
          75,
          75,
          75,
          75,
          75,
          76,
          76,
          76,
          76,
          76,
          76,
          76,
          76,
          76,
          76,
          76,
          76,
          76,
          76,
          76,
          77,
          77,
          77,
          77,
          77,
          77,
          77,
          77,
          77,
          77,
          77,
          77,
          77,
          77,
          77,
          78,
          78,
          78,
          78,
          78,
          78,
          78,
          78,
          78,
          78,
          78,
          78,
          78,
          78,
          78,
          79,
          79,
          79,
          79,
          79,
          79,
          79,
          79,
          79,
          79,
          79,
          79,
          79,
          79,
          79,
          80,
          80,
          80,
          80,
          80,
          80,
          80,
          80,
          80,
          80,
          80,
          80,
          80,
          80,
          80,
          81,
          81,
          81,
          81,
          81,
          81,
          81,
          81,
          81,
          81,
          81,
          81,
          81,
          81,
          81,
          82,
          82,
          82,
          82,
          82,
          82,
          82,
          82,
          82,
          82,
          82,
          82,
          82,
          82,
          82,
          83,
          83,
          83,
          83,
          83,
          83,
          83,
          83,
          83,
          83,
          83,
          83,
          83,
          83,
          83,
          84,
          84,
          84,
          84,
          84,
          84,
          84,
          84,
          84
         ],
         "xaxis": "x3",
         "y": [
          2672.9920592697076,
          2514.5933725335085,
          2453.679832116231,
          2767.1444807454805,
          2565.529833962467,
          2976.8380452577762,
          2844.460017218452,
          2744.1193722944745,
          2843.0753129521236,
          2796.9472339864956,
          2577.3954906558365,
          2448.529410958695,
          2717.4138354825827,
          2656.6315914707807,
          2447.9678335845742,
          2801.5509607184076,
          2605.423257808273,
          2756.4337163101386,
          2928.1420091048935,
          2468.0425816708885,
          3051.1290618742305,
          2464.947323856543,
          2685.295703847639,
          2625.340969378976,
          2769.2800093303294,
          2802.3282261205604,
          2832.1726645923172,
          2820.0464318723334,
          3071.06109453983,
          2727.590248463666,
          2643.090843697361,
          2683.6693789890614,
          2791.1458624756033,
          2458.2809370939713,
          2628.6744306721994,
          2687.150058094835,
          2975.3294076209086,
          2788.8704034886537,
          2994.0817917106433,
          2691.6041674467965,
          2797.455933515734,
          2830.6813556772236,
          2789.479364045111,
          2704.940986235692,
          2980.1954147637216,
          2730.3517002598633,
          2730.348375258371,
          2551.8931114373186,
          2425.4614306439485,
          2548.979861641227,
          2942.8079269734035,
          2546.6039256538606,
          2630.986029593078,
          2677.0063484973766,
          3298.0635231768874,
          3053.4055263981263,
          2471.5033137037994,
          2658.4963568963485,
          2740.1305309990203,
          2438.1953922693037,
          2720.147605662125,
          2696.0953316369914,
          2678.5778631427415,
          2789.4967590390615,
          2674.1709374918983,
          2960.719705284834,
          2635.2788657544174,
          2951.845087131922,
          2967.682360082496,
          2529.807706549394,
          2731.862041797663,
          2512.9060263412193,
          2428.013797654788,
          2837.883537481104,
          2415.6682687096145,
          2359.171069087408,
          2474.3516065179733,
          2724.3689603145367,
          2966.93131404435,
          2602.024661099598,
          2452.13676533992,
          2351.67994956472,
          2815.0821141050988,
          2837.3523312353477,
          2673.1078490774535,
          2758.2951345181546,
          2518.7468625350293,
          2663.725374314611,
          2666.776824060217,
          2843.1240494079857,
          2315.129814977993,
          2569.464341763982,
          2623.6679450481793,
          2448.7030937058607,
          2752.3840065285785,
          3078.790561851281,
          2376.4739570574475,
          2758.0046325380385,
          2944.3758311304828,
          2518.453266712293,
          2904.7682216978787,
          2799.0215092827284,
          2800.4614325406,
          2795.1676984619266,
          2851.679005730539,
          2739.1935342334405,
          2672.4141318541956,
          2553.46647129163,
          2746.507367332921,
          2876.2812639643653,
          3065.0249686004495,
          2883.649254260604,
          2733.807813332262,
          2940.198222996033,
          2936.163312938144,
          2632.3447244653876,
          2784.8898277328103,
          2461.485129242192,
          2739.9191759100963,
          2455.4834769357694,
          2372.395643208231
         ],
         "yaxis": "y3"
        }
       ],
       "layout": {
        "template": {
         "data": {
          "bar": [
           {
            "error_x": {
             "color": "#2a3f5f"
            },
            "error_y": {
             "color": "#2a3f5f"
            },
            "marker": {
             "line": {
              "color": "#E5ECF6",
              "width": 0.5
             },
             "pattern": {
              "fillmode": "overlay",
              "size": 10,
              "solidity": 0.2
             }
            },
            "type": "bar"
           }
          ],
          "barpolar": [
           {
            "marker": {
             "line": {
              "color": "#E5ECF6",
              "width": 0.5
             },
             "pattern": {
              "fillmode": "overlay",
              "size": 10,
              "solidity": 0.2
             }
            },
            "type": "barpolar"
           }
          ],
          "carpet": [
           {
            "aaxis": {
             "endlinecolor": "#2a3f5f",
             "gridcolor": "white",
             "linecolor": "white",
             "minorgridcolor": "white",
             "startlinecolor": "#2a3f5f"
            },
            "baxis": {
             "endlinecolor": "#2a3f5f",
             "gridcolor": "white",
             "linecolor": "white",
             "minorgridcolor": "white",
             "startlinecolor": "#2a3f5f"
            },
            "type": "carpet"
           }
          ],
          "choropleth": [
           {
            "colorbar": {
             "outlinewidth": 0,
             "ticks": ""
            },
            "type": "choropleth"
           }
          ],
          "contour": [
           {
            "colorbar": {
             "outlinewidth": 0,
             "ticks": ""
            },
            "colorscale": [
             [
              0,
              "#0d0887"
             ],
             [
              0.1111111111111111,
              "#46039f"
             ],
             [
              0.2222222222222222,
              "#7201a8"
             ],
             [
              0.3333333333333333,
              "#9c179e"
             ],
             [
              0.4444444444444444,
              "#bd3786"
             ],
             [
              0.5555555555555556,
              "#d8576b"
             ],
             [
              0.6666666666666666,
              "#ed7953"
             ],
             [
              0.7777777777777778,
              "#fb9f3a"
             ],
             [
              0.8888888888888888,
              "#fdca26"
             ],
             [
              1,
              "#f0f921"
             ]
            ],
            "type": "contour"
           }
          ],
          "contourcarpet": [
           {
            "colorbar": {
             "outlinewidth": 0,
             "ticks": ""
            },
            "type": "contourcarpet"
           }
          ],
          "heatmap": [
           {
            "colorbar": {
             "outlinewidth": 0,
             "ticks": ""
            },
            "colorscale": [
             [
              0,
              "#0d0887"
             ],
             [
              0.1111111111111111,
              "#46039f"
             ],
             [
              0.2222222222222222,
              "#7201a8"
             ],
             [
              0.3333333333333333,
              "#9c179e"
             ],
             [
              0.4444444444444444,
              "#bd3786"
             ],
             [
              0.5555555555555556,
              "#d8576b"
             ],
             [
              0.6666666666666666,
              "#ed7953"
             ],
             [
              0.7777777777777778,
              "#fb9f3a"
             ],
             [
              0.8888888888888888,
              "#fdca26"
             ],
             [
              1,
              "#f0f921"
             ]
            ],
            "type": "heatmap"
           }
          ],
          "heatmapgl": [
           {
            "colorbar": {
             "outlinewidth": 0,
             "ticks": ""
            },
            "colorscale": [
             [
              0,
              "#0d0887"
             ],
             [
              0.1111111111111111,
              "#46039f"
             ],
             [
              0.2222222222222222,
              "#7201a8"
             ],
             [
              0.3333333333333333,
              "#9c179e"
             ],
             [
              0.4444444444444444,
              "#bd3786"
             ],
             [
              0.5555555555555556,
              "#d8576b"
             ],
             [
              0.6666666666666666,
              "#ed7953"
             ],
             [
              0.7777777777777778,
              "#fb9f3a"
             ],
             [
              0.8888888888888888,
              "#fdca26"
             ],
             [
              1,
              "#f0f921"
             ]
            ],
            "type": "heatmapgl"
           }
          ],
          "histogram": [
           {
            "marker": {
             "pattern": {
              "fillmode": "overlay",
              "size": 10,
              "solidity": 0.2
             }
            },
            "type": "histogram"
           }
          ],
          "histogram2d": [
           {
            "colorbar": {
             "outlinewidth": 0,
             "ticks": ""
            },
            "colorscale": [
             [
              0,
              "#0d0887"
             ],
             [
              0.1111111111111111,
              "#46039f"
             ],
             [
              0.2222222222222222,
              "#7201a8"
             ],
             [
              0.3333333333333333,
              "#9c179e"
             ],
             [
              0.4444444444444444,
              "#bd3786"
             ],
             [
              0.5555555555555556,
              "#d8576b"
             ],
             [
              0.6666666666666666,
              "#ed7953"
             ],
             [
              0.7777777777777778,
              "#fb9f3a"
             ],
             [
              0.8888888888888888,
              "#fdca26"
             ],
             [
              1,
              "#f0f921"
             ]
            ],
            "type": "histogram2d"
           }
          ],
          "histogram2dcontour": [
           {
            "colorbar": {
             "outlinewidth": 0,
             "ticks": ""
            },
            "colorscale": [
             [
              0,
              "#0d0887"
             ],
             [
              0.1111111111111111,
              "#46039f"
             ],
             [
              0.2222222222222222,
              "#7201a8"
             ],
             [
              0.3333333333333333,
              "#9c179e"
             ],
             [
              0.4444444444444444,
              "#bd3786"
             ],
             [
              0.5555555555555556,
              "#d8576b"
             ],
             [
              0.6666666666666666,
              "#ed7953"
             ],
             [
              0.7777777777777778,
              "#fb9f3a"
             ],
             [
              0.8888888888888888,
              "#fdca26"
             ],
             [
              1,
              "#f0f921"
             ]
            ],
            "type": "histogram2dcontour"
           }
          ],
          "mesh3d": [
           {
            "colorbar": {
             "outlinewidth": 0,
             "ticks": ""
            },
            "type": "mesh3d"
           }
          ],
          "parcoords": [
           {
            "line": {
             "colorbar": {
              "outlinewidth": 0,
              "ticks": ""
             }
            },
            "type": "parcoords"
           }
          ],
          "pie": [
           {
            "automargin": true,
            "type": "pie"
           }
          ],
          "scatter": [
           {
            "fillpattern": {
             "fillmode": "overlay",
             "size": 10,
             "solidity": 0.2
            },
            "type": "scatter"
           }
          ],
          "scatter3d": [
           {
            "line": {
             "colorbar": {
              "outlinewidth": 0,
              "ticks": ""
             }
            },
            "marker": {
             "colorbar": {
              "outlinewidth": 0,
              "ticks": ""
             }
            },
            "type": "scatter3d"
           }
          ],
          "scattercarpet": [
           {
            "marker": {
             "colorbar": {
              "outlinewidth": 0,
              "ticks": ""
             }
            },
            "type": "scattercarpet"
           }
          ],
          "scattergeo": [
           {
            "marker": {
             "colorbar": {
              "outlinewidth": 0,
              "ticks": ""
             }
            },
            "type": "scattergeo"
           }
          ],
          "scattergl": [
           {
            "marker": {
             "colorbar": {
              "outlinewidth": 0,
              "ticks": ""
             }
            },
            "type": "scattergl"
           }
          ],
          "scattermapbox": [
           {
            "marker": {
             "colorbar": {
              "outlinewidth": 0,
              "ticks": ""
             }
            },
            "type": "scattermapbox"
           }
          ],
          "scatterpolar": [
           {
            "marker": {
             "colorbar": {
              "outlinewidth": 0,
              "ticks": ""
             }
            },
            "type": "scatterpolar"
           }
          ],
          "scatterpolargl": [
           {
            "marker": {
             "colorbar": {
              "outlinewidth": 0,
              "ticks": ""
             }
            },
            "type": "scatterpolargl"
           }
          ],
          "scatterternary": [
           {
            "marker": {
             "colorbar": {
              "outlinewidth": 0,
              "ticks": ""
             }
            },
            "type": "scatterternary"
           }
          ],
          "surface": [
           {
            "colorbar": {
             "outlinewidth": 0,
             "ticks": ""
            },
            "colorscale": [
             [
              0,
              "#0d0887"
             ],
             [
              0.1111111111111111,
              "#46039f"
             ],
             [
              0.2222222222222222,
              "#7201a8"
             ],
             [
              0.3333333333333333,
              "#9c179e"
             ],
             [
              0.4444444444444444,
              "#bd3786"
             ],
             [
              0.5555555555555556,
              "#d8576b"
             ],
             [
              0.6666666666666666,
              "#ed7953"
             ],
             [
              0.7777777777777778,
              "#fb9f3a"
             ],
             [
              0.8888888888888888,
              "#fdca26"
             ],
             [
              1,
              "#f0f921"
             ]
            ],
            "type": "surface"
           }
          ],
          "table": [
           {
            "cells": {
             "fill": {
              "color": "#EBF0F8"
             },
             "line": {
              "color": "white"
             }
            },
            "header": {
             "fill": {
              "color": "#C8D4E3"
             },
             "line": {
              "color": "white"
             }
            },
            "type": "table"
           }
          ]
         },
         "layout": {
          "annotationdefaults": {
           "arrowcolor": "#2a3f5f",
           "arrowhead": 0,
           "arrowwidth": 1
          },
          "autotypenumbers": "strict",
          "coloraxis": {
           "colorbar": {
            "outlinewidth": 0,
            "ticks": ""
           }
          },
          "colorscale": {
           "diverging": [
            [
             0,
             "#8e0152"
            ],
            [
             0.1,
             "#c51b7d"
            ],
            [
             0.2,
             "#de77ae"
            ],
            [
             0.3,
             "#f1b6da"
            ],
            [
             0.4,
             "#fde0ef"
            ],
            [
             0.5,
             "#f7f7f7"
            ],
            [
             0.6,
             "#e6f5d0"
            ],
            [
             0.7,
             "#b8e186"
            ],
            [
             0.8,
             "#7fbc41"
            ],
            [
             0.9,
             "#4d9221"
            ],
            [
             1,
             "#276419"
            ]
           ],
           "sequential": [
            [
             0,
             "#0d0887"
            ],
            [
             0.1111111111111111,
             "#46039f"
            ],
            [
             0.2222222222222222,
             "#7201a8"
            ],
            [
             0.3333333333333333,
             "#9c179e"
            ],
            [
             0.4444444444444444,
             "#bd3786"
            ],
            [
             0.5555555555555556,
             "#d8576b"
            ],
            [
             0.6666666666666666,
             "#ed7953"
            ],
            [
             0.7777777777777778,
             "#fb9f3a"
            ],
            [
             0.8888888888888888,
             "#fdca26"
            ],
            [
             1,
             "#f0f921"
            ]
           ],
           "sequentialminus": [
            [
             0,
             "#0d0887"
            ],
            [
             0.1111111111111111,
             "#46039f"
            ],
            [
             0.2222222222222222,
             "#7201a8"
            ],
            [
             0.3333333333333333,
             "#9c179e"
            ],
            [
             0.4444444444444444,
             "#bd3786"
            ],
            [
             0.5555555555555556,
             "#d8576b"
            ],
            [
             0.6666666666666666,
             "#ed7953"
            ],
            [
             0.7777777777777778,
             "#fb9f3a"
            ],
            [
             0.8888888888888888,
             "#fdca26"
            ],
            [
             1,
             "#f0f921"
            ]
           ]
          },
          "colorway": [
           "#636efa",
           "#EF553B",
           "#00cc96",
           "#ab63fa",
           "#FFA15A",
           "#19d3f3",
           "#FF6692",
           "#B6E880",
           "#FF97FF",
           "#FECB52"
          ],
          "font": {
           "color": "#2a3f5f"
          },
          "geo": {
           "bgcolor": "white",
           "lakecolor": "white",
           "landcolor": "#E5ECF6",
           "showlakes": true,
           "showland": true,
           "subunitcolor": "white"
          },
          "hoverlabel": {
           "align": "left"
          },
          "hovermode": "closest",
          "mapbox": {
           "style": "light"
          },
          "paper_bgcolor": "white",
          "plot_bgcolor": "#E5ECF6",
          "polar": {
           "angularaxis": {
            "gridcolor": "white",
            "linecolor": "white",
            "ticks": ""
           },
           "bgcolor": "#E5ECF6",
           "radialaxis": {
            "gridcolor": "white",
            "linecolor": "white",
            "ticks": ""
           }
          },
          "scene": {
           "xaxis": {
            "backgroundcolor": "#E5ECF6",
            "gridcolor": "white",
            "gridwidth": 2,
            "linecolor": "white",
            "showbackground": true,
            "ticks": "",
            "zerolinecolor": "white"
           },
           "yaxis": {
            "backgroundcolor": "#E5ECF6",
            "gridcolor": "white",
            "gridwidth": 2,
            "linecolor": "white",
            "showbackground": true,
            "ticks": "",
            "zerolinecolor": "white"
           },
           "zaxis": {
            "backgroundcolor": "#E5ECF6",
            "gridcolor": "white",
            "gridwidth": 2,
            "linecolor": "white",
            "showbackground": true,
            "ticks": "",
            "zerolinecolor": "white"
           }
          },
          "shapedefaults": {
           "line": {
            "color": "#2a3f5f"
           }
          },
          "ternary": {
           "aaxis": {
            "gridcolor": "white",
            "linecolor": "white",
            "ticks": ""
           },
           "baxis": {
            "gridcolor": "white",
            "linecolor": "white",
            "ticks": ""
           },
           "bgcolor": "#E5ECF6",
           "caxis": {
            "gridcolor": "white",
            "linecolor": "white",
            "ticks": ""
           }
          },
          "title": {
           "x": 0.05
          },
          "xaxis": {
           "automargin": true,
           "gridcolor": "white",
           "linecolor": "white",
           "ticks": "",
           "title": {
            "standoff": 15
           },
           "zerolinecolor": "white",
           "zerolinewidth": 2
          },
          "yaxis": {
           "automargin": true,
           "gridcolor": "white",
           "linecolor": "white",
           "ticks": "",
           "title": {
            "standoff": 15
           },
           "zerolinecolor": "white",
           "zerolinewidth": 2
          }
         }
        },
        "xaxis": {
         "anchor": "y",
         "domain": [
          0,
          1
         ]
        },
        "xaxis2": {
         "anchor": "y2",
         "domain": [
          0,
          1
         ]
        },
        "xaxis3": {
         "anchor": "y3",
         "domain": [
          0,
          1
         ]
        },
        "yaxis": {
         "anchor": "x",
         "domain": [
          0.7333333333333333,
          1
         ]
        },
        "yaxis2": {
         "anchor": "x2",
         "domain": [
          0.36666666666666664,
          0.6333333333333333
         ]
        },
        "yaxis3": {
         "anchor": "x3",
         "domain": [
          0,
          0.26666666666666666
         ]
        }
       }
      }
     },
     "metadata": {},
     "output_type": "display_data"
    }
   ],
   "source": [
    "fig = make_subplots(rows=3, cols=1)\n",
    "fig.add_trace(go.Scatter(x=temp.index // 15, y=df.Close,\n",
    "                         name='Truth',\n",
    "                         marker_color='LightSkyBlue'), row=1, col=1)\n",
    "\n",
    "\n",
    "fig.add_trace(go.Scatter(x=(len(temp) // 15 + (temp.index // 15)),\n",
    "                         y=y_pred,\n",
    "                         name='Prediction',\n",
    "                         marker_color='MediumPurple'), row=2, col=1)\n",
    "\n",
    "fig.add_trace(go.Scatter(x=(len(temp) // 15 + (temp.index // 15)),\n",
    "                         y=y_test,\n",
    "                         name='Truth',\n",
    "                         marker_color='LightSkyBlue',\n",
    "                         showlegend=False), row=3, col=1)\n",
    "\n",
    "\n",
    "\n",
    "fig.show()"
   ]
  }
 ],
 "metadata": {
  "kernelspec": {
   "display_name": ".venv",
   "language": "python",
   "name": "python3"
  },
  "language_info": {
   "codemirror_mode": {
    "name": "ipython",
    "version": 3
   },
   "file_extension": ".py",
   "mimetype": "text/x-python",
   "name": "python",
   "nbconvert_exporter": "python",
   "pygments_lexer": "ipython3",
   "version": "3.11.3"
  },
  "orig_nbformat": 4
 },
 "nbformat": 4,
 "nbformat_minor": 2
}
