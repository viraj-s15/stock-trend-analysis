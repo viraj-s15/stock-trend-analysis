{
 "cells": [
  {
   "cell_type": "markdown",
   "metadata": {},
   "source": [
    "### All imports to be managed here"
   ]
  },
  {
   "cell_type": "code",
   "execution_count": 6,
   "metadata": {},
   "outputs": [],
   "source": [
    "import pandas as pd\n",
    "import numpy as np\n",
    "\n",
    "from NSEDownload import stocks"
   ]
  },
  {
   "cell_type": "markdown",
   "metadata": {},
   "source": [
    "### Creating a function to streamline the process"
   ]
  },
  {
   "cell_type": "code",
   "execution_count": 7,
   "metadata": {},
   "outputs": [],
   "source": [
    "def create_df(stock_code:str) -> pd.DataFrame:\n",
    "    \"\"\"\n",
    "    This function is responsible for creating the dataframe, based on the Symbol, it will create weekly data.\n",
    "    \"\"\"\n",
    "    df = stocks.get_data(stock_symbol=stock_code, start_date='1-06-2023', end_date='7-06-2023')\n",
    "    symbol = df['Symbol'].to_numpy()[0]\n",
    "    high = np.max(df[\"High Price\"].to_numpy())\n",
    "    low = np.min(df[\"Low Price\"].to_numpy())\n",
    "    open_price = df['Open Price'].to_numpy()[0]\n",
    "    close_price = df['Close Price'].to_numpy()[-1]\n",
    "    total_quantity = np.sum(df[\"Total Traded Quantity\"].to_numpy())\n",
    "    total_val = np.sum(df[\"Total Traded Value\"].to_numpy())\n",
    "    average_trading_value = round((total_val / total_quantity),2)\n",
    "    _52_week_low = df['52 Week Low Price'].to_numpy()[0] \n",
    "    _52_week_high = df['52 Week High Price'].to_numpy()[0] \n",
    "    data = [symbol,high,low,open_price,close_price,average_trading_value,total_quantity,_52_week_low,_52_week_high]\n",
    "    cols = [\"Symbol\",\"High\",\"Low\",\"Open Price\",\"Close Price\",\"Average Trading Price\",\"Total Traded Quantity\",\"52 Week Low\",\"52 Week High\"]\n",
    "    main_df = pd.DataFrame(columns=cols)\n",
    "    main_df.loc[0] = data\n",
    "    return main_df"
   ]
  },
  {
   "cell_type": "code",
   "execution_count": 8,
   "metadata": {},
   "outputs": [],
   "source": [
    "def append_weekly_rows(stock_code:str,df1:pd.DataFrame,count:int,row:int,month:int,num_weeks:int) -> None:\n",
    "    \"\"\"normal\n",
    "    Appends the weekly data to the original dataframe for upto 4 weeks,\n",
    "    #########\n",
    "    TODO: implement the monthly change to make it more than 4 weeks\n",
    "    #########initial Commit\n",
    "    \"\"\"\n",
    "    while num_weeks > 0:\n",
    "        df2 = stocks.get_data(stock_symbol=stock_code, start_date=f'{count}-{month}-2023', end_date=f'{count+6}-{month}-2023')\n",
    "        symbol = df2['Symbol'].to_numpy()[0]\n",
    "        high = np.max(df2[\"High Price\"].to_numpy())\n",
    "        low = np.min(df2[\"Low Price\"].to_numpy())\n",
    "        open_price = df2['Open Price'].to_numpy()[0]\n",
    "        close_price = df2['Close Price'].to_numpy()[-1]\n",
    "        total_quantity = np.sum(df2[\"Total Traded Quantity\"].to_numpy())\n",
    "        total_val = np.sum(df2[\"Total Traded Value\"].to_numpy())\n",
    "        average_trading_value = round((total_val / total_quantity),2)\n",
    "        _52_week_low = df2['52 Week Low Price'].to_numpy()[0] \n",
    "        _52_week_high = df2['52 Week High Price'].to_numpy()[0] \n",
    "        data = [symbol,high,low,open_price,close_price,average_trading_value,total_quantity,_52_week_low,_52_week_high]\n",
    "        cols = [\"Symbol\",\"High\",\"Low\",\"Open Price\",\"Close Price\",\"Average Trading Price\",'Total Traded Quantity',\"52 Week Low\",\"52 Week High\"]\n",
    "        df1.loc[row] = data\n",
    "        row += 1\n",
    "        count += 7\n",
    "        if count >= 28:\n",
    "            count = 1\n",
    "            month += 1\n",
    "        num_weeks -= 1"
   ]
  },
  {
   "cell_type": "code",
   "execution_count": 9,
   "metadata": {},
   "outputs": [
    {
     "ename": "NameError",
     "evalue": "name 'total_quatity' is not defined",
     "output_type": "error",
     "traceback": [
      "\u001b[0;31m---------------------------------------------------------------------------\u001b[0m",
      "\u001b[0;31mNameError\u001b[0m                                 Traceback (most recent call last)",
      "Cell \u001b[0;32mIn[9], line 3\u001b[0m\n\u001b[1;32m      1\u001b[0m symbol \u001b[39m=\u001b[39m \u001b[39m\"\u001b[39m\u001b[39mRELIANCE\u001b[39m\u001b[39m\"\u001b[39m\n\u001b[1;32m      2\u001b[0m df \u001b[39m=\u001b[39m create_df(symbol)\n\u001b[0;32m----> 3\u001b[0m append_weekly_rows(symbol,df,\u001b[39m1\u001b[39;49m,\u001b[39m1\u001b[39;49m,\u001b[39m1\u001b[39;49m,\u001b[39m35\u001b[39;49m)\n\u001b[1;32m      4\u001b[0m \u001b[39m# df.set_index(inplace=True)\u001b[39;00m\n\u001b[1;32m      5\u001b[0m df\u001b[39m.\u001b[39mhead()\n",
      "Cell \u001b[0;32mIn[8], line 20\u001b[0m, in \u001b[0;36mappend_weekly_rows\u001b[0;34m(stock_code, df1, count, row, month, num_weeks)\u001b[0m\n\u001b[1;32m     18\u001b[0m _52_week_low \u001b[39m=\u001b[39m df2[\u001b[39m'\u001b[39m\u001b[39m52 Week Low Price\u001b[39m\u001b[39m'\u001b[39m]\u001b[39m.\u001b[39mto_numpy()[\u001b[39m0\u001b[39m] \n\u001b[1;32m     19\u001b[0m _52_week_high \u001b[39m=\u001b[39m df2[\u001b[39m'\u001b[39m\u001b[39m52 Week High Price\u001b[39m\u001b[39m'\u001b[39m]\u001b[39m.\u001b[39mto_numpy()[\u001b[39m0\u001b[39m] \n\u001b[0;32m---> 20\u001b[0m data \u001b[39m=\u001b[39m [symbol,high,low,open_price,close_price,average_trading_value,total_quatity,_52_week_low,_52_week_high]\n\u001b[1;32m     21\u001b[0m cols \u001b[39m=\u001b[39m [\u001b[39m\"\u001b[39m\u001b[39mSymbol\u001b[39m\u001b[39m\"\u001b[39m,\u001b[39m\"\u001b[39m\u001b[39mHigh\u001b[39m\u001b[39m\"\u001b[39m,\u001b[39m\"\u001b[39m\u001b[39mLow\u001b[39m\u001b[39m\"\u001b[39m,\u001b[39m\"\u001b[39m\u001b[39mOpen Price\u001b[39m\u001b[39m\"\u001b[39m,\u001b[39m\"\u001b[39m\u001b[39mClose Price\u001b[39m\u001b[39m\"\u001b[39m,\u001b[39m\"\u001b[39m\u001b[39mAverage Trading Price\u001b[39m\u001b[39m\"\u001b[39m,\u001b[39m'\u001b[39m\u001b[39mTotal Traded Quantity\u001b[39m\u001b[39m'\u001b[39m,\u001b[39m\"\u001b[39m\u001b[39m52 Week Low\u001b[39m\u001b[39m\"\u001b[39m,\u001b[39m\"\u001b[39m\u001b[39m52 Week High\u001b[39m\u001b[39m\"\u001b[39m]\n\u001b[1;32m     22\u001b[0m df1\u001b[39m.\u001b[39mloc[row] \u001b[39m=\u001b[39m data\n",
      "\u001b[0;31mNameError\u001b[0m: name 'total_quatity' is not defined"
     ]
    }
   ],
   "source": [
    "symbol = \"RELIANCE\"\n",
    "df = create_df(symbol)\n",
    "append_weekly_rows(symbol,df,1,1,1,35)\n",
    "# df.set_index(inplace=True)\n",
    "df.head()"
   ]
  },
  {
   "cell_type": "markdown",
   "metadata": {},
   "source": [
    "### Removing all null values and duplicates as this could cause issues later on"
   ]
  },
  {
   "cell_type": "code",
   "execution_count": null,
   "metadata": {},
   "outputs": [
    {
     "data": {
      "text/html": [
       "<div>\n",
       "<style scoped>\n",
       "    .dataframe tbody tr th:only-of-type {\n",
       "        vertical-align: middle;\n",
       "    }\n",
       "\n",
       "    .dataframe tbody tr th {\n",
       "        vertical-align: top;\n",
       "    }\n",
       "\n",
       "    .dataframe thead th {\n",
       "        text-align: right;\n",
       "    }\n",
       "</style>\n",
       "<table border=\"1\" class=\"dataframe\">\n",
       "  <thead>\n",
       "    <tr style=\"text-align: right;\">\n",
       "      <th></th>\n",
       "      <th>High</th>\n",
       "      <th>Low</th>\n",
       "      <th>Open Price</th>\n",
       "      <th>Close Price</th>\n",
       "      <th>Average Trading Price</th>\n",
       "      <th>52 Week Low</th>\n",
       "      <th>52 Week High</th>\n",
       "    </tr>\n",
       "  </thead>\n",
       "  <tbody>\n",
       "    <tr>\n",
       "      <th>count</th>\n",
       "      <td>35.000000</td>\n",
       "      <td>35.000000</td>\n",
       "      <td>35.000000</td>\n",
       "      <td>35.000000</td>\n",
       "      <td>35.000000</td>\n",
       "      <td>35.000000</td>\n",
       "      <td>35.000000</td>\n",
       "    </tr>\n",
       "    <tr>\n",
       "      <th>mean</th>\n",
       "      <td>2623.162857</td>\n",
       "      <td>2341.425714</td>\n",
       "      <td>2477.860000</td>\n",
       "      <td>2459.878571</td>\n",
       "      <td>2467.744286</td>\n",
       "      <td>2196.368571</td>\n",
       "      <td>2824.998571</td>\n",
       "    </tr>\n",
       "    <tr>\n",
       "      <th>std</th>\n",
       "      <td>152.585981</td>\n",
       "      <td>109.150898</td>\n",
       "      <td>134.242558</td>\n",
       "      <td>110.579504</td>\n",
       "      <td>114.346879</td>\n",
       "      <td>67.463693</td>\n",
       "      <td>58.785130</td>\n",
       "    </tr>\n",
       "    <tr>\n",
       "      <th>min</th>\n",
       "      <td>2424.600000</td>\n",
       "      <td>2180.000000</td>\n",
       "      <td>2215.000000</td>\n",
       "      <td>2248.000000</td>\n",
       "      <td>2300.770000</td>\n",
       "      <td>2180.000000</td>\n",
       "      <td>2630.950000</td>\n",
       "    </tr>\n",
       "    <tr>\n",
       "      <th>25%</th>\n",
       "      <td>2500.300000</td>\n",
       "      <td>2281.025000</td>\n",
       "      <td>2377.500000</td>\n",
       "      <td>2366.800000</td>\n",
       "      <td>2370.945000</td>\n",
       "      <td>2180.000000</td>\n",
       "      <td>2817.350000</td>\n",
       "    </tr>\n",
       "    <tr>\n",
       "      <th>50%</th>\n",
       "      <td>2584.000000</td>\n",
       "      <td>2326.000000</td>\n",
       "      <td>2475.000000</td>\n",
       "      <td>2484.350000</td>\n",
       "      <td>2464.220000</td>\n",
       "      <td>2180.000000</td>\n",
       "      <td>2856.150000</td>\n",
       "    </tr>\n",
       "    <tr>\n",
       "      <th>75%</th>\n",
       "      <td>2755.000000</td>\n",
       "      <td>2454.525000</td>\n",
       "      <td>2554.025000</td>\n",
       "      <td>2536.450000</td>\n",
       "      <td>2570.550000</td>\n",
       "      <td>2180.000000</td>\n",
       "      <td>2856.150000</td>\n",
       "    </tr>\n",
       "    <tr>\n",
       "      <th>max</th>\n",
       "      <td>2856.000000</td>\n",
       "      <td>2492.250000</td>\n",
       "      <td>2830.000000</td>\n",
       "      <td>2740.700000</td>\n",
       "      <td>2628.490000</td>\n",
       "      <td>2469.300000</td>\n",
       "      <td>2856.150000</td>\n",
       "    </tr>\n",
       "  </tbody>\n",
       "</table>\n",
       "</div>"
      ],
      "text/plain": [
       "              High          Low   Open Price  Close Price  \\\n",
       "count    35.000000    35.000000    35.000000    35.000000   \n",
       "mean   2623.162857  2341.425714  2477.860000  2459.878571   \n",
       "std     152.585981   109.150898   134.242558   110.579504   \n",
       "min    2424.600000  2180.000000  2215.000000  2248.000000   \n",
       "25%    2500.300000  2281.025000  2377.500000  2366.800000   \n",
       "50%    2584.000000  2326.000000  2475.000000  2484.350000   \n",
       "75%    2755.000000  2454.525000  2554.025000  2536.450000   \n",
       "max    2856.000000  2492.250000  2830.000000  2740.700000   \n",
       "\n",
       "       Average Trading Price  52 Week Low  52 Week High  \n",
       "count              35.000000    35.000000     35.000000  \n",
       "mean             2467.744286  2196.368571   2824.998571  \n",
       "std               114.346879    67.463693     58.785130  \n",
       "min              2300.770000  2180.000000   2630.950000  \n",
       "25%              2370.945000  2180.000000   2817.350000  \n",
       "50%              2464.220000  2180.000000   2856.150000  \n",
       "75%              2570.550000  2180.000000   2856.150000  \n",
       "max              2628.490000  2469.300000   2856.150000  "
      ]
     },
     "execution_count": 5,
     "metadata": {},
     "output_type": "execute_result"
    }
   ],
   "source": [
    "df.dropna(inplace=True)\n",
    "df.drop_duplicates(inplace=True)\n",
    "df.describe()"
   ]
  },
  {
   "cell_type": "code",
   "execution_count": null,
   "metadata": {},
   "outputs": [
    {
     "name": "stdout",
     "output_type": "stream",
     "text": [
      "The total entries in the data are 35\n"
     ]
    }
   ],
   "source": [
    "print(f'The total entries in the data are {len(df)}')"
   ]
  },
  {
   "cell_type": "code",
   "execution_count": null,
   "metadata": {},
   "outputs": [],
   "source": [
    "# df.to_csv(\"../data/reliance_weekly_data.csv\",index=False)"
   ]
  }
 ],
 "metadata": {
  "kernelspec": {
   "display_name": ".venv",
   "language": "python",
   "name": "python3"
  },
  "language_info": {
   "codemirror_mode": {
    "name": "ipython",
    "version": 3
   },
   "file_extension": ".py",
   "mimetype": "text/x-python",
   "name": "python",
   "nbconvert_exporter": "python",
   "pygments_lexer": "ipython3",
   "version": "3.11.3"
  },
  "orig_nbformat": 4
 },
 "nbformat": 4,
 "nbformat_minor": 2
}
