{
 "cells": [
  {
   "cell_type": "markdown",
   "metadata": {},
   "source": [
    "### All imports to be managed here"
   ]
  },
  {
   "cell_type": "code",
   "execution_count": 1,
   "metadata": {},
   "outputs": [],
   "source": [
    "import pandas as pd\n",
    "import numpy as np\n",
    "\n",
    "from NSEDownload import stocks"
   ]
  },
  {
   "cell_type": "markdown",
   "metadata": {},
   "source": [
    "### Creating a function to streamline the process"
   ]
  },
  {
   "cell_type": "code",
   "execution_count": 2,
   "metadata": {},
   "outputs": [],
   "source": [
    "def create_df(stock_code:str) -> pd.DataFrame:\n",
    "    \"\"\"\n",
    "    This function is responsible for crrelianceeating the dataframe, based on the Symbol, it will create weekly data.\n",
    "    \"\"\"\n",
    "    df = stocks.get_data(stock_symbol=stock_code, start_date='1-06-2023', end_date='7-06-2023')\n",
    "    symbol = df['Symbol'].to_numpy()[0]\n",
    "    high = np.max(df[\"High Price\"].to_numpy())\n",
    "    low = np.min(df[\"Low Price\"].to_numpy())\n",
    "    open_price = df['Open Price'].to_numpy()[0]\n",
    "    close_price = df['Close Price'].to_numpy()[-1]\n",
    "    total_quantity = np.sum(df[\"Total Traded Quantity\"].to_numpy())\n",
    "    total_val = np.sum(df[\"Total Traded Value\"].to_numpy())\n",
    "    average_trading_value = round((total_val / total_quantity),2)\n",
    "    _52_week_low = df['52 Week Low Price'].to_numpy()[0] \n",
    "    _52_week_high = df['52 Week High Price'].to_numpy()[0] \n",
    "    data = [symbol,high,low,open_price,close_price,average_trading_value,total_quantity,_52_week_low,_52_week_high]\n",
    "    cols = [\"Symbol\",\"High\",\"Low\",\"Open Price\",\"Close Price\",\"Average Trading Price\",\"Total Traded Quantity\",\"52 Week Low\",\"52 Week High\"]\n",
    "    main_df = pd.DataFrcolumns = [\"Adj Close\"]\n",
    "# df.drop(columns=columns,inplace=True)ame(columns=cols)\n",
    "    main_df.loc[0] = data\n",
    "    return main_df"
   ]
  },
  {
   "cell_type": "code",
   "execution_count": 4,
   "metadata": {},
   "outputs": [],
   "source": [
    "def append_weekly_rows(stock_code:str,df1:pd.DataFrame,count:int,row:int,month:int,num_weeks:int,year:int) -> None:\n",
    "    \"\"\"normal\n",
    "    Appends the weekly data to the original dataframe for upto 4 weeks,\n",
    "    #########\n",
    "    TODO: implement the monthly change to make it more than 4 weeks\n",
    "    #########initial Commit\n",
    "    \"\"\"\n",
    "    while num_weeks > 0:\n",
    "        df2 = stocks.get_data(stock_symbol=stock_code, start_date=f'{count}-{month}-{year}', end_date=f'{count+6}-{month}-{year}')\n",
    "        symbol = df2['Symbol'].to_numpy()[0]\n",
    "        high = np.max(df2[\"High Price\"].to_numpy())\n",
    "        low = np.min(df2[\"Low Price\"].to_numpy())\n",
    "        open_price = df2['Open Price'].to_numpy()[0]\n",
    "        close_price = df2['Close Price'].to_numpy()[-1]\n",
    "        total_quantity = np.sum(df2[\"Total Traded Quantity\"].to_numpy())\n",
    "        total_val = np.sum(df2[\"Total Traded Value\"].to_numpy())\n",
    "        average_trading_value = round((total_val / total_quantity),2)\n",
    "        _52_week_low = df2['52 Week Low Price'].to_numpy()[0] \n",
    "        _52_week_high = df2['52 Week High Price'].to_numpy()[0] \n",
    "        data = [symbol,high,low,open_price,close_price,average_trading_value,total_quantity,_52_week_low,_52_week_high]\n",
    "        cols = [\"Symbol\",\"High\",\"Low\",\"Open Price\",\"Close Price\",\"Average Trading Price\",'Total Traded Quantity',\"52 Week Low\",\"52 Week High\"]\n",
    "        df1.loc[row] = data\n",
    "        row += 1\n",
    "        count += 7\n",
    "        if count >= 28:\n",
    "            count = 1\n",
    "            month += 1\n",
    "        num_weeks -= 1"
   ]
  },
  {
   "cell_type": "code",
   "execution_count": 5,
   "metadata": {},
   "outputs": [
    {
     "data": {
      "text/plain": [
       "1"
      ]
     },
     "execution_count": 5,
     "metadata": {},
     "output_type": "execute_result"
    }
   ],
   "source": [
    "symbol = \"TITAN\"\n",
    "df = create_df(symbol)\n",
    "# df.set_index(inplace=True)\n",
    "df.head()\n",
    "len(df)"
   ]
  },
  {
   "cell_type": "code",
   "execution_count": 6,
   "metadata": {},
   "outputs": [
    {
     "data": {
      "text/html": [
       "<div>\n",
       "<style scoped>\n",
       "    .dataframe tbody tr th:only-of-type {\n",
       "        vertical-align: middle;\n",
       "    }\n",
       "\n",
       "    .dataframe tbody tr th {\n",
       "        vertical-align: top;\n",
       "    }\n",
       "\n",
       "    .dataframe thead th {\n",
       "        text-align: right;\n",
       "    }\n",
       "</style>\n",
       "<table border=\"1\" class=\"dataframe\">\n",
       "  <thead>\n",
       "    <tr style=\"text-align: right;\">\n",
       "      <th></th>\n",
       "      <th>Symbol</th>\n",
       "      <th>High</th>\n",
       "      <th>Low</th>\n",
       "      <th>Open Price</th>\n",
       "      <th>Close Price</th>\n",
       "      <th>Average Trading Price</th>\n",
       "      <th>Total Traded Quantity</th>\n",
       "      <th>52 Week Low</th>\n",
       "      <th>52 Week High</th>\n",
       "    </tr>\n",
       "  </thead>\n",
       "  <tbody>\n",
       "    <tr>\n",
       "      <th>0</th>\n",
       "      <td>TITAN</td>\n",
       "      <td>2910.0</td>\n",
       "      <td>2559.25</td>\n",
       "      <td>2603.05</td>\n",
       "      <td>2906.95</td>\n",
       "      <td>2727.8</td>\n",
       "      <td>31523699</td>\n",
       "      <td>1825.05</td>\n",
       "      <td>2791.0</td>\n",
       "    </tr>\n",
       "  </tbody>\n",
       "</table>\n",
       "</div>"
      ],
      "text/plain": [
       "  Symbol    High      Low  Open Price  Close Price  Average Trading Price  \\\n",
       "0  TITAN  2910.0  2559.25     2603.05      2906.95                 2727.8   \n",
       "\n",
       "   Total Traded Quantity  52 Week Low  52 Week High  \n",
       "0               31523699      1825.05        2791.0  "
      ]
     },
     "execution_count": 6,
     "metadata": {},
     "output_type": "execute_result"
    }
   ],
   "source": [
    "df.head()"
   ]
  },
  {
   "cell_type": "code",
   "execution_count": 22,
   "metadata": {},
   "outputs": [
    {
     "data": {
      "text/plain": [
       "36"
      ]
     },
     "execution_count": 22,
     "metadata": {},
     "output_type": "execute_result"
    }
   ],
   "source": [
    "append_weekly_rows(symbol,df,1,35,1,35,2021)\n",
    "# append_weekly_rows(symbol,df,1,70,1,35,2017)\n",
    "# append_weekly_rows(symbol,df,1,105,1,35,2018)\n",
    "# append_weekly_rows(symbol,df,1,140,1,35,2019)\n",
    "# append_weekly_rows(symbol,df,1,175,1,35,2020)\n",
    "# append_weekly_rows(symbol,df,1,210,1,35,2021)\n",
    "# append_weekly_rows(sycolumns = [\"Adj Close\"]\n",
    "# df.drop(columns=columns,inplace=True)mbol,df,1,245,1,35,2022)\n",
    "\n",
    "len(df)"
   ]
  },
  {
   "cell_type": "markdown",
   "metadata": {},
   "source": [
    "### Removing all null values and duplicates as this could cause issues later on"
   ]
  },
  {
   "cell_type": "code",
   "execution_count": 23,
   "metadata": {},
   "outputs": [
    {
     "data": {
      "text/html": [
       "<div>\n",
       "<style scoped>\n",
       "    .dataframe tbody tr th:only-of-type {\n",
       "        vertical-align: middle;\n",
       "    }\n",
       "\n",
       "    .dataframe tbody tr th {\n",
       "        vertical-align: top;\n",
       "    }\n",
       "\n",
       "    .dataframe thead th {\n",
       "        text-align: right;\n",
       "    }\n",
       "</style>\n",
       "<table border=\"1\" class=\"dataframe\">\n",
       "  <thead>\n",
       "    <tr style=\"text-align: right;\">\n",
       "      <th></th>\n",
       "      <th>High</th>\n",
       "      <th>Low</th>\n",
       "      <th>Open Price</th>\n",
       "      <th>Close Price</th>\n",
       "      <th>Average Trading Price</th>\n",
       "      <th>Total Traded Quantity</th>\n",
       "      <th>52 Week Low</th>\n",
       "      <th>52 Week High</th>\n",
       "    </tr>\n",
       "  </thead>\n",
       "  <tbody>\n",
       "    <tr>\n",
       "      <th>count</th>\n",
       "      <td>36.000000</td>\n",
       "      <td>36.000000</td>\n",
       "      <td>36.000000</td>\n",
       "      <td>36.000000</td>\n",
       "      <td>36.000000</td>\n",
       "      <td>3.600000e+01</td>\n",
       "      <td>36.000000</td>\n",
       "      <td>36.000000</td>\n",
       "    </tr>\n",
       "    <tr>\n",
       "      <th>mean</th>\n",
       "      <td>467.263889</td>\n",
       "      <td>402.055556</td>\n",
       "      <td>426.438889</td>\n",
       "      <td>442.254167</td>\n",
       "      <td>432.784444</td>\n",
       "      <td>4.615837e+07</td>\n",
       "      <td>344.423611</td>\n",
       "      <td>491.118056</td>\n",
       "    </tr>\n",
       "    <tr>\n",
       "      <th>std</th>\n",
       "      <td>419.582209</td>\n",
       "      <td>370.953620</td>\n",
       "      <td>373.903268</td>\n",
       "      <td>423.602660</td>\n",
       "      <td>394.214263</td>\n",
       "      <td>1.365269e+07</td>\n",
       "      <td>253.822188</td>\n",
       "      <td>394.870858</td>\n",
       "    </tr>\n",
       "    <tr>\n",
       "      <th>min</th>\n",
       "      <td>361.000000</td>\n",
       "      <td>301.700000</td>\n",
       "      <td>331.000000</td>\n",
       "      <td>327.400000</td>\n",
       "      <td>336.570000</td>\n",
       "      <td>3.152370e+07</td>\n",
       "      <td>301.700000</td>\n",
       "      <td>392.400000</td>\n",
       "    </tr>\n",
       "    <tr>\n",
       "      <th>25%</th>\n",
       "      <td>376.000000</td>\n",
       "      <td>320.300000</td>\n",
       "      <td>349.075000</td>\n",
       "      <td>343.075000</td>\n",
       "      <td>348.497500</td>\n",
       "      <td>3.648760e+07</td>\n",
       "      <td>301.700000</td>\n",
       "      <td>404.250000</td>\n",
       "    </tr>\n",
       "    <tr>\n",
       "      <th>50%</th>\n",
       "      <td>384.850000</td>\n",
       "      <td>335.175000</td>\n",
       "      <td>359.975000</td>\n",
       "      <td>366.550000</td>\n",
       "      <td>361.380000</td>\n",
       "      <td>4.293856e+07</td>\n",
       "      <td>301.700000</td>\n",
       "      <td>429.850000</td>\n",
       "    </tr>\n",
       "    <tr>\n",
       "      <th>75%</th>\n",
       "      <td>435.000000</td>\n",
       "      <td>353.150000</td>\n",
       "      <td>375.275000</td>\n",
       "      <td>403.575000</td>\n",
       "      <td>390.255000</td>\n",
       "      <td>4.696189e+07</td>\n",
       "      <td>302.750000</td>\n",
       "      <td>448.400000</td>\n",
       "    </tr>\n",
       "    <tr>\n",
       "      <th>max</th>\n",
       "      <td>2910.000000</td>\n",
       "      <td>2559.250000</td>\n",
       "      <td>2603.050000</td>\n",
       "      <td>2906.950000</td>\n",
       "      <td>2727.800000</td>\n",
       "      <td>8.133440e+07</td>\n",
       "      <td>1825.050000</td>\n",
       "      <td>2791.000000</td>\n",
       "    </tr>\n",
       "  </tbody>\n",
       "</table>\n",
       "</div>"
      ],
      "text/plain": [
       "              High          Low   Open Price  Close Price  \\\n",
       "count    36.000000    36.000000    36.000000    36.000000   \n",
       "mean    467.263889   402.055556   426.438889   442.254167   \n",
       "std     419.582209   370.953620   373.903268   423.602660   \n",
       "min     361.000000   301.700000   331.000000   327.400000   \n",
       "25%     376.000000   320.300000   349.075000   343.075000   \n",
       "50%     384.850000   335.175000   359.975000   366.550000   \n",
       "75%     435.000000   353.150000   375.275000   403.575000   \n",
       "max    2910.000000  2559.250000  2603.050000  2906.950000   \n",
       "\n",
       "       Average Trading Price  Total Traded Quantity  52 Week Low  52 Week High  \n",
       "count              36.000000           3.600000e+01    36.000000     36.000000  \n",
       "mean              432.784444           4.615837e+07   344.423611    491.118056  \n",
       "std               394.214263           1.365269e+07   253.822188    394.870858  \n",
       "min               336.570000           3.152370e+07   301.700000    392.400000  \n",
       "25%               348.497500           3.648760e+07   301.700000    404.250000  \n",
       "50%               361.380000           4.293856e+07   301.700000    429.850000  \n",
       "75%               390.255000           4.696189e+07   302.750000    448.400000  \n",
       "max              2727.800000           8.133440e+07  1825.050000   2791.000000  "
      ]
     },
     "execution_count": 23,
     "metadata": {},
     "output_type": "execute_result"
    }
   ],
   "source": [
    "df.dropna(inplace=True)\n",
    "df.drop_duplicates(inplace=True)\n",
    "df.describe()"
   ]
  },
  {
   "cell_type": "code",
   "execution_count": 24,
   "metadata": {},
   "outputs": [
    {
     "name": "stdout",
     "output_type": "stream",
     "text": [
      "The total entries in the data are 36\n"
     ]
    }
   ],
   "source": [
    "print(f'The total entries in the data are {len(df)}')"
   ]
  },
  {
   "cell_type": "code",
   "execution_count": 25,
   "metadata": {},
   "outputs": [],
   "source": [
    "df.to_csv(\"../data/titan_weekly_data.csv\",index=False)"
   ]
  },
  {
   "cell_type": "code",
   "execution_count": null,
   "metadata": {},
   "outputs": [],
   "source": []
  }
 ],
 "metadata": {
  "kernelspec": {
   "display_name": ".venv",
   "language": "python",
   "name": "python3"
  },
  "language_info": {
   "codemirror_mode": {
    "name": "ipython",
    "version": 3
   },
   "file_extension": ".py",
   "mimetype": "text/x-python",
   "name": "python",
   "nbconvert_exporter": "python",
   "pygments_lexer": "ipython3",
   "version": "3.11.3"
  },
  "orig_nbformat": 4
 },
 "nbformat": 4,
 "nbformat_minor": 2
}
