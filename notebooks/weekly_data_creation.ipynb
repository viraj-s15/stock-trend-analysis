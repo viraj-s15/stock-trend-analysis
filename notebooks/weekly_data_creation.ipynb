{
 "cells": [
  {
   "cell_type": "markdown",
   "metadata": {},
   "source": [
    "### All imports to be managed here"
   ]
  },
  {
   "cell_type": "code",
   "execution_count": 1,
   "metadata": {},
   "outputs": [],
   "source": [
    "import pandas as pd\n",
    "import numpy as np\n",
    "\n",
    "from NSEDownload import stocks"
   ]
  },
  {
   "cell_type": "markdown",
   "metadata": {},
   "source": [
    "### Creating a function to streamline the process"
   ]
  },
  {
   "cell_type": "code",
   "execution_count": 6,
   "metadata": {},
   "outputs": [],
   "source": [
    "def create_df(stock_code:str) -> pd.DataFrame:\n",
    "    \"\"\"\n",
    "    This function is responsible for crrelianceeating the dataframe, based on the Symbol, it will create weekly data.\n",
    "    \"\"\"\n",
    "    df = stocks.get_data(stock_symbol=stock_code, start_date='1-06-2023', end_date='7-06-2023')\n",
    "    symbol = df['Symbol'].to_numpy()[0]\n",
    "    high = np.max(df[\"High Price\"].to_numpy())\n",
    "    low = np.min(df[\"Low Price\"].to_numpy())\n",
    "    open_price = df['Open Price'].to_numpy()[0]\n",
    "    close_price = df['Close Price'].to_numpy()[-1]\n",
    "    total_quantity = np.sum(df[\"Total Traded Quantity\"].to_numpy())\n",
    "    total_val = np.sum(df[\"Total Traded Value\"].to_numpy())\n",
    "    average_trading_value = round((total_val / total_quantity),2)\n",
    "    _52_week_low = df['52 Week Low Price'].to_numpy()[0] \n",
    "    _52_week_high = df['52 Week High Price'].to_numpy()[0] \n",
    "    data = [symbol,high,low,open_price,close_price,average_trading_value,total_quantity,_52_week_low,_52_week_high]\n",
    "    cols = [\"Symbol\",\"High\",\"Low\",\"Open Price\",\"Close Price\",\"Average Trading Price\",\"Total Traded Quantity\",\"52 Week Low\",\"52 Week High\"]\n",
    "    main_df = pd.DataFrame(columns=cols)\n",
    "    main_df.loc[0] = data\n",
    "    return main_df"
   ]
  },
  {
   "cell_type": "code",
   "execution_count": 7,
   "metadata": {},
   "outputs": [],
   "source": [
    "def append_weekly_rows(stock_code:str,df1:pd.DataFrame,count:int,row:int,month:int,num_weeks:int,year:int) -> None:\n",
    "    \"\"\"normal\n",
    "    Appends the weekly data to the original dataframe for upto 4 weeks,\n",
    "    #########\n",
    "    TODO: implement the monthly change to make it more than 4 weeks\n",
    "    #########initial Commit\n",
    "    \"\"\"\n",
    "    while num_weeks > 0:\n",
    "        df2 = stocks.get_data(stock_symbol=stock_code, start_date=f'{count}-{month}-{year}', end_date=f'{count+6}-{month}-{year}')\n",
    "        symbol = df2['Symbol'].to_numpy()[0]\n",
    "        high = np.max(df2[\"High Price\"].to_numpy())\n",
    "        low = np.min(df2[\"Low Price\"].to_numpy())\n",
    "        open_price = df2['Open Price'].to_numpy()[0]\n",
    "        close_price = df2['Close Price'].to_numpy()[-1]\n",
    "        total_quantity = np.sum(df2[\"Total Traded Quantity\"].to_numpy())\n",
    "        total_val = np.sum(df2[\"Total Traded Value\"].to_numpy())\n",
    "        average_trading_value = round((total_val / total_quantity),2)\n",
    "        _52_week_low = df2['52 Week Low Price'].to_numpy()[0] \n",
    "        _52_week_high = df2['52 Week High Price'].to_numpy()[0] \n",
    "        data = [symbol,high,low,open_price,close_price,average_trading_value,total_quantity,_52_week_low,_52_week_high]\n",
    "        cols = [\"Symbol\",\"High\",\"Low\",\"Open Price\",\"Close Price\",\"Average Trading Price\",'Total Traded Quantity',\"52 Week Low\",\"52 Week High\"]\n",
    "        df1.loc[row] = data\n",
    "        row += 1\n",
    "        count += 7\n",
    "        if count >= 28:\n",
    "            count = 1\n",
    "            month += 1\n",
    "        num_weeks -= 1"
   ]
  },
  {
   "cell_type": "code",
   "execution_count": 8,
   "metadata": {},
   "outputs": [
    {
     "data": {
      "text/plain": [
       "1"
      ]
     },
     "execution_count": 8,
     "metadata": {},
     "output_type": "execute_result"
    }
   ],
   "source": [
    "symbol = \"TITAN\"\n",
    "df = create_df(symbol)\n",
    "# df.set_index(inplace=True)\n",
    "# df.head()\n",
    "len(df)"
   ]
  },
  {
   "cell_type": "code",
   "execution_count": 10,
   "metadata": {},
   "outputs": [],
   "source": [
    "append_weekly_rows(symbol,df,1,35,1,35,2016)\n",
    "append_weekly_rows(symbol,df,1,70,1,35,2017)\n",
    "append_weekly_rows(symbol,df,1,105,1,35,2018)\n",
    "append_weekly_rows(symbol,df,1,140,1,35,2019)\n",
    "append_weekly_rows(symbol,df,1,175,1,35,2020)\n",
    "append_weekly_rows(symbol,df,1,210,1,35,2021)\n",
    "append_weekly_rows(symbol,df,1,245,1,35,2022)\n",
    "\n",
    "len(df)"
   ]
  },
  {
   "cell_type": "markdown",
   "metadata": {},
   "source": [
    "### Removing all null values and duplicates as this could cause issues later on"
   ]
  },
  {
   "cell_type": "code",
   "execution_count": 17,
   "metadata": {},
   "outputs": [
    {
     "data": {
      "text/html": [
       "<div>\n",
       "<style scoped>\n",
       "    .dataframe tbody tr th:only-of-type {\n",
       "        vertical-align: middle;\n",
       "    }\n",
       "\n",
       "    .dataframe tbody tr th {\n",
       "        vertical-align: top;\n",
       "    }\n",
       "\n",
       "    .dataframe thead th {\n",
       "        text-align: right;\n",
       "    }\n",
       "</style>\n",
       "<table border=\"1\" class=\"dataframe\">\n",
       "  <thead>\n",
       "    <tr style=\"text-align: right;\">\n",
       "      <th></th>\n",
       "      <th>High</th>\n",
       "      <th>Low</th>\n",
       "      <th>Open Price</th>\n",
       "      <th>Close Price</th>\n",
       "      <th>Average Trading Price</th>\n",
       "      <th>Total Traded Quantity</th>\n",
       "      <th>52 Week Low</th>\n",
       "      <th>52 Week High</th>\n",
       "    </tr>\n",
       "  </thead>\n",
       "  <tbody>\n",
       "    <tr>\n",
       "      <th>count</th>\n",
       "      <td>35.000000</td>\n",
       "      <td>35.000000</td>\n",
       "      <td>35.000000</td>\n",
       "      <td>35.000000</td>\n",
       "      <td>35.000000</td>\n",
       "      <td>3.500000e+01</td>\n",
       "      <td>35.000000</td>\n",
       "      <td>35.000000</td>\n",
       "    </tr>\n",
       "    <tr>\n",
       "      <th>mean</th>\n",
       "      <td>2842.651429</td>\n",
       "      <td>2532.525714</td>\n",
       "      <td>2657.165714</td>\n",
       "      <td>2723.644286</td>\n",
       "      <td>2686.550286</td>\n",
       "      <td>3.144739e+07</td>\n",
       "      <td>1871.918571</td>\n",
       "      <td>2865.962857</td>\n",
       "    </tr>\n",
       "    <tr>\n",
       "      <th>std</th>\n",
       "      <td>252.912345</td>\n",
       "      <td>238.560943</td>\n",
       "      <td>227.094703</td>\n",
       "      <td>256.186190</td>\n",
       "      <td>233.245831</td>\n",
       "      <td>7.565320e+06</td>\n",
       "      <td>126.278545</td>\n",
       "      <td>144.626835</td>\n",
       "    </tr>\n",
       "    <tr>\n",
       "      <th>min</th>\n",
       "      <td>2545.850000</td>\n",
       "      <td>2269.600000</td>\n",
       "      <td>2332.000000</td>\n",
       "      <td>2331.250000</td>\n",
       "      <td>2407.240000</td>\n",
       "      <td>7.807363e+06</td>\n",
       "      <td>1825.050000</td>\n",
       "      <td>2791.000000</td>\n",
       "    </tr>\n",
       "    <tr>\n",
       "      <th>25%</th>\n",
       "      <td>2626.250000</td>\n",
       "      <td>2321.000000</td>\n",
       "      <td>2481.600000</td>\n",
       "      <td>2503.600000</td>\n",
       "      <td>2458.760000</td>\n",
       "      <td>2.976655e+07</td>\n",
       "      <td>1825.050000</td>\n",
       "      <td>2791.000000</td>\n",
       "    </tr>\n",
       "    <tr>\n",
       "      <th>50%</th>\n",
       "      <td>2790.000000</td>\n",
       "      <td>2466.800000</td>\n",
       "      <td>2603.050000</td>\n",
       "      <td>2732.900000</td>\n",
       "      <td>2626.710000</td>\n",
       "      <td>3.312526e+07</td>\n",
       "      <td>1825.050000</td>\n",
       "      <td>2791.000000</td>\n",
       "    </tr>\n",
       "    <tr>\n",
       "      <th>75%</th>\n",
       "      <td>3044.900000</td>\n",
       "      <td>2748.350000</td>\n",
       "      <td>2802.625000</td>\n",
       "      <td>2987.775000</td>\n",
       "      <td>2940.800000</td>\n",
       "      <td>3.559070e+07</td>\n",
       "      <td>1825.050000</td>\n",
       "      <td>2822.000000</td>\n",
       "    </tr>\n",
       "    <tr>\n",
       "      <th>max</th>\n",
       "      <td>3210.000000</td>\n",
       "      <td>2882.450000</td>\n",
       "      <td>3155.000000</td>\n",
       "      <td>3144.000000</td>\n",
       "      <td>3027.560000</td>\n",
       "      <td>4.204069e+07</td>\n",
       "      <td>2269.600000</td>\n",
       "      <td>3210.000000</td>\n",
       "    </tr>\n",
       "  </tbody>\n",
       "</table>\n",
       "</div>"
      ],
      "text/plain": [
       "              High          Low   Open Price  Close Price  \\\n",
       "count    35.000000    35.000000    35.000000    35.000000   \n",
       "mean   2842.651429  2532.525714  2657.165714  2723.644286   \n",
       "std     252.912345   238.560943   227.094703   256.186190   \n",
       "min    2545.850000  2269.600000  2332.000000  2331.250000   \n",
       "25%    2626.250000  2321.000000  2481.600000  2503.600000   \n",
       "50%    2790.000000  2466.800000  2603.050000  2732.900000   \n",
       "75%    3044.900000  2748.350000  2802.625000  2987.775000   \n",
       "max    3210.000000  2882.450000  3155.000000  3144.000000   \n",
       "\n",
       "       Average Trading Price  Total Traded Quantity  52 Week Low  52 Week High  \n",
       "count              35.000000           3.500000e+01    35.000000     35.000000  \n",
       "mean             2686.550286           3.144739e+07  1871.918571   2865.962857  \n",
       "std               233.245831           7.565320e+06   126.278545    144.626835  \n",
       "min              2407.240000           7.807363e+06  1825.050000   2791.000000  \n",
       "25%              2458.760000           2.976655e+07  1825.050000   2791.000000  \n",
       "50%              2626.710000           3.312526e+07  1825.050000   2791.000000  \n",
       "75%              2940.800000           3.559070e+07  1825.050000   2822.000000  \n",
       "max              3027.560000           4.204069e+07  2269.600000   3210.000000  "
      ]
     },
     "execution_count": 17,
     "metadata": {},
     "output_type": "execute_result"
    }
   ],
   "source": [
    "df.dropna(inplace=True)\n",
    "df.drop_duplicates(inplace=True)\n",
    "df.describe()"
   ]
  },
  {
   "cell_type": "code",
   "execution_count": 18,
   "metadata": {},
   "outputs": [
    {
     "name": "stdout",
     "output_type": "stream",
     "text": [
      "The total entries in the data are 35\n"
     ]
    }
   ],
   "source": [
    "print(f'The total entries in the data are {len(df)}')"
   ]
  },
  {
   "cell_type": "code",
   "execution_count": 19,
   "metadata": {},
   "outputs": [],
   "source": [
    "df.to_csv(\"../data/titan_weekly_data.csv\",index=False)"
   ]
  }
 ],
 "metadata": {
  "kernelspec": {
   "display_name": ".venv",
   "language": "python",
   "name": "python3"
  },
  "language_info": {
   "codemirror_mode": {
    "name": "ipython",
    "version": 3
   },
   "file_extension": ".py",
   "mimetype": "text/x-python",
   "name": "python",
   "nbconvert_exporter": "python",
   "pygments_lexer": "ipython3",
   "version": "3.11.3"
  },
  "orig_nbformat": 4
 },
 "nbformat": 4,
 "nbformat_minor": 2
}
